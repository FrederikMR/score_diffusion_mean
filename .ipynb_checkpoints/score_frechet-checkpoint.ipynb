{
 "cells": [
  {
   "cell_type": "markdown",
   "id": "6ca51062",
   "metadata": {},
   "source": [
    "# Riemannian Score Fréchet Means"
   ]
  },
  {
   "cell_type": "code",
   "execution_count": 37,
   "id": "024da527",
   "metadata": {},
   "outputs": [],
   "source": [
    "from jaxgeometry.manifolds import *\n",
    "from jaxgeometry.integration import dts, dWs\n",
    "from jaxgeometry.autodiff import jacfwdx\n",
    "from jaxgeometry.statistics.score_matching import diffusion_mean as dm_score\n",
    "from jaxgeometry.statistics import diffusion_mean as dm_bridge\n",
    "from jaxgeometry.stochastics import Brownian_coords, product_sde, Brownian_sR\n",
    "from jaxgeometry.stochastics.product_sde import tile\n",
    "import jaxgeometry.statistics as jstat\n",
    "import jaxgeometry.stochastics as jstoch\n",
    "import jax.numpy as jnp\n",
    "import haiku as hk\n",
    "import jax\n",
    "from jax import vmap\n",
    "import jax.random as jrandom\n",
    "\n",
    "import scipy.io as sio\n",
    "\n",
    "import os\n",
    "\n",
    "from load_manifold import get_generator_dim, load_manifold\n",
    "\n",
    "import torch\n",
    "import torchvision.utils as vutils\n",
    "\n",
    "import numpy as np\n",
    "\n",
    "import pandas as pd\n",
    "\n",
    "import matplotlib.pyplot as plt\n",
    "import matplotlib as mpl\n",
    "from mpl_toolkits.mplot3d import Axes3D\n",
    "from mpl_toolkits.axes_grid1 import make_axes_locatable\n",
    "import matplotlib.ticker as tkr\n",
    "\n",
    "from jaxgeometry.statistics import Frechet_mean\n",
    "\n",
    "from jaxgeometry.statistics.score_matching import model_loader, generators\n",
    "from jaxgeometry.statistics.score_matching import ScoreEvaluation\n",
    "from models import models"
   ]
  },
  {
   "cell_type": "code",
   "execution_count": 2,
   "id": "8f162ddf",
   "metadata": {},
   "outputs": [],
   "source": [
    "plt.rcParams.update({'font.size': 20})\n",
    "cbformat = tkr.ScalarFormatter()   # create the formatter\n",
    "cbformat.set_powerlimits((-2,2)) "
   ]
  },
  {
   "cell_type": "code",
   "execution_count": 3,
   "id": "43d20a2c",
   "metadata": {},
   "outputs": [],
   "source": [
    "s1loss_type = 'dsm'\n",
    "s2loss_type = 'dsm'\n",
    "s2_type = 's1s2'\n",
    "s2_approx = 0\n",
    "seed = 2712\n",
    "\n",
    "t0 = 0.1\n",
    "score_path = \"scores\""
   ]
  },
  {
   "cell_type": "code",
   "execution_count": 4,
   "id": "09a2ca08",
   "metadata": {},
   "outputs": [],
   "source": [
    "def load_score_model(manifold, dim):\n",
    "    M, x0, sampling_method, generator_dim, layers, opt_val = load_manifold(manifold, dim)\n",
    "    if \"Local\" in sampling_method:\n",
    "        method = \"Local\"\n",
    "    else:\n",
    "        method = \"Embedded\"\n",
    "    \n",
    "    s1_path = ''.join((score_path, f\"/{manifold}{dim}/s1T_{s1loss_type}/\"))\n",
    "    s2_path = ''.join((score_path, f\"/{manifold}{dim}/{s2_type}T_{s2loss_type}/\"))\n",
    "    layers = get_generator_dim(manifold, generator_dim)\n",
    "    layers_s1, layers_s2 = layers\n",
    "\n",
    "    s1_model = hk.transform(lambda x: models.MLP_s1(dim=generator_dim, layers=layers_s1)(x))\n",
    "    \n",
    "    if s2_approx:\n",
    "        if s2_type == \"s2\":\n",
    "            s2_model = hk.transform(lambda x: models.MLP_s2(layers_alpha=layers_s2, layers_beta=layers_s2,\n",
    "                                                            dim=generator_dim, r = max(generator_dim//2,1))(x))\n",
    "        elif s2_type == \"s1s2\":\n",
    "            @hk.transform\n",
    "            def s2_model(x):\n",
    "\n",
    "                s1s2 =  models.MLP_s1s2(\n",
    "                    models.MLP_s1(dim=generator_dim, layers=layers_s1), \n",
    "                    models.MLP_s2(layers_alpha=layers_s2, \n",
    "                                  layers_beta=layers_s2,\n",
    "                                  dim=generator_dim,\n",
    "                                  r = max(generator_dim//2,1))\n",
    "                    )\n",
    "\n",
    "                return s1s2(x)[1]\n",
    "    else:\n",
    "        s2_model = None\n",
    "        \n",
    "    s1_state = model_loader.load_model(s1_path)\n",
    "    if s2_approx:\n",
    "        s2_state = model_loader.load_model(s2_path)\n",
    "    else:\n",
    "        s2_state = None\n",
    "    \n",
    "    rng_key = jrandom.PRNGKey(seed)\n",
    "    s1_fun = lambda x,y,t: s1_model.apply(s1_state.params, rng_key, jnp.hstack((x,y,t)))\n",
    "    if s2_approx:\n",
    "        s2_fun = lambda x,y,t: s2_model.apply(s2_state.params, rng_key, jnp.hstack((x,y,t)))\n",
    "    else:\n",
    "        s2_fun = None\n",
    "        \n",
    "    ScoreEval = ScoreEvaluation(M,\n",
    "                                s1_model=s1_fun,\n",
    "                                s2_model=s2_fun,\n",
    "                                method = method\n",
    "                                )\n",
    "                       \n",
    "    return M, x0, ScoreEval"
   ]
  },
  {
   "cell_type": "markdown",
   "id": "f6e9e271",
   "metadata": {},
   "source": [
    "## Score Fréchet Mean"
   ]
  },
  {
   "cell_type": "code",
   "execution_count": 5,
   "id": "c681d5e8",
   "metadata": {},
   "outputs": [],
   "source": [
    "figure_path = '../figures/frechet_mean/'\n",
    "if not os.path.exists(figure_path):\n",
    "    os.makedirs(figure_path)"
   ]
  },
  {
   "cell_type": "markdown",
   "id": "f66d64e2",
   "metadata": {},
   "source": [
    "## Real-World Data"
   ]
  },
  {
   "cell_type": "markdown",
   "id": "22732541",
   "metadata": {},
   "source": [
    "### $\\mathcal{P}(3)$"
   ]
  },
  {
   "cell_type": "code",
   "execution_count": 6,
   "id": "40b0ef92",
   "metadata": {},
   "outputs": [],
   "source": [
    "data_path = '../../../Data/spdn/dti_tensor.mat'"
   ]
  },
  {
   "cell_type": "code",
   "execution_count": 7,
   "id": "49552920",
   "metadata": {},
   "outputs": [],
   "source": [
    "mat = sio.loadmat(data_path)"
   ]
  },
  {
   "cell_type": "code",
   "execution_count": 8,
   "id": "de73ca89",
   "metadata": {},
   "outputs": [],
   "source": [
    "segmentation = jnp.array(mat['segmentation']).reshape(-1)\n",
    "dti_tensor = jnp.array(mat['dti_tensor']).reshape(-1,6)"
   ]
  },
  {
   "cell_type": "code",
   "execution_count": 9,
   "id": "d3c17a02",
   "metadata": {},
   "outputs": [],
   "source": [
    "dti_tensor0 = dti_tensor[segmentation == 0]\n",
    "dti_tensor1 = dti_tensor[segmentation == 1]\n",
    "dti_tensor2 = dti_tensor[segmentation == 2]\n",
    "dti_tensor3 = dti_tensor[segmentation == 3]"
   ]
  },
  {
   "cell_type": "code",
   "execution_count": 10,
   "id": "86fd9a93",
   "metadata": {},
   "outputs": [],
   "source": [
    "def convert_to_SPDN(x):\n",
    "    \n",
    "    upper_index = jnp.triu_indices(n=3)\n",
    "    \n",
    "    val = jnp.zeros((3,3))\n",
    "    val = val.at[upper_index].set(x)\n",
    "    \n",
    "    return val+val.T-jnp.diag(jnp.diag(val))\n",
    "\n",
    "def get_principal_eigenvector(x):\n",
    "    \n",
    "    return jnp.linalg.svd(x)[0][:,0]\n",
    "\n",
    "def get_eigval(x):\n",
    "    \n",
    "    return jnp.linalg.svd(x)[1]\n",
    "    "
   ]
  },
  {
   "cell_type": "code",
   "execution_count": 11,
   "id": "8465203c",
   "metadata": {},
   "outputs": [],
   "source": [
    "scaling = 2*1e4\n",
    "dti_spdn0 = scaling*vmap(lambda x: convert_to_SPDN(x))(dti_tensor0)\n",
    "dti_spdn1 = scaling*vmap(lambda x: convert_to_SPDN(x))(dti_tensor1)\n",
    "dti_spdn2 = scaling*vmap(lambda x: convert_to_SPDN(x))(dti_tensor2)\n",
    "dti_spdn3 = scaling*vmap(lambda x: convert_to_SPDN(x))(dti_tensor3)"
   ]
  },
  {
   "cell_type": "code",
   "execution_count": 12,
   "id": "6defcf5d",
   "metadata": {},
   "outputs": [],
   "source": [
    "dti_eigvec1 = vmap(lambda x: get_principal_eigenvector(x))(dti_spdn1)\n",
    "dti_eigvec2 = vmap(lambda x: get_principal_eigenvector(x))(dti_spdn2)\n",
    "dti_eigvec3 = vmap(lambda x: get_principal_eigenvector(x))(dti_spdn3)\n",
    "\n",
    "dti_eigval1 = vmap(lambda x: get_eigval(x))(dti_spdn1)\n",
    "dti_eigval2 = vmap(lambda x: get_eigval(x))(dti_spdn2)\n",
    "dti_eigval3 = vmap(lambda x: get_eigval(x))(dti_spdn3)"
   ]
  },
  {
   "cell_type": "code",
   "execution_count": 13,
   "id": "4500f913",
   "metadata": {},
   "outputs": [
    {
     "name": "stdout",
     "output_type": "stream",
     "text": [
      "using M.Exp for Logarithm\n"
     ]
    }
   ],
   "source": [
    "M, x0, ScoreEval = load_score_model(\"SPDN\", 3)"
   ]
  },
  {
   "cell_type": "code",
   "execution_count": 14,
   "id": "a50bd0a1",
   "metadata": {},
   "outputs": [],
   "source": [
    "spdn_obs1 = vmap(lambda x: (M.invF((x,x)), x.reshape(-1)))(dti_spdn1)\n",
    "spdn_obs2 = vmap(lambda x: (M.invF((x,x)), x.reshape(-1)))(dti_spdn2)\n",
    "spdn_obs3 = vmap(lambda x: (M.invF((x,x)), x.reshape(-1)))(dti_spdn3)"
   ]
  },
  {
   "cell_type": "code",
   "execution_count": 15,
   "id": "c3e73bd8",
   "metadata": {},
   "outputs": [],
   "source": [
    "t0 = 0.01\n",
    "dm_score(M, s1_model=lambda x,y,t: t0*ScoreEval.grady_log(x,y,t), s2_model = ScoreEval.gradt_log, method=\"Gradient\")\n",
    "spdn_mu1_score_frechet = M.sm_dmx((spdn_obs1[0][:100], spdn_obs1[1][:100]), \n",
    "                                     (spdn_obs1[0][0], spdn_obs1[1][0]), \n",
    "                                     t0, \n",
    "                                     step_size=0.01, max_iter=1000)[0]\n",
    "spdn_mu2_score_frechet = M.sm_dmx((spdn_obs2[0][:100], spdn_obs2[1][:100]), \n",
    "                                     (spdn_obs2[0][0], spdn_obs2[1][0]), \n",
    "                                     t0, \n",
    "                                     step_size=0.01, max_iter=1000)[0]\n",
    "spdn_mu3_score_frechet = M.sm_dmx((spdn_obs3[0][:100], spdn_obs3[1][:100]), \n",
    "                                     (spdn_obs3[0][0], spdn_obs3[1][0]), \n",
    "                                     t0, \n",
    "                                     step_size=0.01, max_iter=1000)[0]"
   ]
  },
  {
   "cell_type": "code",
   "execution_count": 16,
   "id": "0335dc7f",
   "metadata": {},
   "outputs": [],
   "source": [
    "spdn_mu1_score_eigval = get_eigval(spdn_mu1_score_frechet[1][-1].reshape(3,3))\n",
    "spdn_mu2_score_eigval = get_eigval(spdn_mu2_score_frechet[1][-1].reshape(3,3))\n",
    "spdn_mu3_score_eigval = get_eigval(spdn_mu3_score_frechet[1][-1].reshape(3,3))"
   ]
  },
  {
   "cell_type": "code",
   "execution_count": 17,
   "id": "5401a73c",
   "metadata": {},
   "outputs": [],
   "source": [
    "dm_score(M, s1_model=lambda x,y,t: M.Log(y, x[1]), s2_model = ScoreEval.gradt_log, method=\"Gradient\")\n",
    "spdn_mu1_true_frechet = M.sm_dmx((spdn_obs1[0][:100], spdn_obs1[1][:100]), \n",
    "                                     (spdn_obs1[0][0], spdn_obs1[1][0]), \n",
    "                                     t0, \n",
    "                                     step_size=0.01, max_iter=1000)[0]\n",
    "\n",
    "spdn_mu2_true_frechet = M.sm_dmx((spdn_obs2[0][:100], spdn_obs2[1][:100]), \n",
    "                                     (spdn_obs1[0][0], spdn_obs1[1][0]), \n",
    "                                     t0, \n",
    "                                     step_size=0.01, max_iter=1000)[0]\n",
    "\n",
    "spdn_mu3_true_frechet = M.sm_dmx((spdn_obs3[0][:100], spdn_obs3[1][:100]), \n",
    "                                     (spdn_obs1[0][0], spdn_obs1[1][0]), \n",
    "                                     t0, \n",
    "                                     step_size=0.01, max_iter=1000)[0]\n"
   ]
  },
  {
   "cell_type": "code",
   "execution_count": 18,
   "id": "60ac03cb",
   "metadata": {},
   "outputs": [],
   "source": [
    "spdn_mu1_true_eigval = get_eigval(spdn_mu1_true_frechet[1][-1].reshape(3,3))\n",
    "spdn_mu2_true_eigval = get_eigval(spdn_mu2_true_frechet[1][-1].reshape(3,3))\n",
    "spdn_mu3_true_eigval = get_eigval(spdn_mu3_true_frechet[1][-1].reshape(3,3))"
   ]
  },
  {
   "cell_type": "markdown",
   "id": "e2ae1341",
   "metadata": {},
   "source": [
    "### Plotting"
   ]
  },
  {
   "cell_type": "code",
   "execution_count": 19,
   "id": "57696c1d",
   "metadata": {},
   "outputs": [],
   "source": [
    "#S2\n",
    "# Creating the theta and phi values.\n",
    "intervals = 100\n",
    "ntheta = intervals\n",
    "nphi = 2*intervals\n",
    "theta = jnp.linspace(0.0, jnp.pi*1, ntheta+1)\n",
    "phi   = jnp.linspace(0.0, jnp.pi*2, nphi+1)\n",
    "# Creating the coordinate grid for the unit sphere.\n",
    "X1 = jnp.outer(jnp.sin(theta), jnp.cos(phi))\n",
    "X2 = jnp.outer(jnp.sin(theta), jnp.sin(phi))\n",
    "X3 = jnp.outer(jnp.cos(theta), jnp.ones(nphi+1))\n",
    "X = jnp.transpose(jnp.concatenate((X1.reshape(1, ntheta+1, nphi+1), \n",
    "                     X2.reshape(1, ntheta+1, nphi+1), \n",
    "                     X3.reshape(1, ntheta+1, nphi+1))), axes=(1,2,0))"
   ]
  },
  {
   "cell_type": "code",
   "execution_count": 20,
   "id": "f9422ab4",
   "metadata": {},
   "outputs": [
    {
     "name": "stderr",
     "output_type": "stream",
     "text": [
      "The PostScript backend does not support transparency; partially transparent artists will be rendered opaque.\n"
     ]
    },
    {
     "data": {
      "image/png": "[encoded data removed]",
      "text/plain": [
       "<Figure size 3000x1000 with 3 Axes>"
      ]
     },
     "metadata": {},
     "output_type": "display_data"
    }
   ],
   "source": [
    "fig = plt.figure(figsize=(30,10))\n",
    "\n",
    "ax = fig.add_subplot(131)\n",
    "ax.imshow(spdn_mu1_score_frechet[1][-1].reshape(3,3), cmap=mpl.cm.viridis)\n",
    "ax.set_axis_off()\n",
    "\n",
    "ax = fig.add_subplot(132)\n",
    "ax.imshow(spdn_mu1_score_frechet[1][-1].reshape(3,3), cmap=mpl.cm.viridis)\n",
    "ax.set_axis_off()\n",
    "\n",
    "ax = fig.add_subplot(133)\n",
    "ax.scatter(dti_eigval1[:100,0], dti_eigval1[:100,1], color='black', alpha=.5)#c=dti_eig1[:100,2])\n",
    "ax.scatter(spdn_mu1_score_eigval[0], spdn_mu1_score_eigval[1], color='blue', s=300)#c=dti_eig1[:100,2])\n",
    "ax.scatter(spdn_mu1_true_eigval[0], spdn_mu1_true_eigval[1], color='red', s=300)#c=dti_eig1[:100,2])\n",
    "ax.set_axis_off()\n",
    "\n",
    "fig.tight_layout()\n",
    "\n",
    "fig.savefig(f'{figure_path}score_frechet_spdn.eps', format='eps', pad_inches=0.1, bbox_inches='tight')\n"
   ]
  },
  {
   "cell_type": "markdown",
   "id": "1950fb57",
   "metadata": {},
   "source": [
    "## $\\mathbb{S}^{2}$"
   ]
  },
  {
   "cell_type": "code",
   "execution_count": 38,
   "id": "ef8e444d",
   "metadata": {},
   "outputs": [
    {
     "name": "stdout",
     "output_type": "stream",
     "text": [
      "using M.Exp for Logarithm\n"
     ]
    }
   ],
   "source": [
    "M, x0, ScoreEval = load_score_model(\"Sphere\", 2)"
   ]
  },
  {
   "cell_type": "code",
   "execution_count": 39,
   "id": "3ba71147",
   "metadata": {},
   "outputs": [],
   "source": [
    "data_path = '../../../Data/sphere_walking/sphere_walking.mat'"
   ]
  },
  {
   "cell_type": "code",
   "execution_count": 40,
   "id": "af22dcde",
   "metadata": {},
   "outputs": [],
   "source": [
    "mat = sio.loadmat(data_path)"
   ]
  },
  {
   "cell_type": "code",
   "execution_count": 41,
   "id": "586997a1",
   "metadata": {},
   "outputs": [
    {
     "data": {
      "text/plain": [
       "dict_keys(['__header__', '__version__', '__globals__', 'data'])"
      ]
     },
     "execution_count": 41,
     "metadata": {},
     "output_type": "execute_result"
    }
   ],
   "source": [
    "mat.keys()"
   ]
  },
  {
   "cell_type": "code",
   "execution_count": 42,
   "id": "6806ad41",
   "metadata": {},
   "outputs": [],
   "source": [
    "s2_data =  mat['data']\n",
    "\n",
    "s2_obs = jnp.array(s2_data).T\n",
    "s2_obs = vmap(lambda x: (M.invF((x,x)), x))(s2_obs)"
   ]
  },
  {
   "cell_type": "code",
   "execution_count": 43,
   "id": "6c4ed99f",
   "metadata": {},
   "outputs": [],
   "source": [
    "t0 = 0.01\n",
    "dm_score(M, s1_model=lambda x,y,t: t0*ScoreEval.grady_log(x,y,t), s2_model = ScoreEval.gradt_log, method=\"Gradient\")\n",
    "s2_score_frechet = M.sm_dmx((s2_obs[0], s2_obs[1]), \n",
    "                                     (s2_obs[0][0], s2_obs[1][0]), \n",
    "                                     t0, \n",
    "                                     step_size=0.01, max_iter=1000)[0]"
   ]
  },
  {
   "cell_type": "code",
   "execution_count": 46,
   "id": "4ebc9d58",
   "metadata": {},
   "outputs": [
    {
     "name": "stdout",
     "output_type": "stream",
     "text": [
      "Step 0 | T: 0.000000e+00 | T: nan\n",
      "Step 10 | T: nan | T: nan\n",
      "Step 20 | T: nan | T: nan\n",
      "Step 30 | T: nan | T: nan\n",
      "Step 40 | T: nan | T: nan\n",
      "Step 50 | T: nan | T: nan\n",
      "Step 60 | T: nan | T: nan\n",
      "Step 70 | T: nan | T: nan\n",
      "Step 80 | T: nan | T: nan\n",
      "Step 90 | T: nan | T: nan\n",
      "Step 99 | T: nan | T: nan \n"
     ]
    }
   ],
   "source": [
    "t0 = 0.01\n",
    "dm_score(M, s1_model=lambda x,y,t: M.Log(x,y[1]), s2_model = ScoreEval.gradt_log, method=\"Gradient\")\n",
    "s2_frechet = M.sm_dmx((s2_obs[0][:100], s2_obs[1]), \n",
    "                                     (s2_obs[0][0], s2_obs[1][0]), \n",
    "                                     t0, \n",
    "                                     step_size=0.01, max_iter=1000)[0]"
   ]
  },
  {
   "cell_type": "code",
   "execution_count": 36,
   "id": "4d1b8401",
   "metadata": {},
   "outputs": [
    {
     "data": {
      "text/plain": [
       "(Array([[-9.76277447e-18, -0.00000000e+00],\n",
       "        [-4.03259562e-19, -0.00000000e+00],\n",
       "        [ 1.17300189e-18, -0.00000000e+00],\n",
       "        ...,\n",
       "        [ 8.64025566e-19, -0.00000000e+00],\n",
       "        [-7.65649200e-19, -0.00000000e+00],\n",
       "        [ 4.05340835e-18, -0.00000000e+00]], dtype=float64),\n",
       " Array([[ 0.76006275,  0.47069383,  0.44805349],\n",
       "        [ 0.75911775,  0.4684709 ,  0.4519682 ],\n",
       "        [ 0.75816951,  0.46625141,  0.45583837],\n",
       "        ...,\n",
       "        [-0.15182425, -0.0589791 ,  0.98664627],\n",
       "        [-0.15295784, -0.05878691,  0.98648264],\n",
       "        [-0.15409178, -0.05859445,  0.9863176 ]], dtype=float64))"
      ]
     },
     "execution_count": 36,
     "metadata": {},
     "output_type": "execute_result"
    }
   ],
   "source": [
    "s2_score_frechet"
   ]
  },
  {
   "cell_type": "code",
   "execution_count": 47,
   "id": "9ad890e4",
   "metadata": {},
   "outputs": [
    {
     "data": {
      "text/plain": [
       "(Array([nan, nan], dtype=float64),\n",
       " Array([0.76100422, 0.47291989, 0.44409386], dtype=float64))"
      ]
     },
     "execution_count": 47,
     "metadata": {},
     "output_type": "execute_result"
    }
   ],
   "source": [
    "mu_frechet"
   ]
  },
  {
   "cell_type": "code",
   "execution_count": null,
   "id": "ac8929a5",
   "metadata": {},
   "outputs": [],
   "source": []
  }
 ],
 "metadata": {
  "kernelspec": {
   "display_name": "Python 3 (ipykernel)",
   "language": "python",
   "name": "python3"
  },
  "language_info": {
   "codemirror_mode": {
    "name": "ipython",
    "version": 3
   },
   "file_extension": ".py",
   "mimetype": "text/x-python",
   "name": "python",
   "nbconvert_exporter": "python",
   "pygments_lexer": "ipython3",
   "version": "3.9.13"
  }
 },
 "nbformat": 4,
 "nbformat_minor": 5
}
