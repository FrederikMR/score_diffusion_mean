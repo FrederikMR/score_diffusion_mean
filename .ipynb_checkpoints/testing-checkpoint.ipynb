{
 "cells": [
  {
   "cell_type": "code",
   "execution_count": 20,
   "id": "ece30041",
   "metadata": {},
   "outputs": [],
   "source": [
    "import jax.numpy as jnp\n",
    "import torch\n",
    "\n",
    "import numpy as np"
   ]
  },
  {
   "cell_type": "code",
   "execution_count": 23,
   "id": "7acdcb8f",
   "metadata": {},
   "outputs": [],
   "source": [
    "samples = np.ones((10,3))\n",
    "vectors = np.random.randn(30).reshape(10,3)"
   ]
  },
  {
   "cell_type": "markdown",
   "id": "462d041e",
   "metadata": {},
   "source": [
    "# Torch test"
   ]
  },
  {
   "cell_type": "code",
   "execution_count": 42,
   "id": "cf5252de",
   "metadata": {},
   "outputs": [],
   "source": [
    "def score1(x):\n",
    "    \n",
    "    return x\n",
    "\n",
    "def score2(x):\n",
    "    \n",
    "    return torch.vmap(torch.diag)(x)"
   ]
  },
  {
   "cell_type": "code",
   "execution_count": 43,
   "id": "ec013525",
   "metadata": {},
   "outputs": [],
   "source": [
    "samples_torch = torch.Tensor(samples).reshape(10,-1)\n",
    "vectors_torch = torch.Tensor(vectors).reshape(10,-1)"
   ]
  },
  {
   "cell_type": "code",
   "execution_count": 50,
   "id": "02b0688e",
   "metadata": {},
   "outputs": [],
   "source": [
    "# pair x+sigma*z with x-sigma*x\n",
    "# updated to improve numerical stability\n",
    "def hosm_plus_vr_low_rank(score1, score2, samples, vectors, sigma=0.01):\n",
    "    n, dim = vectors.shape\n",
    "\n",
    "    perturbed_inputs1 = samples + vectors * sigma\n",
    "    perturbed_inputs2 = samples - vectors * sigma\n",
    "\n",
    "    # x+sigma*z\n",
    "    s2_1 = score2(perturbed_inputs1).reshape(n, dim, dim)\n",
    "    # with torch.no_grad():\n",
    "    s1_1 = score1(perturbed_inputs1)\n",
    "    s1_product_1 = torch.einsum('ij, ik -> ijk', s1_1, s1_1)\n",
    "    h_1 = (s2_1 + s1_product_1).view(n, -1)\n",
    "\n",
    "    # x-sigma*z\n",
    "    s2_2 = score2(perturbed_inputs2).reshape(n, dim, dim)\n",
    "    # with torch.no_grad():\n",
    "    s1_2 = score1(perturbed_inputs2)\n",
    "    s1_product_2 = torch.einsum('ij, ik -> ijk', s1_2, s1_2)\n",
    "    h_2 = (s2_2 + s1_product_2).view(n, -1)\n",
    "\n",
    "    # (I - z*z^T) / sigma ** 2\n",
    "    vectors_product = torch.einsum('ij, ik -> ijk', vectors, vectors)\n",
    "    eye = torch.eye(dim, device=vectors.device)\n",
    "    eye = eye.unsqueeze(0)\n",
    "    eye = eye.repeat(n, 1, 1)\n",
    "    diff = (eye - vectors_product) / (sigma ** 2)\n",
    "\n",
    "    s2_vr = score2(samples).reshape(n, dim, dim)\n",
    "    # with torch.no_grad():\n",
    "    s1_vr = score1(samples)\n",
    "    s1_product_vr = torch.einsum('ij, ik -> ijk', s1_vr, s1_vr)\n",
    "    h_vr = (s2_vr + s1_product_vr).view(n, -1)\n",
    "\n",
    "    loss = (h_1 ** 2 + h_2 ** 2) + 2 * diff.view(n, -1) * ((h_1 - h_vr) + (h_2 - h_vr))\n",
    "    loss = loss.sum(dim=-1)\n",
    "    loss = loss.mean(dim=0) / 2.\n",
    "\n",
    "    return loss"
   ]
  },
  {
   "cell_type": "code",
   "execution_count": 51,
   "id": "d5fdff37",
   "metadata": {},
   "outputs": [
    {
     "data": {
      "text/plain": [
       "tensor(-16.4649)"
      ]
     },
     "execution_count": 51,
     "metadata": {},
     "output_type": "execute_result"
    }
   ],
   "source": [
    "hosm_plus_vr_low_rank(score1, score2, samples_torch, vectors_torch)"
   ]
  },
  {
   "cell_type": "markdown",
   "id": "7e405fa2",
   "metadata": {},
   "source": [
    "# JAX Test"
   ]
  },
  {
   "cell_type": "code",
   "execution_count": 52,
   "id": "6a1f0109",
   "metadata": {},
   "outputs": [
    {
     "name": "stderr",
     "output_type": "stream",
     "text": [
      "An NVIDIA GPU may be present on this machine, but a CUDA-enabled jaxlib is not installed. Falling back to cpu.\n"
     ]
    }
   ],
   "source": [
    "samples_jax = jnp.array(samples).reshape(10,-1)\n",
    "vectors_jax = jnp.array(vectors).reshape(10,-1)"
   ]
  },
  {
   "cell_type": "code",
   "execution_count": null,
   "id": "97d8fc25",
   "metadata": {},
   "outputs": [],
   "source": [
    "def f(samples,vectors,sigma):\n",
    "            \n",
    "    dW = vectors/sigma\n",
    "\n",
    "    xp = samples+dW\n",
    "    xm = samples-dW\n",
    "\n",
    "    s1 = generator.grad_TM(s1_model, x0, x0, t)\n",
    "    s2 = generator.proj_hess(s1_model, s2_model, x0, x0, t)\n",
    "\n",
    "    s1p = generator.grad_TM(s1_model, x0, xp, t)\n",
    "    s2p = generator.proj_hess(s1_model, s2_model, x0, xp, t)\n",
    "\n",
    "    s1m = generator.grad_TM(s1_model, x0, xm, t)\n",
    "    s2m = generator.proj_hess(s1_model, s2_model, x0, xm, t)\n",
    "\n",
    "    psi = s2+jnp.einsum('i,j->ij', s1, s1)\n",
    "    psip = s2p+jnp.einsum('i,j->ij', s1p, s1p)\n",
    "    psim = s2m+jnp.einsum('i,j->ij', s1m, s1m)\n",
    "    diff = (jnp.eye(N_dim)-jnp.einsum('i,j->ij', dW, dW)/(sigma**2))/sigma\n",
    "\n",
    "    loss1 = psip**2\n",
    "    loss2 = psim**2\n",
    "    loss3 = 2*diff*((psip-psi)+(psim-psi))\n",
    "\n",
    "    loss_s2 = loss1+loss2+loss3\n",
    "\n",
    "    return 0.5*jnp.sum(loss_s2)#jnp.mean(loss_s2)"
   ]
  },
  {
   "cell_type": "code",
   "execution_count": null,
   "id": "c0f0a7cf",
   "metadata": {},
   "outputs": [],
   "source": []
  }
 ],
 "metadata": {
  "kernelspec": {
   "display_name": "Python 3 (ipykernel)",
   "language": "python",
   "name": "python3"
  },
  "language_info": {
   "codemirror_mode": {
    "name": "ipython",
    "version": 3
   },
   "file_extension": ".py",
   "mimetype": "text/x-python",
   "name": "python",
   "nbconvert_exporter": "python",
   "pygments_lexer": "ipython3",
   "version": "3.9.13"
  }
 },
 "nbformat": 4,
 "nbformat_minor": 5
}
