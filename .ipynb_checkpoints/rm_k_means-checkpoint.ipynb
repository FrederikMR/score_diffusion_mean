{
 "cells": [
  {
   "cell_type": "markdown",
   "id": "f9b8356d",
   "metadata": {},
   "source": [
    "# Riemannian Score K-Means"
   ]
  },
  {
   "cell_type": "code",
   "execution_count": 24,
   "id": "b7e5319b",
   "metadata": {},
   "outputs": [],
   "source": [
    "#Modules\n",
    "\n",
    "#jax\n",
    "from jax import jacfwd, vmap\n",
    "import jax.numpy as jnp\n",
    "import jax.random as jrandom\n",
    "\n",
    "#haiku\n",
    "import haiku as hk\n",
    "\n",
    "#os\n",
    "import os\n",
    "\n",
    "#numpy\n",
    "import numpy as np\n",
    "\n",
    "#matplotlib\n",
    "import matplotlib.pyplot as plt\n",
    "import matplotlib as mpl\n",
    "from mpl_toolkits.mplot3d import Axes3D\n",
    "from mpl_toolkits.axes_grid1 import make_axes_locatable\n",
    "import matplotlib.ticker as tkr\n",
    "\n",
    "#other modules\n",
    "from load_manifold import get_generator_dim, load_manifold\n",
    "\n",
    "#scores\n",
    "from models import models\n",
    "\n",
    "#jaxgeometry\n",
    "from jaxgeometry.statistics.score_matching import diffusion_mean as dm_score\n",
    "from jaxgeometry.statistics.score_matching import model_loader\n",
    "from jaxgeometry.statistics.score_matching import kmeans\n",
    "from jaxgeometry.statistics.score_matching import ScoreEvaluation\n",
    "from jaxgeometry.manifolds import *"
   ]
  },
  {
   "cell_type": "code",
   "execution_count": 12,
   "id": "1b7088dc",
   "metadata": {},
   "outputs": [],
   "source": [
    "#Hyper Parameters\n",
    "T = 0.5\n",
    "t0 = 0.01\n",
    "score_path = \"scores\"\n",
    "s2_approx = 0\n",
    "s1loss_type = \"dsmvr\"\n",
    "s2loss_type = \"dsmvr\"\n",
    "s2_type = \"s1s2\"\n",
    "seed = 2712\n",
    "K = 4\n",
    "\n",
    "figure_path = '../figures/ml_regression/'\n",
    "if not os.path.exists(figure_path):\n",
    "    os.makedirs(figure_path)"
   ]
  },
  {
   "cell_type": "code",
   "execution_count": 10,
   "id": "9f262bb5",
   "metadata": {},
   "outputs": [],
   "source": [
    "def load_score_model(manifold, dim):\n",
    "    M, x0, sampling_method, generator_dim, layers, opt_val = load_manifold(manifold, dim)\n",
    "    if \"Local\" in sampling_method:\n",
    "        method = \"Local\"\n",
    "    else:\n",
    "        method = \"Embedded\"\n",
    "    \n",
    "    s1_path = ''.join((score_path, f\"/{manifold}{dim}/s1T_{s1loss_type}/\"))\n",
    "    s2_path = ''.join((score_path, f\"/{manifold}{dim}/{s2_type}T_{s2loss_type}/\"))\n",
    "    layers = get_generator_dim(generator_dim)\n",
    "\n",
    "    s1_model = hk.transform(lambda x: models.MLP_s1(dim=generator_dim, layers=layers)(x))\n",
    "    \n",
    "    if s2_approx:\n",
    "        if s2_type == \"s2\":\n",
    "            s2_model = hk.transform(lambda x: models.MLP_s2(layers_alpha=layers, layers_beta=layers,\n",
    "                                                            dim=generator_dim, r = max(generator_dim//2,1))(x))\n",
    "        elif s2_type == \"s1s2\":\n",
    "            @hk.transform\n",
    "            def s2_model(x):\n",
    "\n",
    "                s1s2 =  models.MLP_s1s2(\n",
    "                    models.MLP_s1(dim=generator_dim, layers=layers), \n",
    "                    models.MLP_s2(layers_alpha=layers, \n",
    "                                  layers_beta=layers,\n",
    "                                  dim=generator_dim,\n",
    "                                  r = max(generator_dim//2,1))\n",
    "                    )\n",
    "\n",
    "                return s1s2(x)[1]\n",
    "    else:\n",
    "        s2_model = None\n",
    "        \n",
    "    s1_state = model_loader.load_model(s1_path)\n",
    "    if s2_approx:\n",
    "        s2_state = model_loader.load_model(s2_path)\n",
    "    else:\n",
    "        s2_state = None\n",
    "    \n",
    "    rng_key = jrandom.PRNGKey(seed)\n",
    "    s1_fun = lambda x,y,t: s1_model.apply(s1_state.params, rng_key, jnp.hstack((x,y,t)))\n",
    "    if s2_approx:\n",
    "        s2_fun = lambda x,y,t: s2_model.apply(s2_state.params, rng_key, jnp.hstack((x,y,t)))\n",
    "    else:\n",
    "        s2_fun = None\n",
    "        \n",
    "    ScoreEval = ScoreEvaluation(M,\n",
    "                                s1_model=s1_fun,\n",
    "                                s2_model=s2_fun,\n",
    "                                method = method\n",
    "                                )\n",
    "                       \n",
    "    return M, x0, ScoreEval"
   ]
  },
  {
   "cell_type": "markdown",
   "id": "a2058d7e",
   "metadata": {},
   "source": [
    "## Testing with $\\mathbb{R}^{2}$"
   ]
  },
  {
   "cell_type": "code",
   "execution_count": 11,
   "id": "be6cc74f",
   "metadata": {},
   "outputs": [
    {
     "name": "stdout",
     "output_type": "stream",
     "text": [
      "using M.Exp for Logarithm\n"
     ]
    }
   ],
   "source": [
    "M, x0, ScoreEval = load_score_model(\"Euclidean\", 2)"
   ]
  },
  {
   "cell_type": "markdown",
   "id": "2b411fa3",
   "metadata": {},
   "source": [
    "### Generate Test Data"
   ]
  },
  {
   "cell_type": "code",
   "execution_count": 68,
   "id": "6f027e7d",
   "metadata": {},
   "outputs": [],
   "source": [
    "eps = 0.1*np.random.normal(size=(100,2))\n",
    "x = []\n",
    "centers = [jnp.array([-1.0,0.0]), jnp.array([0.0,1.0]), jnp.array([1.0,0.0]), jnp.array([0.0,-1.0])]\n",
    "for i in range(K):\n",
    "    eps = 0.1*np.random.normal(size=(100,2))\n",
    "    x.append(eps+centers[i])\n",
    "x = jnp.vstack(x)\n",
    "\n",
    "X_obs = (x, jnp.zeros(len(x)).reshape(-1))"
   ]
  },
  {
   "cell_type": "markdown",
   "id": "b8af6111",
   "metadata": {},
   "source": [
    "### Testing with True Gradient"
   ]
  },
  {
   "cell_type": "code",
   "execution_count": 102,
   "id": "df1d6260",
   "metadata": {},
   "outputs": [],
   "source": [
    "dist_fun = lambda x,y,t=0.1: jnp.linalg.norm(t*M.grady_log_hk(x,y,t)[0])\n",
    "dm_score(M, s1_model=lambda x,y,t: t*M.grady_log_hk(x,y,t)[0], s2_model = M.gradt_log_hk, method=\"Gradient\")\n",
    "\n",
    "def frechet_fun(X_obs, X_init, t=0.1):\n",
    "   \n",
    "    mu = M.sm_dmx(X_obs, (X_init[0], X_init[1].reshape(-1)), t, step_size=0.01, max_iter=100)[0]\n",
    "    \n",
    "    return (mu[0][-1], mu[1][-1])"
   ]
  },
  {
   "cell_type": "code",
   "execution_count": 103,
   "id": "d2b82294",
   "metadata": {},
   "outputs": [],
   "source": [
    "mu = M.sm_dmx(X_obs, (X_obs[0][0], X_obs[1][0].reshape(1)), t0, step_size=0.01, max_iter=100)[0]"
   ]
  },
  {
   "cell_type": "code",
   "execution_count": 104,
   "id": "1bf85640",
   "metadata": {},
   "outputs": [],
   "source": [
    "RMK = kmeans.KMeans(dist_fun, frechet_fun, n_clusters=K, max_iter = 100)"
   ]
  },
  {
   "cell_type": "code",
   "execution_count": null,
   "id": "679cbf24",
   "metadata": {
    "scrolled": true
   },
   "outputs": [
    {
     "name": "stdout",
     "output_type": "stream",
     "text": [
      "Iteration 1/100\n",
      "Iteration 2/100\n",
      "Iteration 3/100\n",
      "Iteration 4/100\n",
      "Iteration 5/100\n",
      "Iteration 6/100\n",
      "Iteration 7/100\n",
      "Iteration 8/100\n",
      "Iteration 9/100\n",
      "Iteration 10/100\n",
      "Iteration 11/100\n",
      "Iteration 12/100\n",
      "Iteration 13/100\n",
      "Iteration 14/100\n",
      "Iteration 15/100\n",
      "Iteration 16/100\n",
      "Iteration 17/100\n",
      "Iteration 18/100\n"
     ]
    }
   ],
   "source": [
    "RMK.fit(X_obs)"
   ]
  },
  {
   "cell_type": "code",
   "execution_count": 99,
   "id": "dc47c4ff",
   "metadata": {},
   "outputs": [],
   "source": [
    "centroids, centroids_idx = RMK.centroids, RMK.centroid_idx"
   ]
  },
  {
   "cell_type": "code",
   "execution_count": 101,
   "id": "4774b637",
   "metadata": {},
   "outputs": [
    {
     "data": {
      "image/png": "[encoded data removed]",
      "text/plain": [
       "<Figure size 1000x1000 with 1 Axes>"
      ]
     },
     "metadata": {},
     "output_type": "display_data"
    }
   ],
   "source": [
    "color = ['magenta', 'red', 'green', 'orange', \"blue\"]\n",
    "fig = plt.figure(figsize=(10,10))\n",
    "ax = fig.add_subplot(111)\n",
    "for i in range(len(centroids_idx)):\n",
    "    ax.scatter(X_obs[0][centroids_idx[i],0], \n",
    "               X_obs[0][centroids_idx[i],1], alpha=1.0, color=color[i], label='Cluser ' + str(i+1))"
   ]
  },
  {
   "cell_type": "code",
   "execution_count": null,
   "id": "f569e878",
   "metadata": {},
   "outputs": [],
   "source": []
  }
 ],
 "metadata": {
  "kernelspec": {
   "display_name": "Python 3 (ipykernel)",
   "language": "python",
   "name": "python3"
  },
  "language_info": {
   "codemirror_mode": {
    "name": "ipython",
    "version": 3
   },
   "file_extension": ".py",
   "mimetype": "text/x-python",
   "name": "python",
   "nbconvert_exporter": "python",
   "pygments_lexer": "ipython3",
   "version": "3.9.13"
  }
 },
 "nbformat": 4,
 "nbformat_minor": 5
}
