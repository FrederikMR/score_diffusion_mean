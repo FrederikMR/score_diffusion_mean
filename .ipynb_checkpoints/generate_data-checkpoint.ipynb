{
 "cells": [
  {
   "cell_type": "markdown",
   "id": "e017fb79",
   "metadata": {},
   "source": [
    "# Generate and Save Synthetic Data for Manifolds"
   ]
  },
  {
   "cell_type": "code",
   "execution_count": 1,
   "id": "426c40bf",
   "metadata": {},
   "outputs": [
    {
     "name": "stderr",
     "output_type": "stream",
     "text": [
      "2023-10-14 23:25:12.870305: W tensorflow/compiler/tf2tensorrt/utils/py_utils.cc:38] TF-TRT Warning: Could not find TensorRT\n",
      "No GPU/TPU found, falling back to CPU. (Set TF_CPP_MIN_LOG_LEVEL=0 and rerun for more info.)\n"
     ]
    }
   ],
   "source": [
    "#JAX\n",
    "import jax.numpy as jnp\n",
    "from jax import vmap\n",
    "\n",
    "#numpy\n",
    "import numpy as np\n",
    "\n",
    "#argparse\n",
    "import argparse\n",
    "\n",
    "from ManLearn.VAE.VAE_MNIST import model as mnist_model\n",
    "from ManLearn.VAE.VAE_MNIST import model_encoder as mnist_encoder\n",
    "from ManLearn.VAE.VAE_MNIST import model_decoder as mnist_decoder\n",
    "from ManLearn.VAE.VAE_MNIST import VAEOutput as mnist_output\n",
    "\n",
    "from ManLearn.VAE.VAE_SVHN import model as svhn_model\n",
    "from ManLearn.VAE.VAE_SVHN import model_encoder as svhn_encoder\n",
    "from ManLearn.VAE.VAE_SVHN import model_decoder as svhn_decoder\n",
    "from ManLearn.VAE.VAE_SVHN import VAEOutput as svhn_output\n",
    "\n",
    "from ManLearn.VAE.VAE_CelebA import model as celeba_model\n",
    "from ManLearn.VAE.VAE_CelebA import model_encoder as celeba_encoder\n",
    "from ManLearn.VAE.VAE_CelebA import model_decoder as celeba_decoder\n",
    "from ManLearn.VAE.VAE_CelebA import VAEOutput as celeba_output\n",
    "\n",
    "from ManLearn.train_MNIST import load_dataset as load_mnist\n",
    "from ManLearn.train_SVHN import load_dataset as load_svhn\n",
    "from ManLearn.train_CelebA import load_dataset as load_celeba\n",
    "from ManLearn.model_loader import load_model\n",
    "\n",
    "#jaxgeometry\n",
    "from jaxgeometry.manifolds import Euclidean, nSphere, Ellipsoid, Cylinder, S1, Torus, \\\n",
    "    H2, Landmarks, Heisenberg, SPDN, Latent, HypParaboloid\n",
    "from jaxgeometry.setup import dts, dWs, hessianx\n",
    "from jaxgeometry.statistics import score_matching\n",
    "from jaxgeometry.statistics.score_matching.model_loader import load_model\n",
    "from jaxgeometry.stochastics import Brownian_coords, product_sde, Brownian_sR\n",
    "from jaxgeometry.stochastics.product_sde import tile"
   ]
  },
  {
   "cell_type": "markdown",
   "id": "569381b8",
   "metadata": {},
   "source": [
    "## Hyper-Parameters"
   ]
  },
  {
   "cell_type": "code",
   "execution_count": 2,
   "id": "e364b34f",
   "metadata": {},
   "outputs": [],
   "source": [
    "N_sim = 100\n",
    "n_steps = 100\n",
    "T = 5.0\n",
    "\n",
    "file_path = 'Data/'"
   ]
  },
  {
   "cell_type": "markdown",
   "id": "e353c445",
   "metadata": {},
   "source": [
    "## Euclidean"
   ]
  },
  {
   "cell_type": "markdown",
   "id": "f7a98e6a",
   "metadata": {},
   "source": [
    "### Generate Data"
   ]
  },
  {
   "cell_type": "code",
   "execution_count": 3,
   "id": "2c84fb6a",
   "metadata": {},
   "outputs": [
    {
     "name": "stdout",
     "output_type": "stream",
     "text": [
      "using M.Exp for Logarithm\n",
      "using M.Exp for Logarithm\n",
      "using M.Exp for Logarithm\n",
      "using M.Exp for Logarithm\n",
      "using M.Exp for Logarithm\n",
      "using M.Exp for Logarithm\n",
      "using M.Exp for Logarithm\n",
      "using M.Exp for Logarithm\n",
      "Done\n"
     ]
    }
   ],
   "source": [
    "dim = [2,3,5,10,20,50,100,200]\n",
    "for d in dim:\n",
    "    M = Euclidean(N=d)\n",
    "    Brownian_coords(M)\n",
    "    \n",
    "    (product, sde_product, chart_update_product) = product_sde(M, \n",
    "                                                               M.sde_Brownian_coords, \n",
    "                                                               M.chart_update_Brownian_coords)\n",
    "\n",
    "    x0 = M.coords([0.]*d)\n",
    "    x0s = tile(x0, N_sim)\n",
    "    \n",
    "    _dts = dts(T=T, n_steps=n_steps)\n",
    "    dW = dWs(N_sim*M.dim,_dts).reshape(-1,N_sim,M.dim)\n",
    "    (ts,xss,chartss,*_) = product(x0s,\n",
    "                                  _dts,dW,jnp.repeat(1.,N_sim))\n",
    "    \n",
    "    xs = xss[-1]\n",
    "    chart = chartss[-1]\n",
    "    \n",
    "    path = ''.join((file_path, 'R', str(d), '/'))\n",
    "    np.savetxt(''.join((path, 'xs.csv')), xs, delimiter=\",\")\n",
    "    np.savetxt(''.join((path, 'chart.csv')), chart, delimiter=\",\")\n",
    "print(\"Done\")"
   ]
  },
  {
   "cell_type": "markdown",
   "id": "fefdf9aa",
   "metadata": {},
   "source": [
    "## S1"
   ]
  },
  {
   "cell_type": "markdown",
   "id": "2f46d5bc",
   "metadata": {},
   "source": [
    "### Generate Data"
   ]
  },
  {
   "cell_type": "code",
   "execution_count": 23,
   "id": "cb7a9db8",
   "metadata": {},
   "outputs": [
    {
     "name": "stdout",
     "output_type": "stream",
     "text": [
      "using M.Exp for Logarithm\n",
      "Done\n"
     ]
    }
   ],
   "source": [
    "M = S1(use_spherical_coords=True)\n",
    "Brownian_coords(M)\n",
    "\n",
    "x0 = M.coords([0.])\n",
    "x0s = tile(x0, N_sim)\n",
    "\n",
    "(product, sde_product, chart_update_product) = product_sde(M, \n",
    "                                                            M.sde_Brownian_coords, \n",
    "                                                            M.chart_update_Brownian_coords)\n",
    "\n",
    "_dts = dts(T=0.1, n_steps=n_steps)\n",
    "dW = dWs(N_sim*M.dim,_dts).reshape(-1,N_sim,M.dim)\n",
    "(ts,xss,chartss,*_) = product(x0s,\n",
    "                              _dts,dW,jnp.repeat(1.,N_sim))\n",
    "\n",
    "xs = xss[-1]\n",
    "chart = chartss[-1]\n",
    "chart = vmap(lambda x,y: M.F((x,y)))(xs,chart)\n",
    "\n",
    "path = ''.join((file_path, 'S1/'))\n",
    "np.savetxt(''.join((path, 'xs.csv')), xs, delimiter=\",\")\n",
    "np.savetxt(''.join((path, 'chart.csv')), chart, delimiter=\",\")\n",
    "print(\"Done\")"
   ]
  },
  {
   "cell_type": "markdown",
   "id": "f83c9206",
   "metadata": {},
   "source": [
    "## mSphere"
   ]
  },
  {
   "cell_type": "markdown",
   "id": "39a8b0ba",
   "metadata": {},
   "source": [
    "### Generate Data"
   ]
  },
  {
   "cell_type": "code",
   "execution_count": null,
   "id": "f70b7575",
   "metadata": {},
   "outputs": [
    {
     "name": "stdout",
     "output_type": "stream",
     "text": [
      "using M.Exp for Logarithm\n",
      "using M.Exp for Logarithm\n",
      "using M.Exp for Logarithm\n",
      "using M.Exp for Logarithm\n",
      "using M.Exp for Logarithm\n",
      "using M.Exp for Logarithm\n",
      "using M.Exp for Logarithm\n",
      "using M.Exp for Logarithm\n"
     ]
    }
   ],
   "source": [
    "dim = [2,3,5,10,20,50,100, 200]\n",
    "for d in dim:\n",
    "    M = nSphere(N=d)\n",
    "    Brownian_coords(M)\n",
    "\n",
    "    (product, sde_product, chart_update_product) = product_sde(M, \n",
    "                                                               M.sde_Brownian_coords, \n",
    "                                                               M.chart_update_Brownian_coords)\n",
    "\n",
    "    x0 = M.coords([0.]*d)\n",
    "    x0s = tile(x0, N_sim)\n",
    "    \n",
    "    _dts = dts(T=T, n_steps=n_steps)\n",
    "    dW = dWs(N_sim*M.dim,_dts).reshape(-1,N_sim,M.dim)\n",
    "    (ts,xss,chartss,*_) = product(x0s,\n",
    "                                  _dts,dW,jnp.repeat(1.,N_sim))\n",
    "    \n",
    "    xs = xss[-1]\n",
    "    chart = chartss[-1]\n",
    "    \n",
    "    path = ''.join((file_path, 'S', str(d), '/'))\n",
    "    np.savetxt(''.join((path, 'xs.csv')), xs, delimiter=\",\")\n",
    "    np.savetxt(''.join((path, 'chart.csv')), chart, delimiter=\",\")\n",
    "print(\"Done\")"
   ]
  },
  {
   "cell_type": "markdown",
   "id": "5b5e4152",
   "metadata": {},
   "source": [
    "## Ellipsoid"
   ]
  },
  {
   "cell_type": "markdown",
   "id": "a237dd0c",
   "metadata": {},
   "source": [
    "### Generate Data"
   ]
  },
  {
   "cell_type": "code",
   "execution_count": 9,
   "id": "c2a432fd",
   "metadata": {},
   "outputs": [
    {
     "name": "stdout",
     "output_type": "stream",
     "text": [
      "using M.Exp for Logarithm\n",
      "using M.Exp for Logarithm\n",
      "using M.Exp for Logarithm\n",
      "using M.Exp for Logarithm\n",
      "using M.Exp for Logarithm\n",
      "Done\n"
     ]
    }
   ],
   "source": [
    "## mSphere\n",
    "\n",
    "### Generate Data\n",
    "\n",
    "dim = [2,3,5,10,20]\n",
    "for d in dim:\n",
    "    M = Ellipsoid(N=d, params = jnp.linspace(0.5,1.0,d+1))\n",
    "    Brownian_coords(M)\n",
    "\n",
    "    N_dim = M.emb_dim\n",
    "    x0 = M.coords([0.]*d)\n",
    "\n",
    "    (product, sde_product, chart_update_product) = product_sde(M, \n",
    "                                                               M.sde_Brownian_coords, \n",
    "                                                               M.chart_update_Brownian_coords)\n",
    "\n",
    "    x0s = tile(x0, N_sim)\n",
    "    \n",
    "    _dts = dts(T=T, n_steps=n_steps)\n",
    "    dW = dWs(N_sim*M.dim,_dts).reshape(-1,N_sim,M.dim)\n",
    "    (ts,xss,chartss,*_) = product(x0s,\n",
    "                                  _dts,dW,jnp.repeat(1.,N_sim))\n",
    "    \n",
    "    xs = xss[-1]\n",
    "    chart = chartss[-1]\n",
    "    \n",
    "    path = ''.join((file_path, 'Ellipsoid', str(d), '/'))\n",
    "    np.savetxt(''.join((path, 'xs.csv')), xs, delimiter=\",\")\n",
    "    np.savetxt(''.join((path, 'chart.csv')), chart, delimiter=\",\")\n",
    "print(\"Done\")"
   ]
  },
  {
   "cell_type": "markdown",
   "id": "3d710052",
   "metadata": {},
   "source": [
    "## Cylinder"
   ]
  },
  {
   "cell_type": "markdown",
   "id": "56636f4f",
   "metadata": {},
   "source": [
    "### Generate Data"
   ]
  },
  {
   "cell_type": "code",
   "execution_count": 15,
   "id": "47483a73",
   "metadata": {},
   "outputs": [
    {
     "name": "stdout",
     "output_type": "stream",
     "text": [
      "using M.Exp for Logarithm\n",
      "Done\n"
     ]
    }
   ],
   "source": [
    "## mSphere\n",
    "\n",
    "### Generate Data\n",
    "\n",
    "M = Cylinder(params=(1.,jnp.array([0.,0.,1.]),jnp.pi/2.))\n",
    "Brownian_coords(M)\n",
    "\n",
    "x0 = M.coords([0.]*2)\n",
    "\n",
    "(product, sde_product, chart_update_product) = product_sde(M, \n",
    "                                                           M.sde_Brownian_coords, \n",
    "                                                           M.chart_update_Brownian_coords)\n",
    "\n",
    "x0s = tile(x0, N_sim)\n",
    "\n",
    "_dts = dts(T=T, n_steps=n_steps)\n",
    "dW = dWs(N_sim*M.dim,_dts).reshape(-1,N_sim,M.dim)\n",
    "(ts,xss,chartss,*_) = product(x0s,\n",
    "                              _dts,dW,jnp.repeat(1.,N_sim))\n",
    "\n",
    "xs = xss[-1]\n",
    "chart = chartss[-1]\n",
    "path = ''.join((file_path, 'Cylinder/'))\n",
    "np.savetxt(''.join((path, 'xs.csv')), xs, delimiter=\",\")\n",
    "np.savetxt(''.join((path, 'chart.csv')), chart, delimiter=\",\")\n",
    "print(\"Done\")"
   ]
  },
  {
   "cell_type": "markdown",
   "id": "3fa73a41",
   "metadata": {},
   "source": [
    "## Torus"
   ]
  },
  {
   "cell_type": "markdown",
   "id": "3e7fae7f",
   "metadata": {},
   "source": [
    "### Generate Data"
   ]
  },
  {
   "cell_type": "code",
   "execution_count": 16,
   "id": "ef54bc19",
   "metadata": {},
   "outputs": [
    {
     "name": "stdout",
     "output_type": "stream",
     "text": [
      "using M.Exp for Logarithm\n",
      "Done\n"
     ]
    }
   ],
   "source": [
    "## mSphere\n",
    "\n",
    "### Generate Data\n",
    "\n",
    "M = Torus()\n",
    "Brownian_coords(M)\n",
    "\n",
    "x0 = M.coords([0.]*2)\n",
    "\n",
    "(product, sde_product, chart_update_product) = product_sde(M, \n",
    "                                                           M.sde_Brownian_coords, \n",
    "                                                           M.chart_update_Brownian_coords)\n",
    "\n",
    "x0s = tile(x0, N_sim)\n",
    "\n",
    "_dts = dts(T=T, n_steps=n_steps)\n",
    "dW = dWs(N_sim*M.dim,_dts).reshape(-1,N_sim,M.dim)\n",
    "(ts,xss,chartss,*_) = product(x0s,\n",
    "                              _dts,dW,jnp.repeat(1.,N_sim))\n",
    "\n",
    "xs = xss[-1]\n",
    "chart = chartss[-1]\n",
    "\n",
    "path = ''.join((file_path, 'Torus/'))\n",
    "np.savetxt(''.join((path, 'xs.csv')), xs, delimiter=\",\")\n",
    "np.savetxt(''.join((path, 'chart.csv')), chart, delimiter=\",\")\n",
    "print(\"Done\")"
   ]
  },
  {
   "cell_type": "markdown",
   "id": "6a383105",
   "metadata": {},
   "source": [
    "## Landmarks"
   ]
  },
  {
   "cell_type": "markdown",
   "id": "5a1bdbcf",
   "metadata": {},
   "source": [
    "### Generate Data"
   ]
  },
  {
   "cell_type": "code",
   "execution_count": 7,
   "id": "64eb62c5",
   "metadata": {},
   "outputs": [
    {
     "name": "stdout",
     "output_type": "stream",
     "text": [
      "using M.Exp for Logarithm\n",
      "using M.Exp for Logarithm\n",
      "using M.Exp for Logarithm\n",
      "using M.Exp for Logarithm\n",
      "Done\n"
     ]
    }
   ],
   "source": [
    "## mSphere\n",
    "\n",
    "### Generate Data\n",
    "\n",
    "dim = [2,5,10,20]\n",
    "for d in dim:\n",
    "    M = Landmarks(N=d,m=2)\n",
    "    Brownian_coords(M)\n",
    "\n",
    "    N_dim = M.dim\n",
    "    x0 = M.coords(jnp.vstack((jnp.linspace(-5.0,5.0,M.N),jnp.linspace(5.0,-5.0,M.N))).T.flatten())\n",
    "    x0 = M.coords(jnp.vstack((jnp.linspace(-5.0,5.0,M.N),jnp.zeros(M.N))).T.flatten())\n",
    "\n",
    "    (product, sde_product, chart_update_product) = product_sde(M, \n",
    "                                                               M.sde_Brownian_coords, \n",
    "                                                               M.chart_update_Brownian_coords)\n",
    "\n",
    "    #x0 = M.coords(jnp.vstack((jnp.linspace(-10.0,10.0,M.N),jnp.linspace(10.0,-10.0,M.N))).T.flatten())\n",
    "    x0 = M.coords(jnp.vstack((jnp.linspace(-5.0,5.0,M.N),jnp.zeros(M.N))).T.flatten())\n",
    "\n",
    "    if M.N >=10:\n",
    "        with open('../Data/landmarks/Papilonidae/Papilionidae_landmarks.txt', 'r') as the_file:\n",
    "            all_data = [line.strip() for line in the_file.readlines()]\n",
    "\n",
    "            x1 = jnp.array([float(x) for x in all_data[0].split()[2:]])\n",
    "            x2 = jnp.array([float(x) for x in all_data[1].split()[2:]])\n",
    "\n",
    "            x0 = M.coords(jnp.vstack((x1[::len(x1)//M.N],x2[::len(x2)//M.N])).T.flatten())\n",
    "    \n",
    "    x0s = tile(x0, N_sim)\n",
    "    _dts = dts(T=T, n_steps=n_steps)\n",
    "    dW = dWs(N_sim*M.dim,_dts).reshape(-1,N_sim,M.dim)\n",
    "    (ts,xss,chartss,*_) = product(x0s,\n",
    "                                  _dts,dW,jnp.repeat(1.,N_sim))\n",
    "    \n",
    "    xs = xss[-1]\n",
    "    chart = chartss[-1]\n",
    "    \n",
    "    path = ''.join((file_path, 'Landmarks', str(d), '/'))\n",
    "    np.savetxt(''.join((path, 'xs.csv')), xs, delimiter=\",\")\n",
    "    np.savetxt(''.join((path, 'chart.csv')), chart, delimiter=\",\")\n",
    "print(\"Done\")"
   ]
  },
  {
   "cell_type": "markdown",
   "id": "912bdea9",
   "metadata": {},
   "source": [
    "## SPDN"
   ]
  },
  {
   "cell_type": "markdown",
   "id": "650ab634",
   "metadata": {},
   "source": [
    "### Generate Data"
   ]
  },
  {
   "cell_type": "code",
   "execution_count": 7,
   "id": "7e88bc7f",
   "metadata": {
    "scrolled": true
   },
   "outputs": [
    {
     "name": "stdout",
     "output_type": "stream",
     "text": [
      "using M.Exp for Logarithm\n",
      "[[[1.0344374  1.0820905  0.9986856 ]\n",
      "  [0.9753456  1.0602753  1.0032166 ]\n",
      "  [0.95412683 1.0130234  1.04621   ]\n",
      "  ...\n",
      "  [0.9719336  0.89150393 1.0040352 ]\n",
      "  [1.0043323  0.91710967 1.0377147 ]\n",
      "  [1.0976763  0.8388297  0.9553131 ]]\n",
      "\n",
      " [[1.1550778  1.1439259  0.84397596]\n",
      "  [0.9037099  0.87658304 0.9365949 ]\n",
      "  [0.93251175 1.0170206  1.1962323 ]\n",
      "  ...\n",
      "  [0.9893969  0.8707343  0.8713967 ]\n",
      "  [1.0549299  0.89914346 0.98373055]\n",
      "  [1.1302638  1.0120461  1.0241953 ]]\n",
      "\n",
      " [[1.15555    1.098138   0.70263016]\n",
      "  [0.8949333  0.8565651  0.967924  ]\n",
      "  [0.97503316 1.0267072  1.2437463 ]\n",
      "  ...\n",
      "  [0.97071505 0.9439346  0.8559486 ]\n",
      "  [1.1112299  0.82649827 0.9773508 ]\n",
      "  [1.1142209  1.0043433  1.0625151 ]]\n",
      "\n",
      " ...\n",
      "\n",
      " [[       nan        nan        nan]\n",
      "  [1.9852642  0.77044356 1.9931109 ]\n",
      "  [1.2981777  1.4858963  0.9535364 ]\n",
      "  ...\n",
      "  [4.2111764  1.1999124  0.90435874]\n",
      "  [2.1104107  0.35744712 0.6997958 ]\n",
      "  [       nan        nan        nan]]\n",
      "\n",
      " [[       nan        nan        nan]\n",
      "  [1.9507072  0.76001316 1.9840686 ]\n",
      "  [1.257334   1.4974833  0.9753888 ]\n",
      "  ...\n",
      "  [4.2335353  1.2408669  0.92951816]\n",
      "  [2.1884844  0.32379058 0.72772175]\n",
      "  [       nan        nan        nan]]\n",
      "\n",
      " [[       nan        nan        nan]\n",
      "  [2.0269852  0.6607682  1.9222602 ]\n",
      "  [1.3452802  1.5301428  0.86791235]\n",
      "  ...\n",
      "  [4.1116905  1.1961335  0.85985106]\n",
      "  [2.2187064  0.34419295 0.71229434]\n",
      "  [       nan        nan        nan]]]\n",
      "Done\n"
     ]
    }
   ],
   "source": [
    "## mSphere\n",
    "\n",
    "### Generate Data\n",
    "from jaxgeometry.stochastics.GRW import initialize\n",
    "dim = [2]#[2, 5, 10]\n",
    "for d in dim:\n",
    "    M = SPDN(N=d)    \n",
    "    Brownian_coords(M)\n",
    "    initialize(M)\n",
    "\n",
    "    N_dim = M.emb_dim\n",
    "    x0 = M.coords([10.]*(d*(d+1)//2))\n",
    "\n",
    "    (product, sde_product, chart_update_product) = product_sde(M, \n",
    "                                                               M.sde_Brownian_coords, \n",
    "                                                               M.chart_update_Brownian_coords)\n",
    "\n",
    "    x0s = tile(x0, N_sim)\n",
    "    \n",
    "    _dts = dts(T=T, n_steps=n_steps)\n",
    "    dW = dWs(N_sim*M.dim,_dts).reshape(-1,N_sim,M.dim)\n",
    "    #(ts,xss,chartss,*_) = product(x0s,\n",
    "    #                              _dts,dW,jnp.repeat(1.,N_sim))\n",
    "    (ts,xss,chartss) = M.product_GRW(x0s,_dts,dW)\n",
    "    print(xss)\n",
    "    \n",
    "    xs = xss[-1]\n",
    "    chart = chartss[-1]\n",
    "    \n",
    "    path = ''.join((file_path, 'SPDN', str(d), '/'))\n",
    "    np.savetxt(''.join((path, 'xs.csv')), xs, delimiter=\",\")\n",
    "    np.savetxt(''.join((path, 'chart.csv')), chart, delimiter=\",\")\n",
    "print(\"Done\")"
   ]
  },
  {
   "cell_type": "markdown",
   "id": "7637836f",
   "metadata": {},
   "source": [
    "## Hyperbolic Paraboloid"
   ]
  },
  {
   "cell_type": "markdown",
   "id": "0f6a4a32",
   "metadata": {},
   "source": [
    "### Generate Data"
   ]
  },
  {
   "cell_type": "code",
   "execution_count": 24,
   "id": "216b1da8",
   "metadata": {},
   "outputs": [
    {
     "name": "stdout",
     "output_type": "stream",
     "text": [
      "using M.Exp for Logarithm\n",
      "Done\n"
     ]
    }
   ],
   "source": [
    "## mSphere\n",
    "\n",
    "### Generate Data\n",
    "\n",
    "M = HypParaboloid()\n",
    "Brownian_coords(M)\n",
    "\n",
    "x0 = M.coords([0.]*2)\n",
    "\n",
    "(product, sde_product, chart_update_product) = product_sde(M, \n",
    "                                                           M.sde_Brownian_coords, \n",
    "                                                           M.chart_update_Brownian_coords)\n",
    "\n",
    "x0s = tile(x0, N_sim)\n",
    "\n",
    "_dts = dts(T=T, n_steps=n_steps)\n",
    "dW = dWs(N_sim*M.dim,_dts).reshape(-1,N_sim,M.dim)\n",
    "(ts,xss,chartss,*_) = product(x0s,\n",
    "                              _dts,dW,jnp.repeat(1.,N_sim))\n",
    "\n",
    "xs = xss[-1]\n",
    "chart = chartss[-1]\n",
    "\n",
    "path = ''.join((file_path, 'HypParaboloid/'))\n",
    "np.savetxt(''.join((path, 'xs.csv')), xs, delimiter=\",\")\n",
    "np.savetxt(''.join((path, 'chart.csv')), chart, delimiter=\",\")\n",
    "print(\"Done\")"
   ]
  },
  {
   "cell_type": "markdown",
   "id": "f29bedb2",
   "metadata": {},
   "source": [
    "## VAE MNIST"
   ]
  },
  {
   "cell_type": "markdown",
   "id": "163759b3",
   "metadata": {},
   "source": [
    "### Generate Data"
   ]
  },
  {
   "cell_type": "code",
   "execution_count": 27,
   "id": "9b535790",
   "metadata": {
    "scrolled": true
   },
   "outputs": [
    {
     "name": "stderr",
     "output_type": "stream",
     "text": [
      "2023-10-11 00:45:40.381165: W tensorflow/core/common_runtime/gpu/gpu_device.cc:1956] Cannot dlopen some GPU libraries. Please make sure the missing libraries mentioned above are installed properly if you would like to use GPU. Follow the guide at https://www.tensorflow.org/install/gpu for how to download and setup the required libraries for your platform.\n",
      "Skipping registering GPU devices...\n"
     ]
    },
    {
     "name": "stdout",
     "output_type": "stream",
     "text": [
      "using M.Exp for Logarithm\n",
      "Done\n"
     ]
    }
   ],
   "source": [
    "## mSphere\n",
    "\n",
    "### Generate Data\n",
    "\n",
    "dim = [2, 5, 10]\n",
    "ds = load_mnist(\"train\", 100, 2712)\n",
    "        \n",
    "state = load_model('ManLearn/models/MNIST/VAE/')\n",
    "F = lambda x: mnist_decoder.apply(state.params, state.rng_key, x[0]).reshape(-1)\n",
    "\n",
    "M = Latent(F=F,dim=2,emb_dim=28*28,invF=None)\n",
    "Brownian_coords(M)\n",
    "\n",
    "x0 = mnist_encoder.apply(state.params, state.rng_key, next(ds).image)\n",
    "x0 = M.coords(x0[0])\n",
    "        \n",
    "(product, sde_product, chart_update_product) = product_sde(M, \n",
    "                                                               M.sde_Brownian_coords, \n",
    "                                                               M.chart_update_Brownian_coords)\n",
    "\n",
    "x0s = tile(x0, N_sim)\n",
    "\n",
    "_dts = dts(T=T, n_steps=n_steps)\n",
    "dW = dWs(N_sim*M.dim,_dts).reshape(-1,N_sim,M.dim)\n",
    "(ts,xss,chartss,*_) = product(x0s,\n",
    "                              _dts,dW,jnp.repeat(1.,N_sim))\n",
    "\n",
    "xs = xss[-1]\n",
    "chart = chartss[-1]\n",
    "\n",
    "path = ''.join((file_path, 'VAE_MNIST/'))\n",
    "np.savetxt(''.join((path, 'xs.csv')), xs, delimiter=\",\")\n",
    "np.savetxt(''.join((path, 'chart.csv')), chart, delimiter=\",\")\n",
    "print(\"Done\")"
   ]
  },
  {
   "cell_type": "markdown",
   "id": "7be0a411",
   "metadata": {},
   "source": [
    "## VAE SVHN"
   ]
  },
  {
   "cell_type": "markdown",
   "id": "c022b89f",
   "metadata": {},
   "source": [
    "### Generate Data"
   ]
  },
  {
   "cell_type": "code",
   "execution_count": 15,
   "id": "7383924c",
   "metadata": {
    "scrolled": true
   },
   "outputs": [
    {
     "name": "stderr",
     "output_type": "stream",
     "text": [
      "2023-10-02 20:00:02.191492: W tensorflow/core/kernels/data/cache_dataset_ops.cc:856] The calling iterator did not fully read the dataset being cached. In order to avoid unexpected truncation of the dataset, the partially cached contents of the dataset  will be discarded. This can happen if you have an input pipeline similar to `dataset.cache().take(k).repeat()`. You should use `dataset.take(k).cache().repeat()` instead.\n"
     ]
    },
    {
     "name": "stdout",
     "output_type": "stream",
     "text": [
      "using M.Exp for Logarithm\n",
      "Done\n"
     ]
    }
   ],
   "source": [
    "## mSphere\n",
    "\n",
    "### Generate Data\n",
    "\n",
    "dim = [2, 5, 10]\n",
    "ds = load_svhn()\n",
    "        \n",
    "state = load_model('ManLearn/models/SVHN/VAE/')\n",
    "F = lambda x: svhn_decoder.apply(state.params, state.rng_key, x[0]).reshape(-1)\n",
    "\n",
    "M = Latent(F=F,dim=32,emb_dim=32*32*3,invF=None)\n",
    "Brownian_coords(M)\n",
    "\n",
    "x0 = svhn_encoder.apply(state.params, state.rng_key, next(ds).image)\n",
    "x0 = M.coords(x0[0])\n",
    "        \n",
    "(product, sde_product, chart_update_product) = product_sde(M, \n",
    "                                                               M.sde_Brownian_coords, \n",
    "                                                               M.chart_update_Brownian_coords)\n",
    "\n",
    "x0s = tile(x0, N_sim)\n",
    "\n",
    "_dts = dts(T=T, n_steps=n_steps)\n",
    "dW = dWs(N_sim*M.dim,_dts).reshape(-1,N_sim,M.dim)\n",
    "(ts,xss,chartss,*_) = product(x0s,\n",
    "                              _dts,dW,jnp.repeat(1.,N_sim))\n",
    "\n",
    "xs = xss[:,-1]\n",
    "chart = chartss[:,-1]\n",
    "\n",
    "path = ''.join((file_path, 'VAE_SVHN/'))\n",
    "np.savetxt(''.join((path, 'xs.csv')), xs, delimiter=\",\")\n",
    "np.savetxt(''.join((path, 'chart.csv')), chart, delimiter=\",\")\n",
    "print(\"Done\")"
   ]
  },
  {
   "cell_type": "markdown",
   "id": "3a06a6ca",
   "metadata": {},
   "source": [
    "## VAE CelebA"
   ]
  },
  {
   "cell_type": "markdown",
   "id": "20dfcf74",
   "metadata": {},
   "source": [
    "### Generate Data"
   ]
  },
  {
   "cell_type": "code",
   "execution_count": 16,
   "id": "7c4bf633",
   "metadata": {
    "scrolled": true
   },
   "outputs": [
    {
     "name": "stdout",
     "output_type": "stream",
     "text": [
      "using M.Exp for Logarithm\n",
      "Done\n"
     ]
    }
   ],
   "source": [
    "## mSphere\n",
    "\n",
    "### Generate Data\n",
    "\n",
    "dim = [2, 5, 10]\n",
    "ds = load_celeba()\n",
    "        \n",
    "state = load_model('ManLearn/models/CelebA/VAE/')\n",
    "F = lambda x: celeba_decoder.apply(state.params, state.rng_key, x[0]).reshape(-1)\n",
    "\n",
    "M = Latent(F=F,dim=32,emb_dim=64*64*3,invF=None)\n",
    "Brownian_coords(M)\n",
    "\n",
    "N_dim = M.dim\n",
    "x0 = svhn_encoder.apply(state.params, state.rng_key, next(ds).image)\n",
    "x0 = M.coords(x0[0])\n",
    "\n",
    "(product, sde_product, chart_update_product) = product_sde(M, \n",
    "                                                               M.sde_Brownian_coords, \n",
    "                                                               M.chart_update_Brownian_coords)\n",
    "\n",
    "x0s = tile(x0, N_sim)\n",
    "\n",
    "_dts = dts(T=T, n_steps=n_steps)\n",
    "dW = dWs(N_sim*M.dim,_dts).reshape(-1,N_sim,M.dim)\n",
    "(ts,xss,chartss,*_) = product(x0s,\n",
    "                              _dts,dW,jnp.repeat(1.,N_sim))\n",
    "\n",
    "xs = xss[:,-1]\n",
    "chart = chartss[:,-1]\n",
    "\n",
    "path = ''.join((file_path, 'VAE_CelebA/'))\n",
    "np.savetxt(''.join((path, 'xs.csv')), xs, delimiter=\",\")\n",
    "np.savetxt(''.join((path, 'chart.csv')), chart, delimiter=\",\")\n",
    "print(\"Done\")"
   ]
  },
  {
   "cell_type": "code",
   "execution_count": null,
   "id": "de9e2d3a",
   "metadata": {},
   "outputs": [],
   "source": []
  }
 ],
 "metadata": {
  "kernelspec": {
   "display_name": "Python 3 (ipykernel)",
   "language": "python",
   "name": "python3"
  },
  "language_info": {
   "codemirror_mode": {
    "name": "ipython",
    "version": 3
   },
   "file_extension": ".py",
   "mimetype": "text/x-python",
   "name": "python",
   "nbconvert_exporter": "python",
   "pygments_lexer": "ipython3",
   "version": "3.9.13"
  }
 },
 "nbformat": 4,
 "nbformat_minor": 5
}
