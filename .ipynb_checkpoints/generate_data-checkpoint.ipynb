{
 "cells": [
  {
   "cell_type": "markdown",
   "id": "8fd2a23b",
   "metadata": {},
   "source": [
    "# Generate and Save Synthetic Data for Manifolds"
   ]
  },
  {
   "cell_type": "code",
   "execution_count": 1,
   "id": "7bad7970",
   "metadata": {},
   "outputs": [
    {
     "name": "stderr",
     "output_type": "stream",
     "text": [
      "2023-10-02 03:43:08.970463: W tensorflow/compiler/tf2tensorrt/utils/py_utils.cc:38] TF-TRT Warning: Could not find TensorRT\n",
      "No GPU/TPU found, falling back to CPU. (Set TF_CPP_MIN_LOG_LEVEL=0 and rerun for more info.)\n"
     ]
    }
   ],
   "source": [
    "#JAX\n",
    "import jax.numpy as jnp\n",
    "\n",
    "#numpy\n",
    "import numpy as np\n",
    "\n",
    "#argparse\n",
    "import argparse\n",
    "\n",
    "from ManLearn.VAE.VAE_MNIST import model as mnist_model\n",
    "from ManLearn.VAE.VAE_MNIST import model_encoder as mnist_encoder\n",
    "from ManLearn.VAE.VAE_MNIST import model_decoder as mnist_decoder\n",
    "from ManLearn.VAE.VAE_MNIST import VAEOutput as mnist_output\n",
    "\n",
    "from ManLearn.VAE.VAE_SVHN import model as svhn_model\n",
    "from ManLearn.VAE.VAE_SVHN import model_encoder as svhn_encoder\n",
    "from ManLearn.VAE.VAE_SVHN import model_decoder as svhn_decoder\n",
    "from ManLearn.VAE.VAE_SVHN import VAEOutput as svhn_output\n",
    "\n",
    "from ManLearn.VAE.VAE_CelebA import model as celeba_model\n",
    "from ManLearn.VAE.VAE_CelebA import model_encoder as celeba_encoder\n",
    "from ManLearn.VAE.VAE_CelebA import model_decoder as celeba_decoder\n",
    "from ManLearn.VAE.VAE_CelebA import VAEOutput as celeba_output\n",
    "\n",
    "from ManLearn.train_MNIST import load_dataset as load_mnist\n",
    "from ManLearn.train_SVHN import load_dataset as load_svhn\n",
    "from ManLearn.train_CelebA import load_dataset as load_celeba\n",
    "from ManLearn.model_loader import load_model\n",
    "\n",
    "#jaxgeometry\n",
    "from jaxgeometry.manifolds import Euclidean, nSphere, Ellipsoid, Cylinder, S1, Torus, \\\n",
    "    H2, Landmarks, Heisenberg, SPDN, Latent, HypParaboloid\n",
    "from jaxgeometry.setup import dts, dWs, hessianx\n",
    "from jaxgeometry.statistics import score_matching\n",
    "from jaxgeometry.statistics.score_matching.model_loader import load_model\n",
    "from jaxgeometry.stochastics import Brownian_coords, product_sde, Brownian_sR\n",
    "from jaxgeometry.stochastics.product_sde import tile"
   ]
  },
  {
   "cell_type": "markdown",
   "id": "346d4d29",
   "metadata": {},
   "source": [
    "## Hyper-Parameters"
   ]
  },
  {
   "cell_type": "code",
   "execution_count": 2,
   "id": "fc7a7fd5",
   "metadata": {},
   "outputs": [],
   "source": [
    "N_sim = 100\n",
    "n_steps = 100\n",
    "T = 1.0\n",
    "\n",
    "file_path = 'Data/'"
   ]
  },
  {
   "cell_type": "markdown",
   "id": "d1bb6fb6",
   "metadata": {},
   "source": [
    "## Euclidean"
   ]
  },
  {
   "cell_type": "markdown",
   "id": "8aa11e23",
   "metadata": {},
   "source": [
    "### Generate Data"
   ]
  },
  {
   "cell_type": "code",
   "execution_count": 5,
   "id": "915d1e7e",
   "metadata": {},
   "outputs": [
    {
     "name": "stdout",
     "output_type": "stream",
     "text": [
      "using M.Exp for Logarithm\n",
      "using M.Exp for Logarithm\n",
      "using M.Exp for Logarithm\n",
      "using M.Exp for Logarithm\n",
      "using M.Exp for Logarithm\n",
      "using M.Exp for Logarithm\n",
      "using M.Exp for Logarithm\n",
      "using M.Exp for Logarithm\n"
     ]
    }
   ],
   "source": [
    "dim = [2,3,5,10,20,50,100,200]\n",
    "for d in dim:\n",
    "    M = Euclidean(N=d)\n",
    "    Brownian_coords(M)\n",
    "    \n",
    "    (product, sde_product, chart_update_product) = product_sde(M, \n",
    "                                                               M.sde_Brownian_coords, \n",
    "                                                               M.chart_update_Brownian_coords)\n",
    "\n",
    "    x0 = M.coords([0.]*d)\n",
    "    x0s = tile(x0, N_sim)\n",
    "    \n",
    "    _dts = dts(T=T, n_steps=n_steps)\n",
    "    dW = dWs(N_sim*M.dim,_dts).reshape(-1,N_sim,M.dim)\n",
    "    (ts,xss,chartss,*_) = product(x0s,\n",
    "                                  _dts,dW,jnp.repeat(1.,N_sim))\n",
    "    \n",
    "    xs = xss[:,-1]\n",
    "    chart = chartss[:,-1]\n",
    "    \n",
    "    path = ''.join((file_path, 'R', str(d), '/'))\n",
    "    np.savetxt(''.join((path, 'xs.csv')), xs, delimiter=\",\")\n",
    "    np.savetxt(''.join((path, 'chart.csv')), xs, delimiter=\",\")"
   ]
  },
  {
   "cell_type": "markdown",
   "id": "2faf168f",
   "metadata": {},
   "source": [
    "## S1"
   ]
  },
  {
   "cell_type": "markdown",
   "id": "f8398592",
   "metadata": {},
   "source": [
    "### Generate Data"
   ]
  },
  {
   "cell_type": "code",
   "execution_count": 6,
   "id": "dc516e41",
   "metadata": {},
   "outputs": [
    {
     "name": "stdout",
     "output_type": "stream",
     "text": [
      "using M.Exp for Logarithm\n"
     ]
    }
   ],
   "source": [
    "M = S1(use_spherical_coords=True)\n",
    "Brownian_coords(M)\n",
    "\n",
    "x0 = M.coords([0.])\n",
    "x0s = tile(x0, N_sim)\n",
    "\n",
    "(product, sde_product, chart_update_product) = product_sde(M, \n",
    "                                                            M.sde_Brownian_coords, \n",
    "                                                            M.chart_update_Brownian_coords)\n",
    "\n",
    "_dts = dts(T=T, n_steps=n_steps)\n",
    "dW = dWs(N_sim*M.dim,_dts).reshape(-1,N_sim,M.dim)\n",
    "(ts,xss,chartss,*_) = product(x0s,\n",
    "                              _dts,dW,jnp.repeat(1.,N_sim))\n",
    "\n",
    "xs = xss[:,-1]\n",
    "chart = chartss[:,-1]\n",
    "\n",
    "path = ''.join((file_path, 'S1/'))\n",
    "np.savetxt(''.join((path, 'xs.csv')), xs, delimiter=\",\")\n",
    "np.savetxt(''.join((path, 'chart.csv')), xs, delimiter=\",\")"
   ]
  },
  {
   "cell_type": "markdown",
   "id": "87b959bd",
   "metadata": {},
   "source": [
    "## mSphere"
   ]
  },
  {
   "cell_type": "markdown",
   "id": "6ec00c49",
   "metadata": {},
   "source": [
    "### Generate Data"
   ]
  },
  {
   "cell_type": "code",
   "execution_count": 7,
   "id": "e9d80232",
   "metadata": {},
   "outputs": [
    {
     "name": "stdout",
     "output_type": "stream",
     "text": [
      "using M.Exp for Logarithm\n",
      "using M.Exp for Logarithm\n"
     ]
    },
    {
     "ename": "FileNotFoundError",
     "evalue": "[Errno 2] No such file or directory: 'Data/S3/xs.csv'",
     "output_type": "error",
     "traceback": [
      "\u001b[0;31m---------------------------------------------------------------------------\u001b[0m",
      "\u001b[0;31mFileNotFoundError\u001b[0m                         Traceback (most recent call last)",
      "\u001b[0;32m/tmp/ipykernel_25078/3169921918.py\u001b[0m in \u001b[0;36m<module>\u001b[0;34m\u001b[0m\n\u001b[1;32m     20\u001b[0m \u001b[0;34m\u001b[0m\u001b[0m\n\u001b[1;32m     21\u001b[0m     \u001b[0mpath\u001b[0m \u001b[0;34m=\u001b[0m \u001b[0;34m''\u001b[0m\u001b[0;34m.\u001b[0m\u001b[0mjoin\u001b[0m\u001b[0;34m(\u001b[0m\u001b[0;34m(\u001b[0m\u001b[0mfile_path\u001b[0m\u001b[0;34m,\u001b[0m \u001b[0;34m'S'\u001b[0m\u001b[0;34m,\u001b[0m \u001b[0mstr\u001b[0m\u001b[0;34m(\u001b[0m\u001b[0md\u001b[0m\u001b[0;34m)\u001b[0m\u001b[0;34m,\u001b[0m \u001b[0;34m'/'\u001b[0m\u001b[0;34m)\u001b[0m\u001b[0;34m)\u001b[0m\u001b[0;34m\u001b[0m\u001b[0;34m\u001b[0m\u001b[0m\n\u001b[0;32m---> 22\u001b[0;31m     \u001b[0mnp\u001b[0m\u001b[0;34m.\u001b[0m\u001b[0msavetxt\u001b[0m\u001b[0;34m(\u001b[0m\u001b[0;34m''\u001b[0m\u001b[0;34m.\u001b[0m\u001b[0mjoin\u001b[0m\u001b[0;34m(\u001b[0m\u001b[0;34m(\u001b[0m\u001b[0mpath\u001b[0m\u001b[0;34m,\u001b[0m \u001b[0;34m'xs.csv'\u001b[0m\u001b[0;34m)\u001b[0m\u001b[0;34m)\u001b[0m\u001b[0;34m,\u001b[0m \u001b[0mxs\u001b[0m\u001b[0;34m,\u001b[0m \u001b[0mdelimiter\u001b[0m\u001b[0;34m=\u001b[0m\u001b[0;34m\",\"\u001b[0m\u001b[0;34m)\u001b[0m\u001b[0;34m\u001b[0m\u001b[0;34m\u001b[0m\u001b[0m\n\u001b[0m\u001b[1;32m     23\u001b[0m     \u001b[0mnp\u001b[0m\u001b[0;34m.\u001b[0m\u001b[0msavetxt\u001b[0m\u001b[0;34m(\u001b[0m\u001b[0;34m''\u001b[0m\u001b[0;34m.\u001b[0m\u001b[0mjoin\u001b[0m\u001b[0;34m(\u001b[0m\u001b[0;34m(\u001b[0m\u001b[0mpath\u001b[0m\u001b[0;34m,\u001b[0m \u001b[0;34m'chart.csv'\u001b[0m\u001b[0;34m)\u001b[0m\u001b[0;34m)\u001b[0m\u001b[0;34m,\u001b[0m \u001b[0mxs\u001b[0m\u001b[0;34m,\u001b[0m \u001b[0mdelimiter\u001b[0m\u001b[0;34m=\u001b[0m\u001b[0;34m\",\"\u001b[0m\u001b[0;34m)\u001b[0m\u001b[0;34m\u001b[0m\u001b[0;34m\u001b[0m\u001b[0m\n",
      "\u001b[0;32m~/anaconda3/lib/python3.9/site-packages/numpy/lib/npyio.py\u001b[0m in \u001b[0;36msavetxt\u001b[0;34m(fname, X, fmt, delimiter, newline, header, footer, comments, encoding)\u001b[0m\n\u001b[1;32m   1554\u001b[0m     \u001b[0;32mif\u001b[0m \u001b[0m_is_string_like\u001b[0m\u001b[0;34m(\u001b[0m\u001b[0mfname\u001b[0m\u001b[0;34m)\u001b[0m\u001b[0;34m:\u001b[0m\u001b[0;34m\u001b[0m\u001b[0;34m\u001b[0m\u001b[0m\n\u001b[1;32m   1555\u001b[0m         \u001b[0;31m# datasource doesn't support creating a new file ...\u001b[0m\u001b[0;34m\u001b[0m\u001b[0;34m\u001b[0m\u001b[0m\n\u001b[0;32m-> 1556\u001b[0;31m         \u001b[0mopen\u001b[0m\u001b[0;34m(\u001b[0m\u001b[0mfname\u001b[0m\u001b[0;34m,\u001b[0m \u001b[0;34m'wt'\u001b[0m\u001b[0;34m)\u001b[0m\u001b[0;34m.\u001b[0m\u001b[0mclose\u001b[0m\u001b[0;34m(\u001b[0m\u001b[0;34m)\u001b[0m\u001b[0;34m\u001b[0m\u001b[0;34m\u001b[0m\u001b[0m\n\u001b[0m\u001b[1;32m   1557\u001b[0m         \u001b[0mfh\u001b[0m \u001b[0;34m=\u001b[0m \u001b[0mnp\u001b[0m\u001b[0;34m.\u001b[0m\u001b[0mlib\u001b[0m\u001b[0;34m.\u001b[0m\u001b[0m_datasource\u001b[0m\u001b[0;34m.\u001b[0m\u001b[0mopen\u001b[0m\u001b[0;34m(\u001b[0m\u001b[0mfname\u001b[0m\u001b[0;34m,\u001b[0m \u001b[0;34m'wt'\u001b[0m\u001b[0;34m,\u001b[0m \u001b[0mencoding\u001b[0m\u001b[0;34m=\u001b[0m\u001b[0mencoding\u001b[0m\u001b[0;34m)\u001b[0m\u001b[0;34m\u001b[0m\u001b[0;34m\u001b[0m\u001b[0m\n\u001b[1;32m   1558\u001b[0m         \u001b[0mown_fh\u001b[0m \u001b[0;34m=\u001b[0m \u001b[0;32mTrue\u001b[0m\u001b[0;34m\u001b[0m\u001b[0;34m\u001b[0m\u001b[0m\n",
      "\u001b[0;31mFileNotFoundError\u001b[0m: [Errno 2] No such file or directory: 'Data/S3/xs.csv'"
     ]
    }
   ],
   "source": [
    "dim = [2,3,5,10,20,50,100,200]\n",
    "for d in dim:\n",
    "    M = nSphere(N=d)\n",
    "    Brownian_coords(M)\n",
    "\n",
    "    (product, sde_product, chart_update_product) = product_sde(M, \n",
    "                                                               M.sde_Brownian_coords, \n",
    "                                                               M.chart_update_Brownian_coords)\n",
    "\n",
    "    x0 = M.coords([0.]*d)\n",
    "    x0s = tile(x0, N_sim)\n",
    "    \n",
    "    _dts = dts(T=T, n_steps=n_steps)\n",
    "    dW = dWs(N_sim*M.dim,_dts).reshape(-1,N_sim,M.dim)\n",
    "    (ts,xss,chartss,*_) = product(x0s,\n",
    "                                  _dts,dW,jnp.repeat(1.,N_sim))\n",
    "    \n",
    "    xs = xss[:,-1]\n",
    "    chart = chartss[:,-1]\n",
    "    \n",
    "    path = ''.join((file_path, 'S', str(d), '/'))\n",
    "    np.savetxt(''.join((path, 'xs.csv')), xs, delimiter=\",\")\n",
    "    np.savetxt(''.join((path, 'chart.csv')), xs, delimiter=\",\")"
   ]
  },
  {
   "cell_type": "markdown",
   "id": "63e303b5",
   "metadata": {},
   "source": [
    "## Ellipsoid"
   ]
  },
  {
   "cell_type": "markdown",
   "id": "bd6066a9",
   "metadata": {},
   "source": [
    "### Generate Data"
   ]
  },
  {
   "cell_type": "code",
   "execution_count": 8,
   "id": "b22fbabe",
   "metadata": {},
   "outputs": [
    {
     "name": "stdout",
     "output_type": "stream",
     "text": [
      "using M.Exp for Logarithm\n",
      "using M.Exp for Logarithm\n",
      "using M.Exp for Logarithm\n",
      "using M.Exp for Logarithm\n",
      "using M.Exp for Logarithm\n"
     ]
    },
    {
     "ename": "KeyboardInterrupt",
     "evalue": "",
     "output_type": "error",
     "traceback": [
      "\u001b[0;31m---------------------------------------------------------------------------\u001b[0m",
      "\u001b[0;31mKeyboardInterrupt\u001b[0m                         Traceback (most recent call last)",
      "\u001b[0;32m/tmp/ipykernel_25078/3724431872.py\u001b[0m in \u001b[0;36m<module>\u001b[0;34m\u001b[0m\n\u001b[1;32m     19\u001b[0m     \u001b[0m_dts\u001b[0m \u001b[0;34m=\u001b[0m \u001b[0mdts\u001b[0m\u001b[0;34m(\u001b[0m\u001b[0mT\u001b[0m\u001b[0;34m=\u001b[0m\u001b[0mT\u001b[0m\u001b[0;34m,\u001b[0m \u001b[0mn_steps\u001b[0m\u001b[0;34m=\u001b[0m\u001b[0mn_steps\u001b[0m\u001b[0;34m)\u001b[0m\u001b[0;34m\u001b[0m\u001b[0;34m\u001b[0m\u001b[0m\n\u001b[1;32m     20\u001b[0m     \u001b[0mdW\u001b[0m \u001b[0;34m=\u001b[0m \u001b[0mdWs\u001b[0m\u001b[0;34m(\u001b[0m\u001b[0mN_sim\u001b[0m\u001b[0;34m*\u001b[0m\u001b[0mM\u001b[0m\u001b[0;34m.\u001b[0m\u001b[0mdim\u001b[0m\u001b[0;34m,\u001b[0m\u001b[0m_dts\u001b[0m\u001b[0;34m)\u001b[0m\u001b[0;34m.\u001b[0m\u001b[0mreshape\u001b[0m\u001b[0;34m(\u001b[0m\u001b[0;34m-\u001b[0m\u001b[0;36m1\u001b[0m\u001b[0;34m,\u001b[0m\u001b[0mN_sim\u001b[0m\u001b[0;34m,\u001b[0m\u001b[0mM\u001b[0m\u001b[0;34m.\u001b[0m\u001b[0mdim\u001b[0m\u001b[0;34m)\u001b[0m\u001b[0;34m\u001b[0m\u001b[0;34m\u001b[0m\u001b[0m\n\u001b[0;32m---> 21\u001b[0;31m     (ts,xss,chartss,*_) = product(x0s,\n\u001b[0m\u001b[1;32m     22\u001b[0m                                   _dts,dW,jnp.repeat(1.,N_sim))\n\u001b[1;32m     23\u001b[0m \u001b[0;34m\u001b[0m\u001b[0m\n",
      "    \u001b[0;31m[... skipping hidden 1 frame]\u001b[0m\n",
      "\u001b[0;32m~/anaconda3/lib/python3.9/site-packages/jax/_src/pjit.py\u001b[0m in \u001b[0;36mcache_miss\u001b[0;34m(*args, **kwargs)\u001b[0m\n\u001b[1;32m    251\u001b[0m   \u001b[0;34m@\u001b[0m\u001b[0mapi_boundary\u001b[0m\u001b[0;34m\u001b[0m\u001b[0;34m\u001b[0m\u001b[0m\n\u001b[1;32m    252\u001b[0m   \u001b[0;32mdef\u001b[0m \u001b[0mcache_miss\u001b[0m\u001b[0;34m(\u001b[0m\u001b[0;34m*\u001b[0m\u001b[0margs\u001b[0m\u001b[0;34m,\u001b[0m \u001b[0;34m**\u001b[0m\u001b[0mkwargs\u001b[0m\u001b[0;34m)\u001b[0m\u001b[0;34m:\u001b[0m\u001b[0;34m\u001b[0m\u001b[0;34m\u001b[0m\u001b[0m\n\u001b[0;32m--> 253\u001b[0;31m     outs, out_flat, out_tree, args_flat, jaxpr = _python_pjit_helper(\n\u001b[0m\u001b[1;32m    254\u001b[0m         fun, infer_params_fn, *args, **kwargs)\n\u001b[1;32m    255\u001b[0m     \u001b[0mexecutable\u001b[0m \u001b[0;34m=\u001b[0m \u001b[0m_read_most_recent_pjit_call_executable\u001b[0m\u001b[0;34m(\u001b[0m\u001b[0mjaxpr\u001b[0m\u001b[0;34m)\u001b[0m\u001b[0;34m\u001b[0m\u001b[0;34m\u001b[0m\u001b[0m\n",
      "\u001b[0;32m~/anaconda3/lib/python3.9/site-packages/jax/_src/pjit.py\u001b[0m in \u001b[0;36m_python_pjit_helper\u001b[0;34m(fun, infer_params_fn, *args, **kwargs)\u001b[0m\n\u001b[1;32m    164\u001b[0m     \u001b[0mdispatch\u001b[0m\u001b[0;34m.\u001b[0m\u001b[0mcheck_arg\u001b[0m\u001b[0;34m(\u001b[0m\u001b[0marg\u001b[0m\u001b[0;34m)\u001b[0m\u001b[0;34m\u001b[0m\u001b[0;34m\u001b[0m\u001b[0m\n\u001b[1;32m    165\u001b[0m   \u001b[0;32mtry\u001b[0m\u001b[0;34m:\u001b[0m\u001b[0;34m\u001b[0m\u001b[0;34m\u001b[0m\u001b[0m\n\u001b[0;32m--> 166\u001b[0;31m     \u001b[0mout_flat\u001b[0m \u001b[0;34m=\u001b[0m \u001b[0mpjit_p\u001b[0m\u001b[0;34m.\u001b[0m\u001b[0mbind\u001b[0m\u001b[0;34m(\u001b[0m\u001b[0;34m*\u001b[0m\u001b[0margs_flat\u001b[0m\u001b[0;34m,\u001b[0m \u001b[0;34m**\u001b[0m\u001b[0mparams\u001b[0m\u001b[0;34m)\u001b[0m\u001b[0;34m\u001b[0m\u001b[0;34m\u001b[0m\u001b[0m\n\u001b[0m\u001b[1;32m    167\u001b[0m   \u001b[0;32mexcept\u001b[0m \u001b[0mpxla\u001b[0m\u001b[0;34m.\u001b[0m\u001b[0mDeviceAssignmentMismatchError\u001b[0m \u001b[0;32mas\u001b[0m \u001b[0me\u001b[0m\u001b[0;34m:\u001b[0m\u001b[0;34m\u001b[0m\u001b[0;34m\u001b[0m\u001b[0m\n\u001b[1;32m    168\u001b[0m     \u001b[0mfails\u001b[0m\u001b[0;34m,\u001b[0m \u001b[0;34m=\u001b[0m \u001b[0me\u001b[0m\u001b[0;34m.\u001b[0m\u001b[0margs\u001b[0m\u001b[0;34m\u001b[0m\u001b[0;34m\u001b[0m\u001b[0m\n",
      "\u001b[0;32m~/anaconda3/lib/python3.9/site-packages/jax/_src/core.py\u001b[0m in \u001b[0;36mbind\u001b[0;34m(self, *args, **params)\u001b[0m\n\u001b[1;32m   2594\u001b[0m     top_trace = (top_trace if not axis_main or axis_main.level < top_trace.level\n\u001b[1;32m   2595\u001b[0m                  else axis_main.with_cur_sublevel())\n\u001b[0;32m-> 2596\u001b[0;31m     \u001b[0;32mreturn\u001b[0m \u001b[0mself\u001b[0m\u001b[0;34m.\u001b[0m\u001b[0mbind_with_trace\u001b[0m\u001b[0;34m(\u001b[0m\u001b[0mtop_trace\u001b[0m\u001b[0;34m,\u001b[0m \u001b[0margs\u001b[0m\u001b[0;34m,\u001b[0m \u001b[0mparams\u001b[0m\u001b[0;34m)\u001b[0m\u001b[0;34m\u001b[0m\u001b[0;34m\u001b[0m\u001b[0m\n\u001b[0m\u001b[1;32m   2597\u001b[0m \u001b[0;34m\u001b[0m\u001b[0m\n\u001b[1;32m   2598\u001b[0m \u001b[0;34m\u001b[0m\u001b[0m\n",
      "\u001b[0;32m~/anaconda3/lib/python3.9/site-packages/jax/_src/core.py\u001b[0m in \u001b[0;36mbind_with_trace\u001b[0;34m(self, trace, args, params)\u001b[0m\n\u001b[1;32m    387\u001b[0m \u001b[0;34m\u001b[0m\u001b[0m\n\u001b[1;32m    388\u001b[0m   \u001b[0;32mdef\u001b[0m \u001b[0mbind_with_trace\u001b[0m\u001b[0;34m(\u001b[0m\u001b[0mself\u001b[0m\u001b[0;34m,\u001b[0m \u001b[0mtrace\u001b[0m\u001b[0;34m,\u001b[0m \u001b[0margs\u001b[0m\u001b[0;34m,\u001b[0m \u001b[0mparams\u001b[0m\u001b[0;34m)\u001b[0m\u001b[0;34m:\u001b[0m\u001b[0;34m\u001b[0m\u001b[0;34m\u001b[0m\u001b[0m\n\u001b[0;32m--> 389\u001b[0;31m     \u001b[0mout\u001b[0m \u001b[0;34m=\u001b[0m \u001b[0mtrace\u001b[0m\u001b[0;34m.\u001b[0m\u001b[0mprocess_primitive\u001b[0m\u001b[0;34m(\u001b[0m\u001b[0mself\u001b[0m\u001b[0;34m,\u001b[0m \u001b[0mmap\u001b[0m\u001b[0;34m(\u001b[0m\u001b[0mtrace\u001b[0m\u001b[0;34m.\u001b[0m\u001b[0mfull_raise\u001b[0m\u001b[0;34m,\u001b[0m \u001b[0margs\u001b[0m\u001b[0;34m)\u001b[0m\u001b[0;34m,\u001b[0m \u001b[0mparams\u001b[0m\u001b[0;34m)\u001b[0m\u001b[0;34m\u001b[0m\u001b[0;34m\u001b[0m\u001b[0m\n\u001b[0m\u001b[1;32m    390\u001b[0m     \u001b[0;32mreturn\u001b[0m \u001b[0mmap\u001b[0m\u001b[0;34m(\u001b[0m\u001b[0mfull_lower\u001b[0m\u001b[0;34m,\u001b[0m \u001b[0mout\u001b[0m\u001b[0;34m)\u001b[0m \u001b[0;32mif\u001b[0m \u001b[0mself\u001b[0m\u001b[0;34m.\u001b[0m\u001b[0mmultiple_results\u001b[0m \u001b[0;32melse\u001b[0m \u001b[0mfull_lower\u001b[0m\u001b[0;34m(\u001b[0m\u001b[0mout\u001b[0m\u001b[0;34m)\u001b[0m\u001b[0;34m\u001b[0m\u001b[0;34m\u001b[0m\u001b[0m\n\u001b[1;32m    391\u001b[0m \u001b[0;34m\u001b[0m\u001b[0m\n",
      "\u001b[0;32m~/anaconda3/lib/python3.9/site-packages/jax/_src/core.py\u001b[0m in \u001b[0;36mprocess_primitive\u001b[0;34m(self, primitive, tracers, params)\u001b[0m\n\u001b[1;32m    819\u001b[0m \u001b[0;34m\u001b[0m\u001b[0m\n\u001b[1;32m    820\u001b[0m   \u001b[0;32mdef\u001b[0m \u001b[0mprocess_primitive\u001b[0m\u001b[0;34m(\u001b[0m\u001b[0mself\u001b[0m\u001b[0;34m,\u001b[0m \u001b[0mprimitive\u001b[0m\u001b[0;34m,\u001b[0m \u001b[0mtracers\u001b[0m\u001b[0;34m,\u001b[0m \u001b[0mparams\u001b[0m\u001b[0;34m)\u001b[0m\u001b[0;34m:\u001b[0m\u001b[0;34m\u001b[0m\u001b[0;34m\u001b[0m\u001b[0m\n\u001b[0;32m--> 821\u001b[0;31m     \u001b[0;32mreturn\u001b[0m \u001b[0mprimitive\u001b[0m\u001b[0;34m.\u001b[0m\u001b[0mimpl\u001b[0m\u001b[0;34m(\u001b[0m\u001b[0;34m*\u001b[0m\u001b[0mtracers\u001b[0m\u001b[0;34m,\u001b[0m \u001b[0;34m**\u001b[0m\u001b[0mparams\u001b[0m\u001b[0;34m)\u001b[0m\u001b[0;34m\u001b[0m\u001b[0;34m\u001b[0m\u001b[0m\n\u001b[0m\u001b[1;32m    822\u001b[0m \u001b[0;34m\u001b[0m\u001b[0m\n\u001b[1;32m    823\u001b[0m   \u001b[0;32mdef\u001b[0m \u001b[0mprocess_call\u001b[0m\u001b[0;34m(\u001b[0m\u001b[0mself\u001b[0m\u001b[0;34m,\u001b[0m \u001b[0mprimitive\u001b[0m\u001b[0;34m,\u001b[0m \u001b[0mf\u001b[0m\u001b[0;34m,\u001b[0m \u001b[0mtracers\u001b[0m\u001b[0;34m,\u001b[0m \u001b[0mparams\u001b[0m\u001b[0;34m)\u001b[0m\u001b[0;34m:\u001b[0m\u001b[0;34m\u001b[0m\u001b[0;34m\u001b[0m\u001b[0m\n",
      "\u001b[0;32m~/anaconda3/lib/python3.9/site-packages/jax/_src/pjit.py\u001b[0m in \u001b[0;36m_pjit_call_impl\u001b[0;34m(jaxpr, in_shardings, out_shardings, resource_env, donated_invars, name, keep_unused, inline, *args)\u001b[0m\n\u001b[1;32m   1207\u001b[0m       in_shardings, out_shardings, None, None)\n\u001b[1;32m   1208\u001b[0m   \u001b[0;32mif\u001b[0m \u001b[0mxla_extension_version\u001b[0m \u001b[0;34m>=\u001b[0m \u001b[0;36m169\u001b[0m\u001b[0;34m:\u001b[0m\u001b[0;34m\u001b[0m\u001b[0;34m\u001b[0m\u001b[0m\n\u001b[0;32m-> 1209\u001b[0;31m     return xc._xla.pjit(name, f, call_impl_cache_miss, [], [], donated_argnums,\n\u001b[0m\u001b[1;32m   1210\u001b[0m                         \u001b[0mtree_util\u001b[0m\u001b[0;34m.\u001b[0m\u001b[0mdefault_registry\u001b[0m\u001b[0;34m,\u001b[0m\u001b[0;34m\u001b[0m\u001b[0;34m\u001b[0m\u001b[0m\n\u001b[1;32m   1211\u001b[0m                         _get_cpp_global_cache(has_explicit_sharding))(*args)\n",
      "\u001b[0;32m~/anaconda3/lib/python3.9/site-packages/jax/_src/pjit.py\u001b[0m in \u001b[0;36mcall_impl_cache_miss\u001b[0;34m(*args_, **kwargs_)\u001b[0m\n\u001b[1;32m   1190\u001b[0m                     donated_invars, name, keep_unused, inline):\n\u001b[1;32m   1191\u001b[0m   \u001b[0;32mdef\u001b[0m \u001b[0mcall_impl_cache_miss\u001b[0m\u001b[0;34m(\u001b[0m\u001b[0;34m*\u001b[0m\u001b[0margs_\u001b[0m\u001b[0;34m,\u001b[0m \u001b[0;34m**\u001b[0m\u001b[0mkwargs_\u001b[0m\u001b[0;34m)\u001b[0m\u001b[0;34m:\u001b[0m\u001b[0;34m\u001b[0m\u001b[0;34m\u001b[0m\u001b[0m\n\u001b[0;32m-> 1192\u001b[0;31m     out_flat, compiled = _pjit_call_impl_python(\n\u001b[0m\u001b[1;32m   1193\u001b[0m         \u001b[0;34m*\u001b[0m\u001b[0margs\u001b[0m\u001b[0;34m,\u001b[0m \u001b[0mjaxpr\u001b[0m\u001b[0;34m=\u001b[0m\u001b[0mjaxpr\u001b[0m\u001b[0;34m,\u001b[0m \u001b[0min_shardings\u001b[0m\u001b[0;34m=\u001b[0m\u001b[0min_shardings\u001b[0m\u001b[0;34m,\u001b[0m\u001b[0;34m\u001b[0m\u001b[0;34m\u001b[0m\u001b[0m\n\u001b[1;32m   1194\u001b[0m         \u001b[0mout_shardings\u001b[0m\u001b[0;34m=\u001b[0m\u001b[0mout_shardings\u001b[0m\u001b[0;34m,\u001b[0m \u001b[0mresource_env\u001b[0m\u001b[0;34m=\u001b[0m\u001b[0mresource_env\u001b[0m\u001b[0;34m,\u001b[0m\u001b[0;34m\u001b[0m\u001b[0;34m\u001b[0m\u001b[0m\n",
      "\u001b[0;32m~/anaconda3/lib/python3.9/site-packages/jax/_src/pjit.py\u001b[0m in \u001b[0;36m_pjit_call_impl_python\u001b[0;34m(jaxpr, in_shardings, out_shardings, resource_env, donated_invars, name, keep_unused, inline, *args)\u001b[0m\n\u001b[1;32m   1146\u001b[0m                           (\"fingerprint\", fingerprint))\n\u001b[1;32m   1147\u001b[0m   \u001b[0;32mtry\u001b[0m\u001b[0;34m:\u001b[0m\u001b[0;34m\u001b[0m\u001b[0;34m\u001b[0m\u001b[0m\n\u001b[0;32m-> 1148\u001b[0;31m     \u001b[0;32mreturn\u001b[0m \u001b[0mcompiled\u001b[0m\u001b[0;34m.\u001b[0m\u001b[0munsafe_call\u001b[0m\u001b[0;34m(\u001b[0m\u001b[0;34m*\u001b[0m\u001b[0margs\u001b[0m\u001b[0;34m)\u001b[0m\u001b[0;34m,\u001b[0m \u001b[0mcompiled\u001b[0m\u001b[0;34m\u001b[0m\u001b[0;34m\u001b[0m\u001b[0m\n\u001b[0m\u001b[1;32m   1149\u001b[0m   \u001b[0;32mexcept\u001b[0m \u001b[0mFloatingPointError\u001b[0m\u001b[0;34m:\u001b[0m\u001b[0;34m\u001b[0m\u001b[0;34m\u001b[0m\u001b[0m\n\u001b[1;32m   1150\u001b[0m     \u001b[0;32massert\u001b[0m \u001b[0mconfig\u001b[0m\u001b[0;34m.\u001b[0m\u001b[0mjax_debug_nans\u001b[0m \u001b[0;32mor\u001b[0m \u001b[0mconfig\u001b[0m\u001b[0;34m.\u001b[0m\u001b[0mjax_debug_infs\u001b[0m  \u001b[0;31m# compiled_fun can only raise in this case\u001b[0m\u001b[0;34m\u001b[0m\u001b[0;34m\u001b[0m\u001b[0m\n",
      "\u001b[0;32m~/anaconda3/lib/python3.9/site-packages/jax/_src/profiler.py\u001b[0m in \u001b[0;36mwrapper\u001b[0;34m(*args, **kwargs)\u001b[0m\n\u001b[1;32m    312\u001b[0m   \u001b[0;32mdef\u001b[0m \u001b[0mwrapper\u001b[0m\u001b[0;34m(\u001b[0m\u001b[0;34m*\u001b[0m\u001b[0margs\u001b[0m\u001b[0;34m,\u001b[0m \u001b[0;34m**\u001b[0m\u001b[0mkwargs\u001b[0m\u001b[0;34m)\u001b[0m\u001b[0;34m:\u001b[0m\u001b[0;34m\u001b[0m\u001b[0;34m\u001b[0m\u001b[0m\n\u001b[1;32m    313\u001b[0m     \u001b[0;32mwith\u001b[0m \u001b[0mTraceAnnotation\u001b[0m\u001b[0;34m(\u001b[0m\u001b[0mname\u001b[0m\u001b[0;34m,\u001b[0m \u001b[0;34m**\u001b[0m\u001b[0mdecorator_kwargs\u001b[0m\u001b[0;34m)\u001b[0m\u001b[0;34m:\u001b[0m\u001b[0;34m\u001b[0m\u001b[0;34m\u001b[0m\u001b[0m\n\u001b[0;32m--> 314\u001b[0;31m       \u001b[0;32mreturn\u001b[0m \u001b[0mfunc\u001b[0m\u001b[0;34m(\u001b[0m\u001b[0;34m*\u001b[0m\u001b[0margs\u001b[0m\u001b[0;34m,\u001b[0m \u001b[0;34m**\u001b[0m\u001b[0mkwargs\u001b[0m\u001b[0;34m)\u001b[0m\u001b[0;34m\u001b[0m\u001b[0;34m\u001b[0m\u001b[0m\n\u001b[0m\u001b[1;32m    315\u001b[0m     \u001b[0;32mreturn\u001b[0m \u001b[0mwrapper\u001b[0m\u001b[0;34m\u001b[0m\u001b[0;34m\u001b[0m\u001b[0m\n\u001b[1;32m    316\u001b[0m   \u001b[0;32mreturn\u001b[0m \u001b[0mwrapper\u001b[0m\u001b[0;34m\u001b[0m\u001b[0;34m\u001b[0m\u001b[0m\n",
      "\u001b[0;32m~/anaconda3/lib/python3.9/site-packages/jax/_src/interpreters/pxla.py\u001b[0m in \u001b[0;36m__call__\u001b[0;34m(self, *args)\u001b[0m\n\u001b[1;32m   1227\u001b[0m           results.consume_token())\n\u001b[1;32m   1228\u001b[0m     \u001b[0;32melse\u001b[0m\u001b[0;34m:\u001b[0m\u001b[0;34m\u001b[0m\u001b[0;34m\u001b[0m\u001b[0m\n\u001b[0;32m-> 1229\u001b[0;31m       \u001b[0mresults\u001b[0m \u001b[0;34m=\u001b[0m \u001b[0mself\u001b[0m\u001b[0;34m.\u001b[0m\u001b[0mxla_executable\u001b[0m\u001b[0;34m.\u001b[0m\u001b[0mexecute_sharded\u001b[0m\u001b[0;34m(\u001b[0m\u001b[0minput_bufs\u001b[0m\u001b[0;34m)\u001b[0m\u001b[0;34m\u001b[0m\u001b[0;34m\u001b[0m\u001b[0m\n\u001b[0m\u001b[1;32m   1230\u001b[0m     \u001b[0;32mif\u001b[0m \u001b[0mdispatch\u001b[0m\u001b[0;34m.\u001b[0m\u001b[0mneeds_check_special\u001b[0m\u001b[0;34m(\u001b[0m\u001b[0;34m)\u001b[0m\u001b[0;34m:\u001b[0m\u001b[0;34m\u001b[0m\u001b[0;34m\u001b[0m\u001b[0m\n\u001b[1;32m   1231\u001b[0m       \u001b[0mout_arrays\u001b[0m \u001b[0;34m=\u001b[0m \u001b[0mresults\u001b[0m\u001b[0;34m.\u001b[0m\u001b[0mdisassemble_into_single_device_arrays\u001b[0m\u001b[0;34m(\u001b[0m\u001b[0;34m)\u001b[0m\u001b[0;34m\u001b[0m\u001b[0;34m\u001b[0m\u001b[0m\n",
      "\u001b[0;31mKeyboardInterrupt\u001b[0m: "
     ]
    }
   ],
   "source": [
    "## mSphere\n",
    "\n",
    "### Generate Data\n",
    "\n",
    "dim = [2,3,5,10,20,50,100,200]\n",
    "for d in dim:\n",
    "    M = Ellipsoid(N=d, params = jnp.linspace(0.5,1.0,d+1))\n",
    "    Brownian_coords(M)\n",
    "\n",
    "    N_dim = M.emb_dim\n",
    "    x0 = M.coords([0.]*d)\n",
    "\n",
    "    (product, sde_product, chart_update_product) = product_sde(M, \n",
    "                                                               M.sde_Brownian_coords, \n",
    "                                                               M.chart_update_Brownian_coords)\n",
    "\n",
    "    x0s = tile(x0, N_sim)\n",
    "    \n",
    "    _dts = dts(T=T, n_steps=n_steps)\n",
    "    dW = dWs(N_sim*M.dim,_dts).reshape(-1,N_sim,M.dim)\n",
    "    (ts,xss,chartss,*_) = product(x0s,\n",
    "                                  _dts,dW,jnp.repeat(1.,N_sim))\n",
    "    \n",
    "    xs = xss[:,-1]\n",
    "    chart = chartss[:,-1]\n",
    "    \n",
    "    path = ''.join((file_path, 'Ellipsoid', str(d), '/'))\n",
    "    np.savetxt(''.join((path, 'xs.csv')), xs, delimiter=\",\")\n",
    "    np.savetxt(''.join((path, 'chart.csv')), xs, delimiter=\",\")"
   ]
  },
  {
   "cell_type": "markdown",
   "id": "29787084",
   "metadata": {},
   "source": [
    "## Cylinder"
   ]
  },
  {
   "cell_type": "markdown",
   "id": "6d33e2fc",
   "metadata": {},
   "source": [
    "### Generate Data"
   ]
  },
  {
   "cell_type": "code",
   "execution_count": 2,
   "id": "7b5d5759",
   "metadata": {},
   "outputs": [
    {
     "name": "stdout",
     "output_type": "stream",
     "text": [
      "using M.Exp for Logarithm\n"
     ]
    }
   ],
   "source": [
    "## mSphere\n",
    "\n",
    "### Generate Data\n",
    "\n",
    "M = Cylinder(params=(1.,jnp.array([0.,0.,1.]),jnp.pi/2.))\n",
    "Brownian_coords(M)\n",
    "\n",
    "x0 = M.coords([0.]*2)\n",
    "\n",
    "(product, sde_product, chart_update_product) = product_sde(M, \n",
    "                                                           M.sde_Brownian_coords, \n",
    "                                                           M.chart_update_Brownian_coords)\n",
    "\n",
    "x0s = tile(x0, N_sim)\n",
    "\n",
    "_dts = dts(T=T, n_steps=n_steps)\n",
    "dW = dWs(N_sim*M.dim,_dts).reshape(-1,N_sim,M.dim)\n",
    "(ts,xss,chartss,*_) = product(x0s,\n",
    "                              _dts,dW,jnp.repeat(1.,N_sim))\n",
    "\n",
    "xs = xss[:,-1]\n",
    "chart = chartss[:,-1]\n",
    "\n",
    "path = ''.join((file_path, 'Cylinder/'))\n",
    "np.savetxt(''.join((path, 'xs.csv')), xs, delimiter=\",\")\n",
    "np.savetxt(''.join((path, 'chart.csv')), xs, delimiter=\",\")"
   ]
  },
  {
   "cell_type": "markdown",
   "id": "f0372676",
   "metadata": {},
   "source": [
    "## Torus"
   ]
  },
  {
   "cell_type": "markdown",
   "id": "010f71f2",
   "metadata": {},
   "source": [
    "### Generate Data"
   ]
  },
  {
   "cell_type": "code",
   "execution_count": 3,
   "id": "05cd837d",
   "metadata": {},
   "outputs": [
    {
     "name": "stdout",
     "output_type": "stream",
     "text": [
      "using M.Exp for Logarithm\n"
     ]
    }
   ],
   "source": [
    "## mSphere\n",
    "\n",
    "### Generate Data\n",
    "\n",
    "M = Torus()\n",
    "Brownian_coords(M)\n",
    "\n",
    "x0 = M.coords([0.]*2)\n",
    "\n",
    "(product, sde_product, chart_update_product) = product_sde(M, \n",
    "                                                           M.sde_Brownian_coords, \n",
    "                                                           M.chart_update_Brownian_coords)\n",
    "\n",
    "x0s = tile(x0, N_sim)\n",
    "\n",
    "_dts = dts(T=T, n_steps=n_steps)\n",
    "dW = dWs(N_sim*M.dim,_dts).reshape(-1,N_sim,M.dim)\n",
    "(ts,xss,chartss,*_) = product(x0s,\n",
    "                              _dts,dW,jnp.repeat(1.,N_sim))\n",
    "\n",
    "xs = xss[:,-1]\n",
    "chart = chartss[:,-1]\n",
    "\n",
    "path = ''.join((file_path, 'Torus/'))\n",
    "np.savetxt(''.join((path, 'xs.csv')), xs, delimiter=\",\")\n",
    "np.savetxt(''.join((path, 'chart.csv')), xs, delimiter=\",\")"
   ]
  },
  {
   "cell_type": "markdown",
   "id": "2e984574",
   "metadata": {},
   "source": [
    "## Landmarks"
   ]
  },
  {
   "cell_type": "markdown",
   "id": "c46cd7b5",
   "metadata": {},
   "source": [
    "### Generate Data"
   ]
  },
  {
   "cell_type": "code",
   "execution_count": 9,
   "id": "4ed7bec8",
   "metadata": {},
   "outputs": [
    {
     "name": "stdout",
     "output_type": "stream",
     "text": [
      "using M.Exp for Logarithm\n",
      "using M.Exp for Logarithm\n",
      "using M.Exp for Logarithm\n"
     ]
    },
    {
     "ename": "KeyboardInterrupt",
     "evalue": "",
     "output_type": "error",
     "traceback": [
      "\u001b[0;31m---------------------------------------------------------------------------\u001b[0m",
      "\u001b[0;31mKeyboardInterrupt\u001b[0m                         Traceback (most recent call last)",
      "\u001b[0;32m/tmp/ipykernel_25078/2216790580.py\u001b[0m in \u001b[0;36m<module>\u001b[0;34m\u001b[0m\n\u001b[1;32m     19\u001b[0m     \u001b[0m_dts\u001b[0m \u001b[0;34m=\u001b[0m \u001b[0mdts\u001b[0m\u001b[0;34m(\u001b[0m\u001b[0mT\u001b[0m\u001b[0;34m=\u001b[0m\u001b[0mT\u001b[0m\u001b[0;34m,\u001b[0m \u001b[0mn_steps\u001b[0m\u001b[0;34m=\u001b[0m\u001b[0mn_steps\u001b[0m\u001b[0;34m)\u001b[0m\u001b[0;34m\u001b[0m\u001b[0;34m\u001b[0m\u001b[0m\n\u001b[1;32m     20\u001b[0m     \u001b[0mdW\u001b[0m \u001b[0;34m=\u001b[0m \u001b[0mdWs\u001b[0m\u001b[0;34m(\u001b[0m\u001b[0mN_sim\u001b[0m\u001b[0;34m*\u001b[0m\u001b[0mM\u001b[0m\u001b[0;34m.\u001b[0m\u001b[0mdim\u001b[0m\u001b[0;34m,\u001b[0m\u001b[0m_dts\u001b[0m\u001b[0;34m)\u001b[0m\u001b[0;34m.\u001b[0m\u001b[0mreshape\u001b[0m\u001b[0;34m(\u001b[0m\u001b[0;34m-\u001b[0m\u001b[0;36m1\u001b[0m\u001b[0;34m,\u001b[0m\u001b[0mN_sim\u001b[0m\u001b[0;34m,\u001b[0m\u001b[0mM\u001b[0m\u001b[0;34m.\u001b[0m\u001b[0mdim\u001b[0m\u001b[0;34m)\u001b[0m\u001b[0;34m\u001b[0m\u001b[0;34m\u001b[0m\u001b[0m\n\u001b[0;32m---> 21\u001b[0;31m     (ts,xss,chartss,*_) = product(x0s,\n\u001b[0m\u001b[1;32m     22\u001b[0m                                   _dts,dW,jnp.repeat(1.,N_sim))\n\u001b[1;32m     23\u001b[0m \u001b[0;34m\u001b[0m\u001b[0m\n",
      "    \u001b[0;31m[... skipping hidden 1 frame]\u001b[0m\n",
      "\u001b[0;32m~/anaconda3/lib/python3.9/site-packages/jax/_src/pjit.py\u001b[0m in \u001b[0;36mcache_miss\u001b[0;34m(*args, **kwargs)\u001b[0m\n\u001b[1;32m    251\u001b[0m   \u001b[0;34m@\u001b[0m\u001b[0mapi_boundary\u001b[0m\u001b[0;34m\u001b[0m\u001b[0;34m\u001b[0m\u001b[0m\n\u001b[1;32m    252\u001b[0m   \u001b[0;32mdef\u001b[0m \u001b[0mcache_miss\u001b[0m\u001b[0;34m(\u001b[0m\u001b[0;34m*\u001b[0m\u001b[0margs\u001b[0m\u001b[0;34m,\u001b[0m \u001b[0;34m**\u001b[0m\u001b[0mkwargs\u001b[0m\u001b[0;34m)\u001b[0m\u001b[0;34m:\u001b[0m\u001b[0;34m\u001b[0m\u001b[0;34m\u001b[0m\u001b[0m\n\u001b[0;32m--> 253\u001b[0;31m     outs, out_flat, out_tree, args_flat, jaxpr = _python_pjit_helper(\n\u001b[0m\u001b[1;32m    254\u001b[0m         fun, infer_params_fn, *args, **kwargs)\n\u001b[1;32m    255\u001b[0m     \u001b[0mexecutable\u001b[0m \u001b[0;34m=\u001b[0m \u001b[0m_read_most_recent_pjit_call_executable\u001b[0m\u001b[0;34m(\u001b[0m\u001b[0mjaxpr\u001b[0m\u001b[0;34m)\u001b[0m\u001b[0;34m\u001b[0m\u001b[0;34m\u001b[0m\u001b[0m\n",
      "\u001b[0;32m~/anaconda3/lib/python3.9/site-packages/jax/_src/pjit.py\u001b[0m in \u001b[0;36m_python_pjit_helper\u001b[0;34m(fun, infer_params_fn, *args, **kwargs)\u001b[0m\n\u001b[1;32m    164\u001b[0m     \u001b[0mdispatch\u001b[0m\u001b[0;34m.\u001b[0m\u001b[0mcheck_arg\u001b[0m\u001b[0;34m(\u001b[0m\u001b[0marg\u001b[0m\u001b[0;34m)\u001b[0m\u001b[0;34m\u001b[0m\u001b[0;34m\u001b[0m\u001b[0m\n\u001b[1;32m    165\u001b[0m   \u001b[0;32mtry\u001b[0m\u001b[0;34m:\u001b[0m\u001b[0;34m\u001b[0m\u001b[0;34m\u001b[0m\u001b[0m\n\u001b[0;32m--> 166\u001b[0;31m     \u001b[0mout_flat\u001b[0m \u001b[0;34m=\u001b[0m \u001b[0mpjit_p\u001b[0m\u001b[0;34m.\u001b[0m\u001b[0mbind\u001b[0m\u001b[0;34m(\u001b[0m\u001b[0;34m*\u001b[0m\u001b[0margs_flat\u001b[0m\u001b[0;34m,\u001b[0m \u001b[0;34m**\u001b[0m\u001b[0mparams\u001b[0m\u001b[0;34m)\u001b[0m\u001b[0;34m\u001b[0m\u001b[0;34m\u001b[0m\u001b[0m\n\u001b[0m\u001b[1;32m    167\u001b[0m   \u001b[0;32mexcept\u001b[0m \u001b[0mpxla\u001b[0m\u001b[0;34m.\u001b[0m\u001b[0mDeviceAssignmentMismatchError\u001b[0m \u001b[0;32mas\u001b[0m \u001b[0me\u001b[0m\u001b[0;34m:\u001b[0m\u001b[0;34m\u001b[0m\u001b[0;34m\u001b[0m\u001b[0m\n\u001b[1;32m    168\u001b[0m     \u001b[0mfails\u001b[0m\u001b[0;34m,\u001b[0m \u001b[0;34m=\u001b[0m \u001b[0me\u001b[0m\u001b[0;34m.\u001b[0m\u001b[0margs\u001b[0m\u001b[0;34m\u001b[0m\u001b[0;34m\u001b[0m\u001b[0m\n",
      "\u001b[0;32m~/anaconda3/lib/python3.9/site-packages/jax/_src/core.py\u001b[0m in \u001b[0;36mbind\u001b[0;34m(self, *args, **params)\u001b[0m\n\u001b[1;32m   2594\u001b[0m     top_trace = (top_trace if not axis_main or axis_main.level < top_trace.level\n\u001b[1;32m   2595\u001b[0m                  else axis_main.with_cur_sublevel())\n\u001b[0;32m-> 2596\u001b[0;31m     \u001b[0;32mreturn\u001b[0m \u001b[0mself\u001b[0m\u001b[0;34m.\u001b[0m\u001b[0mbind_with_trace\u001b[0m\u001b[0;34m(\u001b[0m\u001b[0mtop_trace\u001b[0m\u001b[0;34m,\u001b[0m \u001b[0margs\u001b[0m\u001b[0;34m,\u001b[0m \u001b[0mparams\u001b[0m\u001b[0;34m)\u001b[0m\u001b[0;34m\u001b[0m\u001b[0;34m\u001b[0m\u001b[0m\n\u001b[0m\u001b[1;32m   2597\u001b[0m \u001b[0;34m\u001b[0m\u001b[0m\n\u001b[1;32m   2598\u001b[0m \u001b[0;34m\u001b[0m\u001b[0m\n",
      "\u001b[0;32m~/anaconda3/lib/python3.9/site-packages/jax/_src/core.py\u001b[0m in \u001b[0;36mbind_with_trace\u001b[0;34m(self, trace, args, params)\u001b[0m\n\u001b[1;32m    387\u001b[0m \u001b[0;34m\u001b[0m\u001b[0m\n\u001b[1;32m    388\u001b[0m   \u001b[0;32mdef\u001b[0m \u001b[0mbind_with_trace\u001b[0m\u001b[0;34m(\u001b[0m\u001b[0mself\u001b[0m\u001b[0;34m,\u001b[0m \u001b[0mtrace\u001b[0m\u001b[0;34m,\u001b[0m \u001b[0margs\u001b[0m\u001b[0;34m,\u001b[0m \u001b[0mparams\u001b[0m\u001b[0;34m)\u001b[0m\u001b[0;34m:\u001b[0m\u001b[0;34m\u001b[0m\u001b[0;34m\u001b[0m\u001b[0m\n\u001b[0;32m--> 389\u001b[0;31m     \u001b[0mout\u001b[0m \u001b[0;34m=\u001b[0m \u001b[0mtrace\u001b[0m\u001b[0;34m.\u001b[0m\u001b[0mprocess_primitive\u001b[0m\u001b[0;34m(\u001b[0m\u001b[0mself\u001b[0m\u001b[0;34m,\u001b[0m \u001b[0mmap\u001b[0m\u001b[0;34m(\u001b[0m\u001b[0mtrace\u001b[0m\u001b[0;34m.\u001b[0m\u001b[0mfull_raise\u001b[0m\u001b[0;34m,\u001b[0m \u001b[0margs\u001b[0m\u001b[0;34m)\u001b[0m\u001b[0;34m,\u001b[0m \u001b[0mparams\u001b[0m\u001b[0;34m)\u001b[0m\u001b[0;34m\u001b[0m\u001b[0;34m\u001b[0m\u001b[0m\n\u001b[0m\u001b[1;32m    390\u001b[0m     \u001b[0;32mreturn\u001b[0m \u001b[0mmap\u001b[0m\u001b[0;34m(\u001b[0m\u001b[0mfull_lower\u001b[0m\u001b[0;34m,\u001b[0m \u001b[0mout\u001b[0m\u001b[0;34m)\u001b[0m \u001b[0;32mif\u001b[0m \u001b[0mself\u001b[0m\u001b[0;34m.\u001b[0m\u001b[0mmultiple_results\u001b[0m \u001b[0;32melse\u001b[0m \u001b[0mfull_lower\u001b[0m\u001b[0;34m(\u001b[0m\u001b[0mout\u001b[0m\u001b[0;34m)\u001b[0m\u001b[0;34m\u001b[0m\u001b[0;34m\u001b[0m\u001b[0m\n\u001b[1;32m    391\u001b[0m \u001b[0;34m\u001b[0m\u001b[0m\n",
      "\u001b[0;32m~/anaconda3/lib/python3.9/site-packages/jax/_src/core.py\u001b[0m in \u001b[0;36mprocess_primitive\u001b[0;34m(self, primitive, tracers, params)\u001b[0m\n\u001b[1;32m    819\u001b[0m \u001b[0;34m\u001b[0m\u001b[0m\n\u001b[1;32m    820\u001b[0m   \u001b[0;32mdef\u001b[0m \u001b[0mprocess_primitive\u001b[0m\u001b[0;34m(\u001b[0m\u001b[0mself\u001b[0m\u001b[0;34m,\u001b[0m \u001b[0mprimitive\u001b[0m\u001b[0;34m,\u001b[0m \u001b[0mtracers\u001b[0m\u001b[0;34m,\u001b[0m \u001b[0mparams\u001b[0m\u001b[0;34m)\u001b[0m\u001b[0;34m:\u001b[0m\u001b[0;34m\u001b[0m\u001b[0;34m\u001b[0m\u001b[0m\n\u001b[0;32m--> 821\u001b[0;31m     \u001b[0;32mreturn\u001b[0m \u001b[0mprimitive\u001b[0m\u001b[0;34m.\u001b[0m\u001b[0mimpl\u001b[0m\u001b[0;34m(\u001b[0m\u001b[0;34m*\u001b[0m\u001b[0mtracers\u001b[0m\u001b[0;34m,\u001b[0m \u001b[0;34m**\u001b[0m\u001b[0mparams\u001b[0m\u001b[0;34m)\u001b[0m\u001b[0;34m\u001b[0m\u001b[0;34m\u001b[0m\u001b[0m\n\u001b[0m\u001b[1;32m    822\u001b[0m \u001b[0;34m\u001b[0m\u001b[0m\n\u001b[1;32m    823\u001b[0m   \u001b[0;32mdef\u001b[0m \u001b[0mprocess_call\u001b[0m\u001b[0;34m(\u001b[0m\u001b[0mself\u001b[0m\u001b[0;34m,\u001b[0m \u001b[0mprimitive\u001b[0m\u001b[0;34m,\u001b[0m \u001b[0mf\u001b[0m\u001b[0;34m,\u001b[0m \u001b[0mtracers\u001b[0m\u001b[0;34m,\u001b[0m \u001b[0mparams\u001b[0m\u001b[0;34m)\u001b[0m\u001b[0;34m:\u001b[0m\u001b[0;34m\u001b[0m\u001b[0;34m\u001b[0m\u001b[0m\n",
      "\u001b[0;32m~/anaconda3/lib/python3.9/site-packages/jax/_src/pjit.py\u001b[0m in \u001b[0;36m_pjit_call_impl\u001b[0;34m(jaxpr, in_shardings, out_shardings, resource_env, donated_invars, name, keep_unused, inline, *args)\u001b[0m\n\u001b[1;32m   1207\u001b[0m       in_shardings, out_shardings, None, None)\n\u001b[1;32m   1208\u001b[0m   \u001b[0;32mif\u001b[0m \u001b[0mxla_extension_version\u001b[0m \u001b[0;34m>=\u001b[0m \u001b[0;36m169\u001b[0m\u001b[0;34m:\u001b[0m\u001b[0;34m\u001b[0m\u001b[0;34m\u001b[0m\u001b[0m\n\u001b[0;32m-> 1209\u001b[0;31m     return xc._xla.pjit(name, f, call_impl_cache_miss, [], [], donated_argnums,\n\u001b[0m\u001b[1;32m   1210\u001b[0m                         \u001b[0mtree_util\u001b[0m\u001b[0;34m.\u001b[0m\u001b[0mdefault_registry\u001b[0m\u001b[0;34m,\u001b[0m\u001b[0;34m\u001b[0m\u001b[0;34m\u001b[0m\u001b[0m\n\u001b[1;32m   1211\u001b[0m                         _get_cpp_global_cache(has_explicit_sharding))(*args)\n",
      "\u001b[0;32m~/anaconda3/lib/python3.9/site-packages/jax/_src/pjit.py\u001b[0m in \u001b[0;36mcall_impl_cache_miss\u001b[0;34m(*args_, **kwargs_)\u001b[0m\n\u001b[1;32m   1190\u001b[0m                     donated_invars, name, keep_unused, inline):\n\u001b[1;32m   1191\u001b[0m   \u001b[0;32mdef\u001b[0m \u001b[0mcall_impl_cache_miss\u001b[0m\u001b[0;34m(\u001b[0m\u001b[0;34m*\u001b[0m\u001b[0margs_\u001b[0m\u001b[0;34m,\u001b[0m \u001b[0;34m**\u001b[0m\u001b[0mkwargs_\u001b[0m\u001b[0;34m)\u001b[0m\u001b[0;34m:\u001b[0m\u001b[0;34m\u001b[0m\u001b[0;34m\u001b[0m\u001b[0m\n\u001b[0;32m-> 1192\u001b[0;31m     out_flat, compiled = _pjit_call_impl_python(\n\u001b[0m\u001b[1;32m   1193\u001b[0m         \u001b[0;34m*\u001b[0m\u001b[0margs\u001b[0m\u001b[0;34m,\u001b[0m \u001b[0mjaxpr\u001b[0m\u001b[0;34m=\u001b[0m\u001b[0mjaxpr\u001b[0m\u001b[0;34m,\u001b[0m \u001b[0min_shardings\u001b[0m\u001b[0;34m=\u001b[0m\u001b[0min_shardings\u001b[0m\u001b[0;34m,\u001b[0m\u001b[0;34m\u001b[0m\u001b[0;34m\u001b[0m\u001b[0m\n\u001b[1;32m   1194\u001b[0m         \u001b[0mout_shardings\u001b[0m\u001b[0;34m=\u001b[0m\u001b[0mout_shardings\u001b[0m\u001b[0;34m,\u001b[0m \u001b[0mresource_env\u001b[0m\u001b[0;34m=\u001b[0m\u001b[0mresource_env\u001b[0m\u001b[0;34m,\u001b[0m\u001b[0;34m\u001b[0m\u001b[0;34m\u001b[0m\u001b[0m\n",
      "\u001b[0;32m~/anaconda3/lib/python3.9/site-packages/jax/_src/pjit.py\u001b[0m in \u001b[0;36m_pjit_call_impl_python\u001b[0;34m(jaxpr, in_shardings, out_shardings, resource_env, donated_invars, name, keep_unused, inline, *args)\u001b[0m\n\u001b[1;32m   1123\u001b[0m       resource_env.physical_mesh if resource_env is not None else None)\n\u001b[1;32m   1124\u001b[0m \u001b[0;34m\u001b[0m\u001b[0m\n\u001b[0;32m-> 1125\u001b[0;31m   compiled = _pjit_lower(\n\u001b[0m\u001b[1;32m   1126\u001b[0m       \u001b[0mjaxpr\u001b[0m\u001b[0;34m,\u001b[0m \u001b[0min_shardings\u001b[0m\u001b[0;34m,\u001b[0m \u001b[0mout_shardings\u001b[0m\u001b[0;34m,\u001b[0m \u001b[0mresource_env\u001b[0m\u001b[0;34m,\u001b[0m\u001b[0;34m\u001b[0m\u001b[0;34m\u001b[0m\u001b[0m\n\u001b[1;32m   1127\u001b[0m       \u001b[0mdonated_invars\u001b[0m\u001b[0;34m,\u001b[0m \u001b[0mname\u001b[0m\u001b[0;34m,\u001b[0m \u001b[0mkeep_unused\u001b[0m\u001b[0;34m,\u001b[0m \u001b[0minline\u001b[0m\u001b[0;34m,\u001b[0m\u001b[0;34m\u001b[0m\u001b[0;34m\u001b[0m\u001b[0m\n",
      "\u001b[0;32m~/anaconda3/lib/python3.9/site-packages/jax/_src/interpreters/pxla.py\u001b[0m in \u001b[0;36mcompile\u001b[0;34m(self, compiler_options)\u001b[0m\n\u001b[1;32m   2204\u001b[0m             **self.compile_args)\n\u001b[1;32m   2205\u001b[0m       \u001b[0;32melse\u001b[0m\u001b[0;34m:\u001b[0m\u001b[0;34m\u001b[0m\u001b[0;34m\u001b[0m\u001b[0m\n\u001b[0;32m-> 2206\u001b[0;31m         executable = UnloadedMeshExecutable.from_hlo(\n\u001b[0m\u001b[1;32m   2207\u001b[0m             \u001b[0mself\u001b[0m\u001b[0;34m.\u001b[0m\u001b[0m_name\u001b[0m\u001b[0;34m,\u001b[0m\u001b[0;34m\u001b[0m\u001b[0;34m\u001b[0m\u001b[0m\n\u001b[1;32m   2208\u001b[0m             \u001b[0mself\u001b[0m\u001b[0;34m.\u001b[0m\u001b[0m_hlo\u001b[0m\u001b[0;34m,\u001b[0m\u001b[0;34m\u001b[0m\u001b[0;34m\u001b[0m\u001b[0m\n",
      "\u001b[0;32m~/anaconda3/lib/python3.9/site-packages/jax/_src/interpreters/pxla.py\u001b[0m in \u001b[0;36mfrom_hlo\u001b[0;34m(***failed resolving arguments***)\u001b[0m\n\u001b[1;32m   2542\u001b[0m           \u001b[0;32mbreak\u001b[0m\u001b[0;34m\u001b[0m\u001b[0;34m\u001b[0m\u001b[0m\n\u001b[1;32m   2543\u001b[0m \u001b[0;34m\u001b[0m\u001b[0m\n\u001b[0;32m-> 2544\u001b[0;31m     xla_executable, compile_options = _cached_compilation(\n\u001b[0m\u001b[1;32m   2545\u001b[0m         \u001b[0mhlo\u001b[0m\u001b[0;34m,\u001b[0m \u001b[0mname\u001b[0m\u001b[0;34m,\u001b[0m \u001b[0mmesh\u001b[0m\u001b[0;34m,\u001b[0m \u001b[0mspmd_lowering\u001b[0m\u001b[0;34m,\u001b[0m\u001b[0;34m\u001b[0m\u001b[0;34m\u001b[0m\u001b[0m\n\u001b[1;32m   2546\u001b[0m         \u001b[0mtuple_args\u001b[0m\u001b[0;34m,\u001b[0m \u001b[0mauto_spmd_lowering\u001b[0m\u001b[0;34m,\u001b[0m \u001b[0mallow_prop_to_outputs\u001b[0m\u001b[0;34m,\u001b[0m\u001b[0;34m\u001b[0m\u001b[0;34m\u001b[0m\u001b[0m\n",
      "\u001b[0;32m~/anaconda3/lib/python3.9/site-packages/jax/_src/interpreters/pxla.py\u001b[0m in \u001b[0;36m_cached_compilation\u001b[0;34m(computation, name, mesh, spmd_lowering, tuple_args, auto_spmd_lowering, _allow_propagation_to_outputs, host_callbacks, backend, da, pmap_nreps, compiler_options_keys, compiler_options_values)\u001b[0m\n\u001b[1;32m   2452\u001b[0m       \u001b[0;34m\"Finished XLA compilation of {fun_name} in {elapsed_time} sec\"\u001b[0m\u001b[0;34m,\u001b[0m\u001b[0;34m\u001b[0m\u001b[0;34m\u001b[0m\u001b[0m\n\u001b[1;32m   2453\u001b[0m       fun_name=name, event=dispatch.BACKEND_COMPILE_EVENT):\n\u001b[0;32m-> 2454\u001b[0;31m     xla_executable = dispatch.compile_or_get_cached(\n\u001b[0m\u001b[1;32m   2455\u001b[0m         backend, computation, dev, compile_options, host_callbacks)\n\u001b[1;32m   2456\u001b[0m   \u001b[0;32mreturn\u001b[0m \u001b[0mxla_executable\u001b[0m\u001b[0;34m,\u001b[0m \u001b[0mcompile_options\u001b[0m\u001b[0;34m\u001b[0m\u001b[0;34m\u001b[0m\u001b[0m\n",
      "\u001b[0;32m~/anaconda3/lib/python3.9/site-packages/jax/_src/dispatch.py\u001b[0m in \u001b[0;36mcompile_or_get_cached\u001b[0;34m(backend, computation, devices, compile_options, host_callbacks)\u001b[0m\n\u001b[1;32m    494\u001b[0m \u001b[0;34m\u001b[0m\u001b[0m\n\u001b[1;32m    495\u001b[0m   \u001b[0;32mif\u001b[0m \u001b[0;32mnot\u001b[0m \u001b[0muse_compilation_cache\u001b[0m\u001b[0;34m:\u001b[0m\u001b[0;34m\u001b[0m\u001b[0;34m\u001b[0m\u001b[0m\n\u001b[0;32m--> 496\u001b[0;31m     return backend_compile(backend, computation, compile_options,\n\u001b[0m\u001b[1;32m    497\u001b[0m                            host_callbacks)\n\u001b[1;32m    498\u001b[0m \u001b[0;34m\u001b[0m\u001b[0m\n",
      "\u001b[0;32m~/anaconda3/lib/python3.9/site-packages/jax/_src/profiler.py\u001b[0m in \u001b[0;36mwrapper\u001b[0;34m(*args, **kwargs)\u001b[0m\n\u001b[1;32m    312\u001b[0m   \u001b[0;32mdef\u001b[0m \u001b[0mwrapper\u001b[0m\u001b[0;34m(\u001b[0m\u001b[0;34m*\u001b[0m\u001b[0margs\u001b[0m\u001b[0;34m,\u001b[0m \u001b[0;34m**\u001b[0m\u001b[0mkwargs\u001b[0m\u001b[0;34m)\u001b[0m\u001b[0;34m:\u001b[0m\u001b[0;34m\u001b[0m\u001b[0;34m\u001b[0m\u001b[0m\n\u001b[1;32m    313\u001b[0m     \u001b[0;32mwith\u001b[0m \u001b[0mTraceAnnotation\u001b[0m\u001b[0;34m(\u001b[0m\u001b[0mname\u001b[0m\u001b[0;34m,\u001b[0m \u001b[0;34m**\u001b[0m\u001b[0mdecorator_kwargs\u001b[0m\u001b[0;34m)\u001b[0m\u001b[0;34m:\u001b[0m\u001b[0;34m\u001b[0m\u001b[0;34m\u001b[0m\u001b[0m\n\u001b[0;32m--> 314\u001b[0;31m       \u001b[0;32mreturn\u001b[0m \u001b[0mfunc\u001b[0m\u001b[0;34m(\u001b[0m\u001b[0;34m*\u001b[0m\u001b[0margs\u001b[0m\u001b[0;34m,\u001b[0m \u001b[0;34m**\u001b[0m\u001b[0mkwargs\u001b[0m\u001b[0;34m)\u001b[0m\u001b[0;34m\u001b[0m\u001b[0;34m\u001b[0m\u001b[0m\n\u001b[0m\u001b[1;32m    315\u001b[0m     \u001b[0;32mreturn\u001b[0m \u001b[0mwrapper\u001b[0m\u001b[0;34m\u001b[0m\u001b[0;34m\u001b[0m\u001b[0m\n\u001b[1;32m    316\u001b[0m   \u001b[0;32mreturn\u001b[0m \u001b[0mwrapper\u001b[0m\u001b[0;34m\u001b[0m\u001b[0;34m\u001b[0m\u001b[0m\n",
      "\u001b[0;32m~/anaconda3/lib/python3.9/site-packages/jax/_src/dispatch.py\u001b[0m in \u001b[0;36mbackend_compile\u001b[0;34m(backend, module, options, host_callbacks)\u001b[0m\n\u001b[1;32m    462\u001b[0m   \u001b[0;31m# TODO(sharadmv): remove this fallback when all backends allow `compile`\u001b[0m\u001b[0;34m\u001b[0m\u001b[0;34m\u001b[0m\u001b[0m\n\u001b[1;32m    463\u001b[0m   \u001b[0;31m# to take in `host_callbacks`\u001b[0m\u001b[0;34m\u001b[0m\u001b[0;34m\u001b[0m\u001b[0m\n\u001b[0;32m--> 464\u001b[0;31m   \u001b[0;32mreturn\u001b[0m \u001b[0mbackend\u001b[0m\u001b[0;34m.\u001b[0m\u001b[0mcompile\u001b[0m\u001b[0;34m(\u001b[0m\u001b[0mbuilt_c\u001b[0m\u001b[0;34m,\u001b[0m \u001b[0mcompile_options\u001b[0m\u001b[0;34m=\u001b[0m\u001b[0moptions\u001b[0m\u001b[0;34m)\u001b[0m\u001b[0;34m\u001b[0m\u001b[0;34m\u001b[0m\u001b[0m\n\u001b[0m\u001b[1;32m    465\u001b[0m \u001b[0;34m\u001b[0m\u001b[0m\n\u001b[1;32m    466\u001b[0m \u001b[0m_ir_dump_counter\u001b[0m \u001b[0;34m=\u001b[0m \u001b[0mitertools\u001b[0m\u001b[0;34m.\u001b[0m\u001b[0mcount\u001b[0m\u001b[0;34m(\u001b[0m\u001b[0;34m)\u001b[0m\u001b[0;34m\u001b[0m\u001b[0;34m\u001b[0m\u001b[0m\n",
      "\u001b[0;31mKeyboardInterrupt\u001b[0m: "
     ]
    }
   ],
   "source": [
    "## mSphere\n",
    "\n",
    "### Generate Data\n",
    "\n",
    "dim = [2,5,10,66,77]\n",
    "for d in dim:\n",
    "    M = Landmarks(N=d,m=2)\n",
    "    Brownian_coords(M)\n",
    "\n",
    "    N_dim = M.dim\n",
    "    x0 = M.coords(jnp.vstack((jnp.linspace(-5.0,5.0,M.N),jnp.zeros(M.N))).T.flatten())\n",
    "\n",
    "    (product, sde_product, chart_update_product) = product_sde(M, \n",
    "                                                               M.sde_Brownian_coords, \n",
    "                                                               M.chart_update_Brownian_coords)\n",
    "\n",
    "    x0s = tile(x0, N_sim)\n",
    "    \n",
    "    _dts = dts(T=T, n_steps=n_steps)\n",
    "    dW = dWs(N_sim*M.dim,_dts).reshape(-1,N_sim,M.dim)\n",
    "    (ts,xss,chartss,*_) = product(x0s,\n",
    "                                  _dts,dW,jnp.repeat(1.,N_sim))\n",
    "    \n",
    "    xs = xss[:,-1]\n",
    "    chart = chartss[:,-1]\n",
    "    \n",
    "    path = ''.join((file_path, 'Landmarks', str(d), '/'))\n",
    "    np.savetxt(''.join((path, 'xs.csv')), xs, delimiter=\",\")\n",
    "    np.savetxt(''.join((path, 'chart.csv')), xs, delimiter=\",\")"
   ]
  },
  {
   "cell_type": "markdown",
   "id": "3e9562fe",
   "metadata": {},
   "source": [
    "## SPDN"
   ]
  },
  {
   "cell_type": "markdown",
   "id": "435b3349",
   "metadata": {},
   "source": [
    "### Generate Data"
   ]
  },
  {
   "cell_type": "code",
   "execution_count": 10,
   "id": "157d6c18",
   "metadata": {
    "scrolled": true
   },
   "outputs": [
    {
     "name": "stdout",
     "output_type": "stream",
     "text": [
      "using M.Exp for Logarithm\n",
      "using M.Exp for Logarithm\n",
      "using M.Exp for Logarithm\n"
     ]
    }
   ],
   "source": [
    "## mSphere\n",
    "\n",
    "### Generate Data\n",
    "\n",
    "dim = [2, 5, 10]\n",
    "for d in dim:\n",
    "    M = SPDN(N=d)    \n",
    "    Brownian_coords(M)\n",
    "\n",
    "    N_dim = M.emb_dim\n",
    "    x0 = M.coords([0.]*(d*(d+1)//2))\n",
    "\n",
    "    (product, sde_product, chart_update_product) = product_sde(M, \n",
    "                                                               M.sde_Brownian_coords, \n",
    "                                                               M.chart_update_Brownian_coords)\n",
    "\n",
    "    x0s = tile(x0, N_sim)\n",
    "    \n",
    "    _dts = dts(T=T, n_steps=n_steps)\n",
    "    dW = dWs(N_sim*M.dim,_dts).reshape(-1,N_sim,M.dim)\n",
    "    (ts,xss,chartss,*_) = product(x0s,\n",
    "                                  _dts,dW,jnp.repeat(1.,N_sim))\n",
    "    \n",
    "    xs = xss[:,-1]\n",
    "    chart = chartss[:,-1]\n",
    "    \n",
    "    path = ''.join((file_path, 'SPDN', str(d), '/'))\n",
    "    np.savetxt(''.join((path, 'xs.csv')), xs, delimiter=\",\")\n",
    "    np.savetxt(''.join((path, 'chart.csv')), xs, delimiter=\",\")"
   ]
  },
  {
   "cell_type": "markdown",
   "id": "bbb3fba0",
   "metadata": {},
   "source": [
    "## Hyperbolic Paraboloid"
   ]
  },
  {
   "cell_type": "markdown",
   "id": "2d234677",
   "metadata": {},
   "source": [
    "### Generate Data"
   ]
  },
  {
   "cell_type": "code",
   "execution_count": 4,
   "id": "4af8354d",
   "metadata": {},
   "outputs": [
    {
     "name": "stdout",
     "output_type": "stream",
     "text": [
      "using M.Exp for Logarithm\n"
     ]
    }
   ],
   "source": [
    "## mSphere\n",
    "\n",
    "### Generate Data\n",
    "\n",
    "M = HypParaboloid()\n",
    "Brownian_coords(M)\n",
    "\n",
    "x0 = M.coords([0.]*2)\n",
    "\n",
    "(product, sde_product, chart_update_product) = product_sde(M, \n",
    "                                                           M.sde_Brownian_coords, \n",
    "                                                           M.chart_update_Brownian_coords)\n",
    "\n",
    "x0s = tile(x0, N_sim)\n",
    "\n",
    "_dts = dts(T=T, n_steps=n_steps)\n",
    "dW = dWs(N_sim*M.dim,_dts).reshape(-1,N_sim,M.dim)\n",
    "(ts,xss,chartss,*_) = product(x0s,\n",
    "                              _dts,dW,jnp.repeat(1.,N_sim))\n",
    "\n",
    "xs = xss[:,-1]\n",
    "chart = chartss[:,-1]\n",
    "\n",
    "path = ''.join((file_path, 'HypParaboloid/'))\n",
    "np.savetxt(''.join((path, 'xs.csv')), xs, delimiter=\",\")\n",
    "np.savetxt(''.join((path, 'chart.csv')), xs, delimiter=\",\")"
   ]
  },
  {
   "cell_type": "markdown",
   "id": "f3f74862",
   "metadata": {},
   "source": [
    "## VAE MNIST"
   ]
  },
  {
   "cell_type": "markdown",
   "id": "b26dfffd",
   "metadata": {},
   "source": [
    "### Generate Data"
   ]
  },
  {
   "cell_type": "code",
   "execution_count": 5,
   "id": "90b915ad",
   "metadata": {
    "scrolled": true
   },
   "outputs": [
    {
     "name": "stderr",
     "output_type": "stream",
     "text": [
      "2023-10-02 03:29:05.909785: W tensorflow/core/common_runtime/gpu/gpu_device.cc:1956] Cannot dlopen some GPU libraries. Please make sure the missing libraries mentioned above are installed properly if you would like to use GPU. Follow the guide at https://www.tensorflow.org/install/gpu for how to download and setup the required libraries for your platform.\n",
      "Skipping registering GPU devices...\n"
     ]
    },
    {
     "name": "stdout",
     "output_type": "stream",
     "text": [
      "using M.Exp for Logarithm\n"
     ]
    }
   ],
   "source": [
    "## mSphere\n",
    "\n",
    "### Generate Data\n",
    "\n",
    "dim = [2, 5, 10]\n",
    "ds = load_mnist(\"train\", 100, 2712)\n",
    "        \n",
    "state = load_model('ManLearn/models/MNIST/VAE/')\n",
    "F = lambda x: mnist_decoder.apply(state.params, state.rng_key, x[0]).reshape(-1)\n",
    "\n",
    "M = Latent(F=F,dim=2,emb_dim=28*28,invF=None)\n",
    "Brownian_coords(M)\n",
    "\n",
    "x0 = mnist_encoder.apply(state.params, state.rng_key, next(ds).image)\n",
    "x0 = M.coords(x0[0])\n",
    "        \n",
    "(product, sde_product, chart_update_product) = product_sde(M, \n",
    "                                                               M.sde_Brownian_coords, \n",
    "                                                               M.chart_update_Brownian_coords)\n",
    "\n",
    "x0s = tile(x0, N_sim)\n",
    "\n",
    "_dts = dts(T=T, n_steps=n_steps)\n",
    "dW = dWs(N_sim*M.dim,_dts).reshape(-1,N_sim,M.dim)\n",
    "(ts,xss,chartss,*_) = product(x0s,\n",
    "                              _dts,dW,jnp.repeat(1.,N_sim))\n",
    "\n",
    "xs = xss[:,-1]\n",
    "chart = chartss[:,-1]\n",
    "\n",
    "path = ''.join((file_path, 'VAE_MNIST/'))\n",
    "np.savetxt(''.join((path, 'xs.csv')), xs, delimiter=\",\")\n",
    "np.savetxt(''.join((path, 'chart.csv')), xs, delimiter=\",\")"
   ]
  },
  {
   "cell_type": "markdown",
   "id": "9f49dae3",
   "metadata": {},
   "source": [
    "## VAE SVHN"
   ]
  },
  {
   "cell_type": "markdown",
   "id": "15b4d545",
   "metadata": {},
   "source": [
    "### Generate Data"
   ]
  },
  {
   "cell_type": "code",
   "execution_count": null,
   "id": "9ba00cf5",
   "metadata": {
    "scrolled": true
   },
   "outputs": [
    {
     "name": "stderr",
     "output_type": "stream",
     "text": [
      "2023-10-02 03:32:37.331774: W tensorflow/core/common_runtime/gpu/gpu_device.cc:1956] Cannot dlopen some GPU libraries. Please make sure the missing libraries mentioned above are installed properly if you would like to use GPU. Follow the guide at https://www.tensorflow.org/install/gpu for how to download and setup the required libraries for your platform.\n",
      "Skipping registering GPU devices...\n"
     ]
    },
    {
     "name": "stdout",
     "output_type": "stream",
     "text": [
      "using M.Exp for Logarithm\n"
     ]
    }
   ],
   "source": [
    "## mSphere\n",
    "\n",
    "### Generate Data\n",
    "\n",
    "dim = [2, 5, 10]\n",
    "ds = load_svhn()\n",
    "        \n",
    "state = load_model('ManLearn/models/SVHN/VAE/')\n",
    "F = lambda x: svhn_decoder.apply(state.params, state.rng_key, x[0]).reshape(-1)\n",
    "\n",
    "M = Latent(F=F,dim=32,emb_dim=32*32*3,invF=None)\n",
    "Brownian_coords(M)\n",
    "\n",
    "x0 = svhn_encoder.apply(state.params, state.rng_key, next(ds).image)\n",
    "x0 = M.coords(x0[0])\n",
    "        \n",
    "(product, sde_product, chart_update_product) = product_sde(M, \n",
    "                                                               M.sde_Brownian_coords, \n",
    "                                                               M.chart_update_Brownian_coords)\n",
    "\n",
    "x0s = tile(x0, N_sim)\n",
    "\n",
    "_dts = dts(T=T, n_steps=n_steps)\n",
    "dW = dWs(N_sim*M.dim,_dts).reshape(-1,N_sim,M.dim)\n",
    "(ts,xss,chartss,*_) = product(x0s,\n",
    "                              _dts,dW,jnp.repeat(1.,N_sim))\n",
    "\n",
    "xs = xss[:,-1]\n",
    "chart = chartss[:,-1]\n",
    "\n",
    "path = ''.join((file_path, 'VAE_SVHN/'))\n",
    "np.savetxt(''.join((path, 'xs.csv')), xs, delimiter=\",\")\n",
    "np.savetxt(''.join((path, 'chart.csv')), xs, delimiter=\",\")"
   ]
  },
  {
   "cell_type": "markdown",
   "id": "4c133f31",
   "metadata": {},
   "source": [
    "## VAE CelebA"
   ]
  },
  {
   "cell_type": "markdown",
   "id": "d53b18a3",
   "metadata": {},
   "source": [
    "### Generate Data"
   ]
  },
  {
   "cell_type": "code",
   "execution_count": null,
   "id": "9ae741f9",
   "metadata": {
    "scrolled": true
   },
   "outputs": [
    {
     "name": "stderr",
     "output_type": "stream",
     "text": [
      "2023-10-02 03:32:37.331774: W tensorflow/core/common_runtime/gpu/gpu_device.cc:1956] Cannot dlopen some GPU libraries. Please make sure the missing libraries mentioned above are installed properly if you would like to use GPU. Follow the guide at https://www.tensorflow.org/install/gpu for how to download and setup the required libraries for your platform.\n",
      "Skipping registering GPU devices...\n"
     ]
    },
    {
     "name": "stdout",
     "output_type": "stream",
     "text": [
      "using M.Exp for Logarithm\n"
     ]
    }
   ],
   "source": [
    "## mSphere\n",
    "\n",
    "### Generate Data\n",
    "\n",
    "dim = [2, 5, 10]\n",
    "ds = load_celeba()\n",
    "        \n",
    "state = load_model('ManLearn/models/CelebA/VAE/')\n",
    "F = lambda x: celeba_decoder.apply(state.params, state.rng_key, x[0]).reshape(-1)\n",
    "\n",
    "M = Latent(F=F,dim=32,emb_dim=64*64*3,invF=None)\n",
    "Brownian_coords(M)\n",
    "\n",
    "N_dim = M.dim\n",
    "x0 = svhn_encoder.apply(state.params, state.rng_key, next(ds).image)\n",
    "x0 = M.coords(x0[0])\n",
    "\n",
    "(product, sde_product, chart_update_product) = product_sde(M, \n",
    "                                                               M.sde_Brownian_coords, \n",
    "                                                               M.chart_update_Brownian_coords)\n",
    "\n",
    "x0s = tile(x0, N_sim)\n",
    "\n",
    "_dts = dts(T=T, n_steps=n_steps)\n",
    "dW = dWs(N_sim*M.dim,_dts).reshape(-1,N_sim,M.dim)\n",
    "(ts,xss,chartss,*_) = product(x0s,\n",
    "                              _dts,dW,jnp.repeat(1.,N_sim))\n",
    "\n",
    "xs = xss[:,-1]\n",
    "chart = chartss[:,-1]\n",
    "\n",
    "path = ''.join((file_path, 'VAE_CelebA/'))\n",
    "np.savetxt(''.join((path, 'xs.csv')), xs, delimiter=\",\")\n",
    "np.savetxt(''.join((path, 'chart.csv')), xs, delimiter=\",\")"
   ]
  }
 ],
 "metadata": {
  "kernelspec": {
   "display_name": "Python 3 (ipykernel)",
   "language": "python",
   "name": "python3"
  },
  "language_info": {
   "codemirror_mode": {
    "name": "ipython",
    "version": 3
   },
   "file_extension": ".py",
   "mimetype": "text/x-python",
   "name": "python",
   "nbconvert_exporter": "python",
   "pygments_lexer": "ipython3",
   "version": "3.9.13"
  }
 },
 "nbformat": 4,
 "nbformat_minor": 5
}
