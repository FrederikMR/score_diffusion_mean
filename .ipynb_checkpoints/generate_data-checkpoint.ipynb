{
 "cells": [
  {
   "cell_type": "markdown",
   "id": "e017fb79",
   "metadata": {},
   "source": [
    "# Generate and Save Synthetic Data for Manifolds"
   ]
  },
  {
   "cell_type": "code",
   "execution_count": 12,
   "id": "426c40bf",
   "metadata": {},
   "outputs": [],
   "source": [
    "#JAX\n",
    "import jax.numpy as jnp\n",
    "from jax import vmap\n",
    "\n",
    "#numpy\n",
    "import numpy as np\n",
    "\n",
    "#argparse\n",
    "import argparse\n",
    "\n",
    "from ManLearn.VAE.VAE_MNIST import model as mnist_model\n",
    "from ManLearn.VAE.VAE_MNIST import model_encoder as mnist_encoder\n",
    "from ManLearn.VAE.VAE_MNIST import model_decoder as mnist_decoder\n",
    "from ManLearn.VAE.VAE_MNIST import VAEOutput as mnist_output\n",
    "\n",
    "from ManLearn.VAE.VAE_SVHN import model as svhn_model\n",
    "from ManLearn.VAE.VAE_SVHN import model_encoder as svhn_encoder\n",
    "from ManLearn.VAE.VAE_SVHN import model_decoder as svhn_decoder\n",
    "from ManLearn.VAE.VAE_SVHN import VAEOutput as svhn_output\n",
    "\n",
    "from ManLearn.VAE.VAE_CelebA import model as celeba_model\n",
    "from ManLearn.VAE.VAE_CelebA import model_encoder as celeba_encoder\n",
    "from ManLearn.VAE.VAE_CelebA import model_decoder as celeba_decoder\n",
    "from ManLearn.VAE.VAE_CelebA import VAEOutput as celeba_output\n",
    "\n",
    "from ManLearn.train_MNIST import load_dataset as load_mnist\n",
    "from ManLearn.train_SVHN import load_dataset as load_svhn\n",
    "from ManLearn.train_CelebA import load_dataset as load_celeba\n",
    "from ManLearn.model_loader import load_model\n",
    "\n",
    "#jaxgeometry\n",
    "from jaxgeometry.manifolds import Euclidean, nSphere, Ellipsoid, Cylinder, S1, Torus, \\\n",
    "    H2, Landmarks, Heisenberg, SPDN, Latent, HypParaboloid\n",
    "from jaxgeometry.setup import dts, dWs, hessianx\n",
    "from jaxgeometry.statistics import score_matching\n",
    "from jaxgeometry.statistics.score_matching.model_loader import load_model\n",
    "from jaxgeometry.stochastics import Brownian_coords, product_sde, Brownian_sR\n",
    "from jaxgeometry.stochastics.product_sde import tile"
   ]
  },
  {
   "cell_type": "markdown",
   "id": "569381b8",
   "metadata": {},
   "source": [
    "## Hyper-Parameters"
   ]
  },
  {
   "cell_type": "code",
   "execution_count": 2,
   "id": "e364b34f",
   "metadata": {},
   "outputs": [],
   "source": [
    "N_sim = 100\n",
    "n_steps = 100\n",
    "T = 0.5\n",
    "\n",
    "file_path = 'Data/'"
   ]
  },
  {
   "cell_type": "markdown",
   "id": "e353c445",
   "metadata": {},
   "source": [
    "## Euclidean"
   ]
  },
  {
   "cell_type": "markdown",
   "id": "f7a98e6a",
   "metadata": {},
   "source": [
    "### Generate Data"
   ]
  },
  {
   "cell_type": "code",
   "execution_count": 3,
   "id": "2c84fb6a",
   "metadata": {},
   "outputs": [
    {
     "name": "stdout",
     "output_type": "stream",
     "text": [
      "using M.Exp for Logarithm\n",
      "using M.Exp for Logarithm\n",
      "using M.Exp for Logarithm\n",
      "using M.Exp for Logarithm\n",
      "using M.Exp for Logarithm\n",
      "using M.Exp for Logarithm\n",
      "using M.Exp for Logarithm\n",
      "using M.Exp for Logarithm\n",
      "Done\n"
     ]
    }
   ],
   "source": [
    "dim = [2,3,5,10,20,50,100,200]\n",
    "for d in dim:\n",
    "    M = Euclidean(N=d)\n",
    "    Brownian_coords(M)\n",
    "    \n",
    "    (product, sde_product, chart_update_product) = product_sde(M, \n",
    "                                                               M.sde_Brownian_coords, \n",
    "                                                               M.chart_update_Brownian_coords)\n",
    "\n",
    "    x0 = M.coords([0.]*d)\n",
    "    x0s = tile(x0, N_sim)\n",
    "    \n",
    "    _dts = dts(T=T, n_steps=n_steps)\n",
    "    dW = dWs(N_sim*M.dim,_dts).reshape(-1,N_sim,M.dim)\n",
    "    (ts,xss,chartss,*_) = product(x0s,\n",
    "                                  _dts,dW,jnp.repeat(1.,N_sim))\n",
    "    \n",
    "    xs = xss[-1]\n",
    "    chart = chartss[-1]\n",
    "    \n",
    "    path = ''.join((file_path, 'R', str(d), '/'))\n",
    "    np.savetxt(''.join((path, 'xs.csv')), xs, delimiter=\",\")\n",
    "    np.savetxt(''.join((path, 'chart.csv')), chart, delimiter=\",\")\n",
    "print(\"Done\")"
   ]
  },
  {
   "cell_type": "markdown",
   "id": "fefdf9aa",
   "metadata": {},
   "source": [
    "## S1"
   ]
  },
  {
   "cell_type": "markdown",
   "id": "2f46d5bc",
   "metadata": {},
   "source": [
    "### Generate Data"
   ]
  },
  {
   "cell_type": "code",
   "execution_count": 23,
   "id": "cb7a9db8",
   "metadata": {},
   "outputs": [
    {
     "name": "stdout",
     "output_type": "stream",
     "text": [
      "using M.Exp for Logarithm\n",
      "Done\n"
     ]
    }
   ],
   "source": [
    "M = S1(use_spherical_coords=True)\n",
    "Brownian_coords(M)\n",
    "\n",
    "x0 = M.coords([0.])\n",
    "x0s = tile(x0, N_sim)\n",
    "\n",
    "(product, sde_product, chart_update_product) = product_sde(M, \n",
    "                                                            M.sde_Brownian_coords, \n",
    "                                                            M.chart_update_Brownian_coords)\n",
    "\n",
    "_dts = dts(T=0.1, n_steps=n_steps)\n",
    "dW = dWs(N_sim*M.dim,_dts).reshape(-1,N_sim,M.dim)\n",
    "(ts,xss,chartss,*_) = product(x0s,\n",
    "                              _dts,dW,jnp.repeat(1.,N_sim))\n",
    "\n",
    "xs = xss[-1]\n",
    "chart = chartss[-1]\n",
    "chart = vmap(lambda x,y: M.F((x,y)))(xs,chart)\n",
    "\n",
    "path = ''.join((file_path, 'S1/'))\n",
    "np.savetxt(''.join((path, 'xs.csv')), xs, delimiter=\",\")\n",
    "np.savetxt(''.join((path, 'chart.csv')), chart, delimiter=\",\")\n",
    "print(\"Done\")"
   ]
  },
  {
   "cell_type": "markdown",
   "id": "f83c9206",
   "metadata": {},
   "source": [
    "## mSphere"
   ]
  },
  {
   "cell_type": "markdown",
   "id": "39a8b0ba",
   "metadata": {},
   "source": [
    "### Generate Data"
   ]
  },
  {
   "cell_type": "code",
   "execution_count": null,
   "id": "f70b7575",
   "metadata": {},
   "outputs": [
    {
     "name": "stdout",
     "output_type": "stream",
     "text": [
      "using M.Exp for Logarithm\n",
      "using M.Exp for Logarithm\n",
      "using M.Exp for Logarithm\n",
      "using M.Exp for Logarithm\n",
      "using M.Exp for Logarithm\n",
      "using M.Exp for Logarithm\n",
      "using M.Exp for Logarithm\n",
      "using M.Exp for Logarithm\n"
     ]
    }
   ],
   "source": [
    "dim = [2,3,5,10,20,50,100, 200]\n",
    "for d in dim:\n",
    "    M = nSphere(N=d)\n",
    "    Brownian_coords(M)\n",
    "\n",
    "    (product, sde_product, chart_update_product) = product_sde(M, \n",
    "                                                               M.sde_Brownian_coords, \n",
    "                                                               M.chart_update_Brownian_coords)\n",
    "\n",
    "    x0 = M.coords([0.]*d)\n",
    "    x0s = tile(x0, N_sim)\n",
    "    \n",
    "    _dts = dts(T=T, n_steps=n_steps)\n",
    "    dW = dWs(N_sim*M.dim,_dts).reshape(-1,N_sim,M.dim)\n",
    "    (ts,xss,chartss,*_) = product(x0s,\n",
    "                                  _dts,dW,jnp.repeat(1.,N_sim))\n",
    "    \n",
    "    xs = xss[-1]\n",
    "    chart = chartss[-1]\n",
    "    \n",
    "    path = ''.join((file_path, 'S', str(d), '/'))\n",
    "    np.savetxt(''.join((path, 'xs.csv')), xs, delimiter=\",\")\n",
    "    np.savetxt(''.join((path, 'chart.csv')), chart, delimiter=\",\")\n",
    "print(\"Done\")"
   ]
  },
  {
   "cell_type": "markdown",
   "id": "5b5e4152",
   "metadata": {},
   "source": [
    "## Ellipsoid"
   ]
  },
  {
   "cell_type": "markdown",
   "id": "a237dd0c",
   "metadata": {},
   "source": [
    "### Generate Data"
   ]
  },
  {
   "cell_type": "code",
   "execution_count": 9,
   "id": "c2a432fd",
   "metadata": {},
   "outputs": [
    {
     "name": "stdout",
     "output_type": "stream",
     "text": [
      "using M.Exp for Logarithm\n",
      "using M.Exp for Logarithm\n",
      "using M.Exp for Logarithm\n",
      "using M.Exp for Logarithm\n",
      "using M.Exp for Logarithm\n",
      "Done\n"
     ]
    }
   ],
   "source": [
    "## mSphere\n",
    "\n",
    "### Generate Data\n",
    "\n",
    "dim = [2,3,5,10,20]\n",
    "for d in dim:\n",
    "    M = Ellipsoid(N=d, params = jnp.linspace(0.5,1.0,d+1))\n",
    "    Brownian_coords(M)\n",
    "\n",
    "    N_dim = M.emb_dim\n",
    "    x0 = M.coords([0.]*d)\n",
    "\n",
    "    (product, sde_product, chart_update_product) = product_sde(M, \n",
    "                                                               M.sde_Brownian_coords, \n",
    "                                                               M.chart_update_Brownian_coords)\n",
    "\n",
    "    x0s = tile(x0, N_sim)\n",
    "    \n",
    "    _dts = dts(T=T, n_steps=n_steps)\n",
    "    dW = dWs(N_sim*M.dim,_dts).reshape(-1,N_sim,M.dim)\n",
    "    (ts,xss,chartss,*_) = product(x0s,\n",
    "                                  _dts,dW,jnp.repeat(1.,N_sim))\n",
    "    \n",
    "    xs = xss[-1]\n",
    "    chart = chartss[-1]\n",
    "    \n",
    "    path = ''.join((file_path, 'Ellipsoid', str(d), '/'))\n",
    "    np.savetxt(''.join((path, 'xs.csv')), xs, delimiter=\",\")\n",
    "    np.savetxt(''.join((path, 'chart.csv')), chart, delimiter=\",\")\n",
    "print(\"Done\")"
   ]
  },
  {
   "cell_type": "markdown",
   "id": "3d710052",
   "metadata": {},
   "source": [
    "## Cylinder"
   ]
  },
  {
   "cell_type": "markdown",
   "id": "56636f4f",
   "metadata": {},
   "source": [
    "### Generate Data"
   ]
  },
  {
   "cell_type": "code",
   "execution_count": 15,
   "id": "47483a73",
   "metadata": {},
   "outputs": [
    {
     "name": "stdout",
     "output_type": "stream",
     "text": [
      "using M.Exp for Logarithm\n",
      "Done\n"
     ]
    }
   ],
   "source": [
    "## mSphere\n",
    "\n",
    "### Generate Data\n",
    "\n",
    "M = Cylinder(params=(1.,jnp.array([0.,0.,1.]),jnp.pi/2.))\n",
    "Brownian_coords(M)\n",
    "\n",
    "x0 = M.coords([0.]*2)\n",
    "\n",
    "(product, sde_product, chart_update_product) = product_sde(M, \n",
    "                                                           M.sde_Brownian_coords, \n",
    "                                                           M.chart_update_Brownian_coords)\n",
    "\n",
    "x0s = tile(x0, N_sim)\n",
    "\n",
    "_dts = dts(T=T, n_steps=n_steps)\n",
    "dW = dWs(N_sim*M.dim,_dts).reshape(-1,N_sim,M.dim)\n",
    "(ts,xss,chartss,*_) = product(x0s,\n",
    "                              _dts,dW,jnp.repeat(1.,N_sim))\n",
    "\n",
    "xs = xss[-1]\n",
    "chart = chartss[-1]\n",
    "path = ''.join((file_path, 'Cylinder/'))\n",
    "np.savetxt(''.join((path, 'xs.csv')), xs, delimiter=\",\")\n",
    "np.savetxt(''.join((path, 'chart.csv')), chart, delimiter=\",\")\n",
    "print(\"Done\")"
   ]
  },
  {
   "cell_type": "markdown",
   "id": "3fa73a41",
   "metadata": {},
   "source": [
    "## Torus"
   ]
  },
  {
   "cell_type": "markdown",
   "id": "3e7fae7f",
   "metadata": {},
   "source": [
    "### Generate Data"
   ]
  },
  {
   "cell_type": "code",
   "execution_count": 16,
   "id": "ef54bc19",
   "metadata": {},
   "outputs": [
    {
     "name": "stdout",
     "output_type": "stream",
     "text": [
      "using M.Exp for Logarithm\n",
      "Done\n"
     ]
    }
   ],
   "source": [
    "## mSphere\n",
    "\n",
    "### Generate Data\n",
    "\n",
    "M = Torus()\n",
    "Brownian_coords(M)\n",
    "\n",
    "x0 = M.coords([0.]*2)\n",
    "\n",
    "(product, sde_product, chart_update_product) = product_sde(M, \n",
    "                                                           M.sde_Brownian_coords, \n",
    "                                                           M.chart_update_Brownian_coords)\n",
    "\n",
    "x0s = tile(x0, N_sim)\n",
    "\n",
    "_dts = dts(T=T, n_steps=n_steps)\n",
    "dW = dWs(N_sim*M.dim,_dts).reshape(-1,N_sim,M.dim)\n",
    "(ts,xss,chartss,*_) = product(x0s,\n",
    "                              _dts,dW,jnp.repeat(1.,N_sim))\n",
    "\n",
    "xs = xss[-1]\n",
    "chart = chartss[-1]\n",
    "\n",
    "path = ''.join((file_path, 'Torus/'))\n",
    "np.savetxt(''.join((path, 'xs.csv')), xs, delimiter=\",\")\n",
    "np.savetxt(''.join((path, 'chart.csv')), chart, delimiter=\",\")\n",
    "print(\"Done\")"
   ]
  },
  {
   "cell_type": "markdown",
   "id": "6a383105",
   "metadata": {},
   "source": [
    "## Landmarks"
   ]
  },
  {
   "cell_type": "markdown",
   "id": "5a1bdbcf",
   "metadata": {},
   "source": [
    "### Generate Data"
   ]
  },
  {
   "cell_type": "code",
   "execution_count": 20,
   "id": "64eb62c5",
   "metadata": {},
   "outputs": [
    {
     "name": "stdout",
     "output_type": "stream",
     "text": [
      "using M.Exp for Logarithm\n",
      "using M.Exp for Logarithm\n",
      "using M.Exp for Logarithm\n",
      "using M.Exp for Logarithm\n"
     ]
    },
    {
     "ename": "FileNotFoundError",
     "evalue": "[Errno 2] No such file or directory: 'Data/Landmarks20/xs.csv'",
     "output_type": "error",
     "traceback": [
      "\u001b[0;31m---------------------------------------------------------------------------\u001b[0m",
      "\u001b[0;31mFileNotFoundError\u001b[0m                         Traceback (most recent call last)",
      "\u001b[0;32m/tmp/ipykernel_406832/10285928.py\u001b[0m in \u001b[0;36m<module>\u001b[0;34m\u001b[0m\n\u001b[1;32m     27\u001b[0m \u001b[0;34m\u001b[0m\u001b[0m\n\u001b[1;32m     28\u001b[0m     \u001b[0mpath\u001b[0m \u001b[0;34m=\u001b[0m \u001b[0;34m''\u001b[0m\u001b[0;34m.\u001b[0m\u001b[0mjoin\u001b[0m\u001b[0;34m(\u001b[0m\u001b[0;34m(\u001b[0m\u001b[0mfile_path\u001b[0m\u001b[0;34m,\u001b[0m \u001b[0;34m'Landmarks'\u001b[0m\u001b[0;34m,\u001b[0m \u001b[0mstr\u001b[0m\u001b[0;34m(\u001b[0m\u001b[0md\u001b[0m\u001b[0;34m)\u001b[0m\u001b[0;34m,\u001b[0m \u001b[0;34m'/'\u001b[0m\u001b[0;34m)\u001b[0m\u001b[0;34m)\u001b[0m\u001b[0;34m\u001b[0m\u001b[0;34m\u001b[0m\u001b[0m\n\u001b[0;32m---> 29\u001b[0;31m     \u001b[0mnp\u001b[0m\u001b[0;34m.\u001b[0m\u001b[0msavetxt\u001b[0m\u001b[0;34m(\u001b[0m\u001b[0;34m''\u001b[0m\u001b[0;34m.\u001b[0m\u001b[0mjoin\u001b[0m\u001b[0;34m(\u001b[0m\u001b[0;34m(\u001b[0m\u001b[0mpath\u001b[0m\u001b[0;34m,\u001b[0m \u001b[0;34m'xs.csv'\u001b[0m\u001b[0;34m)\u001b[0m\u001b[0;34m)\u001b[0m\u001b[0;34m,\u001b[0m \u001b[0mxs\u001b[0m\u001b[0;34m,\u001b[0m \u001b[0mdelimiter\u001b[0m\u001b[0;34m=\u001b[0m\u001b[0;34m\",\"\u001b[0m\u001b[0;34m)\u001b[0m\u001b[0;34m\u001b[0m\u001b[0;34m\u001b[0m\u001b[0m\n\u001b[0m\u001b[1;32m     30\u001b[0m     \u001b[0mnp\u001b[0m\u001b[0;34m.\u001b[0m\u001b[0msavetxt\u001b[0m\u001b[0;34m(\u001b[0m\u001b[0;34m''\u001b[0m\u001b[0;34m.\u001b[0m\u001b[0mjoin\u001b[0m\u001b[0;34m(\u001b[0m\u001b[0;34m(\u001b[0m\u001b[0mpath\u001b[0m\u001b[0;34m,\u001b[0m \u001b[0;34m'chart.csv'\u001b[0m\u001b[0;34m)\u001b[0m\u001b[0;34m)\u001b[0m\u001b[0;34m,\u001b[0m \u001b[0mchart\u001b[0m\u001b[0;34m,\u001b[0m \u001b[0mdelimiter\u001b[0m\u001b[0;34m=\u001b[0m\u001b[0;34m\",\"\u001b[0m\u001b[0;34m)\u001b[0m\u001b[0;34m\u001b[0m\u001b[0;34m\u001b[0m\u001b[0m\n\u001b[1;32m     31\u001b[0m \u001b[0mprint\u001b[0m\u001b[0;34m(\u001b[0m\u001b[0;34m\"Done\"\u001b[0m\u001b[0;34m)\u001b[0m\u001b[0;34m\u001b[0m\u001b[0;34m\u001b[0m\u001b[0m\n",
      "\u001b[0;32m~/anaconda3/lib/python3.9/site-packages/numpy/lib/npyio.py\u001b[0m in \u001b[0;36msavetxt\u001b[0;34m(fname, X, fmt, delimiter, newline, header, footer, comments, encoding)\u001b[0m\n\u001b[1;32m   1554\u001b[0m     \u001b[0;32mif\u001b[0m \u001b[0m_is_string_like\u001b[0m\u001b[0;34m(\u001b[0m\u001b[0mfname\u001b[0m\u001b[0;34m)\u001b[0m\u001b[0;34m:\u001b[0m\u001b[0;34m\u001b[0m\u001b[0;34m\u001b[0m\u001b[0m\n\u001b[1;32m   1555\u001b[0m         \u001b[0;31m# datasource doesn't support creating a new file ...\u001b[0m\u001b[0;34m\u001b[0m\u001b[0;34m\u001b[0m\u001b[0m\n\u001b[0;32m-> 1556\u001b[0;31m         \u001b[0mopen\u001b[0m\u001b[0;34m(\u001b[0m\u001b[0mfname\u001b[0m\u001b[0;34m,\u001b[0m \u001b[0;34m'wt'\u001b[0m\u001b[0;34m)\u001b[0m\u001b[0;34m.\u001b[0m\u001b[0mclose\u001b[0m\u001b[0;34m(\u001b[0m\u001b[0;34m)\u001b[0m\u001b[0;34m\u001b[0m\u001b[0;34m\u001b[0m\u001b[0m\n\u001b[0m\u001b[1;32m   1557\u001b[0m         \u001b[0mfh\u001b[0m \u001b[0;34m=\u001b[0m \u001b[0mnp\u001b[0m\u001b[0;34m.\u001b[0m\u001b[0mlib\u001b[0m\u001b[0;34m.\u001b[0m\u001b[0m_datasource\u001b[0m\u001b[0;34m.\u001b[0m\u001b[0mopen\u001b[0m\u001b[0;34m(\u001b[0m\u001b[0mfname\u001b[0m\u001b[0;34m,\u001b[0m \u001b[0;34m'wt'\u001b[0m\u001b[0;34m,\u001b[0m \u001b[0mencoding\u001b[0m\u001b[0;34m=\u001b[0m\u001b[0mencoding\u001b[0m\u001b[0;34m)\u001b[0m\u001b[0;34m\u001b[0m\u001b[0;34m\u001b[0m\u001b[0m\n\u001b[1;32m   1558\u001b[0m         \u001b[0mown_fh\u001b[0m \u001b[0;34m=\u001b[0m \u001b[0;32mTrue\u001b[0m\u001b[0;34m\u001b[0m\u001b[0;34m\u001b[0m\u001b[0m\n",
      "\u001b[0;31mFileNotFoundError\u001b[0m: [Errno 2] No such file or directory: 'Data/Landmarks20/xs.csv'"
     ]
    }
   ],
   "source": [
    "## mSphere\n",
    "\n",
    "### Generate Data\n",
    "\n",
    "dim = [2,5,10,20]\n",
    "for d in dim:\n",
    "    M = Landmarks(N=d,m=2)\n",
    "    Brownian_coords(M)\n",
    "\n",
    "    N_dim = M.dim\n",
    "    x0 = M.coords(jnp.vstack((jnp.linspace(-5.0,5.0,M.N),jnp.linspace(5.0,-5.0,M.N))).T.flatten())\n",
    "    x0 = M.coords(jnp.vstack((jnp.linspace(-5.0,5.0,M.N),jnp.zeros(M.N))).T.flatten())\n",
    "\n",
    "    (product, sde_product, chart_update_product) = product_sde(M, \n",
    "                                                               M.sde_Brownian_coords, \n",
    "                                                               M.chart_update_Brownian_coords)\n",
    "\n",
    "    x0s = tile(x0, N_sim)\n",
    "    \n",
    "    _dts = dts(T=T, n_steps=n_steps)\n",
    "    dW = dWs(N_sim*M.dim,_dts).reshape(-1,N_sim,M.dim)\n",
    "    (ts,xss,chartss,*_) = product(x0s,\n",
    "                                  _dts,dW,jnp.repeat(1.,N_sim))\n",
    "    \n",
    "    xs = xss[-1]\n",
    "    chart = chartss[-1]\n",
    "    \n",
    "    path = ''.join((file_path, 'Landmarks', str(d), '/'))\n",
    "    np.savetxt(''.join((path, 'xs.csv')), xs, delimiter=\",\")\n",
    "    np.savetxt(''.join((path, 'chart.csv')), chart, delimiter=\",\")\n",
    "print(\"Done\")"
   ]
  },
  {
   "cell_type": "markdown",
   "id": "912bdea9",
   "metadata": {},
   "source": [
    "## SPDN"
   ]
  },
  {
   "cell_type": "markdown",
   "id": "650ab634",
   "metadata": {},
   "source": [
    "### Generate Data"
   ]
  },
  {
   "cell_type": "code",
   "execution_count": 25,
   "id": "7e88bc7f",
   "metadata": {
    "scrolled": true
   },
   "outputs": [
    {
     "name": "stdout",
     "output_type": "stream",
     "text": [
      "using M.Exp for Logarithm\n",
      "using M.Exp for Logarithm\n",
      "using M.Exp for Logarithm\n",
      "Done\n"
     ]
    }
   ],
   "source": [
    "## mSphere\n",
    "\n",
    "### Generate Data\n",
    "\n",
    "dim = [2, 5, 10]\n",
    "for d in dim:\n",
    "    M = SPDN(N=d)    \n",
    "    Brownian_coords(M)\n",
    "\n",
    "    N_dim = M.emb_dim\n",
    "    x0 = M.coords([1.]*(d*(d+1)//2))\n",
    "\n",
    "    (product, sde_product, chart_update_product) = product_sde(M, \n",
    "                                                               M.sde_Brownian_coords, \n",
    "                                                               M.chart_update_Brownian_coords)\n",
    "\n",
    "    x0s = tile(x0, N_sim)\n",
    "    \n",
    "    _dts = dts(T=T, n_steps=n_steps)\n",
    "    dW = dWs(N_sim*M.dim,_dts).reshape(-1,N_sim,M.dim)\n",
    "    (ts,xss,chartss,*_) = product(x0s,\n",
    "                                  _dts,dW,jnp.repeat(1.,N_sim))\n",
    "    \n",
    "    xs = xss[-1]\n",
    "    chart = chartss[-1]\n",
    "    \n",
    "    path = ''.join((file_path, 'SPDN', str(d), '/'))\n",
    "    np.savetxt(''.join((path, 'xs.csv')), xs, delimiter=\",\")\n",
    "    np.savetxt(''.join((path, 'chart.csv')), chart, delimiter=\",\")\n",
    "print(\"Done\")"
   ]
  },
  {
   "cell_type": "markdown",
   "id": "7637836f",
   "metadata": {},
   "source": [
    "## Hyperbolic Paraboloid"
   ]
  },
  {
   "cell_type": "markdown",
   "id": "0f6a4a32",
   "metadata": {},
   "source": [
    "### Generate Data"
   ]
  },
  {
   "cell_type": "code",
   "execution_count": 24,
   "id": "216b1da8",
   "metadata": {},
   "outputs": [
    {
     "name": "stdout",
     "output_type": "stream",
     "text": [
      "using M.Exp for Logarithm\n",
      "Done\n"
     ]
    }
   ],
   "source": [
    "## mSphere\n",
    "\n",
    "### Generate Data\n",
    "\n",
    "M = HypParaboloid()\n",
    "Brownian_coords(M)\n",
    "\n",
    "x0 = M.coords([0.]*2)\n",
    "\n",
    "(product, sde_product, chart_update_product) = product_sde(M, \n",
    "                                                           M.sde_Brownian_coords, \n",
    "                                                           M.chart_update_Brownian_coords)\n",
    "\n",
    "x0s = tile(x0, N_sim)\n",
    "\n",
    "_dts = dts(T=T, n_steps=n_steps)\n",
    "dW = dWs(N_sim*M.dim,_dts).reshape(-1,N_sim,M.dim)\n",
    "(ts,xss,chartss,*_) = product(x0s,\n",
    "                              _dts,dW,jnp.repeat(1.,N_sim))\n",
    "\n",
    "xs = xss[-1]\n",
    "chart = chartss[-1]\n",
    "\n",
    "path = ''.join((file_path, 'HypParaboloid/'))\n",
    "np.savetxt(''.join((path, 'xs.csv')), xs, delimiter=\",\")\n",
    "np.savetxt(''.join((path, 'chart.csv')), chart, delimiter=\",\")\n",
    "print(\"Done\")"
   ]
  },
  {
   "cell_type": "markdown",
   "id": "f29bedb2",
   "metadata": {},
   "source": [
    "## VAE MNIST"
   ]
  },
  {
   "cell_type": "markdown",
   "id": "163759b3",
   "metadata": {},
   "source": [
    "### Generate Data"
   ]
  },
  {
   "cell_type": "code",
   "execution_count": 14,
   "id": "9b535790",
   "metadata": {
    "scrolled": true
   },
   "outputs": [
    {
     "name": "stderr",
     "output_type": "stream",
     "text": [
      "2023-10-02 19:59:45.089566: W tensorflow/core/common_runtime/gpu/gpu_device.cc:1956] Cannot dlopen some GPU libraries. Please make sure the missing libraries mentioned above are installed properly if you would like to use GPU. Follow the guide at https://www.tensorflow.org/install/gpu for how to download and setup the required libraries for your platform.\n",
      "Skipping registering GPU devices...\n"
     ]
    },
    {
     "name": "stdout",
     "output_type": "stream",
     "text": [
      "using M.Exp for Logarithm\n",
      "Done\n"
     ]
    }
   ],
   "source": [
    "## mSphere\n",
    "\n",
    "### Generate Data\n",
    "\n",
    "dim = [2, 5, 10]\n",
    "ds = load_mnist(\"train\", 100, 2712)\n",
    "        \n",
    "state = load_model('ManLearn/models/MNIST/VAE/')\n",
    "F = lambda x: mnist_decoder.apply(state.params, state.rng_key, x[0]).reshape(-1)\n",
    "\n",
    "M = Latent(F=F,dim=2,emb_dim=28*28,invF=None)\n",
    "Brownian_coords(M)\n",
    "\n",
    "x0 = mnist_encoder.apply(state.params, state.rng_key, next(ds).image)\n",
    "x0 = M.coords(x0[0])\n",
    "        \n",
    "(product, sde_product, chart_update_product) = product_sde(M, \n",
    "                                                               M.sde_Brownian_coords, \n",
    "                                                               M.chart_update_Brownian_coords)\n",
    "\n",
    "x0s = tile(x0, N_sim)\n",
    "\n",
    "_dts = dts(T=T, n_steps=n_steps)\n",
    "dW = dWs(N_sim*M.dim,_dts).reshape(-1,N_sim,M.dim)\n",
    "(ts,xss,chartss,*_) = product(x0s,\n",
    "                              _dts,dW,jnp.repeat(1.,N_sim))\n",
    "\n",
    "xs = xss[:,-1]\n",
    "chart = chartss[:,-1]\n",
    "\n",
    "path = ''.join((file_path, 'VAE_MNIST/'))\n",
    "np.savetxt(''.join((path, 'xs.csv')), xs, delimiter=\",\")\n",
    "np.savetxt(''.join((path, 'chart.csv')), chart, delimiter=\",\")\n",
    "print(\"Done\")"
   ]
  },
  {
   "cell_type": "markdown",
   "id": "7be0a411",
   "metadata": {},
   "source": [
    "## VAE SVHN"
   ]
  },
  {
   "cell_type": "markdown",
   "id": "c022b89f",
   "metadata": {},
   "source": [
    "### Generate Data"
   ]
  },
  {
   "cell_type": "code",
   "execution_count": 15,
   "id": "7383924c",
   "metadata": {
    "scrolled": true
   },
   "outputs": [
    {
     "name": "stderr",
     "output_type": "stream",
     "text": [
      "2023-10-02 20:00:02.191492: W tensorflow/core/kernels/data/cache_dataset_ops.cc:856] The calling iterator did not fully read the dataset being cached. In order to avoid unexpected truncation of the dataset, the partially cached contents of the dataset  will be discarded. This can happen if you have an input pipeline similar to `dataset.cache().take(k).repeat()`. You should use `dataset.take(k).cache().repeat()` instead.\n"
     ]
    },
    {
     "name": "stdout",
     "output_type": "stream",
     "text": [
      "using M.Exp for Logarithm\n",
      "Done\n"
     ]
    }
   ],
   "source": [
    "## mSphere\n",
    "\n",
    "### Generate Data\n",
    "\n",
    "dim = [2, 5, 10]\n",
    "ds = load_svhn()\n",
    "        \n",
    "state = load_model('ManLearn/models/SVHN/VAE/')\n",
    "F = lambda x: svhn_decoder.apply(state.params, state.rng_key, x[0]).reshape(-1)\n",
    "\n",
    "M = Latent(F=F,dim=32,emb_dim=32*32*3,invF=None)\n",
    "Brownian_coords(M)\n",
    "\n",
    "x0 = svhn_encoder.apply(state.params, state.rng_key, next(ds).image)\n",
    "x0 = M.coords(x0[0])\n",
    "        \n",
    "(product, sde_product, chart_update_product) = product_sde(M, \n",
    "                                                               M.sde_Brownian_coords, \n",
    "                                                               M.chart_update_Brownian_coords)\n",
    "\n",
    "x0s = tile(x0, N_sim)\n",
    "\n",
    "_dts = dts(T=T, n_steps=n_steps)\n",
    "dW = dWs(N_sim*M.dim,_dts).reshape(-1,N_sim,M.dim)\n",
    "(ts,xss,chartss,*_) = product(x0s,\n",
    "                              _dts,dW,jnp.repeat(1.,N_sim))\n",
    "\n",
    "xs = xss[:,-1]\n",
    "chart = chartss[:,-1]\n",
    "\n",
    "path = ''.join((file_path, 'VAE_SVHN/'))\n",
    "np.savetxt(''.join((path, 'xs.csv')), xs, delimiter=\",\")\n",
    "np.savetxt(''.join((path, 'chart.csv')), chart, delimiter=\",\")\n",
    "print(\"Done\")"
   ]
  },
  {
   "cell_type": "markdown",
   "id": "3a06a6ca",
   "metadata": {},
   "source": [
    "## VAE CelebA"
   ]
  },
  {
   "cell_type": "markdown",
   "id": "20dfcf74",
   "metadata": {},
   "source": [
    "### Generate Data"
   ]
  },
  {
   "cell_type": "code",
   "execution_count": 16,
   "id": "7c4bf633",
   "metadata": {
    "scrolled": true
   },
   "outputs": [
    {
     "name": "stdout",
     "output_type": "stream",
     "text": [
      "using M.Exp for Logarithm\n",
      "Done\n"
     ]
    }
   ],
   "source": [
    "## mSphere\n",
    "\n",
    "### Generate Data\n",
    "\n",
    "dim = [2, 5, 10]\n",
    "ds = load_celeba()\n",
    "        \n",
    "state = load_model('ManLearn/models/CelebA/VAE/')\n",
    "F = lambda x: celeba_decoder.apply(state.params, state.rng_key, x[0]).reshape(-1)\n",
    "\n",
    "M = Latent(F=F,dim=32,emb_dim=64*64*3,invF=None)\n",
    "Brownian_coords(M)\n",
    "\n",
    "N_dim = M.dim\n",
    "x0 = svhn_encoder.apply(state.params, state.rng_key, next(ds).image)\n",
    "x0 = M.coords(x0[0])\n",
    "\n",
    "(product, sde_product, chart_update_product) = product_sde(M, \n",
    "                                                               M.sde_Brownian_coords, \n",
    "                                                               M.chart_update_Brownian_coords)\n",
    "\n",
    "x0s = tile(x0, N_sim)\n",
    "\n",
    "_dts = dts(T=T, n_steps=n_steps)\n",
    "dW = dWs(N_sim*M.dim,_dts).reshape(-1,N_sim,M.dim)\n",
    "(ts,xss,chartss,*_) = product(x0s,\n",
    "                              _dts,dW,jnp.repeat(1.,N_sim))\n",
    "\n",
    "xs = xss[:,-1]\n",
    "chart = chartss[:,-1]\n",
    "\n",
    "path = ''.join((file_path, 'VAE_CelebA/'))\n",
    "np.savetxt(''.join((path, 'xs.csv')), xs, delimiter=\",\")\n",
    "np.savetxt(''.join((path, 'chart.csv')), chart, delimiter=\",\")\n",
    "print(\"Done\")"
   ]
  },
  {
   "cell_type": "code",
   "execution_count": null,
   "id": "de9e2d3a",
   "metadata": {},
   "outputs": [],
   "source": []
  }
 ],
 "metadata": {
  "kernelspec": {
   "display_name": "Python 3 (ipykernel)",
   "language": "python",
   "name": "python3"
  },
  "language_info": {
   "codemirror_mode": {
    "name": "ipython",
    "version": 3
   },
   "file_extension": ".py",
   "mimetype": "text/x-python",
   "name": "python",
   "nbconvert_exporter": "python",
   "pygments_lexer": "ipython3",
   "version": "3.9.13"
  }
 },
 "nbformat": 4,
 "nbformat_minor": 5
}
