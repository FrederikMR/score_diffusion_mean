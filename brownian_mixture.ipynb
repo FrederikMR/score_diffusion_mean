{
 "cells": [
  {
   "cell_type": "markdown",
   "id": "83580fad",
   "metadata": {},
   "source": [
    "# Riemannian Brownian Mixture Model"
   ]
  },
  {
   "cell_type": "code",
   "execution_count": 1,
   "id": "b7e5319b",
   "metadata": {},
   "outputs": [
    {
     "name": "stderr",
     "output_type": "stream",
     "text": [
      "An NVIDIA GPU may be present on this machine, but a CUDA-enabled jaxlib is not installed. Falling back to cpu.\n",
      "2024-05-08 19:24:54.982440: W tensorflow/compiler/tf2tensorrt/utils/py_utils.cc:38] TF-TRT Warning: Could not find TensorRT\n"
     ]
    }
   ],
   "source": [
    "#Modules\n",
    "\n",
    "#jax\n",
    "from jax import jacfwd, vmap\n",
    "import jax.numpy as jnp\n",
    "import jax.random as jrandom\n",
    "\n",
    "#haiku\n",
    "import haiku as hk\n",
    "\n",
    "#os\n",
    "import os\n",
    "\n",
    "#numpy\n",
    "import numpy as np\n",
    "\n",
    "#matplotlib\n",
    "import matplotlib.pyplot as plt\n",
    "import matplotlib as mpl\n",
    "from mpl_toolkits.mplot3d import Axes3D\n",
    "from mpl_toolkits.axes_grid1 import make_axes_locatable\n",
    "import matplotlib.ticker as tkr\n",
    "\n",
    "#other modules\n",
    "from load_manifold import get_generator_dim, load_manifold\n",
    "\n",
    "#scores\n",
    "from models import models\n",
    "\n",
    "#jaxgeometry\n",
    "from jaxgeometry.statistics.score_matching import diffusion_mean as dm_score\n",
    "from jaxgeometry.statistics.score_matching import model_loader\n",
    "from jaxgeometry.statistics.score_matching import BrownianMixture\n",
    "from jaxgeometry.statistics.score_matching import ScoreEvaluation\n",
    "from jaxgeometry.manifolds import *"
   ]
  },
  {
   "cell_type": "code",
   "execution_count": 2,
   "id": "e9c8ccc2",
   "metadata": {},
   "outputs": [],
   "source": [
    "#Hyper Parameters\n",
    "T = 0.5\n",
    "t0 = 0.01\n",
    "score_path = \"scores\"\n",
    "s2_approx = 0\n",
    "s1loss_type = \"dsm\"\n",
    "s2loss_type = \"dsm\"\n",
    "s2_type = \"s1s2\"\n",
    "seed = 2712\n",
    "K = 4\n",
    "\n",
    "figure_path = '../figures/ml_regression/'\n",
    "if not os.path.exists(figure_path):\n",
    "    os.makedirs(figure_path)"
   ]
  },
  {
   "cell_type": "code",
   "execution_count": 3,
   "id": "456cd9c0",
   "metadata": {},
   "outputs": [],
   "source": [
    "def load_score_model(manifold, dim):\n",
    "    M, x0, sampling_method, generator_dim, layers, opt_val = load_manifold(manifold, dim)\n",
    "    if \"Local\" in sampling_method:\n",
    "        method = \"Local\"\n",
    "    else:\n",
    "        method = \"Embedded\"\n",
    "    \n",
    "    s1_path = ''.join((score_path, f\"/{manifold}{dim}/s1_{s1loss_type}/\"))\n",
    "    s2_path = ''.join((score_path, f\"/{manifold}{dim}/{s2_type}_{s2loss_type}/\"))\n",
    "    layers = get_generator_dim(manifold, generator_dim)\n",
    "\n",
    "    s1_model = hk.transform(lambda x: models.MLP_s1(dim=generator_dim, layers=layers)(x))\n",
    "    \n",
    "    if s2_approx:\n",
    "        if s2_type == \"s2\":\n",
    "            s2_model = hk.transform(lambda x: models.MLP_s2(layers_alpha=layers, layers_beta=layers,\n",
    "                                                            dim=generator_dim, r = max(generator_dim//2,1))(x))\n",
    "        elif s2_type == \"s1s2\":\n",
    "            @hk.transform\n",
    "            def s2_model(x):\n",
    "\n",
    "                s1s2 =  models.MLP_s1s2(\n",
    "                    models.MLP_s1(dim=generator_dim, layers=layers), \n",
    "                    models.MLP_s2(layers_alpha=layers, \n",
    "                                  layers_beta=layers,\n",
    "                                  dim=generator_dim,\n",
    "                                  r = max(generator_dim//2,1))\n",
    "                    )\n",
    "\n",
    "                return s1s2(x)[1]\n",
    "    else:\n",
    "        s2_model = None\n",
    "        \n",
    "    s1_state = model_loader.load_model(s1_path)\n",
    "    if s2_approx:\n",
    "        s2_state = model_loader.load_model(s2_path)\n",
    "    else:\n",
    "        s2_state = None\n",
    "    \n",
    "    rng_key = jrandom.PRNGKey(seed)\n",
    "    s1_fun = lambda x,y,t: s1_model.apply(s1_state.params, rng_key, jnp.hstack((x,y,t)))\n",
    "    if s2_approx:\n",
    "        s2_fun = lambda x,y,t: s2_model.apply(s2_state.params, rng_key, jnp.hstack((x,y,t)))\n",
    "    else:\n",
    "        s2_fun = None\n",
    "        \n",
    "    ScoreEval = ScoreEvaluation(M,\n",
    "                                s1_model=s1_fun,\n",
    "                                s2_model=s2_fun,\n",
    "                                method = method\n",
    "                                )\n",
    "                       \n",
    "    return M, x0, ScoreEval"
   ]
  },
  {
   "cell_type": "code",
   "execution_count": 4,
   "id": "40b601f4",
   "metadata": {},
   "outputs": [],
   "source": [
    "def load_heat_model(manifold, dim, method=\"Local\"):\n",
    "    M, x0, sampling_method, generator_dim, layers, opt_val = load_manifold(manifold, dim)\n",
    "    if \"Local\" in sampling_method:\n",
    "        method = \"Local\"\n",
    "    else:\n",
    "        method = \"Embedded\"\n",
    "    \n",
    "    s1p_path = ''.join((score_path, f\"/{manifold}{dim}/s1p_{s1loss_type}/\"))\n",
    "    layers = get_generator_dim(manifold, generator_dim)[0]\n",
    "\n",
    "    s1p_model = hk.transform(lambda x: models.MLP_p(dim=generator_dim, layers=layers)(x))\n",
    "        \n",
    "    s1p_state = model_loader.load_model(s1p_path)\n",
    "    \n",
    "    rng_key = jrandom.PRNGKey(seed)\n",
    "    \n",
    "    if method == \"Local\":\n",
    "        s1p_fun = lambda x,y,t: s1p_model.apply(s1p_state.params, rng_key, jnp.hstack((x[0],y[0],t)))\n",
    "    else:\n",
    "        s1p_fun = lambda x,y,t: s1p_model.apply(s1p_state.params, rng_key, jnp.hstack((M.F(x),M.F(y),t)))\n",
    "                       \n",
    "    return s1p_fun"
   ]
  },
  {
   "cell_type": "markdown",
   "id": "6dbd931e",
   "metadata": {},
   "source": [
    "## Testing with $\\mathbb{R}^{2}$"
   ]
  },
  {
   "cell_type": "code",
   "execution_count": 5,
   "id": "0597bbcd",
   "metadata": {},
   "outputs": [
    {
     "name": "stdout",
     "output_type": "stream",
     "text": [
      "using M.Exp for Logarithm\n",
      "using M.Exp for Logarithm\n"
     ]
    }
   ],
   "source": [
    "M, x0, ScoreEval = load_score_model(\"Euclidean\", 2)\n",
    "s1p_fun = load_heat_model(\"Euclidean\", 2)"
   ]
  },
  {
   "cell_type": "markdown",
   "id": "e08abd22",
   "metadata": {},
   "source": [
    "### Generate Test Data"
   ]
  },
  {
   "cell_type": "code",
   "execution_count": 6,
   "id": "625b6db2",
   "metadata": {},
   "outputs": [],
   "source": [
    "eps = 0.1*np.random.normal(size=(100,2))\n",
    "x = []\n",
    "centers = [jnp.array([-1.0,0.0]), jnp.array([0.0,1.0]), jnp.array([1.0,0.0]), jnp.array([0.0,-1.0])]\n",
    "for i in range(K):\n",
    "    eps = 0.1*np.random.normal(size=(100,2))\n",
    "    x.append(eps+centers[i])\n",
    "x = jnp.vstack(x)\n",
    "\n",
    "X_obs = (x, jnp.zeros(len(x)).reshape(-1))"
   ]
  },
  {
   "cell_type": "markdown",
   "id": "948282f1",
   "metadata": {},
   "source": [
    "### Testing with True Gradient"
   ]
  },
  {
   "cell_type": "code",
   "execution_count": 7,
   "id": "17cb7401",
   "metadata": {},
   "outputs": [],
   "source": [
    "RBMM = BrownianMixture(M=M,\n",
    "                       log_hk = s1p_fun,\n",
    "                       grady_log=lambda x,y,t: M.grady_log_hk(x,y,t)[0],\n",
    "                       gradt_log=lambda x,y,t: M.gradt_log_hk(x,y,t),\n",
    "                       n_clusters=K,\n",
    "                       eps=0.1,\n",
    "                       method='Local',\n",
    "                       update_method=\"Gradient\",\n",
    "                       max_iter=1000,\n",
    "                       lr=0.01,\n",
    "                       dt_steps=100,\n",
    "                       min_t=1e-3,\n",
    "                       max_t=1.0,\n",
    "                       seed=2712,\n",
    "                      )"
   ]
  },
  {
   "cell_type": "code",
   "execution_count": 8,
   "id": "e7311cf3",
   "metadata": {},
   "outputs": [],
   "source": [
    "mu_init = (jnp.stack((X_obs[0][0], X_obs[0][1], X_obs[0][2], X_obs[0][3])),\n",
    "          jnp.stack((X_obs[1][0].reshape(1), X_obs[1][1].reshape(1), X_obs[1][2].reshape(1), X_obs[1][3].reshape(1))))\n",
    "T = 0.2"
   ]
  },
  {
   "cell_type": "code",
   "execution_count": 9,
   "id": "16a6bd33",
   "metadata": {},
   "outputs": [
    {
     "data": {
      "text/plain": [
       "Array([-1.02557002,  0.04826363], dtype=float64)"
      ]
     },
     "execution_count": 9,
     "metadata": {},
     "output_type": "execute_result"
    }
   ],
   "source": [
    "mu_init[0][0]"
   ]
  },
  {
   "cell_type": "code",
   "execution_count": 10,
   "id": "9e5eb89f",
   "metadata": {},
   "outputs": [
    {
     "data": {
      "text/plain": [
       "Array([[-1.02557002,  0.04826363],\n",
       "       [-0.96116668,  0.18504287],\n",
       "       [-0.95670308, -0.05333524],\n",
       "       [-1.00372839,  0.04387236]], dtype=float64)"
      ]
     },
     "execution_count": 10,
     "metadata": {},
     "output_type": "execute_result"
    }
   ],
   "source": [
    "mu_init[0]"
   ]
  },
  {
   "cell_type": "code",
   "execution_count": 11,
   "id": "823bd5b4",
   "metadata": {},
   "outputs": [
    {
     "data": {
      "text/plain": [
       "Array([-1.02557002,  0.04826363], dtype=float64)"
      ]
     },
     "execution_count": 11,
     "metadata": {},
     "output_type": "execute_result"
    }
   ],
   "source": [
    "X_obs[0][0]"
   ]
  },
  {
   "cell_type": "code",
   "execution_count": 12,
   "id": "8a89b0e1",
   "metadata": {},
   "outputs": [
    {
     "data": {
      "text/plain": [
       "Array([0., 0.], dtype=float64)"
      ]
     },
     "execution_count": 12,
     "metadata": {},
     "output_type": "execute_result"
    }
   ],
   "source": [
    "s1_model = lambda x,y,t: M.grady_log_hk(x,y,t)[0]\n",
    "t = 0.1\n",
    "T = 0.5\n",
    "s1_model((mu_init[0][0], mu_init[1][0]), (mu_init[0][0], mu_init[1][0]), T-t)"
   ]
  },
  {
   "cell_type": "code",
   "execution_count": 13,
   "id": "ed66229c",
   "metadata": {},
   "outputs": [
    {
     "data": {
      "text/plain": [
       "Array([0., 0.], dtype=float64)"
      ]
     },
     "execution_count": 13,
     "metadata": {},
     "output_type": "execute_result"
    }
   ],
   "source": [
    "s1_model((mu_init[0][0], mu_init[1][0]), (X_obs[0][0], X_obs[1][0]), T-t)"
   ]
  },
  {
   "cell_type": "code",
   "execution_count": 14,
   "id": "dc0adb95",
   "metadata": {},
   "outputs": [],
   "source": [
    "RBMM.fit((X_obs[0], X_obs[1].reshape(-1,1)), mu_init=mu_init)"
   ]
  },
  {
   "cell_type": "code",
   "execution_count": 15,
   "id": "1434bb9c",
   "metadata": {},
   "outputs": [
    {
     "data": {
      "text/plain": [
       "(Array([[-1.02557002,  0.04826363],\n",
       "        [-0.96116668,  0.18504287],\n",
       "        [-0.95670308, -0.05333524],\n",
       "        [-1.00372839,  0.04387236]], dtype=float64),\n",
       " Array([[0.],\n",
       "        [0.],\n",
       "        [0.],\n",
       "        [0.]], dtype=float64))"
      ]
     },
     "execution_count": 15,
     "metadata": {},
     "output_type": "execute_result"
    }
   ],
   "source": [
    "mu_init"
   ]
  },
  {
   "cell_type": "code",
   "execution_count": 16,
   "id": "a87b6145",
   "metadata": {},
   "outputs": [
    {
     "data": {
      "text/plain": [
       "(Array([[-0.08583987, -0.0086535 ],\n",
       "        [-0.29716103,  0.22347423],\n",
       "        [-0.37019058, -0.13923762],\n",
       "        [-0.0438253 , -0.0158595 ]], dtype=float64),\n",
       " Array([[0.],\n",
       "        [0.],\n",
       "        [0.],\n",
       "        [0.]], dtype=float64))"
      ]
     },
     "execution_count": 16,
     "metadata": {},
     "output_type": "execute_result"
    }
   ],
   "source": [
    "RBMM.mu"
   ]
  },
  {
   "cell_type": "code",
   "execution_count": 17,
   "id": "6d6ec5f1",
   "metadata": {},
   "outputs": [
    {
     "data": {
      "text/plain": [
       "Array([0.45      , 0.50243295, 0.61396893, 0.45      ], dtype=float64)"
      ]
     },
     "execution_count": 17,
     "metadata": {},
     "output_type": "execute_result"
    }
   ],
   "source": [
    "RBMM.T"
   ]
  },
  {
   "cell_type": "code",
   "execution_count": 18,
   "id": "acea5031",
   "metadata": {
    "scrolled": true
   },
   "outputs": [
    {
     "data": {
      "text/plain": [
       "Array([0. , 0.5, 0.5], dtype=float64)"
      ]
     },
     "execution_count": 18,
     "metadata": {},
     "output_type": "execute_result"
    }
   ],
   "source": [
    "RBMM.pi"
   ]
  },
  {
   "cell_type": "code",
   "execution_count": 19,
   "id": "83ab5c78",
   "metadata": {},
   "outputs": [],
   "source": [
    "pk = vmap(lambda x,c: vmap(lambda mu_x,mu_c,t: RBMM.log_hk((x,c),(mu_x,mu_c), t))(RBMM.mu[0][:-1],\n",
    "                                                                                  RBMM.mu[1][:-1],\n",
    "                                                                                  RBMM.T[:-1]))(X_obs[0],\n",
    "                                                                                                X_obs[1])"
   ]
  },
  {
   "cell_type": "code",
   "execution_count": 20,
   "id": "99248381",
   "metadata": {},
   "outputs": [],
   "source": [
    "test = pk-jnp.max(pk)"
   ]
  },
  {
   "cell_type": "code",
   "execution_count": 21,
   "id": "bae1ed62",
   "metadata": {},
   "outputs": [
    {
     "data": {
      "text/plain": [
       "Array([[0.04485483, 0.15163901, 0.78684122],\n",
       "       [0.05088533, 0.17592802, 0.80801392],\n",
       "       [0.05172055, 0.15935209, 0.86412066],\n",
       "       ...,\n",
       "       [0.04626241, 0.05604661, 0.51658183],\n",
       "       [0.05529321, 0.06843173, 0.58597715],\n",
       "       [0.05739986, 0.07330275, 0.62472011]], dtype=float64)"
      ]
     },
     "execution_count": 21,
     "metadata": {},
     "output_type": "execute_result"
    }
   ],
   "source": [
    "jnp.exp(test)"
   ]
  },
  {
   "cell_type": "code",
   "execution_count": 19,
   "id": "fa9608f7",
   "metadata": {},
   "outputs": [
    {
     "data": {
      "image/png": "[encoded data removed]",
      "text/plain": [
       "<Figure size 1000x1000 with 1 Axes>"
      ]
     },
     "metadata": {},
     "output_type": "display_data"
    }
   ],
   "source": [
    "color = ['magenta', 'red', 'green', 'orange']\n",
    "fig = plt.figure(figsize=(10,10))\n",
    "ax = fig.add_subplot(111)\n",
    "for i in range(K):\n",
    "    ax.scatter(RBMM.mu[0][i,0], RBMM.mu[0][i,1], alpha=1.0, s=100, color=color[i])\n",
    "ax.scatter(X_obs[0][:,0], \n",
    "           X_obs[0][:,1], alpha=0.2, color=\"black\", label='Cluser ' + str(i+1))\n",
    "ax.set_xlabel(r'$x^{1}$')\n",
    "ax.set_ylabel(r'$x^{2}$')\n",
    "ax.grid(True)"
   ]
  },
  {
   "cell_type": "code",
   "execution_count": 19,
   "id": "5d2abb66",
   "metadata": {},
   "outputs": [],
   "source": [
    "pt = vmap(lambda x,c: vmap(lambda mu_x,mu_c,t: RBMM.test((x,c),(mu_x,mu_c), t))(RBMM.mu[0],\n",
    "                                                                                    RBMM.mu[1],\n",
    "                                                                                    RBMM.T))(X_obs[0],\n",
    "                                                                                                        X_obs[1])"
   ]
  },
  {
   "cell_type": "code",
   "execution_count": 20,
   "id": "c07ef5db",
   "metadata": {},
   "outputs": [
    {
     "data": {
      "text/plain": [
       "Array([[5.61383158, 5.61384096, 5.6138479 , 5.61383852],\n",
       "       [5.61718097, 5.61718788, 5.61719584, 5.61718893],\n",
       "       [5.61213282, 5.61214179, 5.61215007, 5.61214109],\n",
       "       ...,\n",
       "       [5.61123606, 5.6112269 , 5.61123537, 5.61124453],\n",
       "       [5.60780442, 5.60779408, 5.60780272, 5.60781306],\n",
       "       [5.61074516, 5.61073672, 5.61074612, 5.61075456]], dtype=float64)"
      ]
     },
     "execution_count": 20,
     "metadata": {},
     "output_type": "execute_result"
    }
   ],
   "source": [
    "jnp.log(pt[0])"
   ]
  },
  {
   "cell_type": "code",
   "execution_count": 21,
   "id": "1085acea",
   "metadata": {},
   "outputs": [
    {
     "data": {
      "text/plain": [
       "(Array([[274.19281872, 274.19539116, 274.19729505, 274.19472258],\n",
       "        [275.11273803, 275.11463885, 275.11682861, 275.11492778],\n",
       "        [273.7274267 , 273.72988343, 273.73214781, 273.72969105],\n",
       "        ...,\n",
       "        [273.48206916, 273.47956336, 273.48188117, 273.48438698],\n",
       "        [272.54518586, 272.54236822, 272.54472333, 272.54754099],\n",
       "        [273.3478502 , 273.34554379, 273.34811192, 273.35041834]],      dtype=float64),\n",
       " (Array([[[-0.05952225,  0.00349107],\n",
       "          [-0.05974925,  0.00371806],\n",
       "          [-0.05997625,  0.00349107],\n",
       "          [-0.05974925,  0.00326407]],\n",
       "  \n",
       "         [[-0.05420588, -0.0092405 ],\n",
       "          [-0.05443288, -0.0090135 ],\n",
       "          [-0.05465988, -0.0092405 ],\n",
       "          [-0.05443288, -0.0094675 ]],\n",
       "  \n",
       "         [[-0.06288704, -0.00284277],\n",
       "          [-0.06311403, -0.00261577],\n",
       "          [-0.06334103, -0.00284277],\n",
       "          [-0.06311403, -0.00306977]],\n",
       "  \n",
       "         ...,\n",
       "  \n",
       "         [[ 0.00256637, -0.06977751],\n",
       "          [ 0.00233937, -0.06955051],\n",
       "          [ 0.00211237, -0.06977751],\n",
       "          [ 0.00233937, -0.07000451]],\n",
       "  \n",
       "         [[ 0.00625122, -0.0746741 ],\n",
       "          [ 0.00602422, -0.07444711],\n",
       "          [ 0.00579722, -0.0746741 ],\n",
       "          [ 0.00602422, -0.0749011 ]],\n",
       "  \n",
       "         [[-0.0034366 , -0.07048896],\n",
       "          [-0.0036636 , -0.07026196],\n",
       "          [-0.00389059, -0.07048896],\n",
       "          [-0.0036636 , -0.07071596]]], dtype=float64),\n",
       "  Array([[[0.],\n",
       "          [0.],\n",
       "          [0.],\n",
       "          [0.]],\n",
       "  \n",
       "         [[0.],\n",
       "          [0.],\n",
       "          [0.],\n",
       "          [0.]],\n",
       "  \n",
       "         [[0.],\n",
       "          [0.],\n",
       "          [0.],\n",
       "          [0.]],\n",
       "  \n",
       "         ...,\n",
       "  \n",
       "         [[0.],\n",
       "          [0.],\n",
       "          [0.],\n",
       "          [0.]],\n",
       "  \n",
       "         [[0.],\n",
       "          [0.],\n",
       "          [0.],\n",
       "          [0.]],\n",
       "  \n",
       "         [[0.],\n",
       "          [0.],\n",
       "          [0.],\n",
       "          [0.]]], dtype=float64)),\n",
       " Array([[175.43638657, 175.43638657, 175.43638657, 175.43638657],\n",
       "        [175.43638657, 175.43638657, 175.43638657, 175.43638657],\n",
       "        [175.43638657, 175.43638657, 175.43638657, 175.43638657],\n",
       "        ...,\n",
       "        [175.43638657, 175.43638657, 175.43638657, 175.43638657],\n",
       "        [175.43638657, 175.43638657, 175.43638657, 175.43638657],\n",
       "        [175.43638657, 175.43638657, 175.43638657, 175.43638657]],      dtype=float64),\n",
       " Array([[1.56291875, 1.56293342, 1.56294427, 1.56292961],\n",
       "        [1.56816236, 1.56817319, 1.56818568, 1.56817484],\n",
       "        [1.56026599, 1.56027999, 1.5602929 , 1.56027889],\n",
       "        ...,\n",
       "        [1.55886743, 1.55885315, 1.55886636, 1.55888064],\n",
       "        [1.55352713, 1.55351107, 1.55352449, 1.55354055],\n",
       "        [1.55810237, 1.55808923, 1.55810386, 1.55811701]], dtype=float64),\n",
       " (Array([[[-0.05959365,  0.00889878],\n",
       "          [-0.05957995,  0.00888508],\n",
       "          [-0.05956625,  0.00889878],\n",
       "          [-0.05957995,  0.00891248]],\n",
       "  \n",
       "         [[-0.05427727, -0.00383278],\n",
       "          [-0.05426357, -0.00384648],\n",
       "          [-0.05424987, -0.00383278],\n",
       "          [-0.05426357, -0.00381908]],\n",
       "  \n",
       "         [[-0.06295843,  0.00256494],\n",
       "          [-0.06294473,  0.00255124],\n",
       "          [-0.06293103,  0.00256494],\n",
       "          [-0.06294473,  0.00257864]],\n",
       "  \n",
       "         ...,\n",
       "  \n",
       "         [[ 0.00249497, -0.06436979],\n",
       "          [ 0.00250867, -0.06438349],\n",
       "          [ 0.00252237, -0.06436979],\n",
       "          [ 0.00250867, -0.06435609]],\n",
       "  \n",
       "         [[ 0.00617983, -0.06926639],\n",
       "          [ 0.00619353, -0.06928009],\n",
       "          [ 0.00620723, -0.06926639],\n",
       "          [ 0.00619353, -0.06925269]],\n",
       "  \n",
       "         [[-0.00350799, -0.06508125],\n",
       "          [-0.00349429, -0.06509495],\n",
       "          [-0.00348059, -0.06508125],\n",
       "          [-0.00349429, -0.06506755]]], dtype=float64),\n",
       "  Array([[[0.],\n",
       "          [0.],\n",
       "          [0.],\n",
       "          [0.]],\n",
       "  \n",
       "         [[0.],\n",
       "          [0.],\n",
       "          [0.],\n",
       "          [0.]],\n",
       "  \n",
       "         [[0.],\n",
       "          [0.],\n",
       "          [0.],\n",
       "          [0.]],\n",
       "  \n",
       "         ...,\n",
       "  \n",
       "         [[0.],\n",
       "          [0.],\n",
       "          [0.],\n",
       "          [0.]],\n",
       "  \n",
       "         [[0.],\n",
       "          [0.],\n",
       "          [0.],\n",
       "          [0.]],\n",
       "  \n",
       "         [[0.],\n",
       "          [0.],\n",
       "          [0.],\n",
       "          [0.]]], dtype=float64)))"
      ]
     },
     "execution_count": 21,
     "metadata": {},
     "output_type": "execute_result"
    }
   ],
   "source": [
    "pt"
   ]
  },
  {
   "cell_type": "code",
   "execution_count": 22,
   "id": "2903b246",
   "metadata": {},
   "outputs": [
    {
     "data": {
      "text/plain": [
       "Array([[274.64731461, 274.6495431 , 274.65163409, 274.64940559],\n",
       "       [274.52021488, 274.52260691, 274.52457411, 274.52218206],\n",
       "       [275.24044699, 275.24239963, 275.24448272, 275.24253007],\n",
       "       ...,\n",
       "       [273.94650086, 273.94428462, 273.94669765, 273.94891391],\n",
       "       [275.30569696, 275.30379247, 275.30588955, 275.30779405],\n",
       "       [275.56909392, 275.56720615, 275.56918892, 275.57107671]],      dtype=float64)"
      ]
     },
     "execution_count": 22,
     "metadata": {},
     "output_type": "execute_result"
    }
   ],
   "source": [
    "pt[0]"
   ]
  },
  {
   "cell_type": "code",
   "execution_count": 23,
   "id": "1b136788",
   "metadata": {},
   "outputs": [
    {
     "data": {
      "text/plain": [
       "Array([[0.00211051, 0.00108808],\n",
       "       [0.00186981, 0.00132878],\n",
       "       [0.00162911, 0.00108808],\n",
       "       [0.00186981, 0.00084738]], dtype=float64)"
      ]
     },
     "execution_count": 23,
     "metadata": {},
     "output_type": "execute_result"
    }
   ],
   "source": [
    "RBMM.mu[0]"
   ]
  },
  {
   "cell_type": "code",
   "execution_count": 24,
   "id": "359e13db",
   "metadata": {},
   "outputs": [
    {
     "data": {
      "text/plain": [
       "Array([[-5.53003872e-02,  2.91539174e-03],\n",
       "       [-5.58552181e-02,  6.73616407e-03],\n",
       "       [-5.14142663e-02, -6.41451233e-04],\n",
       "       [-4.79065119e-02,  1.12660195e-03],\n",
       "       [-4.75185268e-02,  1.03923983e-02],\n",
       "       [-5.40191300e-02,  3.69438893e-03],\n",
       "       [-5.67812650e-02,  6.80905679e-03],\n",
       "       [-4.76771786e-02,  9.03785952e-03],\n",
       "       [-5.67528129e-02,  5.29498203e-04],\n",
       "       [-6.46041825e-02,  1.00099365e-02],\n",
       "       [-5.40117130e-02,  9.69669145e-03],\n",
       "       [-5.01399978e-02, -9.16034059e-04],\n",
       "       [-4.09660345e-02,  5.52077386e-04],\n",
       "       [-5.85729700e-02, -2.26191150e-03],\n",
       "       [-4.53582968e-02, -1.86042304e-03],\n",
       "       [-4.53431636e-02,  8.40342374e-03],\n",
       "       [-6.04026336e-02, -4.96848213e-03],\n",
       "       [-6.55865993e-02, -5.09666186e-03],\n",
       "       [-6.27014061e-02,  1.07538034e-04],\n",
       "       [-4.92408965e-02,  2.65325631e-03],\n",
       "       [-5.79596011e-02,  2.72825005e-03],\n",
       "       [-5.83221397e-02,  9.85581276e-03],\n",
       "       [-5.68567490e-02, -2.36653200e-03],\n",
       "       [-5.96459881e-02, -3.38274768e-04],\n",
       "       [-4.87482995e-02,  3.21305163e-03],\n",
       "       [-4.56757678e-02, -1.12899214e-03],\n",
       "       [-5.43342439e-02, -4.88660840e-05],\n",
       "       [-5.52300537e-02,  1.16050841e-02],\n",
       "       [-5.43635413e-02,  6.16011133e-03],\n",
       "       [-5.89059993e-02, -1.81315600e-03],\n",
       "       [-6.20554750e-02, -1.05470191e-03],\n",
       "       [-5.31192550e-02, -6.60912035e-03],\n",
       "       [-5.46372508e-02,  1.64795721e-02],\n",
       "       [-5.61557450e-02,  3.41584649e-03],\n",
       "       [-4.95610324e-02, -3.83943811e-03],\n",
       "       [-5.53041659e-02, -2.09102836e-03],\n",
       "       [-6.53094829e-02, -4.53990854e-03],\n",
       "       [-5.97146685e-02,  7.15117226e-04],\n",
       "       [-5.54116395e-02, -3.97299404e-03],\n",
       "       [-5.78586057e-02,  5.37112950e-03],\n",
       "       [-5.13681273e-02, -2.76737617e-03],\n",
       "       [-5.41637054e-02,  4.64123230e-03],\n",
       "       [-5.81273953e-02,  1.12950755e-02],\n",
       "       [-5.63433307e-02,  1.99565524e-03],\n",
       "       [-4.55805915e-02,  4.66392437e-03],\n",
       "       [-4.42066575e-02, -4.90141092e-04],\n",
       "       [-5.91548531e-02,  1.03174755e-02],\n",
       "       [-6.02969467e-02,  3.85780309e-03],\n",
       "       [-4.83648519e-02, -4.63165463e-03],\n",
       "       [-5.32751376e-02,  4.10778141e-03],\n",
       "       [-7.28274725e-02, -5.63964180e-03],\n",
       "       [-5.62330871e-02,  7.70608219e-03],\n",
       "       [-5.39509540e-02,  3.43201259e-04],\n",
       "       [-4.72287111e-02, -6.63800271e-03],\n",
       "       [-5.52261837e-02, -5.03913193e-03],\n",
       "       [-5.34520312e-02,  4.29728695e-03],\n",
       "       [-5.52995310e-02,  1.07021659e-03],\n",
       "       [-4.83546651e-02, -5.56322926e-03],\n",
       "       [-4.01076799e-02,  2.40430585e-03],\n",
       "       [-5.22439887e-02,  4.79252899e-03],\n",
       "       [-5.84359893e-02,  1.26053071e-03],\n",
       "       [-5.74424114e-02, -6.71122567e-03],\n",
       "       [-5.54456675e-02,  3.06513908e-03],\n",
       "       [-5.28166798e-02,  5.19143660e-03],\n",
       "       [-5.40741618e-02,  5.02353129e-03],\n",
       "       [-5.60444204e-02, -9.05850623e-05],\n",
       "       [-5.51910408e-02,  1.00427506e-02],\n",
       "       [-4.35561124e-02, -7.56501345e-03],\n",
       "       [-5.65446879e-02,  2.44355926e-03],\n",
       "       [-6.10136837e-02,  1.23986330e-02],\n",
       "       [-5.73322344e-02,  3.82769616e-04],\n",
       "       [-4.46017307e-02, -2.11444763e-03],\n",
       "       [-5.54115101e-02,  2.64805773e-03],\n",
       "       [-6.13045335e-02, -6.59365963e-03],\n",
       "       [-5.19061314e-02,  6.24075262e-03],\n",
       "       [-5.19962293e-02,  2.22948227e-03],\n",
       "       [-5.95640958e-02,  7.61746164e-04],\n",
       "       [-5.48950795e-02, -2.48356498e-04],\n",
       "       [-5.90159128e-02,  5.01923266e-03],\n",
       "       [-5.33390811e-02, -1.06130443e-02],\n",
       "       [-5.00617900e-02, -6.15761265e-04],\n",
       "       [-5.50411592e-02, -1.03851372e-02],\n",
       "       [-5.81955806e-02, -5.73343549e-03],\n",
       "       [-4.78148082e-02, -5.29443094e-03],\n",
       "       [-5.24555640e-02,  3.54572513e-03],\n",
       "       [-5.67929222e-02, -1.33393803e-02],\n",
       "       [-6.06840628e-02, -1.51182081e-03],\n",
       "       [-5.29161820e-02, -1.43644079e-03],\n",
       "       [-5.61888284e-02, -5.17839351e-03],\n",
       "       [-5.91000045e-02,  5.64892299e-03],\n",
       "       [-5.28863201e-02, -4.91831487e-03],\n",
       "       [-5.11539036e-02, -7.18624136e-04],\n",
       "       [-6.10660445e-02, -1.04521956e-02],\n",
       "       [-5.52977877e-02,  8.71164258e-03],\n",
       "       [-6.14881828e-02, -1.47003322e-03],\n",
       "       [-6.06358323e-02,  3.13890871e-03],\n",
       "       [-6.20225886e-02,  2.15494567e-03],\n",
       "       [-6.41342125e-02, -9.51246455e-04],\n",
       "       [-5.76657620e-02,  8.59035113e-03],\n",
       "       [-5.11646785e-02, -2.62088619e-03],\n",
       "       [ 7.59400838e-03,  5.68975232e-02],\n",
       "       [ 1.08784819e-02,  5.43639817e-02],\n",
       "       [ 2.87841224e-03,  5.60658717e-02],\n",
       "       [ 1.58803341e-02,  5.24565528e-02],\n",
       "       [ 7.47822390e-03,  6.01733021e-02],\n",
       "       [ 8.98352063e-04,  6.57495834e-02],\n",
       "       [ 5.17212666e-03,  5.68786118e-02],\n",
       "       [ 5.06772856e-03,  6.31881670e-02],\n",
       "       [ 1.49981191e-03,  5.79899690e-02],\n",
       "       [ 8.60811999e-03,  6.16730149e-02],\n",
       "       [ 2.63752954e-03,  6.17422189e-02],\n",
       "       [ 7.50076158e-03,  5.73960178e-02],\n",
       "       [ 4.08098240e-03,  5.09376134e-02],\n",
       "       [ 4.72778849e-03,  5.33034874e-02],\n",
       "       [-4.74885896e-03,  5.66075819e-02],\n",
       "       [ 1.21879913e-02,  5.71721001e-02],\n",
       "       [ 1.06676099e-02,  5.43654622e-02],\n",
       "       [-8.00162464e-04,  6.26525973e-02],\n",
       "       [-4.67903894e-05,  5.08418693e-02],\n",
       "       [ 1.54710587e-02,  6.32848293e-02],\n",
       "       [-7.12756128e-04,  5.96811901e-02],\n",
       "       [ 3.95113455e-03,  6.10197636e-02],\n",
       "       [ 4.43325817e-03,  4.10574068e-02],\n",
       "       [ 4.40466542e-03,  5.99045568e-02],\n",
       "       [ 1.14683971e-03,  6.21679287e-02],\n",
       "       [ 3.49665979e-03,  6.26266366e-02],\n",
       "       [ 7.80149165e-03,  5.64266474e-02],\n",
       "       [ 4.51038347e-03,  6.10555101e-02],\n",
       "       [ 6.66654833e-03,  6.96141405e-02],\n",
       "       [ 5.44017148e-03,  6.40668509e-02],\n",
       "       [ 3.53197014e-03,  5.35939162e-02],\n",
       "       [ 1.51101690e-03,  6.41372156e-02],\n",
       "       [-9.64946688e-04,  5.87654715e-02],\n",
       "       [ 1.78586511e-03,  5.81362838e-02],\n",
       "       [ 3.39780486e-03,  5.93973044e-02],\n",
       "       [-1.73242922e-03,  6.00097252e-02],\n",
       "       [-2.55248465e-03,  5.43196539e-02],\n",
       "       [-3.88367224e-03,  5.96105719e-02],\n",
       "       [-1.93701167e-03,  6.01476707e-02],\n",
       "       [ 2.10804942e-03,  6.32401753e-02],\n",
       "       [ 1.12459863e-02,  6.35877708e-02],\n",
       "       [ 8.73100689e-03,  5.47603301e-02],\n",
       "       [ 8.27781702e-03,  5.56202597e-02],\n",
       "       [-3.65665241e-04,  5.41145669e-02],\n",
       "       [ 1.00072903e-03,  5.95313230e-02],\n",
       "       [ 1.73504951e-02,  5.69335440e-02],\n",
       "       [-3.51890201e-03,  5.33765361e-02],\n",
       "       [ 4.14630594e-03,  6.18123172e-02],\n",
       "       [ 7.50458126e-03,  5.21991025e-02],\n",
       "       [ 3.31163186e-04,  5.79590885e-02],\n",
       "       [-4.97397513e-04,  4.72189639e-02],\n",
       "       [ 3.03633345e-03,  5.49259101e-02],\n",
       "       [-1.37459068e-02,  6.85617948e-02],\n",
       "       [ 4.44049851e-03,  6.27952566e-02],\n",
       "       [ 6.96527957e-03,  6.07353464e-02],\n",
       "       [ 1.39814554e-02,  4.89577722e-02],\n",
       "       [ 9.57192143e-03,  5.55590516e-02],\n",
       "       [-1.30731967e-04,  5.53934570e-02],\n",
       "       [-9.57862187e-03,  5.08448338e-02],\n",
       "       [-5.60839495e-03,  6.79270899e-02],\n",
       "       [ 1.26045295e-03,  4.82521250e-02],\n",
       "       [-5.03162393e-03,  6.04227746e-02],\n",
       "       [-2.21769176e-03,  6.12378499e-02],\n",
       "       [-1.23574234e-03,  6.96889070e-02],\n",
       "       [ 5.02726407e-03,  6.20736483e-02],\n",
       "       [ 3.62016036e-03,  6.50342043e-02],\n",
       "       [ 2.15167835e-03,  6.31803383e-02],\n",
       "       [ 7.18294160e-03,  5.24730849e-02],\n",
       "       [-9.40724057e-03,  5.74871861e-02],\n",
       "       [ 2.25549442e-03,  4.77722223e-02],\n",
       "       [ 6.02121358e-03,  6.47159269e-02],\n",
       "       [-1.05916102e-03,  4.97427019e-02],\n",
       "       [ 5.85408325e-03,  5.85923967e-02],\n",
       "       [-6.72747946e-03,  5.97418220e-02],\n",
       "       [-2.63266759e-03,  5.96510709e-02],\n",
       "       [-5.41124064e-03,  5.91746583e-02],\n",
       "       [ 3.97612485e-04,  6.27839144e-02],\n",
       "       [-2.70301250e-03,  5.61761813e-02],\n",
       "       [-4.32092447e-03,  5.39386009e-02],\n",
       "       [-4.57805003e-03,  5.60896696e-02],\n",
       "       [-4.26842524e-03,  5.75428996e-02],\n",
       "       [ 8.00085604e-03,  5.30109563e-02],\n",
       "       [ 4.06150185e-03,  6.11433590e-02],\n",
       "       [ 4.95923318e-04,  6.31024622e-02],\n",
       "       [ 3.33101370e-03,  6.54021864e-02],\n",
       "       [ 7.12701528e-03,  6.09855082e-02],\n",
       "       [-6.05565639e-03,  5.52794590e-02],\n",
       "       [-3.00245327e-03,  6.58190057e-02],\n",
       "       [ 5.84481706e-03,  5.19361286e-02],\n",
       "       [ 9.07023097e-04,  6.23951011e-02],\n",
       "       [ 3.05173275e-03,  5.10952146e-02],\n",
       "       [-9.66550005e-03,  6.25362226e-02],\n",
       "       [ 5.00934705e-03,  5.34782163e-02],\n",
       "       [ 5.18294519e-03,  6.47183869e-02],\n",
       "       [ 3.40933771e-03,  5.23598896e-02],\n",
       "       [-7.76301351e-03,  5.84120445e-02],\n",
       "       [ 3.36393814e-04,  5.81226411e-02],\n",
       "       [-1.48615699e-03,  6.37382978e-02],\n",
       "       [-7.80002670e-03,  4.71404081e-02],\n",
       "       [ 2.31128138e-03,  5.84122081e-02],\n",
       "       [ 6.12087188e-02,  1.35424184e-03],\n",
       "       [ 5.55896110e-02,  1.11371547e-02],\n",
       "       [ 6.79153223e-02,  1.24458435e-03],\n",
       "       [ 5.83517757e-02, -5.33463218e-03],\n",
       "       [ 7.08161404e-02,  4.91172052e-03],\n",
       "       [ 5.33984531e-02,  1.40346857e-03],\n",
       "       [ 7.09291625e-02,  1.65025216e-03],\n",
       "       [ 6.91398181e-02,  3.13493816e-03],\n",
       "       [ 5.66833308e-02, -1.72787898e-04],\n",
       "       [ 5.29487459e-02,  2.10000955e-03],\n",
       "       [ 5.50399581e-02,  4.29421679e-03],\n",
       "       [ 6.73860322e-02, -2.80099586e-04],\n",
       "       [ 6.44849239e-02, -1.23095183e-02],\n",
       "       [ 6.40051262e-02, -2.97487771e-03],\n",
       "       [ 6.32449394e-02, -1.41849960e-03],\n",
       "       [ 5.32495533e-02,  3.19592990e-04],\n",
       "       [ 6.59820904e-02,  5.38993279e-03],\n",
       "       [ 5.41265777e-02,  2.15588468e-03],\n",
       "       [ 6.18567758e-02,  3.90388112e-03],\n",
       "       [ 5.28044567e-02, -5.55737123e-04],\n",
       "       [ 5.56912051e-02, -4.29024779e-03],\n",
       "       [ 5.94433543e-02,  4.72652200e-03],\n",
       "       [ 5.60172103e-02, -1.67019793e-03],\n",
       "       [ 6.54699472e-02,  3.06893944e-03],\n",
       "       [ 6.05976521e-02,  7.39747427e-05],\n",
       "       [ 5.58175223e-02,  3.83679166e-03],\n",
       "       [ 6.00704327e-02, -5.47044945e-04],\n",
       "       [ 5.35605246e-02, -1.37526537e-02],\n",
       "       [ 5.12692067e-02,  3.28322484e-03],\n",
       "       [ 6.06605405e-02, -1.19027716e-02],\n",
       "       [ 5.44661936e-02,  1.12384519e-02],\n",
       "       [ 5.01204102e-02, -4.26766588e-03],\n",
       "       [ 5.65324714e-02,  1.73133766e-03],\n",
       "       [ 5.72073132e-02,  9.41961254e-03],\n",
       "       [ 4.92145394e-02,  1.54891194e-02],\n",
       "       [ 5.79704180e-02, -3.58791383e-04],\n",
       "       [ 5.69928497e-02, -5.09558606e-03],\n",
       "       [ 6.67352653e-02, -3.77001412e-03],\n",
       "       [ 6.66284070e-02, -7.17179705e-04],\n",
       "       [ 5.30236133e-02, -6.27443055e-03],\n",
       "       [ 5.45711107e-02,  3.66160718e-03],\n",
       "       [ 5.67153418e-02,  7.86674987e-03],\n",
       "       [ 5.43316662e-02,  7.01623864e-03],\n",
       "       [ 5.35906313e-02,  1.22922072e-04],\n",
       "       [ 5.86107350e-02,  5.75473148e-03],\n",
       "       [ 6.64650253e-02,  1.19451676e-02],\n",
       "       [ 6.42308817e-02, -4.56805266e-03],\n",
       "       [ 6.53070891e-02,  6.50801762e-03],\n",
       "       [ 5.29103589e-02, -1.18094165e-03],\n",
       "       [ 6.40353962e-02, -2.94747872e-03],\n",
       "       [ 5.81256443e-02, -3.95693163e-03],\n",
       "       [ 5.46918123e-02, -2.61223954e-03],\n",
       "       [ 5.95775954e-02,  6.40402197e-03],\n",
       "       [ 5.48488499e-02,  2.14181665e-03],\n",
       "       [ 5.81540393e-02,  1.04632759e-02],\n",
       "       [ 6.20436966e-02,  1.45259263e-03],\n",
       "       [ 6.21388110e-02, -5.43331228e-03],\n",
       "       [ 5.37569827e-02, -1.37236473e-04],\n",
       "       [ 6.26164520e-02,  9.79400798e-03],\n",
       "       [ 6.47701246e-02,  1.52943099e-03],\n",
       "       [ 6.07906602e-02, -5.37419591e-03],\n",
       "       [ 5.74386558e-02,  4.54231583e-03],\n",
       "       [ 5.90763126e-02,  2.45208189e-03],\n",
       "       [ 5.99157057e-02, -7.76141440e-03],\n",
       "       [ 5.99692671e-02,  1.13929147e-02],\n",
       "       [ 6.06485122e-02, -5.07052639e-04],\n",
       "       [ 6.46115999e-02,  5.49081779e-03],\n",
       "       [ 6.41379076e-02,  1.97371464e-03],\n",
       "       [ 4.43950675e-02,  2.18836459e-04],\n",
       "       [ 6.28809811e-02,  2.02124284e-03],\n",
       "       [ 6.17423699e-02,  3.90458066e-03],\n",
       "       [ 6.08252150e-02,  1.47579039e-02],\n",
       "       [ 6.87697797e-02, -7.79247628e-04],\n",
       "       [ 5.81286635e-02, -3.17529308e-05],\n",
       "       [ 6.21908424e-02,  5.88320525e-03],\n",
       "       [ 5.69811583e-02, -2.94047698e-03],\n",
       "       [ 6.09978749e-02, -5.38241539e-03],\n",
       "       [ 4.53601372e-02, -2.90732401e-03],\n",
       "       [ 5.44660778e-02, -5.31466393e-03],\n",
       "       [ 5.89919964e-02, -1.95603068e-03],\n",
       "       [ 5.27937615e-02, -2.08025798e-03],\n",
       "       [ 5.63352310e-02,  7.59018014e-03],\n",
       "       [ 6.52194164e-02,  8.90387469e-04],\n",
       "       [ 5.85624498e-02, -2.69861837e-03],\n",
       "       [ 6.22575348e-02, -6.44438203e-03],\n",
       "       [ 5.75831534e-02,  5.82952757e-03],\n",
       "       [ 5.55705962e-02,  4.85465755e-03],\n",
       "       [ 5.78029142e-02,  5.37260929e-04],\n",
       "       [ 5.58361119e-02, -4.42758724e-03],\n",
       "       [ 6.43631522e-02, -2.25796449e-03],\n",
       "       [ 5.84958601e-02,  8.73455589e-03],\n",
       "       [ 6.57720692e-02, -6.34395723e-03],\n",
       "       [ 5.79655610e-02,  3.96295519e-03],\n",
       "       [ 6.61744249e-02,  4.77755785e-03],\n",
       "       [ 7.55309504e-02, -4.51383291e-03],\n",
       "       [ 6.36212658e-02, -1.69405445e-03],\n",
       "       [ 5.98517490e-02, -6.12295773e-03],\n",
       "       [ 4.76117398e-02, -2.93137199e-03],\n",
       "       [ 6.85247875e-02,  2.07916341e-03],\n",
       "       [ 4.77229486e-02, -7.85556526e-03],\n",
       "       [ 5.74132932e-03, -6.04134571e-02],\n",
       "       [ 2.01812824e-03, -6.12784482e-02],\n",
       "       [ 2.48611789e-03, -5.35170545e-02],\n",
       "       [ 3.68299126e-03, -6.08839558e-02],\n",
       "       [ 6.04966693e-03, -6.08285662e-02],\n",
       "       [-2.84287319e-03, -5.91893590e-02],\n",
       "       [ 1.36654648e-02, -5.47941781e-02],\n",
       "       [-3.19589745e-03, -4.77751273e-02],\n",
       "       [ 6.32329226e-03, -5.90254104e-02],\n",
       "       [-4.56854737e-04, -4.92371634e-02],\n",
       "       [-3.59810586e-03, -5.04051069e-02],\n",
       "       [-1.51845556e-03, -6.53071424e-02],\n",
       "       [-1.74896430e-03, -6.66877291e-02],\n",
       "       [-3.34510269e-03, -5.00022607e-02],\n",
       "       [-2.43730441e-03, -5.65623828e-02],\n",
       "       [ 3.64557340e-03, -5.57831897e-02],\n",
       "       [-8.77727074e-04, -5.25335613e-02],\n",
       "       [ 9.63047959e-03, -5.69490699e-02],\n",
       "       [-5.48510920e-04, -4.55670719e-02],\n",
       "       [-6.30967075e-03, -5.75301943e-02],\n",
       "       [ 4.15037490e-03, -5.70151500e-02],\n",
       "       [ 5.80746506e-04, -5.36966957e-02],\n",
       "       [ 9.36929455e-03, -5.58629336e-02],\n",
       "       [-7.26073079e-03, -5.88785319e-02],\n",
       "       [ 3.67966978e-03, -6.56877172e-02],\n",
       "       [ 1.22342361e-02, -4.18467296e-02],\n",
       "       [-9.42855487e-03, -6.22284869e-02],\n",
       "       [-8.82652872e-03, -5.17625631e-02],\n",
       "       [ 6.25706591e-03, -5.16583768e-02],\n",
       "       [ 1.77402722e-03, -5.52871464e-02],\n",
       "       [ 5.48692193e-04, -6.08818897e-02],\n",
       "       [-9.83623442e-03, -5.47535618e-02],\n",
       "       [ 3.37228826e-03, -5.37692341e-02],\n",
       "       [ 7.27523064e-03, -5.82227234e-02],\n",
       "       [ 1.29113262e-02, -5.58136674e-02],\n",
       "       [ 2.90874798e-03, -3.99706102e-02],\n",
       "       [-7.07793347e-03, -5.45664134e-02],\n",
       "       [ 3.73994943e-03, -4.45593456e-02],\n",
       "       [ 2.98868788e-03, -5.53465105e-02],\n",
       "       [ 1.02509170e-03, -5.56492200e-02],\n",
       "       [ 9.94379505e-03, -5.67674544e-02],\n",
       "       [-3.31004175e-03, -4.88510860e-02],\n",
       "       [ 1.45286331e-02, -5.21671598e-02],\n",
       "       [-2.21923754e-03, -4.87543724e-02],\n",
       "       [ 5.59435251e-03, -6.40273626e-02],\n",
       "       [ 8.97348345e-04, -5.36725802e-02],\n",
       "       [ 4.24543848e-03, -5.93179848e-02],\n",
       "       [-1.66708853e-03, -5.47708020e-02],\n",
       "       [ 1.53778169e-06, -5.89213953e-02],\n",
       "       [ 4.11715702e-03, -5.70400690e-02],\n",
       "       [-4.10843464e-03, -6.07899641e-02],\n",
       "       [ 8.54524988e-03, -4.90159728e-02],\n",
       "       [-2.11410032e-03, -5.26053592e-02],\n",
       "       [ 8.02523769e-03, -5.84837002e-02],\n",
       "       [ 6.31890056e-03, -4.67257964e-02],\n",
       "       [-4.58985542e-03, -5.03287212e-02],\n",
       "       [ 4.49195581e-03, -6.35281528e-02],\n",
       "       [-8.00222311e-03, -6.57876592e-02],\n",
       "       [ 1.24839236e-02, -6.40476319e-02],\n",
       "       [ 5.84018233e-03, -6.29777034e-02],\n",
       "       [-1.13431472e-02, -6.16073415e-02],\n",
       "       [ 3.35798391e-03, -5.51341339e-02],\n",
       "       [ 3.38734857e-03, -6.73037127e-02],\n",
       "       [ 3.31127668e-03, -5.72231113e-02],\n",
       "       [ 3.29868843e-03, -6.13478407e-02],\n",
       "       [-7.50916845e-04, -6.26221370e-02],\n",
       "       [ 2.49153362e-03, -5.50535556e-02],\n",
       "       [ 1.43717620e-02, -4.83635318e-02],\n",
       "       [-4.34211198e-03, -5.11528276e-02],\n",
       "       [ 1.05170674e-02, -4.51489919e-02],\n",
       "       [-6.63699000e-03, -6.32242210e-02],\n",
       "       [-9.17609698e-03, -5.04742799e-02],\n",
       "       [-1.04174123e-03, -6.05595020e-02],\n",
       "       [ 8.26456697e-03, -5.93778700e-02],\n",
       "       [ 2.40843623e-03, -5.54075430e-02],\n",
       "       [ 2.61686160e-03, -5.03976180e-02],\n",
       "       [-7.14055623e-04, -6.28598634e-02],\n",
       "       [ 1.17234475e-02, -5.21331447e-02],\n",
       "       [-3.36613985e-03, -5.78295410e-02],\n",
       "       [-1.52022711e-03, -5.31913160e-02],\n",
       "       [-3.74412135e-03, -5.61311668e-02],\n",
       "       [ 8.17711915e-03, -5.61758143e-02],\n",
       "       [ 3.62938619e-03, -5.05861759e-02],\n",
       "       [ 1.38011557e-04, -5.40248669e-02],\n",
       "       [-6.40710175e-03, -5.00982220e-02],\n",
       "       [-5.42724079e-03, -5.42743705e-02],\n",
       "       [ 4.72187273e-03, -5.69026456e-02],\n",
       "       [-6.56018890e-03, -5.47333040e-02],\n",
       "       [ 2.56788531e-03, -5.54191521e-02],\n",
       "       [ 3.55595357e-03, -6.55193273e-02],\n",
       "       [-1.17607831e-04, -4.76179598e-02],\n",
       "       [ 1.33308977e-02, -5.26346654e-02],\n",
       "       [ 2.38399788e-03, -6.27660739e-02],\n",
       "       [ 7.98767797e-03, -5.51163775e-02],\n",
       "       [ 8.17571527e-04, -7.06966208e-02],\n",
       "       [ 9.07790884e-04, -4.79233059e-02],\n",
       "       [ 3.40709059e-03, -5.59871078e-02],\n",
       "       [-5.24907818e-04, -6.05835839e-02],\n",
       "       [-4.56211718e-04, -5.19581019e-02],\n",
       "       [ 8.38690349e-04, -5.01721455e-02]], dtype=float64)"
      ]
     },
     "execution_count": 24,
     "metadata": {},
     "output_type": "execute_result"
    }
   ],
   "source": [
    "pt[1][0][:,0]"
   ]
  },
  {
   "cell_type": "code",
   "execution_count": 25,
   "id": "17daa964",
   "metadata": {},
   "outputs": [
    {
     "data": {
      "text/plain": [
       "Array(0.01099141, dtype=float64)"
      ]
     },
     "execution_count": 25,
     "metadata": {},
     "output_type": "execute_result"
    }
   ],
   "source": [
    "RBMM.p0((X_obs[0][10], X_obs[1][10]), (RBMM.mu[0][0], RBMM.mu[1][0]), 0.5)"
   ]
  },
  {
   "cell_type": "code",
   "execution_count": null,
   "id": "4a724f1b",
   "metadata": {},
   "outputs": [],
   "source": []
  }
 ],
 "metadata": {
  "kernelspec": {
   "display_name": "Python 3 (ipykernel)",
   "language": "python",
   "name": "python3"
  },
  "language_info": {
   "codemirror_mode": {
    "name": "ipython",
    "version": 3
   },
   "file_extension": ".py",
   "mimetype": "text/x-python",
   "name": "python",
   "nbconvert_exporter": "python",
   "pygments_lexer": "ipython3",
   "version": "3.9.13"
  }
 },
 "nbformat": 4,
 "nbformat_minor": 5
}
