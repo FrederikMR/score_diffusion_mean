{
 "cells": [
  {
   "cell_type": "markdown",
   "id": "83580fad",
   "metadata": {},
   "source": [
    "# Riemannian Brownian Mixture Model"
   ]
  },
  {
   "cell_type": "code",
   "execution_count": 1,
   "id": "b7e5319b",
   "metadata": {},
   "outputs": [
    {
     "name": "stderr",
     "output_type": "stream",
     "text": [
      "An NVIDIA GPU may be present on this machine, but a CUDA-enabled jaxlib is not installed. Falling back to cpu.\n",
      "2024-04-25 16:45:41.456763: W tensorflow/compiler/tf2tensorrt/utils/py_utils.cc:38] TF-TRT Warning: Could not find TensorRT\n"
     ]
    }
   ],
   "source": [
    "#Modules\n",
    "\n",
    "#jax\n",
    "from jax import jacfwd, vmap\n",
    "import jax.numpy as jnp\n",
    "import jax.random as jrandom\n",
    "\n",
    "#haiku\n",
    "import haiku as hk\n",
    "\n",
    "#os\n",
    "import os\n",
    "\n",
    "#numpy\n",
    "import numpy as np\n",
    "\n",
    "#matplotlib\n",
    "import matplotlib.pyplot as plt\n",
    "import matplotlib as mpl\n",
    "from mpl_toolkits.mplot3d import Axes3D\n",
    "from mpl_toolkits.axes_grid1 import make_axes_locatable\n",
    "import matplotlib.ticker as tkr\n",
    "\n",
    "#other modules\n",
    "from load_manifold import get_generator_dim, load_manifold\n",
    "\n",
    "#scores\n",
    "from models import models\n",
    "\n",
    "#jaxgeometry\n",
    "from jaxgeometry.statistics.score_matching import diffusion_mean as dm_score\n",
    "from jaxgeometry.statistics.score_matching import model_loader\n",
    "from jaxgeometry.statistics.score_matching import BrownianMixture\n",
    "from jaxgeometry.statistics.score_matching import ScoreEvaluation\n",
    "from jaxgeometry.manifolds import *"
   ]
  },
  {
   "cell_type": "code",
   "execution_count": 2,
   "id": "b135b8a7",
   "metadata": {},
   "outputs": [],
   "source": [
    "#Hyper Parameters\n",
    "T = 0.5\n",
    "t0 = 0.01\n",
    "score_path = \"scores\"\n",
    "s2_approx = 0\n",
    "s1loss_type = \"dsmvr\"\n",
    "s2loss_type = \"dsmvr\"\n",
    "s2_type = \"s1s2\"\n",
    "seed = 2712\n",
    "K = 4\n",
    "\n",
    "figure_path = '../figures/ml_regression/'\n",
    "if not os.path.exists(figure_path):\n",
    "    os.makedirs(figure_path)"
   ]
  },
  {
   "cell_type": "code",
   "execution_count": 3,
   "id": "e82d166b",
   "metadata": {},
   "outputs": [],
   "source": [
    "def load_score_model(manifold, dim):\n",
    "    M, x0, sampling_method, generator_dim, layers, opt_val = load_manifold(manifold, dim)\n",
    "    if \"Local\" in sampling_method:\n",
    "        method = \"Local\"\n",
    "    else:\n",
    "        method = \"Embedded\"\n",
    "    \n",
    "    s1_path = ''.join((score_path, f\"/{manifold}{dim}/s1_{s1loss_type}/\"))\n",
    "    s2_path = ''.join((score_path, f\"/{manifold}{dim}/{s2_type}_{s2loss_type}/\"))\n",
    "    layers = get_generator_dim(generator_dim)\n",
    "\n",
    "    s1_model = hk.transform(lambda x: models.MLP_s1(dim=generator_dim, layers=layers)(x))\n",
    "    \n",
    "    if s2_approx:\n",
    "        if s2_type == \"s2\":\n",
    "            s2_model = hk.transform(lambda x: models.MLP_s2(layers_alpha=layers, layers_beta=layers,\n",
    "                                                            dim=generator_dim, r = max(generator_dim//2,1))(x))\n",
    "        elif s2_type == \"s1s2\":\n",
    "            @hk.transform\n",
    "            def s2_model(x):\n",
    "\n",
    "                s1s2 =  models.MLP_s1s2(\n",
    "                    models.MLP_s1(dim=generator_dim, layers=layers), \n",
    "                    models.MLP_s2(layers_alpha=layers, \n",
    "                                  layers_beta=layers,\n",
    "                                  dim=generator_dim,\n",
    "                                  r = max(generator_dim//2,1))\n",
    "                    )\n",
    "\n",
    "                return s1s2(x)[1]\n",
    "    else:\n",
    "        s2_model = None\n",
    "        \n",
    "    s1_state = model_loader.load_model(s1_path)\n",
    "    if s2_approx:\n",
    "        s2_state = model_loader.load_model(s2_path)\n",
    "    else:\n",
    "        s2_state = None\n",
    "    \n",
    "    rng_key = jrandom.PRNGKey(seed)\n",
    "    s1_fun = lambda x,y,t: s1_model.apply(s1_state.params, rng_key, jnp.hstack((x,y,t)))\n",
    "    if s2_approx:\n",
    "        s2_fun = lambda x,y,t: s2_model.apply(s2_state.params, rng_key, jnp.hstack((x,y,t)))\n",
    "    else:\n",
    "        s2_fun = None\n",
    "        \n",
    "    ScoreEval = ScoreEvaluation(M,\n",
    "                                s1_model=s1_fun,\n",
    "                                s2_model=s2_fun,\n",
    "                                method = method\n",
    "                                )\n",
    "                       \n",
    "    return M, x0, ScoreEval"
   ]
  },
  {
   "cell_type": "markdown",
   "id": "01f672c4",
   "metadata": {},
   "source": [
    "## Testing with $\\mathbb{R}^{2}$"
   ]
  },
  {
   "cell_type": "code",
   "execution_count": 4,
   "id": "0597bbcd",
   "metadata": {},
   "outputs": [
    {
     "name": "stdout",
     "output_type": "stream",
     "text": [
      "using M.Exp for Logarithm\n"
     ]
    }
   ],
   "source": [
    "M, x0, ScoreEval = load_score_model(\"Euclidean\", 2)"
   ]
  },
  {
   "cell_type": "markdown",
   "id": "238205b0",
   "metadata": {},
   "source": [
    "### Generate Test Data"
   ]
  },
  {
   "cell_type": "code",
   "execution_count": 5,
   "id": "e95a387a",
   "metadata": {},
   "outputs": [],
   "source": [
    "eps = 0.1*np.random.normal(size=(100,2))\n",
    "x = []\n",
    "centers = [jnp.array([-1.0,0.0]), jnp.array([0.0,1.0]), jnp.array([1.0,0.0]), jnp.array([0.0,-1.0])]\n",
    "for i in range(K):\n",
    "    eps = 0.1*np.random.normal(size=(100,2))\n",
    "    x.append(eps+centers[i])\n",
    "x = jnp.vstack(x)\n",
    "\n",
    "X_obs = (x, jnp.zeros(len(x)).reshape(-1))"
   ]
  },
  {
   "cell_type": "markdown",
   "id": "05e74c84",
   "metadata": {},
   "source": [
    "### Testing with True Gradient"
   ]
  },
  {
   "cell_type": "code",
   "execution_count": 6,
   "id": "de38b133",
   "metadata": {},
   "outputs": [],
   "source": [
    "RBMM = BrownianMixture(M=M,\n",
    "                       grady_log=lambda x,y,t: M.grady_log_hk(x,y,t)[0],\n",
    "                       gradt_log=lambda x,y,t: M.gradt_log_hk(x,y,t),\n",
    "                       n_clusters=K,\n",
    "                       eps=0.00001,\n",
    "                       method='Local',\n",
    "                       update_method=\"Gradient\",\n",
    "                       max_iter=1000,\n",
    "                       lr=0.01,\n",
    "                       dt_steps=100,\n",
    "                       min_t=1e-3,\n",
    "                       max_t=1.0,\n",
    "                       seed=2712,\n",
    "                      )"
   ]
  },
  {
   "cell_type": "code",
   "execution_count": 7,
   "id": "6599ec62",
   "metadata": {},
   "outputs": [],
   "source": [
    "mu_init = (jnp.stack((X_obs[0][0], X_obs[0][1], X_obs[0][2], X_obs[0][3])),\n",
    "          jnp.stack((X_obs[1][0], X_obs[1][1], X_obs[1][2], X_obs[1][3])))\n",
    "mu_init = (jnp.stack((jnp.array([1.0,0.0]), jnp.array([0.0,1.0]), jnp.array([-1.0,0.0]), jnp.array([0.0,-1.0]))),\n",
    "          jnp.zeros(4).reshape(4,-1))\n",
    "T = 0.5"
   ]
  },
  {
   "cell_type": "code",
   "execution_count": 8,
   "id": "fba1c7c5",
   "metadata": {},
   "outputs": [
    {
     "data": {
      "text/plain": [
       "Array(175.43638657, dtype=float64)"
      ]
     },
     "execution_count": 8,
     "metadata": {},
     "output_type": "execute_result"
    }
   ],
   "source": [
    "RBMM.density((X_obs[0][200], X_obs[1][200].reshape(1)),\n",
    "            (mu_init[0][0], mu_init[1][0].reshape(1)),\n",
    "            jnp.array([0.5]))"
   ]
  },
  {
   "cell_type": "code",
   "execution_count": 9,
   "id": "ef20451c",
   "metadata": {},
   "outputs": [
    {
     "data": {
      "text/plain": [
       "Array([1., 0.], dtype=float64)"
      ]
     },
     "execution_count": 9,
     "metadata": {},
     "output_type": "execute_result"
    }
   ],
   "source": [
    "mu_init[0][0]"
   ]
  },
  {
   "cell_type": "code",
   "execution_count": 10,
   "id": "2ac2c945",
   "metadata": {},
   "outputs": [
    {
     "data": {
      "text/plain": [
       "Array([[ 1.,  0.],\n",
       "       [ 0.,  1.],\n",
       "       [-1.,  0.],\n",
       "       [ 0., -1.]], dtype=float64)"
      ]
     },
     "execution_count": 10,
     "metadata": {},
     "output_type": "execute_result"
    }
   ],
   "source": [
    "mu_init[0]"
   ]
  },
  {
   "cell_type": "code",
   "execution_count": 11,
   "id": "81656e08",
   "metadata": {},
   "outputs": [
    {
     "data": {
      "text/plain": [
       "Array([-0.89711048, -0.09101539], dtype=float64)"
      ]
     },
     "execution_count": 11,
     "metadata": {},
     "output_type": "execute_result"
    }
   ],
   "source": [
    "X_obs[0][0]"
   ]
  },
  {
   "cell_type": "code",
   "execution_count": 12,
   "id": "2b75ca9a",
   "metadata": {},
   "outputs": [
    {
     "data": {
      "text/plain": [
       "Array([0., 0.], dtype=float64)"
      ]
     },
     "execution_count": 12,
     "metadata": {},
     "output_type": "execute_result"
    }
   ],
   "source": [
    "s1_model = lambda x,y,t: M.grady_log_hk(x,y,t)[0]\n",
    "t = 0.1\n",
    "T = 0.5\n",
    "s1_model((mu_init[0][0], mu_init[1][0]), (mu_init[0][0], mu_init[1][0]), T-t)"
   ]
  },
  {
   "cell_type": "code",
   "execution_count": 13,
   "id": "5365e49a",
   "metadata": {},
   "outputs": [
    {
     "data": {
      "text/plain": [
       "Array([4.7427762 , 0.22753847], dtype=float64)"
      ]
     },
     "execution_count": 13,
     "metadata": {},
     "output_type": "execute_result"
    }
   ],
   "source": [
    "s1_model((mu_init[0][0], mu_init[1][0]), (X_obs[0][0], X_obs[1][0]), T-t)"
   ]
  },
  {
   "cell_type": "code",
   "execution_count": 14,
   "id": "b8d15ae8",
   "metadata": {},
   "outputs": [
    {
     "name": "stdout",
     "output_type": "stream",
     "text": [
      "[-400. -400. -400. -400.]\n",
      "[0.25 0.25 0.25 0.25]\n",
      "[4.25 4.25 4.25 4.25]\n",
      "[0.25 0.25 0.25 0.25]\n"
     ]
    }
   ],
   "source": [
    "RBMM.fit((X_obs[0], X_obs[1].reshape(-1,1)), mu_init=mu_init)"
   ]
  },
  {
   "cell_type": "code",
   "execution_count": 15,
   "id": "0a718a14",
   "metadata": {},
   "outputs": [
    {
     "data": {
      "text/plain": [
       "(Array([[ 0.01924272,  0.00327201],\n",
       "        [ 0.00852381,  0.01404561],\n",
       "        [-0.0023764 ,  0.00327142],\n",
       "        [ 0.00852321, -0.00757154]], dtype=float64),\n",
       " Array([[0.],\n",
       "        [0.],\n",
       "        [0.],\n",
       "        [0.]], dtype=float64))"
      ]
     },
     "execution_count": 15,
     "metadata": {},
     "output_type": "execute_result"
    }
   ],
   "source": [
    "RBMM.mu"
   ]
  },
  {
   "cell_type": "code",
   "execution_count": 16,
   "id": "a14f8d70",
   "metadata": {},
   "outputs": [
    {
     "data": {
      "text/plain": [
       "Array([0.52134035, 0.52135358, 0.52138405, 0.52137035], dtype=float64)"
      ]
     },
     "execution_count": 16,
     "metadata": {},
     "output_type": "execute_result"
    }
   ],
   "source": [
    "RBMM.T"
   ]
  },
  {
   "cell_type": "code",
   "execution_count": 17,
   "id": "f2bea7ec",
   "metadata": {},
   "outputs": [
    {
     "data": {
      "text/plain": [
       "Array([0.25, 0.25, 0.25, 0.25], dtype=float64)"
      ]
     },
     "execution_count": 17,
     "metadata": {},
     "output_type": "execute_result"
    }
   ],
   "source": [
    "RBMM.pi"
   ]
  },
  {
   "cell_type": "code",
   "execution_count": 57,
   "id": "6f891b57",
   "metadata": {},
   "outputs": [
    {
     "data": {
      "image/png": "[encoded data removed]",
      "text/plain": [
       "<Figure size 1000x1000 with 1 Axes>"
      ]
     },
     "metadata": {},
     "output_type": "display_data"
    }
   ],
   "source": [
    "color = ['magenta', 'red', 'green', 'orange']\n",
    "fig = plt.figure(figsize=(10,10))\n",
    "ax = fig.add_subplot(111)\n",
    "for i in range(K):\n",
    "    ax.scatter(RBMM.mu[0][i,0], RBMM.mu[0][i,1], alpha=1.0, s=100, color=color[i])\n",
    "ax.scatter(X_obs[0][:,0], \n",
    "           X_obs[0][:,1], alpha=0.2, color=\"black\", label='Cluser ' + str(i+1))\n",
    "ax.set_xlabel(r'$x^{1}$')\n",
    "ax.set_ylabel(r'$x^{2}$')\n",
    "ax.grid(True)"
   ]
  },
  {
   "cell_type": "code",
   "execution_count": 95,
   "id": "fbed48b0",
   "metadata": {},
   "outputs": [],
   "source": [
    "pt = vmap(lambda x,c: vmap(lambda mu_x,mu_c,t: RBMM.test((x,c),(mu_x,mu_c), t))(RBMM.mu[0],\n",
    "                                                                                    RBMM.mu[1],\n",
    "                                                                                    RBMM.T))(X_obs[0],\n",
    "                                                                                                        X_obs[1])"
   ]
  },
  {
   "cell_type": "code",
   "execution_count": 96,
   "id": "5813a1bb",
   "metadata": {},
   "outputs": [
    {
     "data": {
      "text/plain": [
       "Array([[4.93732834e-071, 1.56921535e-070, 2.58408404e-070,\n",
       "        2.73077854e-070],\n",
       "       [1.55901190e-033, 2.85087806e-033, 2.14374250e-033,\n",
       "        4.01094940e-033],\n",
       "       [2.62072496e-105, 9.91658070e-105, 1.51087139e-104,\n",
       "        1.91020877e-104],\n",
       "       ...,\n",
       "       [9.27946025e-069, 7.14824220e-068, 3.41643483e-065,\n",
       "        1.09456625e-067],\n",
       "       [2.00339820e-061, 1.59857470e-060, 5.85607725e-058,\n",
       "        2.56573204e-060],\n",
       "       [2.46697727e-090, 3.44668754e-089, 3.93876309e-086,\n",
       "        6.61653472e-089]], dtype=float64)"
      ]
     },
     "execution_count": 96,
     "metadata": {},
     "output_type": "execute_result"
    }
   ],
   "source": [
    "pt[-1]"
   ]
  },
  {
   "cell_type": "code",
   "execution_count": 97,
   "id": "825611ed",
   "metadata": {},
   "outputs": [
    {
     "data": {
      "text/plain": [
       "Array([[8.66187043e-069, 2.75297470e-068, 4.53342367e-068,\n",
       "        4.79077920e-068],\n",
       "       [2.73507414e-031, 5.00147745e-031, 3.76090438e-031,\n",
       "        7.03666469e-031],\n",
       "       [4.59770517e-103, 1.73972909e-102, 2.65061818e-102,\n",
       "        3.35120124e-102],\n",
       "       ...,\n",
       "       [1.62795498e-066, 1.25406178e-065, 5.99366981e-063,\n",
       "        1.92026748e-065],\n",
       "       [3.51468942e-059, 2.80448168e-058, 1.02736903e-055,\n",
       "        4.50122757e-058],\n",
       "       [4.32797578e-088, 6.04674408e-087, 6.91002365e-084,\n",
       "        1.16078094e-086]], dtype=float64)"
      ]
     },
     "execution_count": 97,
     "metadata": {},
     "output_type": "execute_result"
    }
   ],
   "source": [
    "pt[0]"
   ]
  },
  {
   "cell_type": "code",
   "execution_count": 98,
   "id": "9fe461f8",
   "metadata": {},
   "outputs": [
    {
     "data": {
      "text/plain": [
       "Array([[-0.00019094,  0.01014752],\n",
       "       [-0.00270702,  0.00327996],\n",
       "       [-0.001678  , -0.01599399],\n",
       "       [-0.00416253,  0.00165014]], dtype=float64)"
      ]
     },
     "execution_count": 98,
     "metadata": {},
     "output_type": "execute_result"
    }
   ],
   "source": [
    "RBMM.mu[0]"
   ]
  },
  {
   "cell_type": "code",
   "execution_count": 99,
   "id": "d78d869d",
   "metadata": {},
   "outputs": [
    {
     "data": {
      "text/plain": [
       "Array([[-5.81368416e-02,  1.57382457e-03],\n",
       "       [-4.14709138e-02,  9.60881242e-03],\n",
       "       [-7.04548934e-02,  1.62472355e-03],\n",
       "       [-5.38976261e-02,  8.51013940e-03],\n",
       "       [-5.53627427e-02,  1.54624472e-02],\n",
       "       [-5.11296274e-02,  1.40099209e-02],\n",
       "       [-4.78863577e-02, -3.39589615e-03],\n",
       "       [-4.71107219e-02,  6.19191866e-03],\n",
       "       [-6.82478614e-02,  5.36489172e-03],\n",
       "       [-5.21966181e-02,  4.85475733e-03],\n",
       "       [-5.51939833e-02,  1.58409740e-03],\n",
       "       [-5.77826171e-02,  1.45333459e-02],\n",
       "       [-5.83896523e-02,  6.85555715e-04],\n",
       "       [-6.56521681e-02,  1.17559644e-02],\n",
       "       [-6.73882266e-02,  1.36883394e-02],\n",
       "       [-5.60392537e-02,  9.18737938e-03],\n",
       "       [-6.21498223e-02,  1.62370565e-02],\n",
       "       [-6.11115208e-02, -3.50357267e-03],\n",
       "       [-5.73192615e-02,  1.48508667e-02],\n",
       "       [-6.86092294e-02, -1.66152914e-03],\n",
       "       [-5.45403990e-02,  4.37482633e-03],\n",
       "       [-6.36512729e-02,  1.39677078e-02],\n",
       "       [-5.21178853e-02,  6.16426002e-03],\n",
       "       [-6.28221137e-02,  7.20214653e-04],\n",
       "       [-6.00525661e-02,  7.97659118e-03],\n",
       "       [-6.37310250e-02,  3.91302058e-03],\n",
       "       [-4.94924309e-02,  1.05333153e-02],\n",
       "       [-6.50223826e-02,  4.04729882e-04],\n",
       "       [-5.88860185e-02,  7.50231911e-03],\n",
       "       [-6.17161404e-02,  8.34178930e-03],\n",
       "       [-6.29775598e-02,  3.56659887e-03],\n",
       "       [-5.66109029e-02,  1.66929623e-02],\n",
       "       [-4.81076055e-02,  5.10154240e-03],\n",
       "       [-5.91550307e-02,  1.18542164e-02],\n",
       "       [-6.41243890e-02,  1.36338412e-02],\n",
       "       [-5.92587061e-02,  8.80619001e-03],\n",
       "       [-6.20702570e-02,  2.46313824e-03],\n",
       "       [-5.09370247e-02,  1.13667015e-02],\n",
       "       [-5.24313126e-02,  5.42828039e-03],\n",
       "       [-6.72453923e-02,  1.54277581e-02],\n",
       "       [-6.50656861e-02,  1.80406350e-02],\n",
       "       [-5.84379996e-02,  8.31766746e-03],\n",
       "       [-6.37977822e-02,  1.93935267e-02],\n",
       "       [-5.98812535e-02,  1.21511673e-02],\n",
       "       [-5.63985014e-02,  1.17580810e-02],\n",
       "       [-5.21702315e-02,  1.52080641e-02],\n",
       "       [-6.00439766e-02,  9.85726845e-03],\n",
       "       [-6.35562550e-02,  1.64244750e-02],\n",
       "       [-6.54280784e-02,  5.99057087e-03],\n",
       "       [-5.92977756e-02,  7.36558255e-03],\n",
       "       [-6.59589077e-02,  5.46844689e-03],\n",
       "       [-4.98579419e-02,  1.03367623e-02],\n",
       "       [-5.26131290e-02,  8.13244886e-03],\n",
       "       [-5.97523594e-02,  1.58004403e-02],\n",
       "       [-5.03935247e-02,  9.05046461e-03],\n",
       "       [-5.67083052e-02,  1.72560004e-03],\n",
       "       [-5.70257474e-02,  1.91005492e-02],\n",
       "       [-5.59331623e-02,  1.53300295e-02],\n",
       "       [-5.17477052e-02,  6.44933429e-03],\n",
       "       [-5.47565444e-02,  1.40355423e-02],\n",
       "       [-5.66264610e-02,  2.09630381e-02],\n",
       "       [-4.46951948e-02,  2.19008651e-02],\n",
       "       [-6.01482660e-02,  7.73305094e-03],\n",
       "       [-5.82697246e-02,  1.24057206e-02],\n",
       "       [-5.69352823e-02,  5.23223359e-03],\n",
       "       [-5.26242662e-02,  7.03982545e-03],\n",
       "       [-6.71622158e-02,  2.07194900e-02],\n",
       "       [-5.72810563e-02,  1.44004604e-02],\n",
       "       [-5.03062020e-02,  1.43930252e-02],\n",
       "       [-5.52859355e-02,  9.58254540e-03],\n",
       "       [-5.75159238e-02,  1.25711330e-02],\n",
       "       [-5.21003819e-02,  1.19831398e-02],\n",
       "       [-5.12866354e-02,  9.19837211e-03],\n",
       "       [-5.58772583e-02, -1.38934590e-03],\n",
       "       [-5.36555846e-02,  8.58341859e-03],\n",
       "       [-6.47858526e-02,  1.98004447e-02],\n",
       "       [-4.80368678e-02,  1.73771998e-02],\n",
       "       [-5.16590982e-02,  5.94051697e-03],\n",
       "       [-6.02773294e-02,  1.53530452e-02],\n",
       "       [-6.82388158e-02, -6.00996935e-04],\n",
       "       [-5.75878070e-02,  3.48340778e-03],\n",
       "       [-6.21561363e-02,  1.42481265e-02],\n",
       "       [-5.50865455e-02,  1.12664415e-02],\n",
       "       [-6.01959292e-02,  1.90439939e-02],\n",
       "       [-6.32140265e-02,  5.97602542e-03],\n",
       "       [-6.24096160e-02,  1.64525792e-02],\n",
       "       [-5.70677599e-02,  1.32641072e-02],\n",
       "       [-5.44932904e-02,  1.97436257e-02],\n",
       "       [-6.11121230e-02, -5.99415637e-03],\n",
       "       [-5.69081410e-02,  8.77548555e-03],\n",
       "       [-5.58977740e-02,  6.37446787e-04],\n",
       "       [-4.71234941e-02,  7.45460566e-03],\n",
       "       [-5.52284419e-02,  8.80548107e-03],\n",
       "       [-4.65139337e-02,  6.29617331e-03],\n",
       "       [-4.44360892e-02,  9.88418866e-03],\n",
       "       [-5.58649916e-02,  5.16355237e-03],\n",
       "       [-6.20932148e-02,  1.54309848e-02],\n",
       "       [-6.49115221e-02,  1.83057624e-02],\n",
       "       [-5.62422132e-02,  1.85133691e-02],\n",
       "       [-4.90954039e-02,  1.53474052e-02],\n",
       "       [ 1.64588408e-02,  7.19885472e-02],\n",
       "       [-8.66530884e-04,  7.10704543e-02],\n",
       "       [ 6.65860830e-03,  6.05420660e-02],\n",
       "       [-5.60533967e-04,  6.31717677e-02],\n",
       "       [ 4.22520014e-04,  5.89308317e-02],\n",
       "       [-5.12470431e-03,  6.60145116e-02],\n",
       "       [-1.08321218e-02,  6.78260687e-02],\n",
       "       [ 3.56198523e-03,  6.05978675e-02],\n",
       "       [ 1.07737879e-03,  6.11287041e-02],\n",
       "       [ 1.22317486e-03,  6.74984085e-02],\n",
       "       [ 4.00739006e-03,  7.09721734e-02],\n",
       "       [ 1.82767487e-04,  6.16928289e-02],\n",
       "       [-2.33891721e-03,  6.19175416e-02],\n",
       "       [-3.50319668e-04,  6.50203775e-02],\n",
       "       [-3.29312139e-03,  7.18610738e-02],\n",
       "       [ 1.52428863e-03,  6.24406321e-02],\n",
       "       [-5.65154760e-03,  6.34632718e-02],\n",
       "       [ 1.78883135e-03,  6.46805625e-02],\n",
       "       [-4.39688359e-03,  7.45489670e-02],\n",
       "       [ 3.85289801e-03,  6.23197508e-02],\n",
       "       [ 8.25069386e-03,  6.73106157e-02],\n",
       "       [ 1.34608263e-03,  7.38455546e-02],\n",
       "       [ 2.06535961e-03,  7.23760425e-02],\n",
       "       [-1.12608452e-02,  6.80764795e-02],\n",
       "       [ 6.30360176e-03,  6.50843500e-02],\n",
       "       [-1.39474919e-03,  6.63280443e-02],\n",
       "       [ 6.54087720e-04,  5.96111878e-02],\n",
       "       [-2.00858039e-03,  6.96464383e-02],\n",
       "       [-3.66623299e-03,  6.59330805e-02],\n",
       "       [ 3.74621128e-03,  6.04760823e-02],\n",
       "       [-1.00639148e-02,  7.29390749e-02],\n",
       "       [-4.04102516e-04,  5.97310122e-02],\n",
       "       [-4.22692423e-05,  6.23632762e-02],\n",
       "       [-5.74734323e-03,  6.29120897e-02],\n",
       "       [ 3.54956761e-03,  6.76369743e-02],\n",
       "       [ 4.65642307e-03,  7.24772211e-02],\n",
       "       [ 4.90100042e-03,  7.67172778e-02],\n",
       "       [-3.41806968e-04,  7.98437311e-02],\n",
       "       [ 6.37800768e-04,  6.85697082e-02],\n",
       "       [-2.03808367e-03,  6.09641799e-02],\n",
       "       [-5.82690156e-03,  6.34774506e-02],\n",
       "       [-1.15064257e-03,  6.68084387e-02],\n",
       "       [-2.93333313e-03,  6.48901564e-02],\n",
       "       [-6.27794211e-03,  6.65019860e-02],\n",
       "       [ 7.54281045e-03,  6.78424039e-02],\n",
       "       [-7.31940766e-05,  7.17786998e-02],\n",
       "       [ 6.42030844e-03,  7.41382167e-02],\n",
       "       [-7.38130772e-03,  6.55602753e-02],\n",
       "       [-1.10632394e-03,  6.81582625e-02],\n",
       "       [-1.92325032e-03,  6.59266699e-02],\n",
       "       [ 4.19469341e-03,  5.65257336e-02],\n",
       "       [-4.16342955e-03,  7.01593170e-02],\n",
       "       [-1.36068227e-02,  6.66999608e-02],\n",
       "       [-1.30526437e-03,  5.93011705e-02],\n",
       "       [ 1.71988133e-03,  5.16599190e-02],\n",
       "       [-8.74101698e-03,  7.26793138e-02],\n",
       "       [-3.99591926e-03,  6.12060933e-02],\n",
       "       [ 7.15872914e-03,  6.54811667e-02],\n",
       "       [ 6.84612544e-03,  6.50409916e-02],\n",
       "       [-1.90103396e-03,  5.95669583e-02],\n",
       "       [ 3.91548345e-05,  6.36949536e-02],\n",
       "       [-7.11069982e-03,  5.88377308e-02],\n",
       "       [-3.94729297e-03,  7.24875521e-02],\n",
       "       [ 1.67824909e-03,  6.85578412e-02],\n",
       "       [ 1.29793845e-02,  7.29020071e-02],\n",
       "       [ 4.94188224e-04,  6.79911685e-02],\n",
       "       [ 3.45848976e-03,  5.65791355e-02],\n",
       "       [-1.31260570e-02,  6.57965639e-02],\n",
       "       [-7.31401433e-04,  5.37133214e-02],\n",
       "       [-1.01284919e-03,  6.45167639e-02],\n",
       "       [-1.18597693e-02,  6.01015808e-02],\n",
       "       [ 4.86605083e-03,  7.12254689e-02],\n",
       "       [ 6.64124876e-03,  6.30777194e-02],\n",
       "       [ 7.74332465e-03,  6.90634718e-02],\n",
       "       [ 4.96049336e-03,  7.38352864e-02],\n",
       "       [ 6.82343871e-03,  5.52837053e-02],\n",
       "       [-8.18843688e-03,  7.41395729e-02],\n",
       "       [-3.02042643e-03,  6.92595706e-02],\n",
       "       [-4.32699220e-03,  5.83137824e-02],\n",
       "       [-2.70300959e-03,  6.57977530e-02],\n",
       "       [-3.19795992e-03,  6.03232566e-02],\n",
       "       [-2.97193447e-03,  6.04738019e-02],\n",
       "       [-7.47627422e-03,  7.66647701e-02],\n",
       "       [ 1.13919112e-03,  6.05360063e-02],\n",
       "       [ 4.54625108e-03,  7.24009831e-02],\n",
       "       [ 9.22677767e-04,  6.02371234e-02],\n",
       "       [-7.83345380e-03,  5.89818927e-02],\n",
       "       [-2.05329534e-03,  7.11461643e-02],\n",
       "       [ 8.61286426e-03,  8.04533345e-02],\n",
       "       [ 7.83689776e-03,  7.07952523e-02],\n",
       "       [ 3.26384619e-04,  6.42891150e-02],\n",
       "       [ 4.98473033e-04,  6.30536963e-02],\n",
       "       [ 4.77172900e-03,  5.61164826e-02],\n",
       "       [-3.38791570e-03,  6.15106395e-02],\n",
       "       [-3.03134219e-03,  8.03186000e-02],\n",
       "       [-2.51590811e-03,  6.53515058e-02],\n",
       "       [-9.12763869e-04,  7.14673139e-02],\n",
       "       [-1.67650296e-02,  7.53604387e-02],\n",
       "       [-4.64748644e-03,  5.97124568e-02],\n",
       "       [-4.80776438e-04,  7.20726612e-02],\n",
       "       [ 5.40179929e-02,  1.30064207e-02],\n",
       "       [ 5.33514251e-02,  1.37198767e-02],\n",
       "       [ 6.27639656e-02,  6.42959522e-03],\n",
       "       [ 5.28461471e-02,  7.78068540e-03],\n",
       "       [ 5.35409854e-02,  2.55810360e-03],\n",
       "       [ 5.73540702e-02,  1.78446151e-02],\n",
       "       [ 6.01197336e-02,  4.56109850e-03],\n",
       "       [ 5.71629911e-02,  1.03010099e-02],\n",
       "       [ 6.87120788e-02,  4.09034331e-03],\n",
       "       [ 5.43209935e-02,  1.73105118e-02],\n",
       "       [ 6.51117548e-02,  9.69438021e-03],\n",
       "       [ 6.54450848e-02,  4.00439124e-03],\n",
       "       [ 5.09328055e-02,  1.85935520e-03],\n",
       "       [ 6.08191771e-02, -2.61212351e-03],\n",
       "       [ 5.04657163e-02,  6.23416956e-03],\n",
       "       [ 6.10430912e-02, -4.66342044e-03],\n",
       "       [ 6.22664567e-02,  3.30685436e-03],\n",
       "       [ 6.22644548e-02,  6.48686929e-03],\n",
       "       [ 6.09824832e-02,  6.06464680e-03],\n",
       "       [ 5.52826349e-02,  4.47973053e-03],\n",
       "       [ 4.89282995e-02,  5.94836316e-03],\n",
       "       [ 5.73153009e-02,  1.05332434e-02],\n",
       "       [ 4.92743323e-02,  1.15411638e-02],\n",
       "       [ 5.28573591e-02,  1.06758935e-02],\n",
       "       [ 5.91930187e-02,  6.49664338e-03],\n",
       "       [ 5.53099457e-02,  1.04152143e-02],\n",
       "       [ 5.35349622e-02,  4.82468285e-03],\n",
       "       [ 5.44376865e-02,  1.47666271e-02],\n",
       "       [ 5.30692500e-02,  8.23865753e-03],\n",
       "       [ 5.46256938e-02,  1.11965409e-02],\n",
       "       [ 5.81734932e-02,  8.74993271e-03],\n",
       "       [ 6.18817076e-02,  8.70097726e-03],\n",
       "       [ 5.34804685e-02, -5.36637886e-03],\n",
       "       [ 5.24422527e-02,  1.64683605e-02],\n",
       "       [ 5.09203194e-02,  8.10303275e-03],\n",
       "       [ 5.84584315e-02,  8.61102829e-03],\n",
       "       [ 4.35752818e-02,  1.21504174e-02],\n",
       "       [ 5.96001950e-02,  1.76970825e-02],\n",
       "       [ 4.99687092e-02,  1.05513793e-02],\n",
       "       [ 6.98663465e-02,  1.12491525e-02],\n",
       "       [ 5.35417923e-02,  7.04146807e-03],\n",
       "       [ 6.22114670e-02,  4.00515096e-03],\n",
       "       [ 5.52412989e-02,  9.37397865e-03],\n",
       "       [ 5.48726013e-02,  1.17937076e-02],\n",
       "       [ 5.53398853e-02,  2.03004915e-02],\n",
       "       [ 4.98467843e-02,  1.42533863e-02],\n",
       "       [ 5.76004905e-02,  1.24817497e-02],\n",
       "       [ 6.18103302e-02, -5.26126890e-04],\n",
       "       [ 7.11570008e-02,  4.34279644e-03],\n",
       "       [ 5.55023513e-02,  8.06751711e-03],\n",
       "       [ 6.85734605e-02,  1.47121414e-02],\n",
       "       [ 4.82751355e-02,  1.02057160e-02],\n",
       "       [ 6.09066430e-02, -1.70969799e-04],\n",
       "       [ 5.43578573e-02,  4.13579502e-03],\n",
       "       [ 5.30900733e-02,  8.34125164e-03],\n",
       "       [ 6.20728248e-02,  1.76070240e-02],\n",
       "       [ 5.40213675e-02,  1.56407690e-04],\n",
       "       [ 5.63524547e-02,  9.66546129e-03],\n",
       "       [ 5.65588263e-02,  2.79116468e-03],\n",
       "       [ 5.41385256e-02,  2.14785601e-02],\n",
       "       [ 6.33730945e-02,  9.12803688e-03],\n",
       "       [ 4.35256990e-02,  1.57941631e-02],\n",
       "       [ 5.20764007e-02, -1.52349641e-03],\n",
       "       [ 6.45995784e-02,  1.55117143e-02],\n",
       "       [ 5.45310518e-02,  6.02588802e-03],\n",
       "       [ 6.07881951e-02,  1.44449539e-02],\n",
       "       [ 4.68403989e-02,  2.25502420e-03],\n",
       "       [ 5.38045639e-02,  9.01064377e-03],\n",
       "       [ 6.29715868e-02,  7.97363010e-03],\n",
       "       [ 5.35413863e-02,  1.46998193e-02],\n",
       "       [ 6.18014272e-02,  1.45407161e-02],\n",
       "       [ 7.36778096e-02,  7.96340271e-03],\n",
       "       [ 5.13134904e-02,  1.19498408e-02],\n",
       "       [ 6.16243762e-02,  1.47696291e-02],\n",
       "       [ 6.18597262e-02,  1.11482661e-04],\n",
       "       [ 5.25400536e-02,  1.12179875e-02],\n",
       "       [ 4.75681203e-02,  1.68125702e-03],\n",
       "       [ 4.62636080e-02,  5.97610144e-03],\n",
       "       [ 5.66393110e-02,  7.00911013e-03],\n",
       "       [ 5.03090007e-02,  1.44388292e-02],\n",
       "       [ 5.44366923e-02,  7.70229838e-03],\n",
       "       [ 6.60789115e-02,  1.77586102e-02],\n",
       "       [ 6.99502305e-02,  7.00983510e-03],\n",
       "       [ 5.80722973e-02,  1.46329187e-02],\n",
       "       [ 5.12564702e-02,  4.89932659e-03],\n",
       "       [ 6.21723625e-02,  8.54619908e-04],\n",
       "       [ 5.73637006e-02,  1.68227659e-02],\n",
       "       [ 6.06967000e-02,  1.20753234e-02],\n",
       "       [ 4.91147950e-02,  6.12764668e-03],\n",
       "       [ 5.71518165e-02,  1.24403090e-02],\n",
       "       [ 5.43091176e-02,  4.57383248e-03],\n",
       "       [ 4.94705105e-02,  1.62702882e-02],\n",
       "       [ 5.17410188e-02,  1.27277121e-02],\n",
       "       [ 6.02828423e-02, -8.21969738e-04],\n",
       "       [ 5.88713563e-02,  4.74971076e-03],\n",
       "       [ 5.53351417e-02,  7.27596173e-03],\n",
       "       [ 5.20719525e-02,  8.68291589e-03],\n",
       "       [ 5.66638932e-02,  1.15544234e-02],\n",
       "       [ 5.01108911e-02, -7.13646044e-04],\n",
       "       [ 5.32819881e-02,  8.01562823e-03],\n",
       "       [-1.63497543e-03, -5.57644341e-02],\n",
       "       [ 2.94032295e-03, -5.37055216e-02],\n",
       "       [-1.50685425e-04, -4.29412888e-02],\n",
       "       [ 2.67678908e-03, -5.07175470e-02],\n",
       "       [ 3.40807048e-04, -5.09963615e-02],\n",
       "       [ 1.53098300e-03, -3.82911583e-02],\n",
       "       [-7.37799594e-03, -4.57006469e-02],\n",
       "       [-2.04470174e-03, -4.82231948e-02],\n",
       "       [ 4.95549281e-03, -4.69030144e-02],\n",
       "       [-3.47734297e-03, -5.23493261e-02],\n",
       "       [ 3.78328845e-03, -4.80556530e-02],\n",
       "       [ 2.86462463e-03, -4.50981119e-02],\n",
       "       [-2.38232229e-04, -4.57928284e-02],\n",
       "       [-9.07791631e-03, -3.95526540e-02],\n",
       "       [-1.71159658e-03, -5.23630215e-02],\n",
       "       [ 4.67652478e-03, -5.07667448e-02],\n",
       "       [ 3.95106040e-03, -5.16926159e-02],\n",
       "       [-5.08114217e-03, -5.04197388e-02],\n",
       "       [ 1.00521249e-02, -5.07676508e-02],\n",
       "       [ 4.80385315e-03, -5.03911827e-02],\n",
       "       [-1.71906033e-03, -5.32343150e-02],\n",
       "       [-6.74954837e-03, -6.46090646e-02],\n",
       "       [-4.75925205e-03, -4.95451776e-02],\n",
       "       [-4.97726241e-03, -5.36561448e-02],\n",
       "       [ 3.84487977e-03, -5.05267479e-02],\n",
       "       [ 2.41634061e-03, -3.93944757e-02],\n",
       "       [-6.02663768e-04, -4.55579669e-02],\n",
       "       [-6.69594171e-03, -4.56065978e-02],\n",
       "       [-3.20773418e-03, -5.13693530e-02],\n",
       "       [-5.92493383e-04, -5.17974045e-02],\n",
       "       [-4.04008989e-03, -5.66587592e-02],\n",
       "       [ 6.91537319e-04, -4.38112633e-02],\n",
       "       [ 2.32806647e-04, -4.83258180e-02],\n",
       "       [ 8.65505541e-03, -4.38322746e-02],\n",
       "       [ 4.44721917e-03, -4.45381328e-02],\n",
       "       [-2.57571151e-03, -4.21173550e-02],\n",
       "       [ 7.44747275e-03, -5.07243258e-02],\n",
       "       [ 6.90244080e-03, -4.56420764e-02],\n",
       "       [ 4.00312507e-03, -4.70696864e-02],\n",
       "       [ 4.37908825e-03, -4.86699162e-02],\n",
       "       [-6.87954531e-04, -4.54658747e-02],\n",
       "       [-2.79157332e-03, -5.26291762e-02],\n",
       "       [ 2.21955239e-04, -3.96243922e-02],\n",
       "       [-5.06488991e-03, -3.68976324e-02],\n",
       "       [ 3.07590586e-03, -4.46641613e-02],\n",
       "       [-3.58699477e-03, -5.32905338e-02],\n",
       "       [ 1.01994651e-02, -4.03055296e-02],\n",
       "       [-2.27745121e-03, -4.92540765e-02],\n",
       "       [-5.45088089e-03, -4.70953420e-02],\n",
       "       [ 2.06867185e-03, -6.07058082e-02],\n",
       "       [-1.14225370e-02, -4.00169228e-02],\n",
       "       [ 4.64393464e-05, -4.93914468e-02],\n",
       "       [ 1.25267704e-02, -5.35803082e-02],\n",
       "       [ 1.14823903e-03, -4.34983176e-02],\n",
       "       [-4.75751379e-03, -3.60071312e-02],\n",
       "       [ 1.29341733e-03, -4.39828707e-02],\n",
       "       [-5.63766355e-03, -4.79835323e-02],\n",
       "       [-2.76711616e-04, -5.68485683e-02],\n",
       "       [-7.15556987e-03, -4.90289306e-02],\n",
       "       [-1.26066706e-02, -4.13939431e-02],\n",
       "       [ 2.40855135e-03, -4.78505020e-02],\n",
       "       [ 4.62565044e-03, -5.35567976e-02],\n",
       "       [-2.33239688e-03, -4.47728139e-02],\n",
       "       [ 2.13639015e-03, -4.72554156e-02],\n",
       "       [-1.54493114e-03, -4.31565013e-02],\n",
       "       [-4.08742239e-03, -4.75228230e-02],\n",
       "       [ 7.53709042e-03, -5.05875475e-02],\n",
       "       [-8.07970336e-03, -5.00840706e-02],\n",
       "       [ 3.23152029e-04, -4.60555435e-02],\n",
       "       [ 3.27576549e-03, -4.58904896e-02],\n",
       "       [-7.67215740e-03, -4.58862000e-02],\n",
       "       [ 5.18091501e-03, -4.75511947e-02],\n",
       "       [ 5.63146496e-03, -4.60085063e-02],\n",
       "       [ 1.32426763e-02, -5.86185715e-02],\n",
       "       [ 2.79438247e-04, -5.78695755e-02],\n",
       "       [-4.14752878e-03, -4.48947487e-02],\n",
       "       [-8.15858819e-03, -4.22480525e-02],\n",
       "       [ 9.84989770e-04, -4.37244601e-02],\n",
       "       [-2.40325556e-04, -4.11297357e-02],\n",
       "       [-5.06866275e-03, -4.90715301e-02],\n",
       "       [-2.64235269e-03, -3.40765791e-02],\n",
       "       [-2.11699862e-03, -4.37501047e-02],\n",
       "       [ 3.64832974e-04, -4.62735102e-02],\n",
       "       [-1.51262085e-03, -5.28926541e-02],\n",
       "       [-6.39514428e-04, -5.13354290e-02],\n",
       "       [-5.07058190e-04, -4.76753089e-02],\n",
       "       [-4.34350625e-03, -4.60231531e-02],\n",
       "       [-1.49960126e-03, -5.09649565e-02],\n",
       "       [ 9.29256435e-03, -4.62923365e-02],\n",
       "       [ 3.08827070e-03, -5.35317189e-02],\n",
       "       [ 7.33437023e-05, -4.88442092e-02],\n",
       "       [ 1.61686479e-03, -4.82373242e-02],\n",
       "       [ 1.17255138e-02, -4.46033619e-02],\n",
       "       [ 6.28056055e-03, -4.82481052e-02],\n",
       "       [-6.44741228e-03, -4.70608541e-02],\n",
       "       [-5.33983496e-03, -3.91276114e-02],\n",
       "       [ 1.96698771e-03, -3.94953080e-02],\n",
       "       [ 1.10497109e-02, -4.64224337e-02],\n",
       "       [ 3.12897052e-03, -4.44211131e-02],\n",
       "       [-6.30441964e-03, -5.52949684e-02]], dtype=float64)"
      ]
     },
     "execution_count": 99,
     "metadata": {},
     "output_type": "execute_result"
    }
   ],
   "source": [
    "pt[1][0][:,0]"
   ]
  },
  {
   "cell_type": "code",
   "execution_count": 55,
   "id": "53e9594b",
   "metadata": {},
   "outputs": [
    {
     "data": {
      "text/plain": [
       "Array(0., dtype=float64)"
      ]
     },
     "execution_count": 55,
     "metadata": {},
     "output_type": "execute_result"
    }
   ],
   "source": [
    "RBMM.p0((X_obs[0][10], X_obs[1][10]), (RBMM.mu[0][0], RBMM.mu[1][0]), 0.5)"
   ]
  },
  {
   "cell_type": "code",
   "execution_count": null,
   "id": "94d8b9b1",
   "metadata": {},
   "outputs": [],
   "source": []
  }
 ],
 "metadata": {
  "kernelspec": {
   "display_name": "Python 3 (ipykernel)",
   "language": "python",
   "name": "python3"
  },
  "language_info": {
   "codemirror_mode": {
    "name": "ipython",
    "version": 3
   },
   "file_extension": ".py",
   "mimetype": "text/x-python",
   "name": "python",
   "nbconvert_exporter": "python",
   "pygments_lexer": "ipython3",
   "version": "3.9.13"
  }
 },
 "nbformat": 4,
 "nbformat_minor": 5
}
