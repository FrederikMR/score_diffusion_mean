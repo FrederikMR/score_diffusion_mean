{
 "cells": [
  {
   "cell_type": "markdown",
   "id": "fae896a7",
   "metadata": {},
   "source": [
    "# Generate and Save Synthetic Data for Manifolds"
   ]
  },
  {
   "cell_type": "code",
   "execution_count": 2,
   "id": "4a536abf",
   "metadata": {},
   "outputs": [],
   "source": [
    "#JAX\n",
    "import jax.numpy as jnp\n",
    "\n",
    "#numpy\n",
    "import numpy as np\n",
    "\n",
    "#argparse\n",
    "import argparse\n",
    "\n",
    "from ManLearn.VAE.VAE_MNIST import model as mnist_model\n",
    "from ManLearn.VAE.VAE_MNIST import model_encoder as mnist_encoder\n",
    "from ManLearn.VAE.VAE_MNIST import model_decoder as mnist_decoder\n",
    "from ManLearn.VAE.VAE_MNIST import VAEOutput as mnist_output\n",
    "\n",
    "from ManLearn.VAE.VAE_SVHN import model as svhn_model\n",
    "from ManLearn.VAE.VAE_SVHN import model_encoder as svhn_encoder\n",
    "from ManLearn.VAE.VAE_SVHN import model_decoder as svhn_decoder\n",
    "from ManLearn.VAE.VAE_SVHN import VAEOutput as svhn_output\n",
    "\n",
    "from ManLearn.VAE.VAE_CelebA import model as celeba_model\n",
    "from ManLearn.VAE.VAE_CelebA import model_encoder as celeba_encoder\n",
    "from ManLearn.VAE.VAE_CelebA import model_decoder as celeba_decoder\n",
    "from ManLearn.VAE.VAE_CelebA import VAEOutput as celeba_output\n",
    "\n",
    "from ManLearn.train_MNIST import load_dataset as load_mnist\n",
    "from ManLearn.train_SVHN import load_dataset as load_svhn\n",
    "from ManLearn.train_CelebA import load_dataset as load_celeba\n",
    "from ManLearn.model_loader import load_model\n",
    "\n",
    "#jaxgeometry\n",
    "from jaxgeometry.manifolds import Euclidean, nSphere, Ellipsoid, Cylinder, S1, Torus, \\\n",
    "    H2, Landmarks, Heisenberg, SPDN, Latent, HypParaboloid\n",
    "from jaxgeometry.setup import dts, dWs, hessianx\n",
    "from jaxgeometry.statistics import score_matching\n",
    "from jaxgeometry.statistics.score_matching.model_loader import load_model\n",
    "from jaxgeometry.stochastics import Brownian_coords, product_sde, Brownian_sR\n",
    "from jaxgeometry.stochastics.product_sde import tile"
   ]
  },
  {
   "cell_type": "markdown",
   "id": "b9041cc6",
   "metadata": {},
   "source": [
    "## Hyper-Parameters"
   ]
  },
  {
   "cell_type": "code",
   "execution_count": 3,
   "id": "b46020d5",
   "metadata": {},
   "outputs": [],
   "source": [
    "N_sim = 100\n",
    "n_steps = 100\n",
    "T = 1.0\n",
    "\n",
    "file_path = 'Data/'"
   ]
  },
  {
   "cell_type": "markdown",
   "id": "24dc984e",
   "metadata": {},
   "source": [
    "## Euclidean"
   ]
  },
  {
   "cell_type": "markdown",
   "id": "c635b057",
   "metadata": {},
   "source": [
    "### Generate Data"
   ]
  },
  {
   "cell_type": "code",
   "execution_count": 4,
   "id": "da05a8ee",
   "metadata": {},
   "outputs": [
    {
     "name": "stdout",
     "output_type": "stream",
     "text": [
      "using M.Exp for Logarithm\n",
      "using M.Exp for Logarithm\n",
      "using M.Exp for Logarithm\n",
      "using M.Exp for Logarithm\n",
      "using M.Exp for Logarithm\n",
      "using M.Exp for Logarithm\n",
      "using M.Exp for Logarithm\n",
      "using M.Exp for Logarithm\n",
      "Done\n"
     ]
    }
   ],
   "source": [
    "dim = [2,3,5,10,20,50,100,200]\n",
    "for d in dim:\n",
    "    M = Euclidean(N=d)\n",
    "    Brownian_coords(M)\n",
    "    \n",
    "    (product, sde_product, chart_update_product) = product_sde(M, \n",
    "                                                               M.sde_Brownian_coords, \n",
    "                                                               M.chart_update_Brownian_coords)\n",
    "\n",
    "    x0 = M.coords([0.]*d)\n",
    "    x0s = tile(x0, N_sim)\n",
    "    \n",
    "    _dts = dts(T=T, n_steps=n_steps)\n",
    "    dW = dWs(N_sim*M.dim,_dts).reshape(-1,N_sim,M.dim)\n",
    "    (ts,xss,chartss,*_) = product(x0s,\n",
    "                                  _dts,dW,jnp.repeat(1.,N_sim))\n",
    "    \n",
    "    xs = xss[:,-1]\n",
    "    chart = chartss[:,-1]\n",
    "    \n",
    "    path = ''.join((file_path, 'R', str(d), '/'))\n",
    "    np.savetxt(''.join((path, 'xs.csv')), xs, delimiter=\",\")\n",
    "    np.savetxt(''.join((path, 'chart.csv')), xs, delimiter=\",\")\n",
    "print(\"Done\")"
   ]
  },
  {
   "cell_type": "markdown",
   "id": "a52dd950",
   "metadata": {},
   "source": [
    "## S1"
   ]
  },
  {
   "cell_type": "markdown",
   "id": "43ca0115",
   "metadata": {},
   "source": [
    "### Generate Data"
   ]
  },
  {
   "cell_type": "code",
   "execution_count": 5,
   "id": "d9d0ffc7",
   "metadata": {},
   "outputs": [
    {
     "name": "stdout",
     "output_type": "stream",
     "text": [
      "using M.Exp for Logarithm\n",
      "Done\n"
     ]
    }
   ],
   "source": [
    "M = S1(use_spherical_coords=True)\n",
    "Brownian_coords(M)\n",
    "\n",
    "x0 = M.coords([0.])\n",
    "x0s = tile(x0, N_sim)\n",
    "\n",
    "(product, sde_product, chart_update_product) = product_sde(M, \n",
    "                                                            M.sde_Brownian_coords, \n",
    "                                                            M.chart_update_Brownian_coords)\n",
    "\n",
    "_dts = dts(T=T, n_steps=n_steps)\n",
    "dW = dWs(N_sim*M.dim,_dts).reshape(-1,N_sim,M.dim)\n",
    "(ts,xss,chartss,*_) = product(x0s,\n",
    "                              _dts,dW,jnp.repeat(1.,N_sim))\n",
    "\n",
    "xs = xss[:,-1]\n",
    "chart = chartss[:,-1]\n",
    "\n",
    "path = ''.join((file_path, 'S1/'))\n",
    "np.savetxt(''.join((path, 'xs.csv')), xs, delimiter=\",\")\n",
    "np.savetxt(''.join((path, 'chart.csv')), xs, delimiter=\",\")\n",
    "print(\"Done\")"
   ]
  },
  {
   "cell_type": "markdown",
   "id": "59450dca",
   "metadata": {},
   "source": [
    "## mSphere"
   ]
  },
  {
   "cell_type": "markdown",
   "id": "d07824b4",
   "metadata": {},
   "source": [
    "### Generate Data"
   ]
  },
  {
   "cell_type": "code",
   "execution_count": 6,
   "id": "a7fbdf47",
   "metadata": {},
   "outputs": [
    {
     "name": "stdout",
     "output_type": "stream",
     "text": [
      "using M.Exp for Logarithm\n",
      "using M.Exp for Logarithm\n",
      "using M.Exp for Logarithm\n",
      "using M.Exp for Logarithm\n",
      "using M.Exp for Logarithm\n",
      "using M.Exp for Logarithm\n",
      "using M.Exp for Logarithm\n",
      "using M.Exp for Logarithm\n",
      "Done\n"
     ]
    }
   ],
   "source": [
    "dim = [2,3,5,10,20,50,100, 200]\n",
    "for d in dim:\n",
    "    M = nSphere(N=d)\n",
    "    Brownian_coords(M)\n",
    "\n",
    "    (product, sde_product, chart_update_product) = product_sde(M, \n",
    "                                                               M.sde_Brownian_coords, \n",
    "                                                               M.chart_update_Brownian_coords)\n",
    "\n",
    "    x0 = M.coords([0.]*d)\n",
    "    x0s = tile(x0, N_sim)\n",
    "    \n",
    "    _dts = dts(T=T, n_steps=n_steps)\n",
    "    dW = dWs(N_sim*M.dim,_dts).reshape(-1,N_sim,M.dim)\n",
    "    (ts,xss,chartss,*_) = product(x0s,\n",
    "                                  _dts,dW,jnp.repeat(1.,N_sim))\n",
    "    \n",
    "    xs = xss[:,-1]\n",
    "    chart = chartss[:,-1]\n",
    "    \n",
    "    path = ''.join((file_path, 'S', str(d), '/'))\n",
    "    np.savetxt(''.join((path, 'xs.csv')), xs, delimiter=\",\")\n",
    "    np.savetxt(''.join((path, 'chart.csv')), xs, delimiter=\",\")\n",
    "print(\"Done\")"
   ]
  },
  {
   "cell_type": "markdown",
   "id": "16623792",
   "metadata": {},
   "source": [
    "## Ellipsoid"
   ]
  },
  {
   "cell_type": "markdown",
   "id": "5a916bbb",
   "metadata": {},
   "source": [
    "### Generate Data"
   ]
  },
  {
   "cell_type": "code",
   "execution_count": 7,
   "id": "3ca5dde8",
   "metadata": {},
   "outputs": [
    {
     "name": "stdout",
     "output_type": "stream",
     "text": [
      "using M.Exp for Logarithm\n",
      "using M.Exp for Logarithm\n",
      "using M.Exp for Logarithm\n",
      "using M.Exp for Logarithm\n",
      "using M.Exp for Logarithm\n",
      "using M.Exp for Logarithm\n",
      "using M.Exp for Logarithm\n",
      "using M.Exp for Logarithm\n",
      "Done\n"
     ]
    }
   ],
   "source": [
    "## mSphere\n",
    "\n",
    "### Generate Data\n",
    "\n",
    "dim = [2,3,5,10,20,50,100, 200]\n",
    "for d in dim:\n",
    "    M = Ellipsoid(N=d, params = jnp.linspace(0.5,1.0,d+1))\n",
    "    Brownian_coords(M)\n",
    "\n",
    "    N_dim = M.emb_dim\n",
    "    x0 = M.coords([0.]*d)\n",
    "\n",
    "    (product, sde_product, chart_update_product) = product_sde(M, \n",
    "                                                               M.sde_Brownian_coords, \n",
    "                                                               M.chart_update_Brownian_coords)\n",
    "\n",
    "    x0s = tile(x0, N_sim)\n",
    "    \n",
    "    _dts = dts(T=T, n_steps=n_steps)\n",
    "    dW = dWs(N_sim*M.dim,_dts).reshape(-1,N_sim,M.dim)\n",
    "    (ts,xss,chartss,*_) = product(x0s,\n",
    "                                  _dts,dW,jnp.repeat(1.,N_sim))\n",
    "    \n",
    "    xs = xss[:,-1]\n",
    "    chart = chartss[:,-1]\n",
    "    \n",
    "    path = ''.join((file_path, 'Ellipsoid', str(d), '/'))\n",
    "    np.savetxt(''.join((path, 'xs.csv')), xs, delimiter=\",\")\n",
    "    np.savetxt(''.join((path, 'chart.csv')), xs, delimiter=\",\")\n",
    "print(\"Done\")"
   ]
  },
  {
   "cell_type": "markdown",
   "id": "47df5cf8",
   "metadata": {},
   "source": [
    "## Cylinder"
   ]
  },
  {
   "cell_type": "markdown",
   "id": "c55410b0",
   "metadata": {},
   "source": [
    "### Generate Data"
   ]
  },
  {
   "cell_type": "code",
   "execution_count": 8,
   "id": "b453bf00",
   "metadata": {},
   "outputs": [
    {
     "name": "stdout",
     "output_type": "stream",
     "text": [
      "using M.Exp for Logarithm\n",
      "Done\n"
     ]
    }
   ],
   "source": [
    "## mSphere\n",
    "\n",
    "### Generate Data\n",
    "\n",
    "M = Cylinder(params=(1.,jnp.array([0.,0.,1.]),jnp.pi/2.))\n",
    "Brownian_coords(M)\n",
    "\n",
    "x0 = M.coords([0.]*2)\n",
    "\n",
    "(product, sde_product, chart_update_product) = product_sde(M, \n",
    "                                                           M.sde_Brownian_coords, \n",
    "                                                           M.chart_update_Brownian_coords)\n",
    "\n",
    "x0s = tile(x0, N_sim)\n",
    "\n",
    "_dts = dts(T=T, n_steps=n_steps)\n",
    "dW = dWs(N_sim*M.dim,_dts).reshape(-1,N_sim,M.dim)\n",
    "(ts,xss,chartss,*_) = product(x0s,\n",
    "                              _dts,dW,jnp.repeat(1.,N_sim))\n",
    "\n",
    "xs = xss[:,-1]\n",
    "chart = chartss[:,-1]\n",
    "\n",
    "path = ''.join((file_path, 'Cylinder/'))\n",
    "np.savetxt(''.join((path, 'xs.csv')), xs, delimiter=\",\")\n",
    "np.savetxt(''.join((path, 'chart.csv')), xs, delimiter=\",\")\n",
    "print(\"Done\")"
   ]
  },
  {
   "cell_type": "markdown",
   "id": "c22a47b0",
   "metadata": {},
   "source": [
    "## Torus"
   ]
  },
  {
   "cell_type": "markdown",
   "id": "6314b7dc",
   "metadata": {},
   "source": [
    "### Generate Data"
   ]
  },
  {
   "cell_type": "code",
   "execution_count": 9,
   "id": "c3cdc245",
   "metadata": {},
   "outputs": [
    {
     "name": "stdout",
     "output_type": "stream",
     "text": [
      "using M.Exp for Logarithm\n",
      "Done\n"
     ]
    }
   ],
   "source": [
    "## mSphere\n",
    "\n",
    "### Generate Data\n",
    "\n",
    "M = Torus()\n",
    "Brownian_coords(M)\n",
    "\n",
    "x0 = M.coords([0.]*2)\n",
    "\n",
    "(product, sde_product, chart_update_product) = product_sde(M, \n",
    "                                                           M.sde_Brownian_coords, \n",
    "                                                           M.chart_update_Brownian_coords)\n",
    "\n",
    "x0s = tile(x0, N_sim)\n",
    "\n",
    "_dts = dts(T=T, n_steps=n_steps)\n",
    "dW = dWs(N_sim*M.dim,_dts).reshape(-1,N_sim,M.dim)\n",
    "(ts,xss,chartss,*_) = product(x0s,\n",
    "                              _dts,dW,jnp.repeat(1.,N_sim))\n",
    "\n",
    "xs = xss[:,-1]\n",
    "chart = chartss[:,-1]\n",
    "\n",
    "path = ''.join((file_path, 'Torus/'))\n",
    "np.savetxt(''.join((path, 'xs.csv')), xs, delimiter=\",\")\n",
    "np.savetxt(''.join((path, 'chart.csv')), xs, delimiter=\",\")\n",
    "print(\"Done\")"
   ]
  },
  {
   "cell_type": "markdown",
   "id": "c539a853",
   "metadata": {},
   "source": [
    "## Landmarks"
   ]
  },
  {
   "cell_type": "markdown",
   "id": "1a4040b1",
   "metadata": {},
   "source": [
    "### Generate Data"
   ]
  },
  {
   "cell_type": "code",
   "execution_count": 10,
   "id": "14a1ce85",
   "metadata": {},
   "outputs": [
    {
     "name": "stdout",
     "output_type": "stream",
     "text": [
      "using M.Exp for Logarithm\n",
      "using M.Exp for Logarithm\n",
      "using M.Exp for Logarithm\n",
      "using M.Exp for Logarithm\n",
      "using M.Exp for Logarithm\n",
      "Done\n"
     ]
    }
   ],
   "source": [
    "## mSphere\n",
    "\n",
    "### Generate Data\n",
    "\n",
    "dim = [2,5,10,66,77]\n",
    "for d in dim:\n",
    "    M = Landmarks(N=d,m=2)\n",
    "    Brownian_coords(M)\n",
    "\n",
    "    N_dim = M.dim\n",
    "    x0 = M.coords(jnp.vstack((jnp.linspace(-5.0,5.0,M.N),jnp.zeros(M.N))).T.flatten())\n",
    "\n",
    "    (product, sde_product, chart_update_product) = product_sde(M, \n",
    "                                                               M.sde_Brownian_coords, \n",
    "                                                               M.chart_update_Brownian_coords)\n",
    "\n",
    "    x0s = tile(x0, N_sim)\n",
    "    \n",
    "    _dts = dts(T=T, n_steps=n_steps)\n",
    "    dW = dWs(N_sim*M.dim,_dts).reshape(-1,N_sim,M.dim)\n",
    "    (ts,xss,chartss,*_) = product(x0s,\n",
    "                                  _dts,dW,jnp.repeat(1.,N_sim))\n",
    "    \n",
    "    xs = xss[:,-1]\n",
    "    chart = chartss[:,-1]\n",
    "    \n",
    "    path = ''.join((file_path, 'Landmarks', str(d), '/'))\n",
    "    np.savetxt(''.join((path, 'xs.csv')), xs, delimiter=\",\")\n",
    "    np.savetxt(''.join((path, 'chart.csv')), xs, delimiter=\",\")\n",
    "print(\"Done\")"
   ]
  },
  {
   "cell_type": "markdown",
   "id": "28640e41",
   "metadata": {},
   "source": [
    "## SPDN"
   ]
  },
  {
   "cell_type": "markdown",
   "id": "3e422bf9",
   "metadata": {},
   "source": [
    "### Generate Data"
   ]
  },
  {
   "cell_type": "code",
   "execution_count": 12,
   "id": "0708c782",
   "metadata": {
    "scrolled": true
   },
   "outputs": [
    {
     "name": "stdout",
     "output_type": "stream",
     "text": [
      "using M.Exp for Logarithm\n",
      "using M.Exp for Logarithm\n",
      "using M.Exp for Logarithm\n",
      "using M.Exp for Logarithm\n",
      "Done\n"
     ]
    }
   ],
   "source": [
    "## mSphere\n",
    "\n",
    "### Generate Data\n",
    "\n",
    "dim = [2, 5, 10,20]\n",
    "for d in dim:\n",
    "    M = SPDN(N=d)    \n",
    "    Brownian_coords(M)\n",
    "\n",
    "    N_dim = M.emb_dim\n",
    "    x0 = M.coords([0.]*(d*(d+1)//2))\n",
    "\n",
    "    (product, sde_product, chart_update_product) = product_sde(M, \n",
    "                                                               M.sde_Brownian_coords, \n",
    "                                                               M.chart_update_Brownian_coords)\n",
    "\n",
    "    x0s = tile(x0, N_sim)\n",
    "    \n",
    "    _dts = dts(T=T, n_steps=n_steps)\n",
    "    dW = dWs(N_sim*M.dim,_dts).reshape(-1,N_sim,M.dim)\n",
    "    (ts,xss,chartss,*_) = product(x0s,\n",
    "                                  _dts,dW,jnp.repeat(1.,N_sim))\n",
    "    \n",
    "    xs = xss[:,-1]\n",
    "    chart = chartss[:,-1]\n",
    "    \n",
    "    path = ''.join((file_path, 'SPDN', str(d), '/'))\n",
    "    np.savetxt(''.join((path, 'xs.csv')), xs, delimiter=\",\")\n",
    "    np.savetxt(''.join((path, 'chart.csv')), xs, delimiter=\",\")\n",
    "print(\"Done\")"
   ]
  },
  {
   "cell_type": "markdown",
   "id": "c006526c",
   "metadata": {},
   "source": [
    "## Hyperbolic Paraboloid"
   ]
  },
  {
   "cell_type": "markdown",
   "id": "4596a173",
   "metadata": {},
   "source": [
    "### Generate Data"
   ]
  },
  {
   "cell_type": "code",
   "execution_count": 13,
   "id": "aab2a328",
   "metadata": {},
   "outputs": [
    {
     "name": "stdout",
     "output_type": "stream",
     "text": [
      "using M.Exp for Logarithm\n",
      "Done\n"
     ]
    }
   ],
   "source": [
    "## mSphere\n",
    "\n",
    "### Generate Data\n",
    "\n",
    "M = HypParaboloid()\n",
    "Brownian_coords(M)\n",
    "\n",
    "x0 = M.coords([0.]*2)\n",
    "\n",
    "(product, sde_product, chart_update_product) = product_sde(M, \n",
    "                                                           M.sde_Brownian_coords, \n",
    "                                                           M.chart_update_Brownian_coords)\n",
    "\n",
    "x0s = tile(x0, N_sim)\n",
    "\n",
    "_dts = dts(T=T, n_steps=n_steps)\n",
    "dW = dWs(N_sim*M.dim,_dts).reshape(-1,N_sim,M.dim)\n",
    "(ts,xss,chartss,*_) = product(x0s,\n",
    "                              _dts,dW,jnp.repeat(1.,N_sim))\n",
    "\n",
    "xs = xss[:,-1]\n",
    "chart = chartss[:,-1]\n",
    "\n",
    "path = ''.join((file_path, 'HypParaboloid/'))\n",
    "np.savetxt(''.join((path, 'xs.csv')), xs, delimiter=\",\")\n",
    "np.savetxt(''.join((path, 'chart.csv')), xs, delimiter=\",\")\n",
    "print(\"Done\")"
   ]
  },
  {
   "cell_type": "markdown",
   "id": "a59a2693",
   "metadata": {},
   "source": [
    "## VAE MNIST"
   ]
  },
  {
   "cell_type": "markdown",
   "id": "8e52ab32",
   "metadata": {},
   "source": [
    "### Generate Data"
   ]
  },
  {
   "cell_type": "code",
   "execution_count": 14,
   "id": "a8057749",
   "metadata": {
    "scrolled": true
   },
   "outputs": [
    {
     "name": "stderr",
     "output_type": "stream",
     "text": [
      "2023-10-02 19:59:45.089566: W tensorflow/core/common_runtime/gpu/gpu_device.cc:1956] Cannot dlopen some GPU libraries. Please make sure the missing libraries mentioned above are installed properly if you would like to use GPU. Follow the guide at https://www.tensorflow.org/install/gpu for how to download and setup the required libraries for your platform.\n",
      "Skipping registering GPU devices...\n"
     ]
    },
    {
     "name": "stdout",
     "output_type": "stream",
     "text": [
      "using M.Exp for Logarithm\n",
      "Done\n"
     ]
    }
   ],
   "source": [
    "## mSphere\n",
    "\n",
    "### Generate Data\n",
    "\n",
    "dim = [2, 5, 10]\n",
    "ds = load_mnist(\"train\", 100, 2712)\n",
    "        \n",
    "state = load_model('ManLearn/models/MNIST/VAE/')\n",
    "F = lambda x: mnist_decoder.apply(state.params, state.rng_key, x[0]).reshape(-1)\n",
    "\n",
    "M = Latent(F=F,dim=2,emb_dim=28*28,invF=None)\n",
    "Brownian_coords(M)\n",
    "\n",
    "x0 = mnist_encoder.apply(state.params, state.rng_key, next(ds).image)\n",
    "x0 = M.coords(x0[0])\n",
    "        \n",
    "(product, sde_product, chart_update_product) = product_sde(M, \n",
    "                                                               M.sde_Brownian_coords, \n",
    "                                                               M.chart_update_Brownian_coords)\n",
    "\n",
    "x0s = tile(x0, N_sim)\n",
    "\n",
    "_dts = dts(T=T, n_steps=n_steps)\n",
    "dW = dWs(N_sim*M.dim,_dts).reshape(-1,N_sim,M.dim)\n",
    "(ts,xss,chartss,*_) = product(x0s,\n",
    "                              _dts,dW,jnp.repeat(1.,N_sim))\n",
    "\n",
    "xs = xss[:,-1]\n",
    "chart = chartss[:,-1]\n",
    "\n",
    "path = ''.join((file_path, 'VAE_MNIST/'))\n",
    "np.savetxt(''.join((path, 'xs.csv')), xs, delimiter=\",\")\n",
    "np.savetxt(''.join((path, 'chart.csv')), xs, delimiter=\",\")\n",
    "print(\"Done\")"
   ]
  },
  {
   "cell_type": "markdown",
   "id": "28db322c",
   "metadata": {},
   "source": [
    "## VAE SVHN"
   ]
  },
  {
   "cell_type": "markdown",
   "id": "1f9a6f12",
   "metadata": {},
   "source": [
    "### Generate Data"
   ]
  },
  {
   "cell_type": "code",
   "execution_count": 15,
   "id": "888cc494",
   "metadata": {
    "scrolled": true
   },
   "outputs": [
    {
     "name": "stderr",
     "output_type": "stream",
     "text": [
      "2023-10-02 20:00:02.191492: W tensorflow/core/kernels/data/cache_dataset_ops.cc:856] The calling iterator did not fully read the dataset being cached. In order to avoid unexpected truncation of the dataset, the partially cached contents of the dataset  will be discarded. This can happen if you have an input pipeline similar to `dataset.cache().take(k).repeat()`. You should use `dataset.take(k).cache().repeat()` instead.\n"
     ]
    },
    {
     "name": "stdout",
     "output_type": "stream",
     "text": [
      "using M.Exp for Logarithm\n",
      "Done\n"
     ]
    }
   ],
   "source": [
    "## mSphere\n",
    "\n",
    "### Generate Data\n",
    "\n",
    "dim = [2, 5, 10]\n",
    "ds = load_svhn()\n",
    "        \n",
    "state = load_model('ManLearn/models/SVHN/VAE/')\n",
    "F = lambda x: svhn_decoder.apply(state.params, state.rng_key, x[0]).reshape(-1)\n",
    "\n",
    "M = Latent(F=F,dim=32,emb_dim=32*32*3,invF=None)\n",
    "Brownian_coords(M)\n",
    "\n",
    "x0 = svhn_encoder.apply(state.params, state.rng_key, next(ds).image)\n",
    "x0 = M.coords(x0[0])\n",
    "        \n",
    "(product, sde_product, chart_update_product) = product_sde(M, \n",
    "                                                               M.sde_Brownian_coords, \n",
    "                                                               M.chart_update_Brownian_coords)\n",
    "\n",
    "x0s = tile(x0, N_sim)\n",
    "\n",
    "_dts = dts(T=T, n_steps=n_steps)\n",
    "dW = dWs(N_sim*M.dim,_dts).reshape(-1,N_sim,M.dim)\n",
    "(ts,xss,chartss,*_) = product(x0s,\n",
    "                              _dts,dW,jnp.repeat(1.,N_sim))\n",
    "\n",
    "xs = xss[:,-1]\n",
    "chart = chartss[:,-1]\n",
    "\n",
    "path = ''.join((file_path, 'VAE_SVHN/'))\n",
    "np.savetxt(''.join((path, 'xs.csv')), xs, delimiter=\",\")\n",
    "np.savetxt(''.join((path, 'chart.csv')), xs, delimiter=\",\")\n",
    "print(\"Done\")"
   ]
  },
  {
   "cell_type": "markdown",
   "id": "8aead350",
   "metadata": {},
   "source": [
    "## VAE CelebA"
   ]
  },
  {
   "cell_type": "markdown",
   "id": "88b3e04d",
   "metadata": {},
   "source": [
    "### Generate Data"
   ]
  },
  {
   "cell_type": "code",
   "execution_count": null,
   "id": "6afcd966",
   "metadata": {
    "scrolled": true
   },
   "outputs": [
    {
     "name": "stdout",
     "output_type": "stream",
     "text": [
      "using M.Exp for Logarithm\n"
     ]
    }
   ],
   "source": [
    "## mSphere\n",
    "\n",
    "### Generate Data\n",
    "\n",
    "dim = [2, 5, 10]\n",
    "ds = load_celeba()\n",
    "        \n",
    "state = load_model('ManLearn/models/CelebA/VAE/')\n",
    "F = lambda x: celeba_decoder.apply(state.params, state.rng_key, x[0]).reshape(-1)\n",
    "\n",
    "M = Latent(F=F,dim=32,emb_dim=64*64*3,invF=None)\n",
    "Brownian_coords(M)\n",
    "\n",
    "N_dim = M.dim\n",
    "x0 = svhn_encoder.apply(state.params, state.rng_key, next(ds).image)\n",
    "x0 = M.coords(x0[0])\n",
    "\n",
    "(product, sde_product, chart_update_product) = product_sde(M, \n",
    "                                                               M.sde_Brownian_coords, \n",
    "                                                               M.chart_update_Brownian_coords)\n",
    "\n",
    "x0s = tile(x0, N_sim)\n",
    "\n",
    "_dts = dts(T=T, n_steps=n_steps)\n",
    "dW = dWs(N_sim*M.dim,_dts).reshape(-1,N_sim,M.dim)\n",
    "(ts,xss,chartss,*_) = product(x0s,\n",
    "                              _dts,dW,jnp.repeat(1.,N_sim))\n",
    "\n",
    "xs = xss[:,-1]\n",
    "chart = chartss[:,-1]\n",
    "\n",
    "path = ''.join((file_path, 'VAE_CelebA/'))\n",
    "np.savetxt(''.join((path, 'xs.csv')), xs, delimiter=\",\")\n",
    "np.savetxt(''.join((path, 'chart.csv')), xs, delimiter=\",\")\n",
    "print(\"Done\")"
   ]
  },
  {
   "cell_type": "code",
   "execution_count": null,
   "id": "44f5cc0d",
   "metadata": {},
   "outputs": [],
   "source": []
  }
 ],
 "metadata": {
  "kernelspec": {
   "display_name": "Python 3 (ipykernel)",
   "language": "python",
   "name": "python3"
  },
  "language_info": {
   "codemirror_mode": {
    "name": "ipython",
    "version": 3
   },
   "file_extension": ".py",
   "mimetype": "text/x-python",
   "name": "python",
   "nbconvert_exporter": "python",
   "pygments_lexer": "ipython3",
   "version": "3.9.13"
  }
 },
 "nbformat": 4,
 "nbformat_minor": 5
}
