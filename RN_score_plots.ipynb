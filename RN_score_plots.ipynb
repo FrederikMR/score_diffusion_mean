{
 "cells": [
  {
   "cell_type": "markdown",
   "id": "cec1cc35",
   "metadata": {},
   "source": [
    "# Euclidean Score Plots"
   ]
  },
  {
   "cell_type": "code",
   "execution_count": 1,
   "id": "024da527",
   "metadata": {},
   "outputs": [
    {
     "name": "stderr",
     "output_type": "stream",
     "text": [
      "2023-10-01 12:49:24.957294: W tensorflow/compiler/tf2tensorrt/utils/py_utils.cc:38] TF-TRT Warning: Could not find TensorRT\n",
      "No GPU/TPU found, falling back to CPU. (Set TF_CPP_MIN_LOG_LEVEL=0 and rerun for more info.)\n"
     ]
    }
   ],
   "source": [
    "from jaxgeometry.manifolds import Euclidean\n",
    "from jaxgeometry.setup import dts\n",
    "import jaxgeometry.statistics as jstat\n",
    "import jaxgeometry.stochastics as jstoch\n",
    "import jax.numpy as jnp"
   ]
  },
  {
   "cell_type": "markdown",
   "id": "0dea04de",
   "metadata": {},
   "source": [
    "## R2"
   ]
  },
  {
   "cell_type": "code",
   "execution_count": 2,
   "id": "46312f0b",
   "metadata": {},
   "outputs": [
    {
     "name": "stdout",
     "output_type": "stream",
     "text": [
      "using M.Exp for Logarithm\n"
     ]
    }
   ],
   "source": [
    "RN = Euclidean(N=2)\n",
    "jstoch.Brownian_coords(RN)\n",
    "jstat.diffusion_mean(RN)"
   ]
  },
  {
   "cell_type": "code",
   "execution_count": null,
   "id": "e9b7a076",
   "metadata": {},
   "outputs": [],
   "source": []
  }
 ],
 "metadata": {
  "kernelspec": {
   "display_name": "Python 3 (ipykernel)",
   "language": "python",
   "name": "python3"
  },
  "language_info": {
   "codemirror_mode": {
    "name": "ipython",
    "version": 3
   },
   "file_extension": ".py",
   "mimetype": "text/x-python",
   "name": "python",
   "nbconvert_exporter": "python",
   "pygments_lexer": "ipython3",
   "version": "3.9.13"
  }
 },
 "nbformat": 4,
 "nbformat_minor": 5
}
