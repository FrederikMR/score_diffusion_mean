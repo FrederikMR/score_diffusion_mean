{
 "cells": [
  {
   "cell_type": "markdown",
   "id": "6ca51062",
   "metadata": {},
   "source": [
    "# Riemannian Score Fréchet Means"
   ]
  },
  {
   "cell_type": "code",
   "execution_count": 1,
   "id": "024da527",
   "metadata": {},
   "outputs": [
    {
     "name": "stderr",
     "output_type": "stream",
     "text": [
      "2024-05-21 17:14:06.442877: W tensorflow/compiler/tf2tensorrt/utils/py_utils.cc:38] TF-TRT Warning: Could not find TensorRT\n",
      "An NVIDIA GPU may be present on this machine, but a CUDA-enabled jaxlib is not installed. Falling back to cpu.\n"
     ]
    }
   ],
   "source": [
    "from jaxgeometry.manifolds import *\n",
    "from jaxgeometry.integration import dts, dWs\n",
    "from jaxgeometry.autodiff import jacfwdx\n",
    "from jaxgeometry.statistics.score_matching import diffusion_mean as dm_score\n",
    "from jaxgeometry.statistics import diffusion_mean as dm_bridge\n",
    "from jaxgeometry.stochastics import Brownian_coords, product_sde, Brownian_sR\n",
    "from jaxgeometry.stochastics.product_sde import tile\n",
    "import jaxgeometry.statistics as jstat\n",
    "import jaxgeometry.stochastics as jstoch\n",
    "import jax.numpy as jnp\n",
    "import haiku as hk\n",
    "import jax\n",
    "from jax import vmap\n",
    "import jax.random as jrandom\n",
    "\n",
    "import scipy.io as sio\n",
    "\n",
    "import os\n",
    "\n",
    "from load_manifold import get_generator_dim, load_manifold\n",
    "\n",
    "import torch\n",
    "import torchvision.utils as vutils\n",
    "\n",
    "import numpy as np\n",
    "\n",
    "import pandas as pd\n",
    "\n",
    "import matplotlib.pyplot as plt\n",
    "import matplotlib as mpl\n",
    "from mpl_toolkits.mplot3d import Axes3D\n",
    "from mpl_toolkits.axes_grid1 import make_axes_locatable\n",
    "import matplotlib.ticker as tkr\n",
    "\n",
    "from jaxgeometry.statistics.score_matching import model_loader, generators\n",
    "from jaxgeometry.statistics.score_matching import ScoreEvaluation\n",
    "from models import models"
   ]
  },
  {
   "cell_type": "code",
   "execution_count": 2,
   "id": "8f162ddf",
   "metadata": {},
   "outputs": [],
   "source": [
    "plt.rcParams.update({'font.size': 20})\n",
    "cbformat = tkr.ScalarFormatter()   # create the formatter\n",
    "cbformat.set_powerlimits((-2,2)) "
   ]
  },
  {
   "cell_type": "code",
   "execution_count": 3,
   "id": "43d20a2c",
   "metadata": {},
   "outputs": [],
   "source": [
    "s1loss_type = 'dsm'\n",
    "s2loss_type = 'dsm'\n",
    "s2_type = 's1s2'\n",
    "s2_approx = 0\n",
    "seed = 2712\n",
    "\n",
    "t0 = 0.1\n",
    "score_path = \"scores\""
   ]
  },
  {
   "cell_type": "code",
   "execution_count": 4,
   "id": "09a2ca08",
   "metadata": {},
   "outputs": [],
   "source": [
    "def load_score_model(manifold, dim):\n",
    "    M, x0, sampling_method, generator_dim, layers, opt_val = load_manifold(manifold, dim)\n",
    "    if \"Local\" in sampling_method:\n",
    "        method = \"Local\"\n",
    "    else:\n",
    "        method = \"Embedded\"\n",
    "    \n",
    "    s1_path = ''.join((score_path, f\"/{manifold}{dim}/s1T_{s1loss_type}/\"))\n",
    "    s2_path = ''.join((score_path, f\"/{manifold}{dim}/{s2_type}T_{s2loss_type}/\"))\n",
    "    layers = get_generator_dim(manifold, generator_dim)\n",
    "    layers_s1, layers_s2 = layers\n",
    "\n",
    "    s1_model = hk.transform(lambda x: models.MLP_s1(dim=generator_dim, layers=layers_s1)(x))\n",
    "    \n",
    "    if s2_approx:\n",
    "        if s2_type == \"s2\":\n",
    "            s2_model = hk.transform(lambda x: models.MLP_s2(layers_alpha=layers_s2, layers_beta=layers_s2,\n",
    "                                                            dim=generator_dim, r = max(generator_dim//2,1))(x))\n",
    "        elif s2_type == \"s1s2\":\n",
    "            @hk.transform\n",
    "            def s2_model(x):\n",
    "\n",
    "                s1s2 =  models.MLP_s1s2(\n",
    "                    models.MLP_s1(dim=generator_dim, layers=layers_s1), \n",
    "                    models.MLP_s2(layers_alpha=layers_s2, \n",
    "                                  layers_beta=layers_s2,\n",
    "                                  dim=generator_dim,\n",
    "                                  r = max(generator_dim//2,1))\n",
    "                    )\n",
    "\n",
    "                return s1s2(x)[1]\n",
    "    else:\n",
    "        s2_model = None\n",
    "        \n",
    "    s1_state = model_loader.load_model(s1_path)\n",
    "    if s2_approx:\n",
    "        s2_state = model_loader.load_model(s2_path)\n",
    "    else:\n",
    "        s2_state = None\n",
    "    \n",
    "    rng_key = jrandom.PRNGKey(seed)\n",
    "    s1_fun = lambda x,y,t: s1_model.apply(s1_state.params, rng_key, jnp.hstack((x,y,t)))\n",
    "    if s2_approx:\n",
    "        s2_fun = lambda x,y,t: s2_model.apply(s2_state.params, rng_key, jnp.hstack((x,y,t)))\n",
    "    else:\n",
    "        s2_fun = None\n",
    "        \n",
    "    ScoreEval = ScoreEvaluation(M,\n",
    "                                s1_model=s1_fun,\n",
    "                                s2_model=s2_fun,\n",
    "                                method = method\n",
    "                                )\n",
    "                       \n",
    "    return M, x0, ScoreEval"
   ]
  },
  {
   "cell_type": "markdown",
   "id": "f6e9e271",
   "metadata": {},
   "source": [
    "## Score Fréchet Mean"
   ]
  },
  {
   "cell_type": "code",
   "execution_count": 5,
   "id": "c681d5e8",
   "metadata": {},
   "outputs": [],
   "source": [
    "figure_path = '../figures/frechet_mean/'\n",
    "if not os.path.exists(figure_path):\n",
    "    os.makedirs(figure_path)"
   ]
  },
  {
   "cell_type": "markdown",
   "id": "f66d64e2",
   "metadata": {},
   "source": [
    "## Real-World Data"
   ]
  },
  {
   "cell_type": "markdown",
   "id": "22732541",
   "metadata": {},
   "source": [
    "### $\\mathcal{P}(3)$"
   ]
  },
  {
   "cell_type": "code",
   "execution_count": 6,
   "id": "40b0ef92",
   "metadata": {},
   "outputs": [],
   "source": [
    "data_path = '../../../Data/spdn/dti_tensor.mat'"
   ]
  },
  {
   "cell_type": "code",
   "execution_count": 7,
   "id": "49552920",
   "metadata": {},
   "outputs": [],
   "source": [
    "mat = sio.loadmat(data_path)"
   ]
  },
  {
   "cell_type": "code",
   "execution_count": 8,
   "id": "de73ca89",
   "metadata": {},
   "outputs": [],
   "source": [
    "segmentation = jnp.array(mat['segmentation']).reshape(-1)\n",
    "dti_tensor = jnp.array(mat['dti_tensor']).reshape(-1,6)"
   ]
  },
  {
   "cell_type": "code",
   "execution_count": 9,
   "id": "d3c17a02",
   "metadata": {},
   "outputs": [],
   "source": [
    "dti_tensor0 = dti_tensor[segmentation == 0]\n",
    "dti_tensor1 = dti_tensor[segmentation == 1]\n",
    "dti_tensor2 = dti_tensor[segmentation == 2]\n",
    "dti_tensor3 = dti_tensor[segmentation == 3]"
   ]
  },
  {
   "cell_type": "code",
   "execution_count": 10,
   "id": "86fd9a93",
   "metadata": {},
   "outputs": [],
   "source": [
    "def convert_to_SPDN(x):\n",
    "    \n",
    "    upper_index = jnp.triu_indices(n=3)\n",
    "    \n",
    "    val = jnp.zeros((3,3))\n",
    "    val = val.at[upper_index].set(x)\n",
    "    \n",
    "    return val+val.T-jnp.diag(jnp.diag(val))\n",
    "\n",
    "def get_principal_eigenvector(x):\n",
    "    \n",
    "    return jnp.linalg.svd(x)[0][:,0]\n",
    "\n",
    "def get_eigval(x):\n",
    "    \n",
    "    return jnp.linalg.svd(x)[1]\n",
    "    "
   ]
  },
  {
   "cell_type": "code",
   "execution_count": 11,
   "id": "8465203c",
   "metadata": {},
   "outputs": [],
   "source": [
    "scaling = 2*1e4\n",
    "dti_spdn0 = scaling*vmap(lambda x: convert_to_SPDN(x))(dti_tensor0)\n",
    "dti_spdn1 = scaling*vmap(lambda x: convert_to_SPDN(x))(dti_tensor1)\n",
    "dti_spdn2 = scaling*vmap(lambda x: convert_to_SPDN(x))(dti_tensor2)\n",
    "dti_spdn3 = scaling*vmap(lambda x: convert_to_SPDN(x))(dti_tensor3)"
   ]
  },
  {
   "cell_type": "code",
   "execution_count": 12,
   "id": "6defcf5d",
   "metadata": {},
   "outputs": [],
   "source": [
    "dti_eigvec1 = vmap(lambda x: get_principal_eigenvector(x))(dti_spdn1)\n",
    "dti_eigvec2 = vmap(lambda x: get_principal_eigenvector(x))(dti_spdn2)\n",
    "dti_eigvec3 = vmap(lambda x: get_principal_eigenvector(x))(dti_spdn3)\n",
    "\n",
    "dti_eigval1 = vmap(lambda x: get_eigval(x))(dti_spdn1)\n",
    "dti_eigval2 = vmap(lambda x: get_eigval(x))(dti_spdn2)\n",
    "dti_eigval3 = vmap(lambda x: get_eigval(x))(dti_spdn3)"
   ]
  },
  {
   "cell_type": "code",
   "execution_count": 13,
   "id": "4500f913",
   "metadata": {},
   "outputs": [
    {
     "name": "stdout",
     "output_type": "stream",
     "text": [
      "using M.Exp for Logarithm\n"
     ]
    }
   ],
   "source": [
    "M, x0, ScoreEval = load_score_model(\"SPDN\", 3)"
   ]
  },
  {
   "cell_type": "code",
   "execution_count": 14,
   "id": "a50bd0a1",
   "metadata": {},
   "outputs": [],
   "source": [
    "spdn_obs1 = vmap(lambda x: (M.invF((x,x)), x.reshape(-1)))(dti_spdn1)\n",
    "spdn_obs2 = vmap(lambda x: (M.invF((x,x)), x.reshape(-1)))(dti_spdn2)\n",
    "spdn_obs3 = vmap(lambda x: (M.invF((x,x)), x.reshape(-1)))(dti_spdn3)"
   ]
  },
  {
   "cell_type": "code",
   "execution_count": 15,
   "id": "c3e73bd8",
   "metadata": {},
   "outputs": [],
   "source": [
    "t0 = 0.01\n",
    "dm_score(M, s1_model=lambda x,y,t: t0*ScoreEval.grady_log(x,y,t), s2_model = ScoreEval.gradt_log, method=\"Gradient\")\n",
    "spdn_mu1_score_frechet = M.sm_dmx((spdn_obs1[0][:100], spdn_obs1[1][:100]), \n",
    "                                     (spdn_obs1[0][0], spdn_obs1[1][0]), \n",
    "                                     t0, \n",
    "                                     step_size=0.01, max_iter=1000)[0]\n",
    "spdn_mu2_score_frechet = M.sm_dmx((spdn_obs2[0][:100], spdn_obs2[1][:100]), \n",
    "                                     (spdn_obs2[0][0], spdn_obs2[1][0]), \n",
    "                                     t0, \n",
    "                                     step_size=0.01, max_iter=1000)[0]\n",
    "spdn_mu3_score_frechet = M.sm_dmx((spdn_obs3[0][:100], spdn_obs3[1][:100]), \n",
    "                                     (spdn_obs3[0][0], spdn_obs3[1][0]), \n",
    "                                     t0, \n",
    "                                     step_size=0.01, max_iter=1000)[0]"
   ]
  },
  {
   "cell_type": "code",
   "execution_count": 16,
   "id": "0335dc7f",
   "metadata": {},
   "outputs": [],
   "source": [
    "spdn_mu1_score_eigval = get_eigval(spdn_mu1_score_frechet[1][-1].reshape(3,3))\n",
    "spdn_mu2_score_eigval = get_eigval(spdn_mu2_score_frechet[1][-1].reshape(3,3))\n",
    "spdn_mu3_score_eigval = get_eigval(spdn_mu3_score_frechet[1][-1].reshape(3,3))"
   ]
  },
  {
   "cell_type": "code",
   "execution_count": 17,
   "id": "5401a73c",
   "metadata": {},
   "outputs": [],
   "source": [
    "dm_score(M, s1_model=lambda x,y,t: M.Log(y, x[1]), s2_model = ScoreEval.gradt_log, method=\"Gradient\")\n",
    "spdn_mu1_true_frechet = M.sm_dmx((spdn_obs1[0][:100], spdn_obs1[1][:100]), \n",
    "                                     (spdn_obs1[0][0], spdn_obs1[1][0]), \n",
    "                                     t0, \n",
    "                                     step_size=0.01, max_iter=1000)[0]\n",
    "\n",
    "spdn_mu2_true_frechet = M.sm_dmx((spdn_obs2[0][:100], spdn_obs2[1][:100]), \n",
    "                                     (spdn_obs1[0][0], spdn_obs1[1][0]), \n",
    "                                     t0, \n",
    "                                     step_size=0.01, max_iter=1000)[0]\n",
    "\n",
    "spdn_mu3_true_frechet = M.sm_dmx((spdn_obs3[0][:100], spdn_obs3[1][:100]), \n",
    "                                     (spdn_obs1[0][0], spdn_obs1[1][0]), \n",
    "                                     t0, \n",
    "                                     step_size=0.01, max_iter=1000)[0]\n"
   ]
  },
  {
   "cell_type": "code",
   "execution_count": 18,
   "id": "60ac03cb",
   "metadata": {},
   "outputs": [],
   "source": [
    "spdn_mu1_true_eigval = get_eigval(spdn_mu1_true_frechet[1][-1].reshape(3,3))\n",
    "spdn_mu2_true_eigval = get_eigval(spdn_mu2_true_frechet[1][-1].reshape(3,3))\n",
    "spdn_mu3_true_eigval = get_eigval(spdn_mu3_true_frechet[1][-1].reshape(3,3))"
   ]
  },
  {
   "cell_type": "markdown",
   "id": "e2ae1341",
   "metadata": {},
   "source": [
    "### Plotting"
   ]
  },
  {
   "cell_type": "code",
   "execution_count": 19,
   "id": "57696c1d",
   "metadata": {},
   "outputs": [],
   "source": [
    "#S2\n",
    "# Creating the theta and phi values.\n",
    "intervals = 100\n",
    "ntheta = intervals\n",
    "nphi = 2*intervals\n",
    "theta = jnp.linspace(0.0, jnp.pi*1, ntheta+1)\n",
    "phi   = jnp.linspace(0.0, jnp.pi*2, nphi+1)\n",
    "# Creating the coordinate grid for the unit sphere.\n",
    "X1 = jnp.outer(jnp.sin(theta), jnp.cos(phi))\n",
    "X2 = jnp.outer(jnp.sin(theta), jnp.sin(phi))\n",
    "X3 = jnp.outer(jnp.cos(theta), jnp.ones(nphi+1))\n",
    "X = jnp.transpose(jnp.concatenate((X1.reshape(1, ntheta+1, nphi+1), \n",
    "                     X2.reshape(1, ntheta+1, nphi+1), \n",
    "                     X3.reshape(1, ntheta+1, nphi+1))), axes=(1,2,0))"
   ]
  },
  {
   "cell_type": "code",
   "execution_count": 21,
   "id": "f9422ab4",
   "metadata": {},
   "outputs": [
    {
     "name": "stderr",
     "output_type": "stream",
     "text": [
      "The PostScript backend does not support transparency; partially transparent artists will be rendered opaque.\n"
     ]
    },
    {
     "data": {
      "image/png": "[encoded data removed]",
      "text/plain": [
       "<Figure size 3000x1000 with 3 Axes>"
      ]
     },
     "metadata": {},
     "output_type": "display_data"
    }
   ],
   "source": [
    "fig = plt.figure(figsize=(30,10))\n",
    "\n",
    "ax = fig.add_subplot(131)\n",
    "ax.imshow(spdn_mu1_score_frechet[1][-1].reshape(3,3), cmap=mpl.cm.viridis)\n",
    "ax.set_axis_off()\n",
    "\n",
    "ax = fig.add_subplot(132)\n",
    "ax.imshow(spdn_mu1_score_frechet[1][-1].reshape(3,3), cmap=mpl.cm.viridis)\n",
    "ax.set_axis_off()\n",
    "\n",
    "ax = fig.add_subplot(133)\n",
    "ax.scatter(dti_eigval1[:100,0], dti_eigval1[:100,1], color='black', alpha=.5)#c=dti_eig1[:100,2])\n",
    "ax.scatter(spdn_mu1_score_eigval[0], spdn_mu1_score_eigval[1], color='blue', s=300)#c=dti_eig1[:100,2])\n",
    "ax.scatter(spdn_mu1_true_eigval[0], spdn_mu1_true_eigval[1], color='red', s=300)#c=dti_eig1[:100,2])\n",
    "ax.set_axis_off()\n",
    "\n",
    "fig.tight_layout()\n",
    "\n",
    "fig.savefig(f'{figure_path}score_frechet_spdn.eps', format='eps', pad_inches=0.1, bbox_inches='tight')\n"
   ]
  },
  {
   "cell_type": "code",
   "execution_count": 22,
   "id": "112c1183",
   "metadata": {},
   "outputs": [],
   "source": [
    "log_approx = lambda x,y,t: t0*ScoreEval.grady_log(x,y,t)"
   ]
  },
  {
   "cell_type": "code",
   "execution_count": 39,
   "id": "94cd3865",
   "metadata": {},
   "outputs": [],
   "source": [
    "log_score = vmap(lambda x,c: log_approx((spdn_mu1_score_frechet[0][-1], spdn_mu1_score_frechet[1][-1]),\n",
    "                                        (x,c),\n",
    "                                        t0))(spdn_obs1[0][:100], spdn_obs1[1][:100])"
   ]
  },
  {
   "cell_type": "code",
   "execution_count": 40,
   "id": "076ea9ba",
   "metadata": {},
   "outputs": [
    {
     "data": {
      "text/plain": [
       "Array([[ 4.50853780e-01,  1.21959261e-01,  7.02008436e-03,\n",
       "         4.22616091e-01, -8.44859846e-02,  3.21234955e-01],\n",
       "       [-2.97603776e-01,  3.76943729e-01, -1.49605592e-01,\n",
       "        -3.65849978e-01, -2.63829202e-02, -1.47802885e-01],\n",
       "       [ 3.19703352e-01, -1.37291844e-02, -2.67986355e-01,\n",
       "         5.55525452e-01, -1.05954092e-01,  7.04057941e-02],\n",
       "       [-3.65568451e-01,  7.09846352e-02, -3.24175631e-01,\n",
       "        -1.87979483e-01,  3.03955953e-01,  8.89191288e-03],\n",
       "       [-4.63491446e-01,  1.37891055e-01,  6.33227940e-02,\n",
       "        -4.35794039e-01,  7.15181906e-02, -3.20838680e-01],\n",
       "       [-4.78920813e-01,  8.32641824e-02,  1.16283875e-02,\n",
       "        -3.89336248e-01,  1.34423740e-01, -3.42810641e-01],\n",
       "       [ 4.17525086e-01, -3.88219855e-02, -1.48774650e-01,\n",
       "         4.21418052e-01, -2.31060098e-01,  3.29086504e-01],\n",
       "       [-1.57834659e-03,  1.54774198e-01, -4.82780603e-01,\n",
       "         1.94169816e-01,  2.90264879e-01,  2.55384274e-01],\n",
       "       [-3.99225523e-01,  1.80866359e-01,  1.14076720e-01,\n",
       "        -4.59216812e-01,  7.50209455e-02, -3.53089669e-01],\n",
       "       [-3.35572009e-01,  8.21116753e-02, -6.65333273e-02,\n",
       "        -4.81556624e-01,  1.69745594e-01, -2.97926354e-01],\n",
       "       [-3.28023396e-01,  5.57633229e-02,  2.63431572e-02,\n",
       "        -5.96504262e-01,  5.76783491e-02, -2.17244311e-01],\n",
       "       [-1.25774746e-01,  4.13372078e-01,  3.75941310e-01,\n",
       "         2.10728539e-01, -4.21791334e-02, -1.29030921e-01],\n",
       "       [-2.20910629e-01, -1.47740967e-01,  4.48874401e-01,\n",
       "         1.18205042e-01,  6.43778207e-02, -4.24229177e-01],\n",
       "       [-2.09306592e-01, -2.95287613e-01, -2.92667810e-01,\n",
       "        -3.31417436e-01,  8.11602081e-02, -4.08671599e-01],\n",
       "       [ 1.82570186e-01, -4.58565019e-01, -2.74393876e-01,\n",
       "         8.91904197e-02,  1.28350510e-01, -3.85519781e-01],\n",
       "       [ 6.00017655e-01,  8.94530312e-02, -1.20567178e-01,\n",
       "         1.98032111e-01,  2.41039876e-02,  1.80970833e-02],\n",
       "       [ 4.67491641e-01,  2.71018677e-01,  1.38855313e-01,\n",
       "         1.04328750e-01,  8.81586084e-02, -4.25432147e-02],\n",
       "       [ 3.64526104e-01, -1.95101524e-01, -2.23274586e-01,\n",
       "         4.43618420e-01, -4.44718311e-02, -1.48183971e-01],\n",
       "       [ 5.27535587e-01,  5.82344677e-02,  1.07516524e-01,\n",
       "         3.88955807e-01, -7.99942399e-02,  1.27144611e-01],\n",
       "       [ 6.06119908e-01,  6.99413701e-02,  1.80810366e-02,\n",
       "         1.46579209e-01,  1.85892484e-01,  1.39155298e-01],\n",
       "       [ 5.42866609e-01,  8.19252472e-02,  4.73787726e-02,\n",
       "         3.81841806e-01, -1.50051159e-01,  1.05434770e-01],\n",
       "       [ 6.72783513e-02,  3.41395052e-02,  4.06541083e-01,\n",
       "         5.62703730e-01, -4.93388036e-02, -4.73187426e-02],\n",
       "       [ 4.45813579e-01, -1.10515640e-01,  1.20283853e-01,\n",
       "         1.62130980e-01,  4.36030898e-01, -1.80257065e-01],\n",
       "       [ 4.08115496e-01, -6.21719410e-02,  1.44248676e-02,\n",
       "         5.79686597e-01,  3.05033488e-02,  1.34554602e-01],\n",
       "       [ 4.94095927e-01, -2.39828629e-02,  1.25093704e-01,\n",
       "         3.66824750e-01, -3.83944186e-02,  3.39965078e-01],\n",
       "       [ 5.08904308e-01,  4.29649992e-02,  1.13275668e-01,\n",
       "         3.69383282e-01, -1.35932557e-02,  3.39200675e-01],\n",
       "       [ 5.12072172e-01, -2.15566008e-01, -1.46145518e-01,\n",
       "        -8.96117690e-02,  1.09903436e-01,  1.68693514e-01],\n",
       "       [ 1.61652939e-01, -2.25764638e-01,  3.67673552e-01,\n",
       "         3.67767055e-01,  1.98422462e-01,  3.97816489e-01],\n",
       "       [ 3.32476690e-01,  1.76903426e-01,  3.23141893e-01,\n",
       "         2.18407034e-01, -3.52555137e-01,  1.45282253e-01],\n",
       "       [ 3.94973946e-01,  1.10566733e-01,  3.46944747e-01,\n",
       "         2.89656162e-01, -2.72546380e-01, -8.39470359e-02],\n",
       "       [ 4.46827943e-01,  5.61215890e-02,  1.15145512e-01,\n",
       "         4.11604285e-01, -1.35718742e-01,  3.39460828e-01],\n",
       "       [ 3.55846887e-01, -6.06507382e-02,  4.10800827e-02,\n",
       "         4.99467554e-01,  8.69472968e-03,  4.46981542e-01],\n",
       "       [ 4.47169152e-01,  4.15062700e-02,  7.43740313e-02,\n",
       "         4.49901663e-01,  7.84280199e-02,  4.00721676e-01],\n",
       "       [ 4.24730194e-01,  7.00956324e-02,  4.62780822e-02,\n",
       "         4.54526732e-01,  1.81670309e-02,  4.08930915e-01],\n",
       "       [ 4.08826173e-01,  7.08569649e-02,  1.30644562e-02,\n",
       "         4.39508504e-01, -1.05963022e-01,  3.93152761e-01],\n",
       "       [ 1.74188602e-01,  7.46005368e-03, -2.63837109e-01,\n",
       "         5.50948137e-01, -1.07861950e-02,  4.32863390e-01],\n",
       "       [ 4.52090514e-01, -5.44227809e-03, -5.84180666e-02,\n",
       "         1.15924642e-01, -3.57151293e-01,  2.36654494e-01],\n",
       "       [ 2.67077988e-01, -2.87861965e-01,  1.34472536e-01,\n",
       "        -3.60647671e-01,  2.45470157e-02, -4.08246922e-01],\n",
       "       [-2.97024443e-01, -8.36768554e-02,  4.43384652e-01,\n",
       "        -2.49348072e-01,  1.51540238e-01, -2.02550896e-01],\n",
       "       [-3.84409947e-01,  5.43993819e-02,  1.94372126e-01,\n",
       "        -4.25430764e-01,  2.10344985e-02, -3.94696275e-01],\n",
       "       [-4.77712118e-01,  1.65578554e-01,  5.75003088e-02,\n",
       "        -1.33646776e-01,  9.06745516e-02, -4.27241365e-01],\n",
       "       [ 2.75707770e-01, -2.17107338e-01,  5.44863144e-02,\n",
       "         3.42387536e-01, -7.74773223e-02,  5.06623489e-01],\n",
       "       [ 3.49575757e-01, -1.34033366e-02,  1.19961232e-01,\n",
       "         5.15338148e-01,  1.35791684e-01,  3.77837941e-01],\n",
       "       [ 3.90857687e-01, -5.25118064e-02,  2.91379570e-02,\n",
       "         4.68746323e-01,  1.10154320e-01,  4.26041647e-01],\n",
       "       [ 3.07533754e-01,  2.92875030e-02, -1.15337451e-01,\n",
       "         3.99672888e-01, -5.84980259e-02,  4.69517223e-01],\n",
       "       [ 3.94759147e-01, -2.96401010e-03,  1.31563815e-01,\n",
       "         3.80727133e-01, -1.72704650e-01,  3.92964492e-01],\n",
       "       [ 4.85158239e-01,  1.24965338e-01, -1.69538768e-02,\n",
       "         4.45563045e-01,  3.47230701e-02, -6.38119326e-02],\n",
       "       [ 4.86650312e-01,  7.68729252e-02, -3.69944830e-02,\n",
       "         3.28242064e-01, -1.19003099e-01,  4.12786630e-01],\n",
       "       [ 1.33232596e-01, -1.88053298e-01, -1.94206399e-01,\n",
       "         6.07407474e-01, -1.45649022e-02,  3.14767990e-01],\n",
       "       [ 1.29868452e-01, -2.08364213e-01, -4.79326869e-01,\n",
       "        -6.43550944e-02, -1.71068548e-01,  2.26036965e-01],\n",
       "       [-3.68232079e-01,  4.55786031e-02,  3.24475594e-01,\n",
       "        -4.45062248e-01, -2.70946977e-02, -1.48128498e-01],\n",
       "       [-4.09073553e-01,  1.72714400e-04,  2.19580083e-01,\n",
       "        -3.76697263e-01,  7.26850647e-02, -4.17138430e-01],\n",
       "       [-4.93991841e-01,  2.67090323e-02, -2.35580119e-02,\n",
       "        -4.07395910e-01,  2.85542474e-02, -3.83108499e-01],\n",
       "       [-4.69078757e-01,  3.83950726e-02, -6.75419065e-02,\n",
       "        -5.02686321e-01,  7.45887512e-02, -6.29716473e-02],\n",
       "       [-3.49309063e-01, -1.59064158e-01,  5.86134254e-02,\n",
       "         1.61600786e-01,  4.69220472e-01,  8.70655020e-02],\n",
       "       [-4.17086400e-01, -7.75487517e-02, -1.74728129e-01,\n",
       "         9.80262635e-02,  7.75715539e-02,  4.03959987e-01],\n",
       "       [-1.31144917e-01, -1.73771124e-01, -1.10953209e-01,\n",
       "         1.76820033e-01, -1.45605150e-01,  4.82883746e-01],\n",
       "       [ 1.00288707e-01,  3.38348985e-01,  3.12758185e-01,\n",
       "        -2.85600438e-02, -2.50381445e-01,  4.19038133e-01],\n",
       "       [ 3.37525756e-01,  4.10003231e-01, -3.48582988e-02,\n",
       "         2.01570766e-01, -2.04035677e-01, -1.96284323e-01],\n",
       "       [ 5.28213367e-01,  8.35178982e-02, -5.50994565e-03,\n",
       "         3.66830901e-01, -1.77134177e-01,  2.39634096e-01],\n",
       "       [ 4.99782189e-01,  3.84645153e-02, -2.71498967e-02,\n",
       "         2.09720277e-01, -3.06263732e-01,  2.57502569e-01],\n",
       "       [-3.73661462e-01, -2.00437739e-01, -1.47081982e-01,\n",
       "        -3.16613457e-01,  5.56288178e-02,  1.20722845e-01],\n",
       "       [-2.73976085e-01, -3.98391294e-01, -6.72417672e-02,\n",
       "        -3.68272634e-01,  1.15188030e-01, -1.64377616e-01],\n",
       "       [-2.99293758e-01, -3.83239524e-01, -6.65821469e-02,\n",
       "        -1.93545456e-01, -1.12915749e-01,  3.06009070e-01],\n",
       "       [ 2.46473598e-01, -1.70589931e-01, -1.46308753e-01,\n",
       "         5.12426393e-01, -4.65404776e-02,  4.39116716e-01],\n",
       "       [-3.47592551e-01, -7.69637605e-02, -2.32326518e-01,\n",
       "        -3.83186718e-01, -1.05554265e-01,  3.42109651e-01],\n",
       "       [-4.70148073e-01,  1.02776802e-02,  2.28292382e-02,\n",
       "        -4.23797431e-01,  4.84339750e-02, -3.97006715e-01],\n",
       "       [-4.41470875e-01, -3.42332369e-02, -1.65990158e-01,\n",
       "        -4.51463443e-01, -1.23702072e-02, -3.29507315e-01],\n",
       "       [-4.75140111e-01, -4.35810915e-02, -1.66575683e-01,\n",
       "        -3.77362261e-01, -1.24532228e-01, -2.93366007e-01],\n",
       "       [-5.13636447e-01,  3.41117360e-02, -1.30058590e-01,\n",
       "        -3.78768042e-01, -1.28835257e-01,  1.15730489e-01],\n",
       "       [-3.17573969e-01,  2.89069367e-01,  1.70605439e-01,\n",
       "        -4.19880334e-01,  1.12104309e-01, -6.24789679e-02],\n",
       "       [-6.45575443e-02,  2.87304884e-01,  3.95485812e-01,\n",
       "        -3.17485975e-01, -8.78646637e-02, -1.43109701e-01],\n",
       "       [ 3.02547588e-01,  2.61787038e-01,  5.61872913e-02,\n",
       "         3.63602333e-01,  1.89244301e-01,  2.47880919e-01],\n",
       "       [ 5.03151333e-01,  1.36471590e-01,  4.18614641e-02,\n",
       "         1.47473425e-01, -3.93311824e-01,  8.72606620e-02],\n",
       "       [-1.92287307e-01,  1.24041110e-01, -3.13393552e-01,\n",
       "        -4.20348885e-01, -3.49221503e-01, -1.15355650e-01],\n",
       "       [-4.51189040e-01, -1.01116488e-01, -2.29328180e-01,\n",
       "        -4.06874144e-01,  4.62533950e-03, -2.23833308e-01],\n",
       "       [-5.04034030e-01, -2.00306374e-01,  1.19414042e-02,\n",
       "        -3.84684921e-01,  4.57832648e-02, -1.03156522e-01],\n",
       "       [-4.34995190e-01, -2.02671875e-01,  2.62948999e-01,\n",
       "        -1.46516550e-01, -1.72483136e-01, -2.66864830e-01],\n",
       "       [-1.99291287e-01, -2.96258190e-01,  3.79743395e-01,\n",
       "         1.82906102e-01, -2.79488483e-03, -4.11618007e-01],\n",
       "       [ 4.70043944e-01,  4.41215485e-03,  1.71660094e-01,\n",
       "         4.48966759e-01,  1.56082003e-01,  1.85912031e-01],\n",
       "       [ 5.07120066e-01, -2.30188728e-02, -6.00936901e-02,\n",
       "         3.06646626e-01,  2.49868077e-01,  3.11900749e-01],\n",
       "       [ 1.34002713e-01,  1.33266415e-01, -5.67106820e-01,\n",
       "         2.28536305e-01,  1.09036081e-02,  3.32096863e-01],\n",
       "       [-5.24269854e-01,  4.05332426e-02, -6.34910077e-02,\n",
       "        -4.21398683e-01,  3.94443623e-03, -2.32883018e-01],\n",
       "       [-4.70499421e-01, -2.20043125e-02, -1.11576765e-02,\n",
       "        -4.36699430e-01,  2.27919345e-02, -3.88134718e-01],\n",
       "       [-4.32745157e-01, -8.20319532e-02, -1.46685833e-01,\n",
       "        -4.12126717e-01, -7.01261889e-03, -3.72374869e-01],\n",
       "       [-4.71128216e-01, -1.09381598e-02, -1.26072731e-01,\n",
       "        -4.22442778e-01, -6.88772973e-02, -3.59236010e-01],\n",
       "       [-5.13768511e-01, -1.11017377e-03, -2.23338915e-02,\n",
       "        -4.66689615e-01, -1.56030085e-02, -2.61325734e-01],\n",
       "       [-3.53455188e-01,  1.74746064e-01,  2.79684831e-01,\n",
       "        -4.50268449e-01,  6.33623057e-02, -1.04762293e-01],\n",
       "       [-1.27780334e-01,  3.52912631e-01,  3.02642299e-01,\n",
       "        -3.02244385e-01, -1.82934530e-01,  6.44687866e-02],\n",
       "       [-2.04296436e-01, -9.76553975e-02, -3.16541655e-02,\n",
       "        -2.16788511e-01, -2.22490471e-01, -3.92311386e-01],\n",
       "       [-4.49470178e-01,  1.03046972e-02, -2.68735459e-01,\n",
       "        -1.34326252e-01, -2.87404270e-01, -2.83366484e-01],\n",
       "       [-5.39153729e-01, -5.33258775e-02, -1.25135386e-01,\n",
       "        -3.19209805e-01,  4.87080765e-02, -2.54027371e-01],\n",
       "       [-4.96668476e-01, -1.13801260e-01, -8.49287592e-02,\n",
       "        -3.83759662e-01,  1.17902391e-01, -2.79013030e-01],\n",
       "       [-4.00252393e-01, -1.88691648e-01,  2.61403499e-01,\n",
       "        -7.14123912e-02,  5.38022894e-02, -3.97775772e-01],\n",
       "       [ 4.87517261e-01, -1.25535413e-01,  1.28322718e-01,\n",
       "         3.06092165e-01,  2.78017820e-01,  1.04422878e-01],\n",
       "       [ 5.02663246e-01, -7.58259290e-02, -3.12981478e-01,\n",
       "         1.26841697e-01,  1.76584848e-01,  4.85025776e-02],\n",
       "       [-1.94682567e-01,  1.89141126e-01, -4.47383340e-01,\n",
       "        -3.26081303e-01,  7.81618949e-02, -3.03033210e-01],\n",
       "       [-4.69878317e-01, -7.72653556e-03,  1.08090319e-02,\n",
       "        -4.48648661e-01,  2.78278387e-02, -3.74730472e-01],\n",
       "       [-4.63072628e-01, -2.83587546e-02, -1.91664883e-02,\n",
       "        -4.40178442e-01, -2.27923028e-03, -4.00607634e-01],\n",
       "       [-4.62160837e-01,  6.40126906e-02,  1.63402275e-02,\n",
       "        -5.06905081e-01,  5.42066730e-02, -2.75087945e-01]],      dtype=float64)"
      ]
     },
     "execution_count": 40,
     "metadata": {},
     "output_type": "execute_result"
    }
   ],
   "source": [
    "log_score"
   ]
  },
  {
   "cell_type": "code",
   "execution_count": 41,
   "id": "92db7dea",
   "metadata": {},
   "outputs": [
    {
     "data": {
      "text/plain": [
       "Array([0., 0., 0., 0., 0., 0.], dtype=float64)"
      ]
     },
     "execution_count": 41,
     "metadata": {},
     "output_type": "execute_result"
    }
   ],
   "source": [
    "M.Log(x0,x0[1])"
   ]
  },
  {
   "cell_type": "code",
   "execution_count": 42,
   "id": "6a389a7e",
   "metadata": {},
   "outputs": [],
   "source": [
    "log_true = vmap(lambda c: M.Log((spdn_mu1_score_frechet[0][-1], spdn_mu1_score_frechet[1][-1]),\n",
    "                                        c))(spdn_obs1[1][:100])"
   ]
  },
  {
   "cell_type": "code",
   "execution_count": 43,
   "id": "006d3329",
   "metadata": {},
   "outputs": [
    {
     "data": {
      "text/plain": [
       "(100, 6)"
      ]
     },
     "execution_count": 43,
     "metadata": {},
     "output_type": "execute_result"
    }
   ],
   "source": [
    "log_true.shape"
   ]
  }
 ],
 "metadata": {
  "kernelspec": {
   "display_name": "Python 3 (ipykernel)",
   "language": "python",
   "name": "python3"
  },
  "language_info": {
   "codemirror_mode": {
    "name": "ipython",
    "version": 3
   },
   "file_extension": ".py",
   "mimetype": "text/x-python",
   "name": "python",
   "nbconvert_exporter": "python",
   "pygments_lexer": "ipython3",
   "version": "3.9.13"
  }
 },
 "nbformat": 4,
 "nbformat_minor": 5
}
