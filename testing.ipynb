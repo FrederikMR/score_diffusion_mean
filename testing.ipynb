{
 "cells": [
  {
   "cell_type": "code",
   "execution_count": 1,
   "id": "2593c0ee",
   "metadata": {},
   "outputs": [
    {
     "name": "stderr",
     "output_type": "stream",
     "text": [
      "2024-02-29 13:20:48.669468: W tensorflow/compiler/tf2tensorrt/utils/py_utils.cc:38] TF-TRT Warning: Could not find TensorRT\n",
      "An NVIDIA GPU may be present on this machine, but a CUDA-enabled jaxlib is not installed. Falling back to cpu.\n"
     ]
    }
   ],
   "source": [
    "import jax.numpy as jnp\n",
    "import jax.random as jran\n",
    "\n",
    "import haiku as hk\n",
    "\n",
    "\n",
    "import jaxgeometry\n",
    "import ManLearn\n",
    "from ManLearn import train_MNIST\n",
    "from ManLearn import model_loader"
   ]
  },
  {
   "cell_type": "markdown",
   "id": "b2b68667",
   "metadata": {},
   "source": [
    "## Load Data"
   ]
  },
  {
   "cell_type": "code",
   "execution_count": 2,
   "id": "9b083d55",
   "metadata": {},
   "outputs": [],
   "source": [
    "rng_key = jran.PRNGKey(2712)"
   ]
  },
  {
   "cell_type": "code",
   "execution_count": 3,
   "id": "eed833b5",
   "metadata": {},
   "outputs": [
    {
     "name": "stderr",
     "output_type": "stream",
     "text": [
      "2024-02-29 13:20:50.621200: W tensorflow/core/common_runtime/gpu/gpu_device.cc:1956] Cannot dlopen some GPU libraries. Please make sure the missing libraries mentioned above are installed properly if you would like to use GPU. Follow the guide at https://www.tensorflow.org/install/gpu for how to download and setup the required libraries for your platform.\n",
      "Skipping registering GPU devices...\n"
     ]
    }
   ],
   "source": [
    "train_dataset = train_MNIST.load_dataset(split = \"train\", \n",
    "                                 batch_size = 100, \n",
    "                                 seed = 2712)"
   ]
  },
  {
   "cell_type": "markdown",
   "id": "e7585c2e",
   "metadata": {},
   "source": [
    "## Loading Model"
   ]
  },
  {
   "cell_type": "code",
   "execution_count": 4,
   "id": "3fcbf4e3",
   "metadata": {},
   "outputs": [
    {
     "name": "stderr",
     "output_type": "stream",
     "text": [
      "/tmp/ipykernel_211499/3238189426.py:4: DeprecationWarning: jax.tree_flatten is deprecated: use jax.tree_util.tree_flatten.\n",
      "  from jax import Array, tree_flatten, tree_unflatten\n",
      "/tmp/ipykernel_211499/3238189426.py:4: DeprecationWarning: jax.tree_unflatten is deprecated: use jax.tree_util.tree_unflatten.\n",
      "  from jax import Array, tree_flatten, tree_unflatten\n"
     ]
    }
   ],
   "source": [
    "#typing\n",
    "from typing import NamedTuple\n",
    "import optax\n",
    "from jax import Array, tree_flatten, tree_unflatten\n",
    "class TrainingState(NamedTuple):\n",
    "    params: hk.Params\n",
    "    state_val:dict\n",
    "    opt_state: optax.OptState\n",
    "    rng_key: Array"
   ]
  },
  {
   "cell_type": "code",
   "execution_count": 5,
   "id": "18b9675d",
   "metadata": {},
   "outputs": [],
   "source": [
    "import os\n",
    "import pickle\n",
    "def load_model_fn(ckpt_dir, epoch):\n",
    "    \n",
    "    file_name = os.path.join(ckpt_dir, \"epoch_{}_tree.pkl\".format(epoch))\n",
    "    with open(file_name, \"rb\") as f:\n",
    "        tree_struct = pickle.load(f)\n",
    "        \n",
    "    leaves, treedef = tree_flatten(tree_struct)\n",
    "    file_name = os.path.join(ckpt_dir, \"epoch_{}_arrays.npy\".format(epoch))\n",
    "    with open(file_name, \"rb\") as f:\n",
    "        flat_state = [np.load(f) for _ in leaves]\n",
    "\n",
    "\n",
    "        return tree_unflatten(treedef, flat_state)"
   ]
  },
  {
   "cell_type": "code",
   "execution_count": 6,
   "id": "b88d21ba",
   "metadata": {},
   "outputs": [
    {
     "name": "stdout",
     "output_type": "stream",
     "text": [
      "dict_keys(['decoder/batch_norm', 'decoder/batch_norm_1', 'decoder/batch_norm_2', 'decoder/conv2_d_transpose', 'decoder/conv2_d_transpose_1', 'decoder/conv2_d_transpose_2', 'decoder/linear', 'decoder/linear_1', 'decoder/linear_2', 'encoder/batch_norm', 'encoder/batch_norm_1', 'encoder/batch_norm_2', 'encoder/batch_norm_3', 'encoder/conv2_d', 'encoder/conv2_d_1', 'encoder/conv2_d_2', 'encoder/linear', 'encoder/linear_1', 'encoder/linear_2'])\n",
      "19\n"
     ]
    }
   ],
   "source": [
    "rng_key = jran.PRNGKey(2712)\n",
    "\n",
    "model_encoder = ManLearn.VAE.VAE_MNIST.model_encoder\n",
    "model_decoder = ManLearn.VAE.VAE_MNIST.model_decoder\n",
    "model = ManLearn.VAE.VAE_MNIST.model\n",
    "\n",
    "state = model_loader.load_model(\"ManLearn/models/MNIST/VAE/\")\n",
    "print(state.params.keys())\n",
    "print(len(state.params.keys()))"
   ]
  },
  {
   "cell_type": "code",
   "execution_count": 18,
   "id": "880bbf3e",
   "metadata": {},
   "outputs": [
    {
     "name": "stdout",
     "output_type": "stream",
     "text": [
      "dict_keys(['encoder/conv2_d', 'encoder/conv2_d_1', 'encoder/conv2_d_2', 'encoder/linear', 'encoder/linear_1', 'encoder/linear_2', 'decoder/linear', 'decoder/linear_1', 'decoder/conv2_d_transpose', 'decoder/conv2_d_transpose_1', 'decoder/conv2_d_transpose_2', 'decoder/linear_2'])\n",
      "12\n"
     ]
    }
   ],
   "source": [
    "from ManLearn.VAE import VAE2_MNIST\n",
    "model2 = VAE2_MNIST.model\n",
    "model_decoder2 = VAE2_MNIST.model_decoder\n",
    "initial_params = model2.init(rng_key, next(train_dataset[0]).image)\n",
    "print(initial_params.keys())\n",
    "print(len(initial_params.keys()))\n",
    "initial_params.update(state.params)"
   ]
  },
  {
   "cell_type": "code",
   "execution_count": 15,
   "id": "c0864e91",
   "metadata": {},
   "outputs": [
    {
     "ename": "AttributeError",
     "evalue": "'Transformed' object has no attribute 'decoder'",
     "output_type": "error",
     "traceback": [
      "\u001b[0;31m---------------------------------------------------------------------------\u001b[0m",
      "\u001b[0;31mAttributeError\u001b[0m                            Traceback (most recent call last)",
      "\u001b[0;32m/tmp/ipykernel_211499/116472846.py\u001b[0m in \u001b[0;36m<module>\u001b[0;34m\u001b[0m\n\u001b[0;32m----> 1\u001b[0;31m \u001b[0mmodel2\u001b[0m\u001b[0;34m.\u001b[0m\u001b[0mdecoder\u001b[0m\u001b[0;34m(\u001b[0m\u001b[0mjnp\u001b[0m\u001b[0;34m.\u001b[0m\u001b[0mones\u001b[0m\u001b[0;34m(\u001b[0m\u001b[0;34m(\u001b[0m\u001b[0;36m1\u001b[0m\u001b[0;34m,\u001b[0m\u001b[0;36m2\u001b[0m\u001b[0;34m)\u001b[0m\u001b[0;34m)\u001b[0m\u001b[0;34m)\u001b[0m\u001b[0;34m\u001b[0m\u001b[0;34m\u001b[0m\u001b[0m\n\u001b[0m",
      "\u001b[0;31mAttributeError\u001b[0m: 'Transformed' object has no attribute 'decoder'"
     ]
    }
   ],
   "source": [
    "model2.decoder(jnp.ones((1,2)))"
   ]
  },
  {
   "cell_type": "code",
   "execution_count": 13,
   "id": "e567443b",
   "metadata": {},
   "outputs": [
    {
     "data": {
      "text/plain": [
       "{'w': array([[[[-0.21354052,  0.06135603, -0.39106044, ..., -0.20208754,\n",
       "           -0.08029794, -0.07346983]],\n",
       " \n",
       "         [[-0.01404703, -0.05768723, -0.11307259, ...,  0.19360858,\n",
       "            0.18072474, -0.06466629]],\n",
       " \n",
       "         [[ 0.1747347 , -0.06417012,  0.06991654, ...,  0.15199405,\n",
       "           -0.06627957,  0.20038699]],\n",
       " \n",
       "         [[ 0.29134095, -0.23965575, -0.16902058, ...,  0.13458219,\n",
       "           -0.05604921,  0.25392926]]],\n",
       " \n",
       " \n",
       "        [[[ 0.16781488,  0.07799585, -0.23223794, ..., -0.27061594,\n",
       "           -0.2733124 , -0.00678509]],\n",
       " \n",
       "         [[ 0.31294662,  0.33728725, -0.05942586, ..., -0.16697396,\n",
       "           -0.38223705,  0.04754156]],\n",
       " \n",
       "         [[-0.19997004,  0.00412941,  0.04136116, ..., -0.26388547,\n",
       "           -0.21736181, -0.33713973]],\n",
       " \n",
       "         [[ 0.28335246,  0.02212178, -0.12015286, ...,  0.11203959,\n",
       "           -0.16619442,  0.04410643]]],\n",
       " \n",
       " \n",
       "        [[[-0.26313606, -0.14557536, -0.42423832, ..., -0.3185617 ,\n",
       "            0.20377828,  0.29000506]],\n",
       " \n",
       "         [[-0.46612683, -0.13039717, -0.04542997, ...,  0.33632264,\n",
       "            0.0241212 ,  0.08125578]],\n",
       " \n",
       "         [[-0.05792462,  0.2430689 ,  0.46329287, ...,  0.43192577,\n",
       "            0.05852152, -0.38743258]],\n",
       " \n",
       "         [[ 0.36653858, -0.2978185 ,  0.13006492, ..., -0.26319927,\n",
       "           -0.34658927,  0.14547667]]],\n",
       " \n",
       " \n",
       "        [[[-0.22145914,  0.05328372, -0.08306158, ..., -0.10736409,\n",
       "            0.18034446,  0.1583423 ]],\n",
       " \n",
       "         [[-0.31022102, -0.39378384,  0.3313198 , ..., -0.20841132,\n",
       "            0.52059364,  0.17077671]],\n",
       " \n",
       "         [[-0.13178347,  0.22959442,  0.01305806, ..., -0.4309918 ,\n",
       "           -0.21970269, -0.31560075]],\n",
       " \n",
       "         [[ 0.41392967, -0.23491642,  0.10301138, ..., -0.01634498,\n",
       "           -0.08372546,  0.31143132]]]], dtype=float32)}"
      ]
     },
     "execution_count": 13,
     "metadata": {},
     "output_type": "execute_result"
    }
   ],
   "source": [
    "state.params['encoder/conv2_d']"
   ]
  },
  {
   "cell_type": "code",
   "execution_count": 14,
   "id": "41edc84b",
   "metadata": {},
   "outputs": [
    {
     "data": {
      "text/plain": [
       "{'w': array([[[[-0.21354052,  0.06135603, -0.39106044, ..., -0.20208754,\n",
       "           -0.08029794, -0.07346983]],\n",
       " \n",
       "         [[-0.01404703, -0.05768723, -0.11307259, ...,  0.19360858,\n",
       "            0.18072474, -0.06466629]],\n",
       " \n",
       "         [[ 0.1747347 , -0.06417012,  0.06991654, ...,  0.15199405,\n",
       "           -0.06627957,  0.20038699]],\n",
       " \n",
       "         [[ 0.29134095, -0.23965575, -0.16902058, ...,  0.13458219,\n",
       "           -0.05604921,  0.25392926]]],\n",
       " \n",
       " \n",
       "        [[[ 0.16781488,  0.07799585, -0.23223794, ..., -0.27061594,\n",
       "           -0.2733124 , -0.00678509]],\n",
       " \n",
       "         [[ 0.31294662,  0.33728725, -0.05942586, ..., -0.16697396,\n",
       "           -0.38223705,  0.04754156]],\n",
       " \n",
       "         [[-0.19997004,  0.00412941,  0.04136116, ..., -0.26388547,\n",
       "           -0.21736181, -0.33713973]],\n",
       " \n",
       "         [[ 0.28335246,  0.02212178, -0.12015286, ...,  0.11203959,\n",
       "           -0.16619442,  0.04410643]]],\n",
       " \n",
       " \n",
       "        [[[-0.26313606, -0.14557536, -0.42423832, ..., -0.3185617 ,\n",
       "            0.20377828,  0.29000506]],\n",
       " \n",
       "         [[-0.46612683, -0.13039717, -0.04542997, ...,  0.33632264,\n",
       "            0.0241212 ,  0.08125578]],\n",
       " \n",
       "         [[-0.05792462,  0.2430689 ,  0.46329287, ...,  0.43192577,\n",
       "            0.05852152, -0.38743258]],\n",
       " \n",
       "         [[ 0.36653858, -0.2978185 ,  0.13006492, ..., -0.26319927,\n",
       "           -0.34658927,  0.14547667]]],\n",
       " \n",
       " \n",
       "        [[[-0.22145914,  0.05328372, -0.08306158, ..., -0.10736409,\n",
       "            0.18034446,  0.1583423 ]],\n",
       " \n",
       "         [[-0.31022102, -0.39378384,  0.3313198 , ..., -0.20841132,\n",
       "            0.52059364,  0.17077671]],\n",
       " \n",
       "         [[-0.13178347,  0.22959442,  0.01305806, ..., -0.4309918 ,\n",
       "           -0.21970269, -0.31560075]],\n",
       " \n",
       "         [[ 0.41392967, -0.23491642,  0.10301138, ..., -0.01634498,\n",
       "           -0.08372546,  0.31143132]]]], dtype=float32)}"
      ]
     },
     "execution_count": 14,
     "metadata": {},
     "output_type": "execute_result"
    }
   ],
   "source": [
    "initial_params['encoder/conv2_d']"
   ]
  },
  {
   "cell_type": "code",
   "execution_count": 22,
   "id": "c50383d8",
   "metadata": {},
   "outputs": [],
   "source": [
    "F = lambda z: model2.decoder.apply(state.params, rng_key, z[0].reshape(-1,2))[0].reshape(-1)"
   ]
  },
  {
   "cell_type": "code",
   "execution_count": 23,
   "id": "17bba3b9",
   "metadata": {},
   "outputs": [
    {
     "ename": "AttributeError",
     "evalue": "'Transformed' object has no attribute 'decoder'",
     "output_type": "error",
     "traceback": [
      "\u001b[0;31m---------------------------------------------------------------------------\u001b[0m",
      "\u001b[0;31mAttributeError\u001b[0m                            Traceback (most recent call last)",
      "\u001b[0;32m/tmp/ipykernel_211499/1620309853.py\u001b[0m in \u001b[0;36m<module>\u001b[0;34m\u001b[0m\n\u001b[0;32m----> 1\u001b[0;31m \u001b[0mF\u001b[0m\u001b[0;34m(\u001b[0m\u001b[0;34m(\u001b[0m\u001b[0mjnp\u001b[0m\u001b[0;34m.\u001b[0m\u001b[0mones\u001b[0m\u001b[0;34m(\u001b[0m\u001b[0;36m2\u001b[0m\u001b[0;34m)\u001b[0m\u001b[0;34m,\u001b[0m \u001b[0mjnp\u001b[0m\u001b[0;34m.\u001b[0m\u001b[0mzeros\u001b[0m\u001b[0;34m(\u001b[0m\u001b[0;36m1\u001b[0m\u001b[0;34m)\u001b[0m\u001b[0;34m)\u001b[0m\u001b[0;34m)\u001b[0m\u001b[0;34m.\u001b[0m\u001b[0mshape\u001b[0m\u001b[0;34m\u001b[0m\u001b[0;34m\u001b[0m\u001b[0m\n\u001b[0m",
      "\u001b[0;32m/tmp/ipykernel_211499/1161834790.py\u001b[0m in \u001b[0;36m<lambda>\u001b[0;34m(z)\u001b[0m\n\u001b[0;32m----> 1\u001b[0;31m \u001b[0mF\u001b[0m \u001b[0;34m=\u001b[0m \u001b[0;32mlambda\u001b[0m \u001b[0mz\u001b[0m\u001b[0;34m:\u001b[0m \u001b[0mmodel2\u001b[0m\u001b[0;34m.\u001b[0m\u001b[0mdecoder\u001b[0m\u001b[0;34m.\u001b[0m\u001b[0mapply\u001b[0m\u001b[0;34m(\u001b[0m\u001b[0mstate\u001b[0m\u001b[0;34m.\u001b[0m\u001b[0mparams\u001b[0m\u001b[0;34m,\u001b[0m \u001b[0mrng_key\u001b[0m\u001b[0;34m,\u001b[0m \u001b[0mz\u001b[0m\u001b[0;34m[\u001b[0m\u001b[0;36m0\u001b[0m\u001b[0;34m]\u001b[0m\u001b[0;34m.\u001b[0m\u001b[0mreshape\u001b[0m\u001b[0;34m(\u001b[0m\u001b[0;34m-\u001b[0m\u001b[0;36m1\u001b[0m\u001b[0;34m,\u001b[0m\u001b[0;36m2\u001b[0m\u001b[0;34m)\u001b[0m\u001b[0;34m)\u001b[0m\u001b[0;34m[\u001b[0m\u001b[0;36m0\u001b[0m\u001b[0;34m]\u001b[0m\u001b[0;34m.\u001b[0m\u001b[0mreshape\u001b[0m\u001b[0;34m(\u001b[0m\u001b[0;34m-\u001b[0m\u001b[0;36m1\u001b[0m\u001b[0;34m)\u001b[0m\u001b[0;34m\u001b[0m\u001b[0;34m\u001b[0m\u001b[0m\n\u001b[0m",
      "\u001b[0;31mAttributeError\u001b[0m: 'Transformed' object has no attribute 'decoder'"
     ]
    }
   ],
   "source": [
    "F((jnp.ones(2), jnp.zeros(1))).shape"
   ]
  },
  {
   "cell_type": "code",
   "execution_count": null,
   "id": "fa752aed",
   "metadata": {},
   "outputs": [],
   "source": []
  },
  {
   "cell_type": "code",
   "execution_count": 21,
   "id": "82833cc4",
   "metadata": {},
   "outputs": [
    {
     "data": {
      "text/plain": [
       "dict_keys(['decoder/batch_norm', 'decoder/batch_norm_1', 'decoder/batch_norm_2', 'decoder/conv2_d_transpose', 'decoder/conv2_d_transpose_1', 'decoder/conv2_d_transpose_2', 'decoder/linear', 'decoder/linear_1', 'decoder/linear_2', 'encoder/batch_norm', 'encoder/batch_norm_1', 'encoder/batch_norm_2', 'encoder/batch_norm_3', 'encoder/conv2_d', 'encoder/conv2_d_1', 'encoder/conv2_d_2', 'encoder/linear', 'encoder/linear_1', 'encoder/linear_2'])"
      ]
     },
     "execution_count": 21,
     "metadata": {},
     "output_type": "execute_result"
    }
   ],
   "source": [
    "state.params.keys()"
   ]
  },
  {
   "cell_type": "markdown",
   "id": "87028009",
   "metadata": {},
   "source": [
    "## Defining Manifold"
   ]
  },
  {
   "cell_type": "code",
   "execution_count": 9,
   "id": "e0504c99",
   "metadata": {},
   "outputs": [],
   "source": [
    "F = lambda z: model_decoder.apply(state.params, rng_key, z[0].reshape(-1,10))[0].reshape(-1)\n",
    "F_inv = lambda x: model_encoder.apply(state.params, rng_key, x[1].reshape(-1,28,28,1))[0]"
   ]
  },
  {
   "cell_type": "code",
   "execution_count": 10,
   "id": "6a0ccda5",
   "metadata": {},
   "outputs": [
    {
     "name": "stdout",
     "output_type": "stream",
     "text": [
      "using M.Exp for Logarithm\n"
     ]
    }
   ],
   "source": [
    "M = Latent(F=F,dim=10,emb_dim=28*28, invF=None)\n",
    "\n",
    "metric.initialize(M)\n",
    "geodesic.initialize(M)\n",
    "Brownian_coords.initialize(M)\n",
    "Log.initialize(M)\n",
    "\n",
    "(product,sde_product,chart_update_product) = product_sde.initialize(M,M.sde_Brownian_coords,M.chart_update_Brownian_coords)\n",
    "\n",
    "diffusion_mean.initialize(M)\n",
    "diagonal_conditioning.initialize(M,sde_product,chart_update_product)\n",
    "\n",
    "x0 = M.coords([0.]*10)\n",
    "T = 0.5"
   ]
  },
  {
   "cell_type": "markdown",
   "id": "732c5613",
   "metadata": {},
   "source": [
    "## Plot Reconstruction"
   ]
  },
  {
   "cell_type": "code",
   "execution_count": 11,
   "id": "a909041f",
   "metadata": {},
   "outputs": [],
   "source": [
    "img = next(train_dataset).image\n",
    "img_learned = model.apply(state.params, rng_key, img).image"
   ]
  },
  {
   "cell_type": "code",
   "execution_count": 12,
   "id": "670da758",
   "metadata": {},
   "outputs": [],
   "source": [
    "#img2 = img/255\n",
    "#img_learned *= 1/255"
   ]
  },
  {
   "cell_type": "code",
   "execution_count": 13,
   "id": "c07c3240",
   "metadata": {},
   "outputs": [
    {
     "data": {
      "image/png": "[encoded data removed]",
      "text/plain": [
       "<Figure size 800x800 with 20 Axes>"
      ]
     },
     "metadata": {},
     "output_type": "display_data"
    }
   ],
   "source": [
    "from mpl_toolkits.axes_grid1 import ImageGrid\n",
    "fig = plt.figure(figsize=(8, 8))\n",
    "grid = ImageGrid(fig, 111,  # similar to subplot(111)\n",
    "                 nrows_ncols=(1, 10),  # creates 2x2 grid of axes\n",
    "                 axes_pad=0.0,  # pad between axes in inch.\n",
    "                 )\n",
    "for ax, im in zip(grid, img[:10]):\n",
    "    # Iterating over the grid returns the Axes.\n",
    "    ax.imshow(im, cmap='gray')\n",
    "    ax.set_axis_off()"
   ]
  },
  {
   "cell_type": "code",
   "execution_count": 14,
   "id": "2e40e763",
   "metadata": {},
   "outputs": [
    {
     "data": {
      "image/png": "[encoded data removed]",
      "text/plain": [
       "<Figure size 800x800 with 20 Axes>"
      ]
     },
     "metadata": {},
     "output_type": "display_data"
    }
   ],
   "source": [
    "from mpl_toolkits.axes_grid1 import ImageGrid\n",
    "fig = plt.figure(figsize=(8, 8))\n",
    "grid = ImageGrid(fig, 111,  # similar to subplot(111)\n",
    "                 nrows_ncols=(1, 10),  # creates 2x2 grid of axes\n",
    "                 axes_pad=0.0,  # pad between axes in inch.\n",
    "                 )\n",
    "for ax, im in zip(grid, img_learned[:10]):\n",
    "    # Iterating over the grid returns the Axes.\n",
    "    ax.imshow(im, cmap='gray')\n",
    "    ax.set_axis_off()"
   ]
  },
  {
   "cell_type": "markdown",
   "id": "78a48f03",
   "metadata": {},
   "source": [
    "## Loading Model"
   ]
  },
  {
   "cell_type": "code",
   "execution_count": 15,
   "id": "cc83ed27",
   "metadata": {},
   "outputs": [],
   "source": [
    "#Load models\n",
    "def net_f(x):\n",
    "    \"\"\"Create model.\"\"\"\n",
    "    x_new = x.T\n",
    "    x1 = x_new[:M.dim].T\n",
    "    x2 = x_new[M.dim:(2*M.dim)].T\n",
    "    t = x_new[-1]\n",
    "    if x1.ndim == 2:\n",
    "        t = t.reshape(-1,1)\n",
    "    model = hk.Sequential([\n",
    "        hk.Linear(400), tanh,\n",
    "        hk.Linear(200), tanh,\n",
    "        hk.Linear(100), tanh,\n",
    "        hk.Linear(50), tanh,\n",
    "        lambda x: hk.Linear(M.dim)(x)+(x1-x2)/t\n",
    "    ])\n",
    "\n",
    "    #key = subkey4\n",
    "\n",
    "    y = model(x)\n",
    "\n",
    "    return y\n",
    "        \n",
    "model_mean = hk.without_apply_rng(hk.transform(net_f))\n",
    "\n",
    "state_mean = st.load_model_fn(\"trained_models/MNIST/diffusion_mean/\", 250)\n"
   ]
  },
  {
   "cell_type": "code",
   "execution_count": 16,
   "id": "6748d9d2",
   "metadata": {},
   "outputs": [],
   "source": [
    "def grady_log_model(x,y,t):\n",
    "    \n",
    "    return model_mean.apply(state_mean.params,jnp.hstack((x[0], y[0], t)))"
   ]
  },
  {
   "cell_type": "code",
   "execution_count": 17,
   "id": "96620d40",
   "metadata": {},
   "outputs": [],
   "source": [
    "def gradt_log_model(x,y,t):\n",
    "    \n",
    "    grad_val = grady_log_model(x, y, t)\n",
    "            \n",
    "    return 0.5*(jnp.dot(grad_val, grad_val)+M.div(y,lambda y: grady_log_model(x, y, t)))"
   ]
  },
  {
   "cell_type": "code",
   "execution_count": null,
   "id": "21dd9e17",
   "metadata": {},
   "outputs": [],
   "source": []
  }
 ],
 "metadata": {
  "kernelspec": {
   "display_name": "Python 3 (ipykernel)",
   "language": "python",
   "name": "python3"
  },
  "language_info": {
   "codemirror_mode": {
    "name": "ipython",
    "version": 3
   },
   "file_extension": ".py",
   "mimetype": "text/x-python",
   "name": "python",
   "nbconvert_exporter": "python",
   "pygments_lexer": "ipython3",
   "version": "3.9.13"
  }
 },
 "nbformat": 4,
 "nbformat_minor": 5
}
