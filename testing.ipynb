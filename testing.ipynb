{
 "cells": [
  {
   "cell_type": "code",
   "execution_count": 20,
   "id": "4f994fd2",
   "metadata": {},
   "outputs": [],
   "source": [
    "import jax.numpy as jnp\n",
    "import torch\n",
    "\n",
    "import numpy as np"
   ]
  },
  {
   "cell_type": "code",
   "execution_count": 23,
   "id": "32a0b6c6",
   "metadata": {},
   "outputs": [],
   "source": [
    "samples = np.ones((10,3))\n",
    "vectors = np.random.randn(30).reshape(10,3)"
   ]
  },
  {
   "cell_type": "markdown",
   "id": "8d4d6d22",
   "metadata": {},
   "source": [
    "# Torch test"
   ]
  },
  {
   "cell_type": "code",
   "execution_count": 42,
   "id": "d2b81ce1",
   "metadata": {},
   "outputs": [],
   "source": [
    "def score1(x):\n",
    "    \n",
    "    return x\n",
    "\n",
    "def score2(x):\n",
    "    \n",
    "    return torch.vmap(torch.diag)(x)"
   ]
  },
  {
   "cell_type": "code",
   "execution_count": 43,
   "id": "ebfc57c8",
   "metadata": {},
   "outputs": [],
   "source": [
    "samples_torch = torch.Tensor(samples).reshape(10,-1)\n",
    "vectors_torch = torch.Tensor(vectors).reshape(10,-1)"
   ]
  },
  {
   "cell_type": "code",
   "execution_count": 50,
   "id": "a3f751fd",
   "metadata": {},
   "outputs": [],
   "source": [
    "# pair x+sigma*z with x-sigma*x\n",
    "# updated to improve numerical stability\n",
    "def hosm_plus_vr_low_rank(score1, score2, samples, vectors, sigma=0.01):\n",
    "    n, dim = vectors.shape\n",
    "\n",
    "    perturbed_inputs1 = samples + vectors * sigma\n",
    "    perturbed_inputs2 = samples - vectors * sigma\n",
    "\n",
    "    # x+sigma*z\n",
    "    s2_1 = score2(perturbed_inputs1).reshape(n, dim, dim)\n",
    "    # with torch.no_grad():\n",
    "    s1_1 = score1(perturbed_inputs1)\n",
    "    s1_product_1 = torch.einsum('ij, ik -> ijk', s1_1, s1_1)\n",
    "    h_1 = (s2_1 + s1_product_1).view(n, -1)\n",
    "\n",
    "    # x-sigma*z\n",
    "    s2_2 = score2(perturbed_inputs2).reshape(n, dim, dim)\n",
    "    # with torch.no_grad():\n",
    "    s1_2 = score1(perturbed_inputs2)\n",
    "    s1_product_2 = torch.einsum('ij, ik -> ijk', s1_2, s1_2)\n",
    "    h_2 = (s2_2 + s1_product_2).view(n, -1)\n",
    "\n",
    "    # (I - z*z^T) / sigma ** 2\n",
    "    vectors_product = torch.einsum('ij, ik -> ijk', vectors, vectors)\n",
    "    eye = torch.eye(dim, device=vectors.device)\n",
    "    eye = eye.unsqueeze(0)\n",
    "    eye = eye.repeat(n, 1, 1)\n",
    "    diff = (eye - vectors_product) / (sigma ** 2)\n",
    "\n",
    "    s2_vr = score2(samples).reshape(n, dim, dim)\n",
    "    # with torch.no_grad():\n",
    "    s1_vr = score1(samples)\n",
    "    s1_product_vr = torch.einsum('ij, ik -> ijk', s1_vr, s1_vr)\n",
    "    h_vr = (s2_vr + s1_product_vr).view(n, -1)\n",
    "\n",
    "    loss = (h_1 ** 2 + h_2 ** 2) + 2 * diff.view(n, -1) * ((h_1 - h_vr) + (h_2 - h_vr))\n",
    "    loss = loss.sum(dim=-1)\n",
    "    loss = loss.mean(dim=0) / 2.\n",
    "\n",
    "    return loss"
   ]
  },
  {
   "cell_type": "code",
   "execution_count": 51,
   "id": "a55aea9c",
   "metadata": {},
   "outputs": [
    {
     "data": {
      "text/plain": [
       "tensor(-16.4649)"
      ]
     },
     "execution_count": 51,
     "metadata": {},
     "output_type": "execute_result"
    }
   ],
   "source": [
    "hosm_plus_vr_low_rank(score1, score2, samples_torch, vectors_torch)"
   ]
  },
  {
   "cell_type": "markdown",
   "id": "041b4107",
   "metadata": {},
   "source": [
    "# JAX Test"
   ]
  },
  {
   "cell_type": "code",
   "execution_count": 52,
   "id": "7b12bdd1",
   "metadata": {},
   "outputs": [
    {
     "name": "stderr",
     "output_type": "stream",
     "text": [
      "An NVIDIA GPU may be present on this machine, but a CUDA-enabled jaxlib is not installed. Falling back to cpu.\n"
     ]
    }
   ],
   "source": [
    "samples_jax = jnp.array(samples).reshape(10,-1)\n",
    "vectors_jax = jnp.array(vectors).reshape(10,-1)"
   ]
  },
  {
   "cell_type": "code",
   "execution_count": 54,
   "id": "b369c2cb",
   "metadata": {},
   "outputs": [],
   "source": [
    "def score1(x):\n",
    "    \n",
    "    return x\n",
    "\n",
    "def score2(x):\n",
    "    \n",
    "    return jnp.diag(x)"
   ]
  },
  {
   "cell_type": "code",
   "execution_count": 67,
   "id": "25e2f6fb",
   "metadata": {},
   "outputs": [],
   "source": [
    "def f(samples,vectors,sigma):\n",
    "            \n",
    "    dW = sigma*vectors\n",
    "\n",
    "    xp = samples+dW\n",
    "    xm = samples-dW\n",
    "\n",
    "    s1 = score1(samples)\n",
    "    s2 = score2(samples)\n",
    "\n",
    "    s1p = score1(xp)\n",
    "    s2p = score2(xp)\n",
    "\n",
    "    s1m = score1(xm)\n",
    "    s2m = score2(xm)\n",
    "\n",
    "    psi = s2+jnp.einsum('i,j->ij', s1, s1)\n",
    "    psip = s2p+jnp.einsum('i,j->ij', s1p, s1p)\n",
    "    psim = s2m+jnp.einsum('i,j->ij', s1m, s1m)\n",
    "    diff = (jnp.eye(3)-jnp.einsum('i,j->ij', dW, dW)/(sigma**2))/(sigma**2)\n",
    "\n",
    "    loss1 = psip**2\n",
    "    loss2 = psim**2\n",
    "    loss3 = 2*diff*((psip-psi)+(psim-psi))\n",
    "\n",
    "    loss_s2 = loss1+loss2+loss3\n",
    "\n",
    "    return 0.5*jnp.sum(loss_s2)#jnp.mean(loss_s2)"
   ]
  },
  {
   "cell_type": "code",
   "execution_count": 68,
   "id": "f54a6f85",
   "metadata": {},
   "outputs": [],
   "source": [
    "from jax import vmap\n",
    "val = vmap(lambda x,y: f(x,y,sigma=0.01))(samples_jax, vectors_jax)\n",
    "loss = jnp.mean(vmap(lambda x,y: f(x,y,sigma=0.01))(samples_jax, vectors_jax))"
   ]
  },
  {
   "cell_type": "code",
   "execution_count": 69,
   "id": "e458859a",
   "metadata": {},
   "outputs": [
    {
     "data": {
      "text/plain": [
       "Array([-171.50926  ,   17.185877 ,   -5.7141447,  -67.9345   ,\n",
       "         16.372396 ,    6.8355465,   18.49382  ,   17.9139   ,\n",
       "        -14.775223 ,   18.48223  ], dtype=float32)"
      ]
     },
     "execution_count": 69,
     "metadata": {},
     "output_type": "execute_result"
    }
   ],
   "source": [
    "val"
   ]
  },
  {
   "cell_type": "code",
   "execution_count": 70,
   "id": "515e1d65",
   "metadata": {},
   "outputs": [
    {
     "data": {
      "text/plain": [
       "Array(-16.464935, dtype=float32)"
      ]
     },
     "execution_count": 70,
     "metadata": {},
     "output_type": "execute_result"
    }
   ],
   "source": [
    "loss"
   ]
  },
  {
   "cell_type": "code",
   "execution_count": null,
   "id": "3f0aafd4",
   "metadata": {},
   "outputs": [],
   "source": []
  }
 ],
 "metadata": {
  "kernelspec": {
   "display_name": "Python 3 (ipykernel)",
   "language": "python",
   "name": "python3"
  },
  "language_info": {
   "codemirror_mode": {
    "name": "ipython",
    "version": 3
   },
   "file_extension": ".py",
   "mimetype": "text/x-python",
   "name": "python",
   "nbconvert_exporter": "python",
   "pygments_lexer": "ipython3",
   "version": "3.9.13"
  }
 },
 "nbformat": 4,
 "nbformat_minor": 5
}
