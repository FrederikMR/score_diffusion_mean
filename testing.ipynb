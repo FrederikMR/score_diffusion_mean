{
 "cells": [
  {
   "cell_type": "markdown",
   "id": "bba9bfaa",
   "metadata": {},
   "source": [
    "# Testing of JAXGeometry"
   ]
  },
  {
   "cell_type": "code",
   "execution_count": 1,
   "id": "024da527",
   "metadata": {},
   "outputs": [
    {
     "name": "stderr",
     "output_type": "stream",
     "text": [
      "No GPU/TPU found, falling back to CPU. (Set TF_CPP_MIN_LOG_LEVEL=0 and rerun for more info.)\n"
     ]
    }
   ],
   "source": [
    "from jaxgeometry.manifolds import Euclidean\n",
    "from jaxgeometry.setup import dts\n",
    "import jax.numpy as jnp"
   ]
  },
  {
   "cell_type": "code",
   "execution_count": 2,
   "id": "33f406af",
   "metadata": {},
   "outputs": [
    {
     "name": "stdout",
     "output_type": "stream",
     "text": [
      "using M.Exp for Logarithm\n"
     ]
    }
   ],
   "source": [
    "RN = Euclidean(N=2)"
   ]
  },
  {
   "cell_type": "code",
   "execution_count": null,
   "id": "04b11d4f",
   "metadata": {},
   "outputs": [],
   "source": [
    "RN.Gamma_g(jnp.ones(2))"
   ]
  },
  {
   "cell_type": "code",
   "execution_count": 8,
   "id": "dc8679d1",
   "metadata": {},
   "outputs": [
    {
     "ename": "ValueError",
     "evalue": "All input arrays must have the same shape.",
     "output_type": "error",
     "traceback": [
      "\u001b[0;31m---------------------------------------------------------------------------\u001b[0m",
      "\u001b[0;31mValueError\u001b[0m                                Traceback (most recent call last)",
      "\u001b[0;32m/tmp/ipykernel_9469/4152736309.py\u001b[0m in \u001b[0;36m<module>\u001b[0;34m\u001b[0m\n\u001b[1;32m      5\u001b[0m \u001b[0mv\u001b[0m \u001b[0;34m=\u001b[0m \u001b[0mRN\u001b[0m\u001b[0;34m.\u001b[0m\u001b[0mLog\u001b[0m\u001b[0;34m(\u001b[0m\u001b[0mx\u001b[0m\u001b[0;34m,\u001b[0m\u001b[0my\u001b[0m\u001b[0;34m)\u001b[0m\u001b[0;34m\u001b[0m\u001b[0;34m\u001b[0m\u001b[0m\n\u001b[1;32m      6\u001b[0m \u001b[0mcurve\u001b[0m \u001b[0;34m=\u001b[0m \u001b[0mRN\u001b[0m\u001b[0;34m.\u001b[0m\u001b[0mgeodesic\u001b[0m\u001b[0;34m(\u001b[0m\u001b[0mx\u001b[0m\u001b[0;34m,\u001b[0m\u001b[0mv\u001b[0m\u001b[0;34m[\u001b[0m\u001b[0;36m0\u001b[0m\u001b[0;34m]\u001b[0m\u001b[0;34m,\u001b[0m\u001b[0mdts\u001b[0m\u001b[0;34m(\u001b[0m\u001b[0;34m)\u001b[0m\u001b[0;34m)\u001b[0m\u001b[0;34m\u001b[0m\u001b[0;34m\u001b[0m\u001b[0m\n\u001b[0;32m----> 7\u001b[0;31m \u001b[0mparallel_transport\u001b[0m \u001b[0;34m=\u001b[0m \u001b[0mRN\u001b[0m\u001b[0;34m.\u001b[0m\u001b[0mparallel_transport\u001b[0m\u001b[0;34m(\u001b[0m\u001b[0mv\u001b[0m\u001b[0;34m[\u001b[0m\u001b[0;36m0\u001b[0m\u001b[0;34m]\u001b[0m\u001b[0;34m,\u001b[0m\u001b[0mdts\u001b[0m\u001b[0;34m(\u001b[0m\u001b[0;34m)\u001b[0m\u001b[0;34m,\u001b[0m\u001b[0mx\u001b[0m\u001b[0;34m[\u001b[0m\u001b[0;36m0\u001b[0m\u001b[0;34m]\u001b[0m\u001b[0;34m,\u001b[0m\u001b[0mx\u001b[0m\u001b[0;34m[\u001b[0m\u001b[0;36m1\u001b[0m\u001b[0;34m]\u001b[0m\u001b[0;34m,\u001b[0m\u001b[0mjnp\u001b[0m\u001b[0;34m.\u001b[0m\u001b[0mzeros\u001b[0m\u001b[0;34m(\u001b[0m\u001b[0;36m2\u001b[0m\u001b[0;34m)\u001b[0m\u001b[0;34m)\u001b[0m\u001b[0;34m\u001b[0m\u001b[0;34m\u001b[0m\u001b[0m\n\u001b[0m",
      "    \u001b[0;31m[... skipping hidden 12 frame]\u001b[0m\n",
      "\u001b[0;32m~/PhD/Articles/smrdm/GitHub/smrdm/jaxgeometry/manifolds/riemannian/parallel_transport.py\u001b[0m in \u001b[0;36m<lambda>\u001b[0;34m(v, dts, xs, charts, dxs)\u001b[0m\n\u001b[1;32m     50\u001b[0m \u001b[0;34m\u001b[0m\u001b[0m\n\u001b[1;32m     51\u001b[0m     \u001b[0mparallel_transport\u001b[0m \u001b[0;34m=\u001b[0m \u001b[0;32mlambda\u001b[0m \u001b[0mv\u001b[0m\u001b[0;34m,\u001b[0m\u001b[0mdts\u001b[0m\u001b[0;34m,\u001b[0m\u001b[0mxs\u001b[0m\u001b[0;34m,\u001b[0m\u001b[0mcharts\u001b[0m\u001b[0;34m,\u001b[0m\u001b[0mdxs\u001b[0m\u001b[0;34m:\u001b[0m \u001b[0mintegrate\u001b[0m\u001b[0;34m(\u001b[0m\u001b[0mode_parallel_transport\u001b[0m\u001b[0;34m,\u001b[0m\u001b[0mchart_update_parallel_transport\u001b[0m\u001b[0;34m,\u001b[0m\u001b[0mjnp\u001b[0m\u001b[0;34m.\u001b[0m\u001b[0mstack\u001b[0m\u001b[0;34m(\u001b[0m\u001b[0;34m(\u001b[0m\u001b[0mxs\u001b[0m\u001b[0;34m[\u001b[0m\u001b[0;36m0\u001b[0m\u001b[0;34m]\u001b[0m\u001b[0;34m,\u001b[0m\u001b[0mv\u001b[0m\u001b[0;34m)\u001b[0m\u001b[0;34m)\u001b[0m\u001b[0;34m,\u001b[0m\u001b[0mcharts\u001b[0m\u001b[0;34m[\u001b[0m\u001b[0;36m0\u001b[0m\u001b[0;34m]\u001b[0m\u001b[0;34m,\u001b[0m\u001b[0mdts\u001b[0m\u001b[0;34m,\u001b[0m\u001b[0mxs\u001b[0m\u001b[0;34m,\u001b[0m\u001b[0mcharts\u001b[0m\u001b[0;34m,\u001b[0m\u001b[0mdxs\u001b[0m\u001b[0;34m)\u001b[0m\u001b[0;34m\u001b[0m\u001b[0;34m\u001b[0m\u001b[0m\n\u001b[0;32m---> 52\u001b[0;31m     \u001b[0mM\u001b[0m\u001b[0;34m.\u001b[0m\u001b[0mparallel_transport\u001b[0m \u001b[0;34m=\u001b[0m \u001b[0mjit\u001b[0m\u001b[0;34m(\u001b[0m\u001b[0;32mlambda\u001b[0m \u001b[0mv\u001b[0m\u001b[0;34m,\u001b[0m\u001b[0mdts\u001b[0m\u001b[0;34m,\u001b[0m\u001b[0mxs\u001b[0m\u001b[0;34m,\u001b[0m\u001b[0mcharts\u001b[0m\u001b[0;34m,\u001b[0m\u001b[0mdxs\u001b[0m\u001b[0;34m:\u001b[0m \u001b[0mparallel_transport\u001b[0m\u001b[0;34m(\u001b[0m\u001b[0mv\u001b[0m\u001b[0;34m,\u001b[0m\u001b[0mdts\u001b[0m\u001b[0;34m,\u001b[0m\u001b[0mxs\u001b[0m\u001b[0;34m,\u001b[0m\u001b[0mcharts\u001b[0m\u001b[0;34m,\u001b[0m\u001b[0mdxs\u001b[0m\u001b[0;34m)\u001b[0m\u001b[0;34m[\u001b[0m\u001b[0;36m1\u001b[0m\u001b[0;34m]\u001b[0m\u001b[0;34m[\u001b[0m\u001b[0;34m:\u001b[0m\u001b[0;34m,\u001b[0m\u001b[0;36m1\u001b[0m\u001b[0;34m]\u001b[0m\u001b[0;34m)\u001b[0m\u001b[0;34m\u001b[0m\u001b[0;34m\u001b[0m\u001b[0m\n\u001b[0m",
      "\u001b[0;32m~/PhD/Articles/smrdm/GitHub/smrdm/jaxgeometry/manifolds/riemannian/parallel_transport.py\u001b[0m in \u001b[0;36m<lambda>\u001b[0;34m(v, dts, xs, charts, dxs)\u001b[0m\n\u001b[1;32m     49\u001b[0m                 chart)\n\u001b[1;32m     50\u001b[0m \u001b[0;34m\u001b[0m\u001b[0m\n\u001b[0;32m---> 51\u001b[0;31m     \u001b[0mparallel_transport\u001b[0m \u001b[0;34m=\u001b[0m \u001b[0;32mlambda\u001b[0m \u001b[0mv\u001b[0m\u001b[0;34m,\u001b[0m\u001b[0mdts\u001b[0m\u001b[0;34m,\u001b[0m\u001b[0mxs\u001b[0m\u001b[0;34m,\u001b[0m\u001b[0mcharts\u001b[0m\u001b[0;34m,\u001b[0m\u001b[0mdxs\u001b[0m\u001b[0;34m:\u001b[0m \u001b[0mintegrate\u001b[0m\u001b[0;34m(\u001b[0m\u001b[0mode_parallel_transport\u001b[0m\u001b[0;34m,\u001b[0m\u001b[0mchart_update_parallel_transport\u001b[0m\u001b[0;34m,\u001b[0m\u001b[0mjnp\u001b[0m\u001b[0;34m.\u001b[0m\u001b[0mstack\u001b[0m\u001b[0;34m(\u001b[0m\u001b[0;34m(\u001b[0m\u001b[0mxs\u001b[0m\u001b[0;34m[\u001b[0m\u001b[0;36m0\u001b[0m\u001b[0;34m]\u001b[0m\u001b[0;34m,\u001b[0m\u001b[0mv\u001b[0m\u001b[0;34m)\u001b[0m\u001b[0;34m)\u001b[0m\u001b[0;34m,\u001b[0m\u001b[0mcharts\u001b[0m\u001b[0;34m[\u001b[0m\u001b[0;36m0\u001b[0m\u001b[0;34m]\u001b[0m\u001b[0;34m,\u001b[0m\u001b[0mdts\u001b[0m\u001b[0;34m,\u001b[0m\u001b[0mxs\u001b[0m\u001b[0;34m,\u001b[0m\u001b[0mcharts\u001b[0m\u001b[0;34m,\u001b[0m\u001b[0mdxs\u001b[0m\u001b[0;34m)\u001b[0m\u001b[0;34m\u001b[0m\u001b[0;34m\u001b[0m\u001b[0m\n\u001b[0m\u001b[1;32m     52\u001b[0m     \u001b[0mM\u001b[0m\u001b[0;34m.\u001b[0m\u001b[0mparallel_transport\u001b[0m \u001b[0;34m=\u001b[0m \u001b[0mjit\u001b[0m\u001b[0;34m(\u001b[0m\u001b[0;32mlambda\u001b[0m \u001b[0mv\u001b[0m\u001b[0;34m,\u001b[0m\u001b[0mdts\u001b[0m\u001b[0;34m,\u001b[0m\u001b[0mxs\u001b[0m\u001b[0;34m,\u001b[0m\u001b[0mcharts\u001b[0m\u001b[0;34m,\u001b[0m\u001b[0mdxs\u001b[0m\u001b[0;34m:\u001b[0m \u001b[0mparallel_transport\u001b[0m\u001b[0;34m(\u001b[0m\u001b[0mv\u001b[0m\u001b[0;34m,\u001b[0m\u001b[0mdts\u001b[0m\u001b[0;34m,\u001b[0m\u001b[0mxs\u001b[0m\u001b[0;34m,\u001b[0m\u001b[0mcharts\u001b[0m\u001b[0;34m,\u001b[0m\u001b[0mdxs\u001b[0m\u001b[0;34m)\u001b[0m\u001b[0;34m[\u001b[0m\u001b[0;36m1\u001b[0m\u001b[0;34m]\u001b[0m\u001b[0;34m[\u001b[0m\u001b[0;34m:\u001b[0m\u001b[0;34m,\u001b[0m\u001b[0;36m1\u001b[0m\u001b[0;34m]\u001b[0m\u001b[0;34m)\u001b[0m\u001b[0;34m\u001b[0m\u001b[0;34m\u001b[0m\u001b[0m\n",
      "\u001b[0;32m~/anaconda3/lib/python3.9/site-packages/jax/_src/numpy/lax_numpy.py\u001b[0m in \u001b[0;36mstack\u001b[0;34m(arrays, axis, out, dtype)\u001b[0m\n\u001b[1;32m   1794\u001b[0m     \u001b[0;32mfor\u001b[0m \u001b[0ma\u001b[0m \u001b[0;32min\u001b[0m \u001b[0marrays\u001b[0m\u001b[0;34m:\u001b[0m\u001b[0;34m\u001b[0m\u001b[0;34m\u001b[0m\u001b[0m\n\u001b[1;32m   1795\u001b[0m       \u001b[0;32mif\u001b[0m \u001b[0mshape\u001b[0m\u001b[0;34m(\u001b[0m\u001b[0ma\u001b[0m\u001b[0;34m)\u001b[0m \u001b[0;34m!=\u001b[0m \u001b[0mshape0\u001b[0m\u001b[0;34m:\u001b[0m\u001b[0;34m\u001b[0m\u001b[0;34m\u001b[0m\u001b[0m\n\u001b[0;32m-> 1796\u001b[0;31m         \u001b[0;32mraise\u001b[0m \u001b[0mValueError\u001b[0m\u001b[0;34m(\u001b[0m\u001b[0;34m\"All input arrays must have the same shape.\"\u001b[0m\u001b[0;34m)\u001b[0m\u001b[0;34m\u001b[0m\u001b[0;34m\u001b[0m\u001b[0m\n\u001b[0m\u001b[1;32m   1797\u001b[0m       \u001b[0mnew_arrays\u001b[0m\u001b[0;34m.\u001b[0m\u001b[0mappend\u001b[0m\u001b[0;34m(\u001b[0m\u001b[0mexpand_dims\u001b[0m\u001b[0;34m(\u001b[0m\u001b[0ma\u001b[0m\u001b[0;34m,\u001b[0m \u001b[0maxis\u001b[0m\u001b[0;34m)\u001b[0m\u001b[0;34m)\u001b[0m\u001b[0;34m\u001b[0m\u001b[0;34m\u001b[0m\u001b[0m\n\u001b[1;32m   1798\u001b[0m     \u001b[0;32mreturn\u001b[0m \u001b[0mconcatenate\u001b[0m\u001b[0;34m(\u001b[0m\u001b[0mnew_arrays\u001b[0m\u001b[0;34m,\u001b[0m \u001b[0maxis\u001b[0m\u001b[0;34m=\u001b[0m\u001b[0maxis\u001b[0m\u001b[0;34m,\u001b[0m \u001b[0mdtype\u001b[0m\u001b[0;34m=\u001b[0m\u001b[0mdtype\u001b[0m\u001b[0;34m)\u001b[0m\u001b[0;34m\u001b[0m\u001b[0;34m\u001b[0m\u001b[0m\n",
      "\u001b[0;31mValueError\u001b[0m: All input arrays must have the same shape."
     ]
    }
   ],
   "source": [
    "x = (jnp.zeros(2), jnp.zeros(1))\n",
    "y = (jnp.ones(2), jnp.zeros(1))\n",
    "dt = dts()\n",
    "\n",
    "v = RN.Log(x,y)\n",
    "curve = RN.geodesic(x,v[0],dts())\n",
    "parallel_transport = RN.parallel_transport(v[0],dts(),x[0],x[1],jnp.zeros(2))"
   ]
  },
  {
   "cell_type": "code",
   "execution_count": 9,
   "id": "5dc4cc89",
   "metadata": {},
   "outputs": [
    {
     "data": {
      "text/plain": [
       "(2, 100)"
      ]
     },
     "execution_count": 9,
     "metadata": {},
     "output_type": "execute_result"
    }
   ],
   "source": [
    "((x[0]+jnp.cumsum(dt)[:,None]*v[0]).T).shape"
   ]
  },
  {
   "cell_type": "code",
   "execution_count": 10,
   "id": "34d40b4e",
   "metadata": {},
   "outputs": [
    {
     "data": {
      "text/plain": [
       "(1, 200)"
      ]
     },
     "execution_count": 10,
     "metadata": {},
     "output_type": "execute_result"
    }
   ],
   "source": [
    "jnp.tile(v[0], (1, len(dt))).shape"
   ]
  },
  {
   "cell_type": "code",
   "execution_count": 11,
   "id": "d7319992",
   "metadata": {},
   "outputs": [
    {
     "data": {
      "text/plain": [
       "100"
      ]
     },
     "execution_count": 11,
     "metadata": {},
     "output_type": "execute_result"
    }
   ],
   "source": [
    "len(dt)"
   ]
  },
  {
   "cell_type": "code",
   "execution_count": 5,
   "id": "75006079",
   "metadata": {},
   "outputs": [
    {
     "ename": "NameError",
     "evalue": "name 'x' is not defined",
     "output_type": "error",
     "traceback": [
      "\u001b[0;31m---------------------------------------------------------------------------\u001b[0m",
      "\u001b[0;31mNameError\u001b[0m                                 Traceback (most recent call last)",
      "\u001b[0;32m/tmp/ipykernel_8898/1620607089.py\u001b[0m in \u001b[0;36m<module>\u001b[0;34m\u001b[0m\n\u001b[0;32m----> 1\u001b[0;31m \u001b[0mprint\u001b[0m\u001b[0;34m(\u001b[0m\u001b[0;34m(\u001b[0m\u001b[0mx\u001b[0m\u001b[0;34m[\u001b[0m\u001b[0;36m0\u001b[0m\u001b[0;34m]\u001b[0m\u001b[0;34m+\u001b[0m\u001b[0mjnp\u001b[0m\u001b[0;34m.\u001b[0m\u001b[0mcumsum\u001b[0m\u001b[0;34m(\u001b[0m\u001b[0mdt\u001b[0m\u001b[0;34m)\u001b[0m\u001b[0;34m[\u001b[0m\u001b[0;34m:\u001b[0m\u001b[0;34m,\u001b[0m\u001b[0;32mNone\u001b[0m\u001b[0;34m]\u001b[0m\u001b[0;34m*\u001b[0m\u001b[0mv\u001b[0m\u001b[0;34m[\u001b[0m\u001b[0;36m0\u001b[0m\u001b[0;34m]\u001b[0m\u001b[0;34m)\u001b[0m\u001b[0;34m.\u001b[0m\u001b[0mshape\u001b[0m\u001b[0;34m)\u001b[0m\u001b[0;34m\u001b[0m\u001b[0;34m\u001b[0m\u001b[0m\n\u001b[0m\u001b[1;32m      2\u001b[0m \u001b[0mprint\u001b[0m\u001b[0;34m(\u001b[0m\u001b[0mjnp\u001b[0m\u001b[0;34m.\u001b[0m\u001b[0mtile\u001b[0m\u001b[0;34m(\u001b[0m\u001b[0mv\u001b[0m\u001b[0;34m[\u001b[0m\u001b[0;36m0\u001b[0m\u001b[0;34m]\u001b[0m\u001b[0;34m,\u001b[0m \u001b[0;34m(\u001b[0m\u001b[0mlen\u001b[0m\u001b[0;34m(\u001b[0m\u001b[0mdt\u001b[0m\u001b[0;34m)\u001b[0m\u001b[0;34m,\u001b[0m \u001b[0;36m1\u001b[0m\u001b[0;34m)\u001b[0m\u001b[0;34m)\u001b[0m\u001b[0;34m.\u001b[0m\u001b[0mshape\u001b[0m\u001b[0;34m)\u001b[0m\u001b[0;34m\u001b[0m\u001b[0;34m\u001b[0m\u001b[0m\n",
      "\u001b[0;31mNameError\u001b[0m: name 'x' is not defined"
     ]
    }
   ],
   "source": [
    "print((x[0]+jnp.cumsum(dt)[:,None]*v[0]).shape)\n",
    "print(jnp.tile(v[0], (len(dt), 1)).shape)"
   ]
  },
  {
   "cell_type": "code",
   "execution_count": 3,
   "id": "295a7509",
   "metadata": {},
   "outputs": [
    {
     "ename": "NameError",
     "evalue": "name 'dt' is not defined",
     "output_type": "error",
     "traceback": [
      "\u001b[0;31m---------------------------------------------------------------------------\u001b[0m",
      "\u001b[0;31mNameError\u001b[0m                                 Traceback (most recent call last)",
      "\u001b[0;32m/tmp/ipykernel_4886/596031794.py\u001b[0m in \u001b[0;36m<module>\u001b[0;34m\u001b[0m\n\u001b[0;32m----> 1\u001b[0;31m \u001b[0mjnp\u001b[0m\u001b[0;34m.\u001b[0m\u001b[0mcumsum\u001b[0m\u001b[0;34m(\u001b[0m\u001b[0mdt\u001b[0m\u001b[0;34m)\u001b[0m\u001b[0;34m\u001b[0m\u001b[0;34m\u001b[0m\u001b[0m\n\u001b[0m",
      "\u001b[0;31mNameError\u001b[0m: name 'dt' is not defined"
     ]
    }
   ],
   "source": [
    "jnp.cumsum(dt)"
   ]
  },
  {
   "cell_type": "code",
   "execution_count": 5,
   "id": "a69d0772",
   "metadata": {},
   "outputs": [],
   "source": [
    "from jax import vmap\n",
    "val = vmap(lambda v: RN.norm(x,v))(curve[1][:,1])"
   ]
  },
  {
   "cell_type": "code",
   "execution_count": 6,
   "id": "4610be24",
   "metadata": {},
   "outputs": [
    {
     "data": {
      "text/plain": [
       "Array([0.01      , 0.01      , 0.01      , 0.01      , 0.01      ,\n",
       "       0.01      , 0.01      , 0.01      , 0.01      , 0.01      ,\n",
       "       0.01      , 0.01      , 0.01000001, 0.01000001, 0.01000001,\n",
       "       0.01000001, 0.01000001, 0.01000001, 0.01000001, 0.01000001,\n",
       "       0.01000001, 0.01000001, 0.01000001, 0.00999999, 0.00999999,\n",
       "       0.00999999, 0.00999999, 0.00999999, 0.00999999, 0.00999999,\n",
       "       0.00999999, 0.00999999, 0.00999999, 0.00999999, 0.00999999,\n",
       "       0.00999999, 0.00999999, 0.00999999, 0.00999999, 0.00999999,\n",
       "       0.00999999, 0.00999999, 0.00999999, 0.00999999, 0.00999999,\n",
       "       0.00999999, 0.00999999, 0.00999999, 0.00999999, 0.01000002,\n",
       "       0.00999999, 0.00999999, 0.00999999, 0.00999999, 0.00999999,\n",
       "       0.00999999, 0.00999999, 0.00999999, 0.00999999, 0.00999999,\n",
       "       0.00999999, 0.00999999, 0.00999999, 0.00999999, 0.00999999,\n",
       "       0.00999999, 0.00999999, 0.00999999, 0.00999999, 0.00999999,\n",
       "       0.00999999, 0.00999999, 0.00999999, 0.00999999, 0.00999999,\n",
       "       0.00999999, 0.00999999, 0.00999999, 0.00999999, 0.00999999,\n",
       "       0.00999999, 0.00999999, 0.00999999, 0.00999999, 0.00999999,\n",
       "       0.00999999, 0.00999999, 0.00999999, 0.00999999, 0.00999999,\n",
       "       0.00999999, 0.00999999, 0.00999999, 0.00999999, 0.00999999,\n",
       "       0.00999999, 0.00999999, 0.00999999, 0.00999999], dtype=float32)"
      ]
     },
     "execution_count": 6,
     "metadata": {},
     "output_type": "execute_result"
    }
   ],
   "source": [
    "jnp.diff(curve[0])"
   ]
  },
  {
   "cell_type": "code",
   "execution_count": 7,
   "id": "9c13db97",
   "metadata": {},
   "outputs": [
    {
     "data": {
      "text/plain": [
       "Array([1.4142144, 1.4142144, 1.4142144, 1.4142144, 1.4142144, 1.4142144,\n",
       "       1.4142144, 1.4142144, 1.4142144, 1.4142144, 1.4142144, 1.4142144,\n",
       "       1.4142144, 1.4142144, 1.4142144, 1.4142144, 1.4142144, 1.4142144,\n",
       "       1.4142144, 1.4142144, 1.4142144, 1.4142144, 1.4142144, 1.4142144,\n",
       "       1.4142144, 1.4142144, 1.4142144, 1.4142144, 1.4142144, 1.4142144,\n",
       "       1.4142144, 1.4142144, 1.4142144, 1.4142144, 1.4142144, 1.4142144,\n",
       "       1.4142144, 1.4142144, 1.4142144, 1.4142144, 1.4142144, 1.4142144,\n",
       "       1.4142144, 1.4142144, 1.4142144, 1.4142144, 1.4142144, 1.4142144,\n",
       "       1.4142144, 1.4142144, 1.4142144, 1.4142144, 1.4142144, 1.4142144,\n",
       "       1.4142144, 1.4142144, 1.4142144, 1.4142144, 1.4142144, 1.4142144,\n",
       "       1.4142144, 1.4142144, 1.4142144, 1.4142144, 1.4142144, 1.4142144,\n",
       "       1.4142144, 1.4142144, 1.4142144, 1.4142144, 1.4142144, 1.4142144,\n",
       "       1.4142144, 1.4142144, 1.4142144, 1.4142144, 1.4142144, 1.4142144,\n",
       "       1.4142144, 1.4142144, 1.4142144, 1.4142144, 1.4142144, 1.4142144,\n",
       "       1.4142144, 1.4142144, 1.4142144, 1.4142144, 1.4142144, 1.4142144,\n",
       "       1.4142144, 1.4142144, 1.4142144, 1.4142144, 1.4142144, 1.4142144,\n",
       "       1.4142144, 1.4142144, 1.4142144], dtype=float32)"
      ]
     },
     "execution_count": 7,
     "metadata": {},
     "output_type": "execute_result"
    }
   ],
   "source": [
    "(val[1:]+val[:-1])*0.5"
   ]
  },
  {
   "cell_type": "code",
   "execution_count": 8,
   "id": "a052d269",
   "metadata": {},
   "outputs": [
    {
     "data": {
      "text/plain": [
       "Array(1.4000714, dtype=float32)"
      ]
     },
     "execution_count": 8,
     "metadata": {},
     "output_type": "execute_result"
    }
   ],
   "source": [
    "RN.dist(x,y)"
   ]
  },
  {
   "cell_type": "code",
   "execution_count": null,
   "id": "a55093cf",
   "metadata": {},
   "outputs": [],
   "source": []
  }
 ],
 "metadata": {
  "kernelspec": {
   "display_name": "Python 3 (ipykernel)",
   "language": "python",
   "name": "python3"
  },
  "language_info": {
   "codemirror_mode": {
    "name": "ipython",
    "version": 3
   },
   "file_extension": ".py",
   "mimetype": "text/x-python",
   "name": "python",
   "nbconvert_exporter": "python",
   "pygments_lexer": "ipython3",
   "version": "3.9.13"
  }
 },
 "nbformat": 4,
 "nbformat_minor": 5
}
